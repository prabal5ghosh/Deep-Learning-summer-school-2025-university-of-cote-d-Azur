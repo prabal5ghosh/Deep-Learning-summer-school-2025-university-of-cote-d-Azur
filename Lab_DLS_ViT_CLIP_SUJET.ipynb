{
  "cells": [
    {
      "cell_type": "markdown",
      "metadata": {
        "id": "view-in-github",
        "colab_type": "text"
      },
      "source": [
        "<a href=\"https://colab.research.google.com/github/prabal5ghosh/Deep-Learning-summer-school-2025-university-of-cote-d-Azur/blob/main/Lab_DLS_ViT_CLIP_SUJET.ipynb\" target=\"_parent\"><img src=\"https://colab.research.google.com/assets/colab-badge.svg\" alt=\"Open In Colab\"/></a>"
      ]
    },
    {
      "cell_type": "markdown",
      "id": "uCG6nYYuzFvQ",
      "metadata": {
        "id": "uCG6nYYuzFvQ"
      },
      "source": [
        "<center><img width=60% src=\"http://www.i3s.unice.fr/~lingrand/efeliaUnica.png\"><br/><br/>\n",
        "<font size=+3><b>Towards Visual Data - ViT and CLIP</b></font><br/><br/>\n",
        "<font size=+1>Rémy Sun, Diane Lingrand and Frédéric Precioso<br/><br/>\n",
        "    2025 - June/July</font><br/>\n",
        "    </center>\n",
        "    "
      ]
    },
    {
      "cell_type": "markdown",
      "id": "976839e8",
      "metadata": {
        "id": "976839e8",
        "papermill": {
          "duration": 0.013333,
          "end_time": "2022-04-09T14:37:30.852431",
          "exception": false,
          "start_time": "2022-04-09T14:37:30.839098",
          "status": "completed"
        },
        "tags": []
      },
      "source": [
        "This lab aims to familiarize you with the use of visual data in transformers and in combination with textual data.\n",
        "* The first part of this lab will retrace the work you have done on textual\n",
        "encoder only transformers last week with an image dataset this time.\n",
        "* The second part will show you how the Vision Language pretraining framework CLIP functions and how pre-trained CLIP models can by used to relate textual and visual data.\n"
      ]
    },
    {
      "cell_type": "markdown",
      "id": "acbeb1c6",
      "metadata": {
        "id": "acbeb1c6",
        "papermill": {
          "duration": 0.011303,
          "end_time": "2022-04-09T14:37:30.875464",
          "exception": false,
          "start_time": "2022-04-09T14:37:30.864161",
          "status": "completed"
        },
        "tags": []
      },
      "source": [
        "# Setup"
      ]
    },
    {
      "cell_type": "markdown",
      "id": "3788f0d0",
      "metadata": {
        "id": "3788f0d0",
        "papermill": {
          "duration": 0.011526,
          "end_time": "2022-04-09T14:37:34.434868",
          "exception": false,
          "start_time": "2022-04-09T14:37:34.423342",
          "status": "completed"
        },
        "tags": []
      },
      "source": [
        "\n",
        "Below, we import some standard libraries."
      ]
    },
    {
      "cell_type": "code",
      "execution_count": 1,
      "id": "58c0e503",
      "metadata": {
        "execution": {
          "iopub.execute_input": "2022-04-09T14:37:34.458897Z",
          "iopub.status.busy": "2022-04-09T14:37:34.458462Z",
          "iopub.status.idle": "2022-04-09T14:37:37.002927Z",
          "shell.execute_reply": "2022-04-09T14:37:37.002262Z"
        },
        "id": "58c0e503",
        "papermill": {
          "duration": 2.558559,
          "end_time": "2022-04-09T14:37:37.004560",
          "exception": false,
          "start_time": "2022-04-09T14:37:34.446001",
          "status": "completed"
        },
        "tags": []
      },
      "outputs": [],
      "source": [
        "# Standard libraries\n",
        "import math\n",
        "import os\n",
        "import urllib.request\n",
        "from functools import partial\n",
        "from urllib.error import HTTPError\n",
        "from tqdm.notebook import tqdm\n",
        "import random\n",
        "\n",
        "# Plotting\n",
        "import matplotlib\n",
        "import matplotlib.pyplot as plt\n",
        "import numpy as np\n",
        "import seaborn as sns\n",
        "\n",
        "# PyTorch\n",
        "import torch\n",
        "import torch.nn as nn\n",
        "import torch.nn.functional as F\n",
        "import torch.optim as optim\n",
        "import torch.utils.data as data\n",
        "\n",
        "import torchvision\n",
        "\n",
        "%matplotlib inline\n",
        "\n",
        "# Path to the folder where the datasets are/should be downloaded (e.g. MNIST)\n",
        "DATASET_PATH = \"data/\"\n",
        "# Path to the folder where the pretrained models are saved\n",
        "CHECKPOINT_PATH = \"saved_models/\"\n",
        "\n",
        "# Set seed to ensure that all operations are deterministic for reproducibility\n",
        "torch.manual_seed(0)\n",
        "np.random.seed(0)\n",
        "random.seed(0)\n",
        "torch.backends.cudnn.determinstic = True\n",
        "torch.backends.cudnn.benchmark = False\n"
      ]
    },
    {
      "cell_type": "code",
      "execution_count": 2,
      "id": "26e8cee1",
      "metadata": {
        "id": "26e8cee1",
        "colab": {
          "base_uri": "https://localhost:8080/"
        },
        "outputId": "57128013-60db-4bb0-92db-ed809f9a9b77"
      },
      "outputs": [
        {
          "output_type": "execute_result",
          "data": {
            "text/plain": [
              "device(type='cuda')"
            ]
          },
          "metadata": {},
          "execution_count": 2
        }
      ],
      "source": [
        "# making the code device agnostic\n",
        "if torch.cuda.is_available():\n",
        "    device = torch.device(\"cuda\")\n",
        "elif torch.backends.mps.is_available():\n",
        "    device = torch.device(\"mps\")\n",
        "else:\n",
        "    device = torch.device(\"cpu\")\n",
        "device"
      ]
    },
    {
      "cell_type": "markdown",
      "id": "Ru-VrjnfQZOz",
      "metadata": {
        "id": "Ru-VrjnfQZOz"
      },
      "source": [
        "You may need to ensure you are running on a GPU to ensure you can train the vision transformer model used in this first part"
      ]
    },
    {
      "cell_type": "code",
      "execution_count": 3,
      "id": "YWji_PSpDp8j",
      "metadata": {
        "id": "YWji_PSpDp8j",
        "scrolled": true,
        "colab": {
          "base_uri": "https://localhost:8080/"
        },
        "outputId": "865d49b3-59e9-453f-c54b-545b561c882f"
      },
      "outputs": [
        {
          "output_type": "stream",
          "name": "stderr",
          "text": [
            "100%|██████████| 9.91M/9.91M [00:00<00:00, 14.6MB/s]\n",
            "100%|██████████| 28.9k/28.9k [00:00<00:00, 433kB/s]\n",
            "100%|██████████| 1.65M/1.65M [00:00<00:00, 4.04MB/s]\n",
            "100%|██████████| 4.54k/4.54k [00:00<00:00, 7.88MB/s]\n"
          ]
        }
      ],
      "source": [
        "torch.manual_seed(42)\n",
        "\n",
        "DOWNLOAD_PATH = 'data/mnist'\n",
        "BATCH_SIZE_TRAIN = 100\n",
        "BATCH_SIZE_TEST = 1000\n",
        "\n",
        "transform_mnist = torchvision.transforms.Compose([torchvision.transforms.ToTensor(),\n",
        "                               torchvision.transforms.Normalize((0.1307,), (0.3081,))])\n",
        "\n",
        "train_set = torchvision.datasets.MNIST(DOWNLOAD_PATH, train=True, download=True,\n",
        "                                       transform=transform_mnist)\n",
        "\n",
        "test_set = torchvision.datasets.MNIST(DOWNLOAD_PATH, train=False, download=True,\n",
        "                                      transform=transform_mnist)\n"
      ]
    },
    {
      "cell_type": "markdown",
      "id": "b6D24OSaeINd",
      "metadata": {
        "id": "b6D24OSaeINd"
      },
      "source": [
        "You will notice that the classical MNIST split does not include a validation set.\n",
        "\n",
        "**Question:** Implement a validation set like in previous labs."
      ]
    },
    {
      "cell_type": "code",
      "source": [
        "len(train_set)"
      ],
      "metadata": {
        "colab": {
          "base_uri": "https://localhost:8080/"
        },
        "id": "r3W6NTFDKK3M",
        "outputId": "bbc98304-512a-4a44-fd02-708f782f3808"
      },
      "id": "r3W6NTFDKK3M",
      "execution_count": 7,
      "outputs": [
        {
          "output_type": "execute_result",
          "data": {
            "text/plain": [
              "60000"
            ]
          },
          "metadata": {},
          "execution_count": 7
        }
      ]
    },
    {
      "cell_type": "code",
      "source": [
        "len(test_set)"
      ],
      "metadata": {
        "colab": {
          "base_uri": "https://localhost:8080/"
        },
        "id": "2jwJ04byKNWP",
        "outputId": "92b0295e-d7f2-4dc8-e90b-ddbc7c0a263b"
      },
      "id": "2jwJ04byKNWP",
      "execution_count": 8,
      "outputs": [
        {
          "output_type": "execute_result",
          "data": {
            "text/plain": [
              "10000"
            ]
          },
          "metadata": {},
          "execution_count": 8
        }
      ]
    },
    {
      "cell_type": "code",
      "execution_count": 6,
      "id": "_Y61b0Lad4zM",
      "metadata": {
        "id": "_Y61b0Lad4zM"
      },
      "outputs": [],
      "source": [
        "# You code here!\n",
        "train_portion = int(len(train_set) * 0.95)  # 95% for training\n",
        "val_portion = len(train_set) - train_portion # remaining for validation\n",
        "\n",
        "train_data, val_data = torch.utils.data.random_split(train_set, [train_portion, val_portion])"
      ]
    },
    {
      "cell_type": "code",
      "source": [
        "len(train_data)"
      ],
      "metadata": {
        "colab": {
          "base_uri": "https://localhost:8080/"
        },
        "id": "an48zIpXKPCG",
        "outputId": "6c124309-d9c7-4326-e297-63c33d1b3b63"
      },
      "id": "an48zIpXKPCG",
      "execution_count": 9,
      "outputs": [
        {
          "output_type": "execute_result",
          "data": {
            "text/plain": [
              "57000"
            ]
          },
          "metadata": {},
          "execution_count": 9
        }
      ]
    },
    {
      "cell_type": "code",
      "source": [
        "len(val_data)"
      ],
      "metadata": {
        "colab": {
          "base_uri": "https://localhost:8080/"
        },
        "id": "Un0MSUAmKRm9",
        "outputId": "7b79b5d8-1423-42f0-9c9d-f01041314bc8"
      },
      "id": "Un0MSUAmKRm9",
      "execution_count": 10,
      "outputs": [
        {
          "output_type": "execute_result",
          "data": {
            "text/plain": [
              "3000"
            ]
          },
          "metadata": {},
          "execution_count": 10
        }
      ]
    },
    {
      "cell_type": "code",
      "source": [
        "train_set = train_data\n",
        "val_set = val_data"
      ],
      "metadata": {
        "id": "KL9NDA1oKU5p"
      },
      "id": "KL9NDA1oKU5p",
      "execution_count": 11,
      "outputs": []
    },
    {
      "cell_type": "code",
      "execution_count": 12,
      "id": "Uh7OzyWLd7QG",
      "metadata": {
        "id": "Uh7OzyWLd7QG"
      },
      "outputs": [],
      "source": [
        "train_loader = torch.utils.data.DataLoader(train_set, batch_size=BATCH_SIZE_TRAIN, shuffle=True)\n",
        "val_loader = torch.utils.data.DataLoader(val_set, batch_size=BATCH_SIZE_TEST, shuffle=False)\n",
        "test_loader = torch.utils.data.DataLoader(test_set, batch_size=BATCH_SIZE_TEST, shuffle=False)"
      ]
    },
    {
      "cell_type": "markdown",
      "id": "zo-705lQROFt",
      "metadata": {
        "id": "zo-705lQROFt"
      },
      "source": [
        "We are going to work on the classical MNIST dataset in this first part that you have already classified during the 'Introduction to pytorch and MLP' lab."
      ]
    },
    {
      "cell_type": "code",
      "execution_count": 13,
      "id": "32jXEKdjD9jN",
      "metadata": {
        "colab": {
          "base_uri": "https://localhost:8080/",
          "height": 1000
        },
        "id": "32jXEKdjD9jN",
        "outputId": "31df86fd-0480-4bac-e5c0-ac5e5b9e64d3"
      },
      "outputs": [
        {
          "output_type": "stream",
          "name": "stderr",
          "text": [
            "WARNING:matplotlib.image:Clipping input data to the valid range for imshow with RGB data ([0..1] for floats or [0..255] for integers). Got range [-0.42421296..2.8214867].\n"
          ]
        },
        {
          "output_type": "display_data",
          "data": {
            "text/plain": [
              "<Figure size 1200x1200 with 1 Axes>"
            ],
            "image/png": "[encoded data removed]"
          },
          "metadata": {}
        }
      ],
      "source": [
        "# Function to show a batch of images\n",
        "def show_batch(data_loader):\n",
        "    batch = next(iter(data_loader))\n",
        "    images, labels = batch\n",
        "    grid = torchvision.utils.make_grid(images, nrow=10)\n",
        "    plt.figure(figsize=(12, 12))\n",
        "    plt.imshow(grid.numpy().transpose((1, 2, 0)))\n",
        "    plt.title(\"Batch of Training Images\")\n",
        "    plt.axis('off')\n",
        "    plt.show()\n",
        "\n",
        "# Print images for validation\n",
        "show_batch(train_loader)"
      ]
    },
    {
      "cell_type": "markdown",
      "id": "lacND5Jh9h_7",
      "metadata": {
        "id": "lacND5Jh9h_7"
      },
      "source": [
        "# Preparing the data"
      ]
    },
    {
      "cell_type": "code",
      "execution_count": 14,
      "id": "AF2c-OmHKlKo",
      "metadata": {
        "id": "AF2c-OmHKlKo"
      },
      "outputs": [],
      "source": [
        "batch = next(iter(train_loader))"
      ]
    },
    {
      "cell_type": "markdown",
      "id": "aab87139",
      "metadata": {
        "id": "aab87139"
      },
      "source": [
        "Let's have a look to a single image:"
      ]
    },
    {
      "cell_type": "code",
      "execution_count": 18,
      "id": "0d1178d1",
      "metadata": {
        "id": "0d1178d1",
        "outputId": "9568deae-279b-467b-935b-7ec7afd1c1f6",
        "colab": {
          "base_uri": "https://localhost:8080/",
          "height": 445
        }
      },
      "outputs": [
        {
          "output_type": "execute_result",
          "data": {
            "text/plain": [
              "Text(0.5, 1.0, 'digit: 8')"
            ]
          },
          "metadata": {},
          "execution_count": 18
        },
        {
          "output_type": "display_data",
          "data": {
            "text/plain": [
              "<Figure size 640x480 with 1 Axes>"
            ],
            "image/png": "[encoded data removed]"
          },
          "metadata": {}
        }
      ],
      "source": [
        "images, labels = batch\n",
        "image = images[0]\n",
        "label = labels[0]\n",
        "plt.imshow(image.squeeze(), cmap='grey')\n",
        "plt.axis('off')\n",
        "plt.title('digit: '+ str(label.item()))"
      ]
    },
    {
      "cell_type": "markdown",
      "id": "f45c1f03",
      "metadata": {
        "id": "f45c1f03"
      },
      "source": [
        "That could also be done using a single color channel and transposition:"
      ]
    },
    {
      "cell_type": "code",
      "execution_count": 19,
      "id": "d62b3420",
      "metadata": {
        "id": "d62b3420",
        "outputId": "394596f0-4321-4fad-9d4d-b5598b9abd42",
        "colab": {
          "base_uri": "https://localhost:8080/",
          "height": 447
        }
      },
      "outputs": [
        {
          "output_type": "execute_result",
          "data": {
            "text/plain": [
              "<matplotlib.image.AxesImage at 0x7f1dfd2693d0>"
            ]
          },
          "metadata": {},
          "execution_count": 19
        },
        {
          "output_type": "display_data",
          "data": {
            "text/plain": [
              "<Figure size 640x480 with 1 Axes>"
            ],
            "image/png": "[encoded data removed]"
          },
          "metadata": {}
        }
      ],
      "source": [
        "image = batch[0][0]\n",
        "plt.imshow(image.numpy().transpose(1,2,0), cmap='grey')"
      ]
    },
    {
      "cell_type": "code",
      "source": [
        "image.shape"
      ],
      "metadata": {
        "colab": {
          "base_uri": "https://localhost:8080/"
        },
        "id": "grXY04ITLA2P",
        "outputId": "47ee5b40-a469-43bb-a966-943512d0a2d1"
      },
      "id": "grXY04ITLA2P",
      "execution_count": 20,
      "outputs": [
        {
          "output_type": "execute_result",
          "data": {
            "text/plain": [
              "torch.Size([1, 28, 28])"
            ]
          },
          "metadata": {},
          "execution_count": 20
        }
      ]
    },
    {
      "cell_type": "markdown",
      "id": "cDbcQB4bR1WY",
      "metadata": {
        "id": "cDbcQB4bR1WY"
      },
      "source": [
        "## Tokenization\n",
        "\n",
        "The first step to prepare data for a transformer is to divide the input into small sections that can then be transformed into transformer tokens. We will start by working on a single image to understand what we are doing.\n",
        "\n",
        "**Question:** Transform one image into a collection of small image elements: 4x4 patches. You can use the .reshape method to break down the image into smaller patches, and you can reorder tensor dimensions with .swapaxes or .transpose!"
      ]
    },
    {
      "cell_type": "code",
      "execution_count": 77,
      "id": "ca4c0338",
      "metadata": {
        "id": "ca4c0338",
        "colab": {
          "base_uri": "https://localhost:8080/"
        },
        "outputId": "7c272ae8-fda5-49ac-bfca-adcc6355097f"
      },
      "outputs": [
        {
          "output_type": "stream",
          "name": "stdout",
          "text": [
            "patch shape:  torch.Size([1, 7, 4, 7, 4])\n"
          ]
        }
      ],
      "source": [
        "# hint1: the first step is to reshape axis 1 and 2 as 28 = 7*4\n",
        "\n",
        "\n",
        "patch_size = 4\n",
        "# Reshape the image to divide it into 4x4 patches\n",
        "patches = image.reshape(1, 28 // patch_size, patch_size, 28 // patch_size, patch_size)\n",
        "print(\"patch shape: \", patches.shape)\n",
        "\n"
      ]
    },
    {
      "cell_type": "code",
      "execution_count": 78,
      "id": "8c171dde",
      "metadata": {
        "id": "8c171dde",
        "colab": {
          "base_uri": "https://localhost:8080/"
        },
        "outputId": "9ac719cc-4e4e-4097-fc63-ad84dd49e4ac"
      },
      "outputs": [
        {
          "output_type": "stream",
          "name": "stdout",
          "text": [
            "\n",
            "patch shape:  torch.Size([1, 7, 7, 4, 4])\n"
          ]
        }
      ],
      "source": [
        "# hint2: then swap horizontal and vertical dimensions\n",
        "\n",
        "# Swap dimensions to group the patch dimensions together\n",
        "patches = patches.swapaxes(2, 3)\n",
        "# Reshape to combine the patch grid dimensions and flatten the patch pixels\n",
        "print()\n",
        "print(\"patch shape: \", patches.shape)\n",
        "\n",
        "\n"
      ]
    },
    {
      "cell_type": "code",
      "source": [],
      "metadata": {
        "id": "zFNMRpjsPJH1"
      },
      "id": "zFNMRpjsPJH1",
      "execution_count": 78,
      "outputs": []
    },
    {
      "cell_type": "code",
      "execution_count": 81,
      "id": "c7aa5aca",
      "metadata": {
        "code_folding": [],
        "id": "c7aa5aca",
        "colab": {
          "base_uri": "https://localhost:8080/"
        },
        "outputId": "4e48ffcb-2b59-40c4-8e1c-8700a937716e"
      },
      "outputs": [
        {
          "output_type": "stream",
          "name": "stdout",
          "text": [
            "\n",
            "patch shape:  torch.Size([1, 49, 4, 4])\n"
          ]
        }
      ],
      "source": [
        "# hint3: reshape again in order to get (number of patches, 1, 4, 4)\n",
        "\n",
        "patches = patches.reshape(1, -1, patch_size, patch_size)\n",
        "# Remove the first dimension (batch size of 1 for a single image)\n",
        "# patches = patches.squeeze(0)\n",
        "print(\"\")\n",
        "print(\"patch shape: \", patches.shape)\n"
      ]
    },
    {
      "cell_type": "code",
      "source": [
        "28*28/16"
      ],
      "metadata": {
        "colab": {
          "base_uri": "https://localhost:8080/"
        },
        "id": "D41bmm4aMQ_E",
        "outputId": "1fc5b8a8-eebd-4944-bd78-65117eadebe4"
      },
      "id": "D41bmm4aMQ_E",
      "execution_count": 82,
      "outputs": [
        {
          "output_type": "execute_result",
          "data": {
            "text/plain": [
              "49.0"
            ]
          },
          "metadata": {},
          "execution_count": 82
        }
      ]
    },
    {
      "cell_type": "code",
      "source": [
        "patches.squeeze().shape"
      ],
      "metadata": {
        "colab": {
          "base_uri": "https://localhost:8080/"
        },
        "id": "5mFFi4GJMhcR",
        "outputId": "cdb4077e-431d-4747-e351-4daca40fa31c"
      },
      "id": "5mFFi4GJMhcR",
      "execution_count": 83,
      "outputs": [
        {
          "output_type": "execute_result",
          "data": {
            "text/plain": [
              "torch.Size([49, 4, 4])"
            ]
          },
          "metadata": {},
          "execution_count": 83
        }
      ]
    },
    {
      "cell_type": "code",
      "execution_count": 84,
      "id": "350675a3",
      "metadata": {
        "code_folding": [
          0
        ],
        "id": "350675a3",
        "colab": {
          "base_uri": "https://localhost:8080/",
          "height": 406
        },
        "outputId": "4893275b-dfff-4bcb-837b-271fbfcf9375"
      },
      "outputs": [
        {
          "output_type": "display_data",
          "data": {
            "text/plain": [
              "<Figure size 640x480 with 49 Axes>"
            ],
            "image/png": "[encoded data removed]"
          },
          "metadata": {}
        }
      ],
      "source": [
        "# hint4: a way to display to patches (helpful for debugging)\n",
        "imgs = patches.squeeze()\n",
        "fig, axs = plt.subplots(7,7)\n",
        "nimg = 0\n",
        "for i in range(7):\n",
        "    for j in range(7):\n",
        "        img = imgs[nimg]\n",
        "        nimg +=1\n",
        "        axs[i,j].imshow(img, cmap='grey')\n",
        "        axs[i,j].set(xticklabels=[], yticklabels=[], xticks=[], yticks=[])\n",
        "\n"
      ]
    },
    {
      "cell_type": "code",
      "execution_count": 50,
      "id": "f6cXmFtjKqZK",
      "metadata": {
        "id": "f6cXmFtjKqZK"
      },
      "outputs": [],
      "source": [
        "# Your code here!\n",
        "\n"
      ]
    },
    {
      "cell_type": "markdown",
      "id": "oPJmp0sgySgE",
      "metadata": {
        "id": "oPJmp0sgySgE"
      },
      "source": [
        "You can visualize whether you properly separated the image into patches with the following bit of code. The expected dimension of the patchified image is (number of patches, patch_width, patch_height)"
      ]
    },
    {
      "cell_type": "code",
      "execution_count": 86,
      "id": "88b188a2",
      "metadata": {
        "id": "88b188a2",
        "outputId": "eccb0f5a-5161-42e1-96d7-a1ab8676bb37",
        "colab": {
          "base_uri": "https://localhost:8080/",
          "height": 465
        }
      },
      "outputs": [
        {
          "output_type": "stream",
          "name": "stderr",
          "text": [
            "WARNING:matplotlib.image:Clipping input data to the valid range for imshow with RGB data ([0..1] for floats or [0..255] for integers). Got range [-0.42421296..2.8214867].\n"
          ]
        },
        {
          "output_type": "stream",
          "name": "stdout",
          "text": [
            "torch.Size([1, 49, 4, 4])\n"
          ]
        },
        {
          "output_type": "display_data",
          "data": {
            "text/plain": [
              "<Figure size 640x480 with 1 Axes>"
            ],
            "image/png": "[encoded data removed]"
          },
          "metadata": {}
        }
      ],
      "source": [
        "print(patches.shape)\n",
        "patches = patches.swapaxes(0, 1)\n",
        "\n",
        "grid = torchvision.utils.make_grid(patches, nrow=7,padding=1,pad_value=0.5)\n",
        "plt.imshow(grid.numpy().transpose(1,2,0))\n",
        "plt.show()"
      ]
    },
    {
      "cell_type": "markdown",
      "id": "H5kcdu8e1Q4C",
      "metadata": {
        "id": "H5kcdu8e1Q4C"
      },
      "source": [
        "Now we can come back to dealing with a whole batch.\n",
        "\n",
        "**Question:** Translate your previous code into a function that can take entire batches of images and transform them into batches of patches. The output shape is (batch size, number of pixels inside a patch, number of patches). You can use (-1) in order to compute automatically the batch size."
      ]
    },
    {
      "cell_type": "code",
      "execution_count": 87,
      "id": "XrmCandL05-l",
      "metadata": {
        "id": "XrmCandL05-l"
      },
      "outputs": [],
      "source": [
        "# Your code here!\n",
        "\n",
        "def patchify(images_batch, patch_size):\n",
        "    batch_size, channels, height, width = images_batch.shape\n",
        "    # Reshape to divide the image into patches\n",
        "    patches = images_batch.reshape(batch_size, channels, height // patch_size, patch_size, width // patch_size, patch_size)\n",
        "    # Swap dimensions to group patch height and width together\n",
        "    patches = patches.swapaxes(3, 4)\n",
        "    # Reshape to combine the patch grid dimensions and flatten the patch pixels\n",
        "    patches = patches.reshape(batch_size, channels, -1, patch_size * patch_size)\n",
        "    # Swap dimensions to get shape (batch size, number of patches, channels * pixels per patch)\n",
        "    patches = patches.swapaxes(1, 2)\n",
        "    # Reshape to (batch size, number of patches, number of pixels inside a patch)\n",
        "    patches = patches.reshape(batch_size, -1, channels * patch_size * patch_size)\n",
        "    return patches"
      ]
    },
    {
      "cell_type": "code",
      "source": [
        "batch = next(iter(val_loader))\n",
        "\n",
        "\n",
        "images, labels = batch\n",
        "image = images[0]\n",
        "label = labels[0]\n",
        "# Patchify the images\n",
        "patch_size = 4\n",
        "patches_batch = patchify(images, patch_size)\n",
        "\n",
        "print(\"Shape of the original batch of images:\", images.shape)\n",
        "print(\"Shape of the patchified batch:\", patches_batch.shape)\n",
        "\n",
        "patches_to_visualize = patches_batch[0].reshape(-1, 1, patch_size, patch_size)\n",
        "\n",
        "grid = torchvision.utils.make_grid(patches_to_visualize, nrow=images.shape[2]//patch_size, padding=1, pad_value=0.5)\n",
        "plt.imshow(grid.numpy().transpose(1,2,0), cmap='grey')\n",
        "plt.title(\"Patches of the first image in the batch\")\n",
        "plt.axis('off')\n",
        "plt.show()"
      ],
      "metadata": {
        "colab": {
          "base_uri": "https://localhost:8080/",
          "height": 480
        },
        "id": "zkAHwpkqRJXK",
        "outputId": "608bbea8-8f36-4a97-910b-dee6334d47c0"
      },
      "id": "zkAHwpkqRJXK",
      "execution_count": 94,
      "outputs": [
        {
          "output_type": "stream",
          "name": "stderr",
          "text": [
            "WARNING:matplotlib.image:Clipping input data to the valid range for imshow with RGB data ([0..1] for floats or [0..255] for integers). Got range [-0.42421296..2.8214867].\n"
          ]
        },
        {
          "output_type": "stream",
          "name": "stdout",
          "text": [
            "Shape of the original batch of images: torch.Size([1000, 1, 28, 28])\n",
            "Shape of the patchified batch: torch.Size([1000, 49, 16])\n"
          ]
        },
        {
          "output_type": "display_data",
          "data": {
            "text/plain": [
              "<Figure size 640x480 with 1 Axes>"
            ],
            "image/png": "[encoded data removed]"
          },
          "metadata": {}
        }
      ]
    },
    {
      "cell_type": "markdown",
      "id": "W3FNcYPV_C2f",
      "metadata": {
        "id": "W3FNcYPV_C2f"
      },
      "source": [
        "### Embedding the patches\n",
        "\n",
        "Now that we have broken down images into smaller patches, it is time to transform these patches into transformer input tokens. In natural language processing, we break down text into small units (e.g. words, phonemes, ...), assign an index to each small unit in our vocabulary and then use a nn.Embedding Layer to match each index (or small unit) to a learnable vector representation that can be processed by a transformer. Unfortunately, we cannot quite do that with image patches. However, we can compute a linear transformation of a single patch into an embedding using a linear layer.\n",
        "\n",
        "**Question:** Write the code that will associate each patch to a learnable vector representation."
      ]
    },
    {
      "cell_type": "code",
      "execution_count": null,
      "id": "09d1c6b5",
      "metadata": {
        "id": "09d1c6b5"
      },
      "outputs": [],
      "source": [
        "# hint1\n",
        "# each patch should be reshaped into a 1d-vector before applying a linear layer"
      ]
    },
    {
      "cell_type": "code",
      "execution_count": null,
      "id": "9QYzsj70N4Db",
      "metadata": {
        "id": "9QYzsj70N4Db"
      },
      "outputs": [],
      "source": [
        "# Your code here!\n"
      ]
    },
    {
      "cell_type": "markdown",
      "id": "L7wbQNKyzL7a",
      "metadata": {
        "id": "L7wbQNKyzL7a"
      },
      "source": [
        "**Question:** Now put in a new module class so we can have a neural network layer that takes image batches as inputs as outputs vectorized token batches."
      ]
    },
    {
      "cell_type": "code",
      "execution_count": null,
      "id": "3VAFLbPLzd9D",
      "metadata": {
        "id": "3VAFLbPLzd9D"
      },
      "outputs": [],
      "source": [
        "# Your code here!\n",
        "\n",
        "class Tokenizer(nn.Module):\n",
        "    def __init__(self, patch_size, embed_dim):\n",
        "        super().__init__()\n",
        "\n",
        "\n",
        "    def forward(self, x):\n",
        "\n",
        "        return embeddings\n"
      ]
    },
    {
      "cell_type": "markdown",
      "id": "YHqH8pssBAKL",
      "metadata": {
        "id": "YHqH8pssBAKL"
      },
      "source": [
        "### Bonus: Extracting tokens from images with 2D convolutions\n",
        "\n",
        "Interestingly, it is possible to combine the two previous steps by using a 2D Convolution layer with the proper kernel and stride. This is how it is usually implemented in ViT.\n",
        "\n",
        "**Question:** Write the code that takes a batch of images as input and outputs learnable vectors for the 49 4x4 patches in that image."
      ]
    },
    {
      "cell_type": "code",
      "execution_count": null,
      "id": "98bb65f3",
      "metadata": {
        "id": "98bb65f3"
      },
      "outputs": [],
      "source": [
        "# hint1:\n",
        "# if the kernel size is 4x4 and the stride 4x4 then the convolution layer will compute\n",
        "# a linear combinaison of every 4x4 patch in an image without overlapping.\n",
        "# This linear combination is equivalent to what the previous linear layer was computing."
      ]
    },
    {
      "cell_type": "code",
      "execution_count": null,
      "id": "5hTO38KBYhxo",
      "metadata": {
        "id": "5hTO38KBYhxo"
      },
      "outputs": [],
      "source": [
        "# Your code here!\n",
        "\n",
        "class TokenizerConv(nn.Module):\n",
        "    def __init__(self, patch_size, embed_dim):\n",
        "        super().__init__()\n",
        "\n",
        "\n",
        "\n",
        "    def forward(self, x):\n",
        "\n",
        "        return embeddings"
      ]
    },
    {
      "cell_type": "markdown",
      "id": "899fbed7",
      "metadata": {
        "id": "899fbed7",
        "papermill": {
          "duration": 0.011614,
          "end_time": "2022-04-09T14:37:37.399352",
          "exception": false,
          "start_time": "2022-04-09T14:37:37.387738",
          "status": "completed"
        },
        "tags": []
      },
      "source": [
        "### Building the model\n",
        "\n",
        "Here we will build a simple model for image classification: we will rely on a Transformer Encoder combined with a final linear classification layer as you have seen last week. In this section, you will need to re-implement all the parts of the model as you have seen last week. Reminders on the different elements of the framework are provided below, please to try to re-implement all the modules without referring to last week's code!"
      ]
    },
    {
      "cell_type": "markdown",
      "id": "baf076f5",
      "metadata": {
        "id": "baf076f5",
        "lines_to_next_cell": 2,
        "papermill": {
          "duration": 0.011622,
          "end_time": "2022-04-09T14:37:37.422711",
          "exception": false,
          "start_time": "2022-04-09T14:37:37.411089",
          "status": "completed"
        },
        "tags": []
      },
      "source": [
        "### Standard attention scheme: Scaled Dot Product Attention\n",
        "\n",
        "The core concept behind modern attention is the scaled dot product attention.\n",
        "Our goal is to have an attention mechanism comparing each element in a sequence with any other (in an efficient way).\n",
        "The dot product attention takes as input a set of queries\n",
        "$Q\\in\\mathbb{R}^{T\\times d_k}$, keys $K\\in\\mathbb{R}^{T\\times d_k}$\n",
        "and values $V\\in\\mathbb{R}^{T\\times d_v}$ where $T$ is the sequence length,\n",
        "and $d_k$ and $d_v$ are the hidden dimensionality for queries/keys and values respectively.\n",
        "\n",
        "In math, we calculate the dot product attention as follows:\n",
        "\n",
        "$$\\text{Attention}(Q,K,V)=\\text{softmax}\\left(\\frac{QK^T}{\\sqrt{d_k}}\\right)V$$\n",
        "\n",
        "**Question:** Write out the scaled dot product attention function"
      ]
    },
    {
      "cell_type": "code",
      "execution_count": null,
      "id": "9070779d",
      "metadata": {
        "execution": {
          "iopub.execute_input": "2022-04-09T14:37:37.447403Z",
          "iopub.status.busy": "2022-04-09T14:37:37.446989Z",
          "iopub.status.idle": "2022-04-09T14:37:37.451657Z",
          "shell.execute_reply": "2022-04-09T14:37:37.451096Z"
        },
        "id": "9070779d",
        "papermill": {
          "duration": 0.018657,
          "end_time": "2022-04-09T14:37:37.453028",
          "exception": false,
          "start_time": "2022-04-09T14:37:37.434371",
          "status": "completed"
        },
        "tags": []
      },
      "outputs": [],
      "source": [
        "def scaled_dot_product(q, k, v, mask=None):\n",
        "    d_k = q.size()[-1]\n",
        "\n",
        "    # Your code here!\n",
        "\n",
        "    # Compute attn_logits\n",
        "\n",
        "    # Apply mask if not None\n",
        "    if mask is not None:\n",
        "\n",
        "    # Pass through softmax\n",
        "\n",
        "    # Weight values accordingly\n",
        "\n",
        "    return output_values, attention"
      ]
    },
    {
      "cell_type": "markdown",
      "id": "4a475896",
      "metadata": {
        "id": "4a475896",
        "papermill": {
          "duration": 0.011788,
          "end_time": "2022-04-09T14:37:37.476729",
          "exception": false,
          "start_time": "2022-04-09T14:37:37.464941",
          "status": "completed"
        },
        "tags": []
      },
      "source": [
        "Note that our code above supports any additional dimensionality in front of the sequence length\n",
        "so that we can also use it for batches.\n",
        "\n",
        "You can check everything works properly by running the following test cell"
      ]
    },
    {
      "cell_type": "code",
      "execution_count": null,
      "id": "f6b4422f",
      "metadata": {
        "colab": {
          "base_uri": "https://localhost:8080/"
        },
        "execution": {
          "iopub.execute_input": "2022-04-09T14:37:37.501387Z",
          "iopub.status.busy": "2022-04-09T14:37:37.501015Z",
          "iopub.status.idle": "2022-04-09T14:37:37.510585Z",
          "shell.execute_reply": "2022-04-09T14:37:37.510000Z"
        },
        "id": "f6b4422f",
        "outputId": "a4a1405e-162a-4503-8596-17eb5d2fda9e",
        "papermill": {
          "duration": 0.023453,
          "end_time": "2022-04-09T14:37:37.511961",
          "exception": false,
          "start_time": "2022-04-09T14:37:37.488508",
          "status": "completed"
        },
        "tags": []
      },
      "outputs": [
        {
          "name": "stdout",
          "output_type": "stream",
          "text": [
            "Output\n",
            " tensor([[-0.4846,  0.4063],\n",
            "        [ 0.2174, -1.0264],\n",
            "        [-0.0766, -0.8279]])\n",
            "Attention\n",
            " tensor([[0.0300, 0.6852, 0.2847],\n",
            "        [0.8302, 0.0678, 0.1019],\n",
            "        [0.7071, 0.0857, 0.2072]])\n"
          ]
        }
      ],
      "source": [
        "q = torch.tensor([[-0.8920, -1.5091],\n",
        "        [ 0.3704,  1.4565],\n",
        "        [ 0.9398,  0.7748]])\n",
        "k = torch.tensor([[ 0.1919,  1.2638],\n",
        "        [-1.2904, -0.7911],\n",
        "        [-0.0209, -0.7185]])\n",
        "v = torch.tensor([[ 0.5186, -1.3125],\n",
        "        [ 0.1920,  0.5428],\n",
        "        [-2.2188,  0.2590]])\n",
        "\n",
        "output_values, attention = scaled_dot_product(q, k, v)\n",
        "\n",
        "print(\"Output\\n\", output_values)\n",
        "print(\"Attention\\n\", attention)\n",
        "\n",
        "assert (output_values - torch.tensor([[-0.4846,  0.4063],\n",
        "                                      [ 0.2174, -1.0264],\n",
        "                                      [-0.0766, -0.8279]]) < 1e-4).all(), \\\n",
        "    f\"Error in computing the attention\"\n",
        "assert (attention - torch.tensor([[0.0300, 0.6852, 0.2847],\n",
        "                                  [0.8302, 0.0678, 0.1019],\n",
        "                                  [0.7071, 0.0857, 0.2072]]) < 1e-4).all(), \\\n",
        "    f\"Error in computing the attention\""
      ]
    },
    {
      "cell_type": "markdown",
      "id": "738d26e7",
      "metadata": {
        "id": "738d26e7",
        "lines_to_next_cell": 2,
        "papermill": {
          "duration": 0.013673,
          "end_time": "2022-04-09T14:37:37.561299",
          "exception": false,
          "start_time": "2022-04-09T14:37:37.547626",
          "status": "completed"
        },
        "tags": []
      },
      "source": [
        "### Multi-Head Attention\n",
        "\n",
        "The scaled dot product attention allows a network to attend over a sequence.\n",
        "However, often there are multiple different aspects a sequence element wants to attend to,\n",
        "and a single weighted average is not a good option for it.\n",
        "This is why we extend the attention mechanisms to **multiple heads**,\n",
        "i.e. multiple different query-key-value triplets on the same features.\n",
        "Specifically, given a query, key, and value matrix, we transform those into $h$ sub-queries, sub-keys,\n",
        "and sub-values, which we pass through the scaled dot product attention independently.\n",
        "Afterward, we concatenate the heads and combine them with a final weight matrix.\n",
        "Mathematically,\n",
        "\n",
        "$$\n",
        "\\begin{split}\n",
        "    \\text{Multihead}(Q,K,V) & = \\text{Concat}(\\text{head}_1,...,\\text{head}_h)W^{O}\\\\\n",
        "    \\text{where } \\text{head}_i & = \\text{Attention}(QW_i^Q,KW_i^K, VW_i^V)\n",
        "\\end{split}\n",
        "$$\n",
        "\n",
        "We refer to this as Multi-Head Attention layer with the learnable parameters\n",
        "$W_{1...h}^{Q}\\in\\mathbb{R}^{D\\times d_k}$,\n",
        "$W_{1...h}^{K}\\in\\mathbb{R}^{D\\times d_k}$,\n",
        "$W_{1...h}^{V}\\in\\mathbb{R}^{D\\times d_v}$,\n",
        "and $W^{O}\\in\\mathbb{R}^{h\\cdot d_k\\times d_{out}}$ ($D$ being the input dimensionality).\n",
        "Expressed in a computational graph:\n",
        "\n",
        "<center width=\"100%\"><img src=\"https://github.com/PyTorchLightning/lightning-tutorials/raw/main/course_UvA-DL/05-transformers-and-MH-attention/multihead_attention.svg\" width=\"230px\"></center>\n",
        "\n",
        "How are we applying a Multi-Head Attention layer in a neural network,\n",
        "where we don't have an arbitrary query, key, and value vector as input?\n",
        "Looking at the computation graph above, a simple but effective implementation is to set the current\n",
        "feature map in a NN, $X\\in\\mathbb{R}^{B\\times T\\times d_{\\text{model}}}$, as $Q$, $K$ and $V$\n",
        "($B$ being the batch size, $T$ the sequence length, $d_{\\text{model}}$ the hidden dimensionality of $X$).\n",
        "The consecutive weight matrices $W^{Q}$, $W^{K}$, and $W^{V}$ can transform $X$ to the corresponding feature vectors that represent the queries, keys, and values of the input.\n",
        "\n",
        "**Question:** Implement a multi-head attention layer using the previously defined dot product attention function."
      ]
    },
    {
      "cell_type": "code",
      "execution_count": null,
      "id": "fa28f1cf",
      "metadata": {
        "colab": {
          "base_uri": "https://localhost:8080/"
        },
        "execution": {
          "iopub.execute_input": "2022-04-09T14:37:37.586727Z",
          "iopub.status.busy": "2022-04-09T14:37:37.586295Z",
          "iopub.status.idle": "2022-04-09T14:37:37.594515Z",
          "shell.execute_reply": "2022-04-09T14:37:37.593932Z"
        },
        "id": "fa28f1cf",
        "lines_to_next_cell": 2,
        "outputId": "ec5aa3f9-7f46-4e90-cf87-7b7ba1d88091",
        "papermill": {
          "duration": 0.022557,
          "end_time": "2022-04-09T14:37:37.595903",
          "exception": false,
          "start_time": "2022-04-09T14:37:37.573346",
          "status": "completed"
        },
        "tags": []
      },
      "outputs": [
        {
          "name": "stdout",
          "output_type": "stream",
          "text": [
            "Input x: tensor([[[0.3360, 0.6676, 0.6393],\n",
            "         [0.2083, 0.5484, 0.1204],\n",
            "         [0.3533, 0.3038, 0.9383],\n",
            "         [0.0499, 0.2048, 0.0107]]])\n",
            "MhA Output tensor([[[-0.1891, -0.1790,  0.1462,  0.1397],\n",
            "         [-0.1901, -0.1802,  0.1459,  0.1410],\n",
            "         [-0.1944, -0.1821,  0.1432,  0.1449],\n",
            "         [-0.1939, -0.1829,  0.1440,  0.1449]]], grad_fn=<ViewBackward0>)\n",
            "torch.Size([1, 4, 4])\n"
          ]
        }
      ],
      "source": [
        "class MultiheadAttention(nn.Module):\n",
        "    def __init__(self, input_dim, embed_dim, num_heads):\n",
        "        super().__init__()\n",
        "        assert embed_dim % num_heads == 0, \"Embedding dimension must be 0 modulo number of heads.\"\n",
        "\n",
        "        self.embed_dim = embed_dim # dimension of concatenated heads\n",
        "        self.num_heads = num_heads\n",
        "        self.head_dim = embed_dim // num_heads\n",
        "\n",
        "        # Your code here!\n",
        "\n",
        "        # Create linear layers for both qkv and output\n",
        "        # TIP: Stack all weight matrices 1...h together for efficiency\n",
        "\n",
        "    def forward(self, x, mask=None, return_attention=False):\n",
        "\n",
        "\n",
        "        batch_dim, seq_length, input_dim = x.shape\n",
        "\n",
        "        # Compute linear projection for qkv and separate heads\n",
        "        # QKV: [Batch, Head, SeqLen, Dims]\n",
        "\n",
        "        # Apply Dot Product Attention to qkv ()\n",
        "\n",
        "        # Concatenate heads to [Batch, SeqLen, Embed Dim]\n",
        "\n",
        "        # Output projection\n",
        "\n",
        "        if return_attention:\n",
        "            return o, attention\n",
        "        else:\n",
        "            return o\n",
        "\n",
        "\n",
        "input_d = 3\n",
        "seq_l = 4\n",
        "embed_d = 4\n",
        "n_heads = 2\n",
        "b_size = 1\n",
        "\n",
        "mh_att = MultiheadAttention(input_d, embed_d, n_heads)\n",
        "\n",
        "x = torch.rand(b_size, seq_l, input_d)\n",
        "x = torch.tensor([[[0.3360, 0.6676, 0.6393],\n",
        "         [0.2083, 0.5484, 0.1204],\n",
        "         [0.3533, 0.3038, 0.9383],\n",
        "         [0.0499, 0.2048, 0.0107]]])\n",
        "print(f\"Input x: {x}\")\n",
        "\n",
        "att_output = mh_att(x)\n",
        "print(f\"MhA Output {att_output}\")\n",
        "print(att_output.shape)\n",
        "assert att_output.shape == torch.Size([1, 4, 4]), \"Error in computing multi-head attention\""
      ]
    },
    {
      "cell_type": "markdown",
      "id": "0c2468bc",
      "metadata": {
        "id": "0c2468bc",
        "lines_to_next_cell": 2,
        "papermill": {
          "duration": 0.012032,
          "end_time": "2022-04-09T14:37:37.645572",
          "exception": false,
          "start_time": "2022-04-09T14:37:37.633540",
          "status": "completed"
        },
        "tags": []
      },
      "source": [
        "### Transformer Encoder\n",
        "\n",
        "We can then use these attention layers to build the transformer encoder blocks and transformer encoder that you have see in previous labs:\n",
        "\n",
        "<center width=\"100%\"><img src=\"https://github.com/PyTorchLightning/lightning-tutorials/raw/main/course_UvA-DL/05-transformers-and-MH-attention/transformer_architecture.svg\" width=\"400px\"></center>\n",
        "\n",
        "The encoder consists of $N$ identical blocks that are applied in sequence.\n",
        "Taking as input $x$, it is first passed through a Multi-Head Attention block as we have implemented above.\n",
        "The output is added to the original input using a residual connection,\n",
        "and we apply a consecutive Layer Normalization on the sum.\n",
        "Overall, it calculates $\\text{LayerNorm}(x+\\text{Multihead}(x,x,x))$\n",
        "($x$ being $Q$, $K$ and $V$ input to the attention layer).\n",
        "\n",
        "Additionally to the Multi-Head Attention, a small fully connected **Feed-Forward Network (FFN)** is added to the model,\n",
        "which is applied to each position separately and identically.\n",
        "Specifically, the model uses a Linear$\\to$ReLU$\\to$Linear MLP.\n",
        "The full transformation including the residual connection can be expressed as:\n",
        "\n",
        "$$\n",
        "\\begin{split}\n",
        "    \\text{FFN}(x) & = \\max(0, xW_1+b_1)W_2 + b_2\\\\\n",
        "    \\text{output} & = \\text{LayerNorm}(x + \\text{FFN}(x))\n",
        "\\end{split}\n",
        "$$\n",
        "\n",
        "Also, we will assume now on a constant `input_dim = embed_dim` throughout the Transformer and therefore we will instantiate the attention as `MultiheadAttention(input_dim, input_dim, num_heads)`. The dimensionality of the first input will be addressed later.\n",
        "\n",
        "**Question:** Build a transformer encoder block module below."
      ]
    },
    {
      "cell_type": "code",
      "execution_count": null,
      "id": "c55bfef0",
      "metadata": {
        "execution": {
          "iopub.execute_input": "2022-04-09T14:37:37.670726Z",
          "iopub.status.busy": "2022-04-09T14:37:37.670245Z",
          "iopub.status.idle": "2022-04-09T14:37:37.676639Z",
          "shell.execute_reply": "2022-04-09T14:37:37.676067Z"
        },
        "id": "c55bfef0",
        "lines_to_next_cell": 2,
        "papermill": {
          "duration": 0.020505,
          "end_time": "2022-04-09T14:37:37.678049",
          "exception": false,
          "start_time": "2022-04-09T14:37:37.657544",
          "status": "completed"
        },
        "tags": []
      },
      "outputs": [],
      "source": [
        "class EncoderBlock(nn.Module):\n",
        "    def __init__(self, input_dim, num_heads, dim_feedforward, dropout=0.0):\n",
        "        \"\"\"\n",
        "        Args:\n",
        "            input_dim: Dimensionality of the input\n",
        "            num_heads: Number of heads to use in the attention block\n",
        "            dim_feedforward: Dimensionality of the hidden layer in the MLP\n",
        "            dropout: Dropout probability to use in the dropout layers\n",
        "        \"\"\"\n",
        "        super().__init__()\n",
        "\n",
        "        # Your code here!\n",
        "\n",
        "        # Create Attention layer\n",
        "\n",
        "        # Create Two-layer MLP with droput\n",
        "\n",
        "        # Layers to apply in between the main layers (Layer Norm and Dropout)\n",
        "\n",
        "    def forward(self, x, mask=None):\n",
        "        # Compute Attention part\n",
        "\n",
        "        # Compute MLP part\n",
        "\n",
        "        return x\n",
        "\n"
      ]
    },
    {
      "cell_type": "markdown",
      "id": "0fea27f4",
      "metadata": {
        "id": "0fea27f4",
        "lines_to_next_cell": 2,
        "papermill": {
          "duration": 0.011884,
          "end_time": "2022-04-09T14:37:37.702098",
          "exception": false,
          "start_time": "2022-04-09T14:37:37.690214",
          "status": "completed"
        },
        "tags": []
      },
      "source": [
        "Based on this block, we can implement a module for the full **Transformer encoder**.\n",
        "Additionally to a `forward` function that iterates through the sequence of encoder blocks, we also provide a function called `get_attention_maps`.\n",
        "The idea of this function is to return the attention probabilities for all Multi-Head Attention blocks in the encoder.\n",
        "They helps us in understanding, and partially, explaining the model.\n",
        "Attention scores may not necessarily reflect the true interpretation of the model (it is disputed in literature, check [Attention is not Explanation](https://arxiv.org/abs/1902.10186)\n",
        "and [Attention is not not Explanation](https://arxiv.org/abs/1908.04626)).\n",
        "\n",
        "**Question** Code the full transformer encoder block using the previous block."
      ]
    },
    {
      "cell_type": "code",
      "execution_count": null,
      "id": "59e4943c",
      "metadata": {
        "execution": {
          "iopub.execute_input": "2022-04-09T14:37:37.727879Z",
          "iopub.status.busy": "2022-04-09T14:37:37.726612Z",
          "iopub.status.idle": "2022-04-09T14:37:37.733398Z",
          "shell.execute_reply": "2022-04-09T14:37:37.732829Z"
        },
        "id": "59e4943c",
        "lines_to_next_cell": 2,
        "papermill": {
          "duration": 0.020849,
          "end_time": "2022-04-09T14:37:37.734822",
          "exception": false,
          "start_time": "2022-04-09T14:37:37.713973",
          "status": "completed"
        },
        "tags": []
      },
      "outputs": [],
      "source": [
        "# Your code here!\n",
        "\n",
        "class TransformerEncoder(nn.Module):\n",
        "    def __init__(self, num_layers, **block_args):\n",
        "        super().__init__()\n",
        "\n",
        "    def forward(self, x, mask=None):\n",
        "\n",
        "        return x\n",
        "\n",
        "    def get_attention_maps(self, x, mask=None):\n",
        "        attention_maps = []\n",
        "        for layer in self.layers:\n",
        "            _, attn_map = layer.self_attn(x, mask=mask, return_attention=True)\n",
        "            attention_maps.append(attn_map)\n",
        "            x = layer(x)\n",
        "        return attention_maps"
      ]
    },
    {
      "cell_type": "markdown",
      "id": "9dbe84c2",
      "metadata": {
        "id": "9dbe84c2",
        "lines_to_next_cell": 2,
        "papermill": {
          "duration": 0.016824,
          "end_time": "2022-04-09T14:37:40.272544",
          "exception": false,
          "start_time": "2022-04-09T14:37:40.255720",
          "status": "completed"
        },
        "tags": []
      },
      "source": [
        "### Transformer Encoder Classifier\n",
        "\n",
        "Finally, we can implement a template for a classifier based on the Transformer encoder.\n",
        "\n",
        "Additionally to the Transformer encoder we already coded, we add:\n",
        "* a small network to transform input images in to sequences of tokens (coded at the beginning of this lab!)\n",
        "* the positional encoding (you can implement a learned encoding or a 2D sine encoding by adapting what you have seen in previous labs)\n",
        "* A classifier token to add to the input sequence before processing by the transformer encoder\n",
        "* a classifier network that outputs a prediction from the classifier token features.\n",
        "\n",
        "**Question:** Code the full image transformer classifier (this is a typical ViT architecture!)"
      ]
    },
    {
      "cell_type": "code",
      "execution_count": null,
      "id": "fba3970c",
      "metadata": {
        "execution": {
          "iopub.execute_input": "2022-04-09T14:37:40.307736Z",
          "iopub.status.busy": "2022-04-09T14:37:40.307446Z",
          "iopub.status.idle": "2022-04-09T14:37:40.319189Z",
          "shell.execute_reply": "2022-04-09T14:37:40.318619Z"
        },
        "id": "fba3970c",
        "lines_to_next_cell": 2,
        "papermill": {
          "duration": 0.031287,
          "end_time": "2022-04-09T14:37:40.320713",
          "exception": false,
          "start_time": "2022-04-09T14:37:40.289426",
          "status": "completed"
        },
        "tags": []
      },
      "outputs": [],
      "source": [
        "# Your code here!\n",
        "\n",
        "class TransformerPredictor(nn.Module):\n",
        "    def __init__(\n",
        "        self,\n",
        "        patch_size,\n",
        "        input_dim,\n",
        "        model_dim,\n",
        "        num_classes,\n",
        "        num_heads,\n",
        "        num_layers,\n",
        "        dropout=0.0,\n",
        "        input_dropout=0.0,\n",
        "    ):\n",
        "        \"\"\"\n",
        "        Args:\n",
        "            input_dim: Hidden dimensionality of the input\n",
        "            model_dim: Hidden dimensionality to use inside the Transformer\n",
        "            num_classes: Number of classes to predict per sequence element\n",
        "            num_heads: Number of heads to use in the Multi-Head Attention blocks\n",
        "            num_layers: Number of encoder blocks to use.\n",
        "            lr: Learning rate in the optimizer\n",
        "            warmup: Number of warmup steps. Usually between 50 and 500\n",
        "            max_iters: Number of maximum iterations the model is trained for. This is needed for the CosineWarmup scheduler\n",
        "            dropout: Dropout to apply inside the model\n",
        "            input_dropout: Dropout to apply on the input features\n",
        "        \"\"\"\n",
        "        super().__init__()\n",
        "        self.patch_size = patch_size\n",
        "        self.num_patches = (28 // patch_size) ** 2\n",
        "        self.input_dim = input_dim\n",
        "        self.model_dim = model_dim\n",
        "        self.num_classes = num_classes\n",
        "        self.num_heads = num_heads\n",
        "        self.num_layers = num_layers\n",
        "        self.dropout = dropout\n",
        "        self.input_dropout = input_dropout\n",
        "\n",
        "        # Create a Generic Input Encoder Input dim -> Model dim with input dropout\n",
        "\n",
        "        # Create positional encoding for sequences\n",
        "\n",
        "        # Create transformer Encoder\n",
        "\n",
        "        # Create output classifier per sequence element Model_dim -> num_classes\n",
        "\n",
        "    def forward(self, x, mask=None, add_positional_encoding=True):\n",
        "        \"\"\"\n",
        "        Args:\n",
        "            x: Input features of shape [Batch, SeqLen, input_dim]\n",
        "            mask: Mask to apply on the attention outputs (optional)\n",
        "            add_positional_encoding: If True, we add the positional encoding to the input.\n",
        "                                      Might not be desired for some tasks.\n",
        "        \"\"\"\n",
        "        batch_size = x.size(0)\n",
        "\n",
        "\n",
        "        if add_positional_encoding:\n",
        "\n",
        "        return x\n",
        "\n",
        "    @torch.no_grad()\n",
        "    def get_attention_maps(self, x, mask=None, add_positional_encoding=True):\n",
        "        \"\"\"Function for extracting the attention matrices of the whole Transformer for a single batch.\n",
        "\n",
        "        Input arguments same as the forward pass.\n",
        "        \"\"\"\n",
        "        batch_size = x.size(0)\n",
        "\n",
        "        x = self.input_net(x)\n",
        "        x = torch.cat([x,self.cls_token.repeat(batch_size, 1, 1)], dim=1)\n",
        "\n",
        "        if add_positional_encoding:\n",
        "            x += self.positional_embedding\n",
        "        attention_maps = self.transformer.get_attention_maps(x, mask=mask)\n",
        "        return attention_maps\n",
        "\n"
      ]
    },
    {
      "cell_type": "markdown",
      "id": "e2f853d7",
      "metadata": {
        "id": "e2f853d7",
        "lines_to_next_cell": 2,
        "papermill": {
          "duration": 0.017029,
          "end_time": "2022-04-09T14:37:40.355127",
          "exception": false,
          "start_time": "2022-04-09T14:37:40.338098",
          "status": "completed"
        },
        "tags": []
      },
      "source": [
        "## Experiment: Sequence to Sequence\n",
        "\n",
        "We can now train our model on the MNIST dataset and evaluate its performance!\n",
        "\n",
        "**Question:** Complete the following functions to perform a single training step and evaluation step"
      ]
    },
    {
      "cell_type": "code",
      "execution_count": null,
      "id": "3157b207",
      "metadata": {
        "execution": {
          "iopub.execute_input": "2022-04-09T14:37:40.629517Z",
          "iopub.status.busy": "2022-04-09T14:37:40.629034Z",
          "iopub.status.idle": "2022-04-09T14:37:40.635426Z",
          "shell.execute_reply": "2022-04-09T14:37:40.634853Z"
        },
        "id": "3157b207",
        "lines_to_next_cell": 2,
        "papermill": {
          "duration": 0.025464,
          "end_time": "2022-04-09T14:37:40.636801",
          "exception": false,
          "start_time": "2022-04-09T14:37:40.611337",
          "status": "completed"
        },
        "tags": []
      },
      "outputs": [],
      "source": [
        "# Your code here!\n",
        "\n",
        "def train_step(model, x, y, optim):\n",
        "    model.train()\n",
        "\n",
        "    x = x.to(device)\n",
        "    y = y.to(device)\n",
        "\n",
        "    # Perform prediction and calculate loss and accuracy\n",
        "\n",
        "    # Backpropagate and update weights\n",
        "\n",
        "    return loss, acc\n",
        "\n",
        "def eval_step(model, x, y):\n",
        "    with torch.no_grad():\n",
        "        model.eval()\n",
        "\n",
        "        x = x.to(device)\n",
        "        y = y.to(device)\n",
        "\n",
        "\n",
        "        # Perform prediction and calculate loss and accuracy\n",
        "\n",
        "    return loss, acc\n"
      ]
    },
    {
      "cell_type": "markdown",
      "id": "1eca170b",
      "metadata": {
        "id": "1eca170b",
        "lines_to_next_cell": 2,
        "papermill": {
          "duration": 0.017272,
          "end_time": "2022-04-09T14:37:40.673633",
          "exception": false,
          "start_time": "2022-04-09T14:37:40.656361",
          "status": "completed"
        },
        "tags": []
      },
      "source": [
        "Finally, we can create a training function similar to the one we have seen in previous laboratories. We running for $N$ epochs printing the training and validation loss and saving our best model based on the validation.\n",
        "Afterward, we test our models on the test set."
      ]
    },
    {
      "cell_type": "code",
      "execution_count": null,
      "id": "237c583b",
      "metadata": {
        "execution": {
          "iopub.execute_input": "2022-04-09T14:37:40.709513Z",
          "iopub.status.busy": "2022-04-09T14:37:40.708933Z",
          "iopub.status.idle": "2022-04-09T14:37:40.715633Z",
          "shell.execute_reply": "2022-04-09T14:37:40.715064Z"
        },
        "id": "237c583b",
        "papermill": {
          "duration": 0.026011,
          "end_time": "2022-04-09T14:37:40.717000",
          "exception": false,
          "start_time": "2022-04-09T14:37:40.690989",
          "status": "completed"
        },
        "tags": []
      },
      "outputs": [],
      "source": [
        "def train_model(model, train_loader, val_loader, test_loader,\n",
        "                optim, epochs=5):\n",
        "    best_acc = 0.\n",
        "    pbar = tqdm(range(epochs))\n",
        "    for e in range(epochs):\n",
        "        train_loss, train_acc = 0., 0.\n",
        "        for x, y in train_loader:\n",
        "            loss, acc = train_step(model, x, y, optim)\n",
        "            train_loss += loss\n",
        "            train_acc += acc\n",
        "\n",
        "        val_loss, val_acc = 0., 0.\n",
        "        for x, y in val_loader:\n",
        "            loss, acc = eval_step(model, x, y)\n",
        "            val_loss += loss\n",
        "            val_acc += acc\n",
        "\n",
        "        if val_acc/len(val_loader) > best_acc:\n",
        "            torch.save(model.state_dict(), \"best_model.pt\")\n",
        "            best_acc = val_acc/len(val_loader)\n",
        "\n",
        "        pbar.update()\n",
        "        pbar.set_description(f\"Train Acc: {train_acc/len(train_loader)* 100:.2f} \"\n",
        "                            f\"Train Loss: {train_loss/len(train_loader):.2f} \"\n",
        "                            f\"Val Acc: {val_acc/len(val_loader)* 100 :.2f}  \"\n",
        "                            f\"Val loss: {val_loss/len(val_loader):.2f} \")\n",
        "\n",
        "    test_loss, test_acc = 0., 0.\n",
        "    for x, y in test_loader:\n",
        "        loss, acc = eval_step(model, x, y)\n",
        "        test_loss += loss\n",
        "        test_acc += acc\n",
        "\n",
        "    print(f\"Test accuracy: {test_acc/len(test_loader)*100 :.2f}\")\n",
        "\n",
        "    pbar.close()\n",
        "    model.load_state_dict(torch.load(\"best_model.pt\"))\n",
        "\n",
        "    return model"
      ]
    },
    {
      "cell_type": "markdown",
      "id": "170c6143",
      "metadata": {
        "id": "170c6143",
        "papermill": {
          "duration": 0.017478,
          "end_time": "2022-04-09T14:37:40.752397",
          "exception": false,
          "start_time": "2022-04-09T14:37:40.734919",
          "status": "completed"
        },
        "tags": []
      },
      "source": [
        "Finally, we can train the model.\n",
        "In this setup, we will use a single encoder block and a single head in the Multi-Head Attention.\n",
        "This is chosen because of the simplicity of the task, and in this case, the attention can actually be interpreted\n",
        "as an \"explanation\" of the predictions (compared to the other papers above dealing with deep Transformers)."
      ]
    },
    {
      "cell_type": "code",
      "execution_count": null,
      "id": "da3e1d49",
      "metadata": {
        "execution": {
          "iopub.execute_input": "2022-04-09T14:37:40.788473Z",
          "iopub.status.busy": "2022-04-09T14:37:40.787980Z",
          "iopub.status.idle": "2022-04-09T14:37:44.274530Z",
          "shell.execute_reply": "2022-04-09T14:37:44.273926Z"
        },
        "id": "da3e1d49",
        "papermill": {
          "duration": 3.505945,
          "end_time": "2022-04-09T14:37:44.275998",
          "exception": false,
          "start_time": "2022-04-09T14:37:40.770053",
          "status": "completed"
        },
        "tags": []
      },
      "outputs": [],
      "source": [
        "model = TransformerPredictor(\n",
        "    patch_size = 4,\n",
        "    input_dim=64,\n",
        "    model_dim=64,\n",
        "    num_heads=4,\n",
        "    num_classes=10,\n",
        "    num_layers=6,\n",
        "    dropout=0.0,\n",
        ").to(device)\n",
        "\n",
        "optimizer = optim.AdamW(model.parameters(), lr=0.001)\n",
        "\n",
        "model = train_model(model, train_loader, val_loader, test_loader, optimizer)"
      ]
    },
    {
      "cell_type": "markdown",
      "id": "bbab7649",
      "metadata": {
        "id": "bbab7649",
        "papermill": {
          "duration": 0.017964,
          "end_time": "2022-04-09T14:37:44.392392",
          "exception": false,
          "start_time": "2022-04-09T14:37:44.374428",
          "status": "completed"
        },
        "tags": []
      },
      "source": [
        "As we would have expected, the Transformer can correctly solve the task. The performance is however fairly bad: even simple MLP architectures would be able to obtain 98+% accuracy nowadays. This is typically due to the low amount of data available and the lack of natural biases in the attention mechanism: transformers do not naturally look at local patterns when trained with limited training data.\n",
        "\n",
        "### Bonus: Visualize the correlations learned by the ViT\n",
        "\n",
        "To convince yourself of this, you can use the .get_attention_maps method built into our previous code to try to understand the correlations the ViT learns between different patches or \"pixels\"\n",
        "\n",
        "**Question:** Investigate the correlations learned between patches"
      ]
    },
    {
      "cell_type": "code",
      "execution_count": null,
      "id": "c8d2704d",
      "metadata": {
        "execution": {
          "iopub.execute_input": "2022-04-09T14:37:44.429196Z",
          "iopub.status.busy": "2022-04-09T14:37:44.428820Z",
          "iopub.status.idle": "2022-04-09T14:37:44.436248Z",
          "shell.execute_reply": "2022-04-09T14:37:44.435661Z"
        },
        "id": "c8d2704d",
        "papermill": {
          "duration": 0.027384,
          "end_time": "2022-04-09T14:37:44.437643",
          "exception": false,
          "start_time": "2022-04-09T14:37:44.410259",
          "status": "completed"
        },
        "tags": []
      },
      "outputs": [],
      "source": [
        "# Your code here!\n",
        "\n",
        "data_input, labels = next(iter(test_loader))\n",
        "inp_data = data_input.to(device)\n"
      ]
    },
    {
      "cell_type": "markdown",
      "id": "a0f1e662",
      "metadata": {
        "id": "a0f1e662",
        "papermill": {
          "duration": 0.017949,
          "end_time": "2022-04-09T14:37:44.473368",
          "exception": false,
          "start_time": "2022-04-09T14:37:44.455419",
          "status": "completed"
        },
        "tags": []
      },
      "source": [
        "The object `attention_maps` is a list of length $N$ where $N$ is the number of layers.\n",
        "Each element is a tensor of shape [Batch, Heads, SeqLen, SeqLen], which we can verify below."
      ]
    },
    {
      "cell_type": "code",
      "execution_count": null,
      "id": "59364e79",
      "metadata": {
        "colab": {
          "base_uri": "https://localhost:8080/"
        },
        "execution": {
          "iopub.execute_input": "2022-04-09T14:37:44.510010Z",
          "iopub.status.busy": "2022-04-09T14:37:44.509466Z",
          "iopub.status.idle": "2022-04-09T14:37:44.514032Z",
          "shell.execute_reply": "2022-04-09T14:37:44.513456Z"
        },
        "id": "59364e79",
        "outputId": "79778bf4-b004-484f-e39a-5e85d39dcd7f",
        "papermill": {
          "duration": 0.024284,
          "end_time": "2022-04-09T14:37:44.515442",
          "exception": false,
          "start_time": "2022-04-09T14:37:44.491158",
          "status": "completed"
        },
        "tags": []
      },
      "outputs": [
        {
          "data": {
            "text/plain": [
              "torch.Size([1000, 4, 50, 50])"
            ]
          },
          "execution_count": 38,
          "metadata": {},
          "output_type": "execute_result"
        }
      ],
      "source": [
        "attention_maps[0].shape"
      ]
    },
    {
      "cell_type": "code",
      "execution_count": null,
      "id": "vtKv8tWxH8kT",
      "metadata": {
        "colab": {
          "base_uri": "https://localhost:8080/",
          "height": 448
        },
        "id": "vtKv8tWxH8kT",
        "outputId": "72101eaa-00bf-4659-b77e-b2af7daf0122"
      },
      "outputs": [
        {
          "data": {
            "text/plain": [
              "<matplotlib.image.AxesImage at 0x7f724847df50>"
            ]
          },
          "execution_count": 59,
          "metadata": {},
          "output_type": "execute_result"
        },
        {
          "data": {
            "image/png": "[encoded data removed]",
            "text/plain": [
              "<Figure size 640x480 with 1 Axes>"
            ]
          },
          "metadata": {},
          "output_type": "display_data"
        }
      ],
      "source": [
        "plt.imshow(attention_maps[0][0][0][6][:-1].reshape(7,7).cpu())"
      ]
    },
    {
      "cell_type": "markdown",
      "id": "9d4769e6",
      "metadata": {
        "id": "9d4769e6",
        "papermill": {
          "duration": 0.019048,
          "end_time": "2022-04-09T14:37:44.998918",
          "exception": false,
          "start_time": "2022-04-09T14:37:44.979870",
          "status": "completed"
        },
        "tags": []
      },
      "source": [
        "# Towards multimodality: relating textual and visual data\n",
        "\n",
        "Now that we have seen how we can deal with transform visual data to be processed by transformer models, we can look into how textual and visual data can be combined. A common way to work with visual and textual data is to at least start by learning representations that are aligned in a shared space.\n",
        "\n",
        "The most common way to align textual and visual data lies in the CLIP framework discussed in class. The Contrastive Language-Image Pretraining (CLIP) framework learns both an image encoder and a text encoder. Given these models, it extracts feature representations for given images and texts. We then optimize the framework on a dataset of paired images and texts. For one optimization step, we optimize the models to ensure the embeddings of paired texts and images (positive pairs) are as closely aligned as possible while keeping non-paired texts and images (negative pairs) as different as possible. Note that we can typically assume image-text pairs in the dataset are positive pairs while any other combination of image-text (e.g. from two different dataset samples) are negative pairs.\n",
        "\n",
        "We can typically quantify the alignment between two vectors u and v through dot product or cosine similarity: $$s(u,v) = \\frac{u^T v}{\\lVert u\\rVert \\lVert v\\rVert}$$\n",
        "\n",
        "If we follow this procedure with a very large amounts of 400 million, this yields very expressive and powerful image/text representations. Unfortunately, this is quite out of budget for this lab. We will therefore follow the [nanoCLIP](https://medium.com/@mahakal001/nanoclip-an-illustration-of-the-clip-framework-using-mnist-f281b161c9fa) exercise to train a much simpler CLIP model on the MNIST dataset: we pair images with a string of text representing their label (e.g. \"One\", \"Two\"). This is a very simplified view of text image alignment, but will help you understand the fundamental underlying parts of the framework.\n",
        "\n",
        "## Building the Image and Text encoders\n",
        "\n",
        "The first step for us is to define neural networks to encode our image and text input. Fortunately, we spent the earlier part of the day encoding a way to encode an image into an embedding space (let's say of size 10!)."
      ]
    },
    {
      "cell_type": "code",
      "execution_count": null,
      "id": "2I7RPdoYRVyp",
      "metadata": {
        "id": "2I7RPdoYRVyp"
      },
      "outputs": [],
      "source": [
        "class ImageEncoder(nn.Module):\n",
        "    def __init__(\n",
        "        self,\n",
        "        patch_size,\n",
        "        input_dim,\n",
        "        model_dim,\n",
        "        num_classes,\n",
        "        num_heads,\n",
        "        num_layers,\n",
        "        dropout=0.0,\n",
        "        input_dropout=0.0,\n",
        "    ):\n",
        "        \"\"\"\n",
        "        Args:\n",
        "            input_dim: Hidden dimensionality of the input\n",
        "            model_dim: Hidden dimensionality to use inside the Transformer\n",
        "            num_classes: Number of classes to predict per sequence element\n",
        "            num_heads: Number of heads to use in the Multi-Head Attention blocks\n",
        "            num_layers: Number of encoder blocks to use.\n",
        "            lr: Learning rate in the optimizer\n",
        "            warmup: Number of warmup steps. Usually between 50 and 500\n",
        "            max_iters: Number of maximum iterations the model is trained for. This is needed for the CosineWarmup scheduler\n",
        "            dropout: Dropout to apply inside the model\n",
        "            input_dropout: Dropout to apply on the input features\n",
        "        \"\"\"\n",
        "        super().__init__()\n",
        "        self.patch_size = patch_size\n",
        "        self.num_patches = (28 // patch_size) ** 2\n",
        "        self.input_dim = input_dim\n",
        "        self.model_dim = model_dim\n",
        "        self.num_classes = num_classes\n",
        "        self.num_heads = num_heads\n",
        "        self.num_layers = num_layers\n",
        "        self.dropout = dropout\n",
        "        self.input_dropout = input_dropout\n",
        "\n",
        "        # Create a Generic Input Encoder Input dim -> Model dim with input dropout\n",
        "        self.input_net = TokenizerConv(4, self.model_dim)\n",
        "\n",
        "        # Create positional encoding for sequences\n",
        "        self.positional_embedding = nn.Parameter(torch.randn(1, self.num_patches + 1, self.model_dim))\n",
        "        self.cls_token = nn.Parameter(torch.randn(1, 1, self.model_dim))\n",
        "\n",
        "        # Create transformer Encoder\n",
        "        self.transformer = TransformerEncoder(num_layers, input_dim=model_dim, dim_feedforward=model_dim*2, num_heads=num_heads, dropout=dropout)\n",
        "\n",
        "        # Create output classifier per sequence element Model_dim -> num_classes\n",
        "        self.output_net = nn.Linear(model_dim, num_classes)\n",
        "\n",
        "    def forward(self, x, mask=None, add_positional_encoding=True):\n",
        "        \"\"\"\n",
        "        Args:\n",
        "            x: Input features of shape [Batch, SeqLen, input_dim]\n",
        "            mask: Mask to apply on the attention outputs (optional)\n",
        "            add_positional_encoding: If True, we add the positional encoding to the input.\n",
        "                                      Might not be desired for some tasks.\n",
        "        \"\"\"\n",
        "        batch_size = x.size(0)\n",
        "\n",
        "        x = self.input_net(x)\n",
        "\n",
        "        x = torch.cat([x,self.cls_token.repeat(batch_size, 1, 1)], dim=1)\n",
        "\n",
        "        if add_positional_encoding:\n",
        "            x += self.positional_embedding\n",
        "\n",
        "        x = self.transformer(x, mask=mask)\n",
        "\n",
        "        x = self.output_net(x[:,-1])\n",
        "\n",
        "        return x"
      ]
    },
    {
      "cell_type": "markdown",
      "id": "5bttF1nrn4tQ",
      "metadata": {
        "id": "5bttF1nrn4tQ"
      },
      "source": [
        "Now, what should we do for the text? Before thinking about an encoder, we need to tokenize our textual inputs into chunks for processing. Here, we are just going to consider each word as a sequence of letter for simplicity, with \".\"s to pad all the sequences to the same length for simplicity.\n",
        "\n",
        "The code below provides all the tools to build the vocabulary and tokenizing functions.\n",
        "\n",
        "**Question:** Write the encoding and decoding functions that allow us to switch between sequences of letters and sequences of vocabulary indexes."
      ]
    },
    {
      "cell_type": "code",
      "execution_count": null,
      "id": "JPVTU9JsTujG",
      "metadata": {
        "id": "JPVTU9JsTujG"
      },
      "outputs": [],
      "source": [
        "int_to_str = { 1 : \"One..\", 2 : \"Two..\", 3: \"Three\", 4: \"Four.\", 5: \"Five.\",\n",
        " 6: \"Six..\", 7:\"Seven\", 8:\"Eight\", 9:\"Nine.\", 0: \"Zero.\"}\n",
        "\n",
        "# collect complete text in a big string\n",
        "text = \"\".join([value for key, value in int_to_str.items()])\n",
        "\n",
        "# here are all the unique characters that occur in this text\n",
        "chars = sorted(list(set(text)))\n",
        "vocab_size = len(chars)\n",
        "\n",
        "# create a mapping from characters to integers\n",
        "s_to_i = {ch: i for i, ch in enumerate(chars)}\n",
        "i_to_s = {i: ch for i, ch in enumerate(chars)}\n",
        "\n",
        "# Your code here!\n",
        "\n",
        "def encode(s):\n",
        "\n",
        "def decode(l):\n"
      ]
    },
    {
      "cell_type": "markdown",
      "id": "Z2VmyCZGopWy",
      "metadata": {
        "id": "Z2VmyCZGopWy"
      },
      "source": [
        "Given properly sequences of vocabulary indexes, we then need to build an embedding layer to map the vocabulary indexes to learnable vectors.\n",
        "\n",
        "**Question:** Complete the Tokenizer object below."
      ]
    },
    {
      "cell_type": "code",
      "execution_count": null,
      "id": "X4nkucxlSjqP",
      "metadata": {
        "id": "X4nkucxlSjqP"
      },
      "outputs": [],
      "source": [
        "# Your code here!\n",
        "\n",
        "class TokenizerText(nn.Module):\n",
        "    def __init__(self, vocab_size, embed_dim):\n",
        "        super().__init__()\n",
        "\n",
        "\n",
        "    def forward(self, x):\n",
        "\n",
        "        return embeddings"
      ]
    },
    {
      "cell_type": "markdown",
      "id": "LUqgmufbpCo-",
      "metadata": {
        "id": "LUqgmufbpCo-"
      },
      "source": [
        "We can now get back to the issue of our textual encoder. Fortunately, we can take inspiration from what we did in previous labs and for images!\n",
        "\n",
        "**Question:** Fill in the text encoder network below:"
      ]
    },
    {
      "cell_type": "code",
      "execution_count": null,
      "id": "np6iUNXUUuCL",
      "metadata": {
        "id": "np6iUNXUUuCL"
      },
      "outputs": [],
      "source": [
        "# Your code here!\n",
        "\n",
        "class TextEncoder(nn.Module):\n",
        "    def __init__(\n",
        "        self,\n",
        "        vocab_size,\n",
        "        seq_len,\n",
        "        input_dim,\n",
        "        model_dim,\n",
        "        num_classes,\n",
        "        num_heads,\n",
        "        num_layers,\n",
        "        dropout=0.0,\n",
        "        input_dropout=0.0,\n",
        "    ):\n",
        "        \"\"\"\n",
        "        Args:\n",
        "            input_dim: Hidden dimensionality of the input\n",
        "            model_dim: Hidden dimensionality to use inside the Transformer\n",
        "            num_classes: Number of classes to predict per sequence element\n",
        "            num_heads: Number of heads to use in the Multi-Head Attention blocks\n",
        "            num_layers: Number of encoder blocks to use.\n",
        "            lr: Learning rate in the optimizer\n",
        "            warmup: Number of warmup steps. Usually between 50 and 500\n",
        "            max_iters: Number of maximum iterations the model is trained for. This is needed for the CosineWarmup scheduler\n",
        "            dropout: Dropout to apply inside the model\n",
        "            input_dropout: Dropout to apply on the input features\n",
        "        \"\"\"\n",
        "        super().__init__()\n",
        "        self.vocab_size = vocab_size\n",
        "        self.seq_len = seq_len\n",
        "        self.input_dim = input_dim\n",
        "        self.model_dim = model_dim\n",
        "        self.num_classes = num_classes\n",
        "        self.num_heads = num_heads\n",
        "        self.num_layers = num_layers\n",
        "        self.dropout = dropout\n",
        "        self.input_dropout = input_dropout\n",
        "\n",
        "        # Create a Generic Input Encoder Input dim -> Model dim with input dropout\n",
        "\n",
        "        # Create positional encoding for sequences\n",
        "\n",
        "        # Create transformer Encoder\n",
        "\n",
        "        # Create output classifier per sequence element Model_dim -> num_classes\n",
        "\n",
        "    def forward(self, x, mask=None, add_positional_encoding=True):\n",
        "        \"\"\"\n",
        "        Args:\n",
        "            x: Input features of shape [Batch, SeqLen, input_dim]\n",
        "            mask: Mask to apply on the attention outputs (optional)\n",
        "            add_positional_encoding: If True, we add the positional encoding to the input.\n",
        "                                      Might not be desired for some tasks.\n",
        "        \"\"\"\n",
        "        batch_size = x.size(0)\n",
        "\n",
        "\n",
        "        if add_positional_encoding:\n",
        "\n",
        "        return x"
      ]
    },
    {
      "cell_type": "markdown",
      "id": "Hnil0pEBpc6x",
      "metadata": {
        "id": "Hnil0pEBpc6x"
      },
      "source": [
        "## Contrastive Learning framework\n",
        "\n",
        "Now that we can extract feature embeddings from both image and text, it is time to learn how we can use contrastive learning to train our models. Given a batch of image/text pairs, we can extract the features and compute a similarity matrix\n",
        "\n",
        "![CLIP.png](data:image/png;base64,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)"
      ]
    },
    {
      "cell_type": "markdown",
      "id": "zSz0DJVqqFlE",
      "metadata": {
        "id": "zSz0DJVqqFlE"
      },
      "source": [
        "Once we have computed this matrix S, the ith row of this matrix gives us the similarity of the ith image in the batch with all the texts in the batch. For example, the first row gives us the similarity between the first image and the first text (positive pair), and then the similarities between this first image and each of the other texts in the batch (negative pairs).\n",
        "\n",
        "To simplify things, we will train with all the negative pairs in the batch: we will optimize model to ensure the first image is as different as possible to all the texts excepts the first one. Naturally, this comes at a cost both computationally (we could sample less negative pairs) and semantically (there are going to be other images of the same number in the batch) but we will ignore this cost here.\n",
        "\n",
        "In this case, the contrastive learning objective for images can be viewed as a simple prediction task using the similarity score in a row as pre-softmax logits and aiming to predict the index of the positive pair: for the ith image, we can optimize $$l^{CLIP}_{v, i} = CrossEntropy(S_{row i}, i)$$\n",
        "\n",
        "Similarly, this would lead to optimizing over columns for text embeddings: $$l^{CLIP}_{t, i} = CrossEntropy(S_{col i}, i)$$\n",
        "\n",
        "**Question** Complete the function below to perform one training iteration for clip."
      ]
    },
    {
      "cell_type": "code",
      "execution_count": null,
      "id": "xZHIlo1TVJ7n",
      "metadata": {
        "id": "xZHIlo1TVJ7n"
      },
      "outputs": [],
      "source": [
        "# Your code here!\n",
        "\n",
        "def clip_step(model_v, model_t, img, text, optim):\n",
        "    model_t.train()\n",
        "    model_v.train()\n",
        "\n",
        "    img = img.to(device)\n",
        "\n",
        "    text = [int_to_str[int(i)] for i in text]\n",
        "    text = [encode(s) for s in text]\n",
        "    text = torch.tensor(text).to(device)\n",
        "\n",
        "    # Perform prediction and calculate loss and accuracy\n",
        "\n",
        "    # Compute the  similarity matrix\n",
        "\n",
        "    # Compute the image and text losses\n",
        "\n",
        "    # Backpropagate and update weights\n",
        "\n",
        "    return loss\n"
      ]
    },
    {
      "cell_type": "markdown",
      "id": "ir7LKPLDs1Bo",
      "metadata": {
        "id": "ir7LKPLDs1Bo"
      },
      "source": [
        "The overall training loop is very similar as we rely on the previously coded clip step."
      ]
    },
    {
      "cell_type": "code",
      "execution_count": null,
      "id": "bkMv0thA7NOG",
      "metadata": {
        "id": "bkMv0thA7NOG"
      },
      "outputs": [],
      "source": [
        "def train_clip(model_v, model_t, train_loader,\n",
        "                optim, epochs=5):\n",
        "    best_acc = 0.\n",
        "    pbar = tqdm(range(epochs))\n",
        "    for e in range(epochs):\n",
        "        train_loss = 0.\n",
        "        for x, y in train_loader:\n",
        "            loss = clip_step(model_v, model_t, x, y, optim)\n",
        "            train_loss += loss\n",
        "\n",
        "        pbar.update()\n",
        "        pbar.set_description(f\"Train Loss: {train_loss/len(train_loader):.2f} \")\n",
        "\n",
        "    pbar.close()\n",
        "\n",
        "    return model_v, model_t"
      ]
    },
    {
      "cell_type": "markdown",
      "id": "wVdY4e9Cs52d",
      "metadata": {
        "id": "wVdY4e9Cs52d"
      },
      "source": [
        "And now we can just put everyting together! Careful, we need to optimize both the text and visual encoder.\n",
        "\n",
        "**Question** Complete the text below to ensure that both the text and visual encoders are updated by optim."
      ]
    },
    {
      "cell_type": "code",
      "execution_count": null,
      "id": "LRR7sinD6QiX",
      "metadata": {
        "colab": {
          "base_uri": "https://localhost:8080/",
          "height": 49,
          "referenced_widgets": [
            "9748078f75d6476788c6433ca5ed5e61",
            "71727683d9cf43c7bbf760ff6be04a97",
            "b3c2e28342134f808592be48043caa97",
            "0b9941ab62e54bde91f180c9c8f53489",
            "4e602a38ed07429e9152c18e452a3f71",
            "d7db08ad8b8a4e40ad4afc1688f3b3e4",
            "c269020a78c84626847e36a9298f6daa",
            "9097b59bd359496c94fe7dd367a8d82c",
            "d69527746b2c49b6b928bdf6d46aaa94",
            "397e2eb1d4664a729343cec5b5092e74",
            "6a2ed6e17d9042e794d22bed9f3c3d0a"
          ]
        },
        "id": "LRR7sinD6QiX",
        "outputId": "e2540e75-c169-4e20-e2f6-aa073240ead8"
      },
      "outputs": [
        {
          "data": {
            "application/vnd.jupyter.widget-view+json": {
              "model_id": "9748078f75d6476788c6433ca5ed5e61",
              "version_major": 2,
              "version_minor": 0
            },
            "text/plain": [
              "  0%|          | 0/5 [00:00<?, ?it/s]"
            ]
          },
          "metadata": {},
          "output_type": "display_data"
        }
      ],
      "source": [
        "model_v = ImageEncoder(\n",
        "    patch_size = 4,\n",
        "    input_dim=64,\n",
        "    model_dim=64,\n",
        "    num_heads=4,\n",
        "    num_classes=10,\n",
        "    num_layers=3,\n",
        "    dropout=0.0,\n",
        ").to(device)\n",
        "\n",
        "model_t = TextEncoder(\n",
        "    vocab_size = 20,\n",
        "    seq_len = 5,\n",
        "    input_dim=64,\n",
        "    model_dim=64,\n",
        "    num_heads=4,\n",
        "    num_classes=10,\n",
        "    num_layers=3,\n",
        "    dropout=0.0,\n",
        ").to(device)\n",
        "\n",
        "# Your code here!\n",
        "\n",
        "model_v, model_t = train_clip(model_v, model_t, train_loader, optimizer)"
      ]
    },
    {
      "cell_type": "markdown",
      "id": "M9IfXyqLte5P",
      "metadata": {
        "id": "M9IfXyqLte5P"
      },
      "source": [
        "## Exploring the learned CLIP representations with retrieval\n",
        "\n",
        "Now that we have obtained representations, we can check what kind of alignment we have obtained. With a larger CLIP model, we might be able to obtain complex descriptions of images or even retrieve images that fit a given description!\n",
        "\n",
        "With our small nanoCLIP model however, the best we can do is obtain a pseudo classifier by checking the alignment of images with the different possible text labels (e.g. \"one\", ...)\n",
        "\n",
        "**Question** Can you explore the first (or second, or third!) image in the batch below to check if it is properly aligned with the correct text label?"
      ]
    },
    {
      "cell_type": "code",
      "execution_count": null,
      "id": "EC7DP-qW6qwe",
      "metadata": {
        "id": "EC7DP-qW6qwe"
      },
      "outputs": [],
      "source": [
        "data_input, labels = next(iter(test_loader))\n",
        "inp_data = data_input.to(device)"
      ]
    },
    {
      "cell_type": "code",
      "execution_count": null,
      "id": "nxTzEBHJIY3b",
      "metadata": {
        "colab": {
          "base_uri": "https://localhost:8080/"
        },
        "id": "nxTzEBHJIY3b",
        "outputId": "be2dd133-dae2-46fb-f5c6-d74844c77689"
      },
      "outputs": [
        {
          "name": "stdout",
          "output_type": "stream",
          "text": [
            "tensor(3)\n",
            "tensor([ 0.0778,  0.1814,  0.2170,  0.8714,  0.1016,  0.1808, -0.1652,  0.1189,\n",
            "         0.3340,  0.2805], device='cuda:0', grad_fn=<DivBackward0>)\n"
          ]
        }
      ],
      "source": [
        "# Your code here!\n",
        "\n",
        "\n",
        "# Perform prediction and calculate loss and accuracy\n",
        "\n",
        "\n",
        "# Print out your results\n"
      ]
    },
    {
      "cell_type": "code",
      "metadata": {
        "id": "71ed5779"
      },
      "source": [],
      "id": "71ed5779",
      "execution_count": null,
      "outputs": []
    }
  ],
  "metadata": {
    "colab": {
      "provenance": [],
      "gpuType": "T4",
      "include_colab_link": true
    },
    "jupytext": {
      "cell_metadata_filter": "id,colab,colab_type,-all",
      "formats": "ipynb,py:percent",
      "main_language": "python"
    },
    "kernelspec": {
      "display_name": "Python 3",
      "name": "python3"
    },
    "language_info": {
      "codemirror_mode": {
        "name": "ipython",
        "version": 3
      },
      "file_extension": ".py",
      "mimetype": "text/x-python",
      "name": "python",
      "nbconvert_exporter": "python",
      "pygments_lexer": "ipython3",
      "version": "3.12.2"
    },
    "papermill": {
      "default_parameters": {},
      "duration": 72.589227,
      "end_time": "2022-04-09T14:38:41.893966",
      "environment_variables": {},
      "exception": null,
      "input_path": "course_UvA-DL/05-transformers-and-MH-attention/Transformers_MHAttention.ipynb",
      "output_path": ".notebooks/course_UvA-DL/05-transformers-and-MH-attention.ipynb",
      "parameters": {},
      "start_time": "2022-04-09T14:37:29.304739",
      "version": "2.3.4"
    },
    "toc": {
      "base_numbering": 1,
      "nav_menu": {},
      "number_sections": true,
      "sideBar": true,
      "skip_h1_title": false,
      "title_cell": "Table of Contents",
      "title_sidebar": "Contents",
      "toc_cell": false,
      "toc_position": {},
      "toc_section_display": true,
      "toc_window_display": false
    },
    "widgets": {
      "application/vnd.jupyter.widget-state+json": {
        "0b9941ab62e54bde91f180c9c8f53489": {
          "model_module": "@jupyter-widgets/controls",
          "model_module_version": "1.5.0",
          "model_name": "HTMLModel",
          "state": {
            "_dom_classes": [],
            "_model_module": "@jupyter-widgets/controls",
            "_model_module_version": "1.5.0",
            "_model_name": "HTMLModel",
            "_view_count": null,
            "_view_module": "@jupyter-widgets/controls",
            "_view_module_version": "1.5.0",
            "_view_name": "HTMLView",
            "description": "",
            "description_tooltip": null,
            "layout": "IPY_MODEL_397e2eb1d4664a729343cec5b5092e74",
            "placeholder": "​",
            "style": "IPY_MODEL_6a2ed6e17d9042e794d22bed9f3c3d0a",
            "value": " 5/5 [01:44&lt;00:00, 20.92s/it]"
          }
        },
        "397e2eb1d4664a729343cec5b5092e74": {
          "model_module": "@jupyter-widgets/base",
          "model_module_version": "1.2.0",
          "model_name": "LayoutModel",
          "state": {
            "_model_module": "@jupyter-widgets/base",
            "_model_module_version": "1.2.0",
            "_model_name": "LayoutModel",
            "_view_count": null,
            "_view_module": "@jupyter-widgets/base",
            "_view_module_version": "1.2.0",
            "_view_name": "LayoutView",
            "align_content": null,
            "align_items": null,
            "align_self": null,
            "border": null,
            "bottom": null,
            "display": null,
            "flex": null,
            "flex_flow": null,
            "grid_area": null,
            "grid_auto_columns": null,
            "grid_auto_flow": null,
            "grid_auto_rows": null,
            "grid_column": null,
            "grid_gap": null,
            "grid_row": null,
            "grid_template_areas": null,
            "grid_template_columns": null,
            "grid_template_rows": null,
            "height": null,
            "justify_content": null,
            "justify_items": null,
            "left": null,
            "margin": null,
            "max_height": null,
            "max_width": null,
            "min_height": null,
            "min_width": null,
            "object_fit": null,
            "object_position": null,
            "order": null,
            "overflow": null,
            "overflow_x": null,
            "overflow_y": null,
            "padding": null,
            "right": null,
            "top": null,
            "visibility": null,
            "width": null
          }
        },
        "4e602a38ed07429e9152c18e452a3f71": {
          "model_module": "@jupyter-widgets/base",
          "model_module_version": "1.2.0",
          "model_name": "LayoutModel",
          "state": {
            "_model_module": "@jupyter-widgets/base",
            "_model_module_version": "1.2.0",
            "_model_name": "LayoutModel",
            "_view_count": null,
            "_view_module": "@jupyter-widgets/base",
            "_view_module_version": "1.2.0",
            "_view_name": "LayoutView",
            "align_content": null,
            "align_items": null,
            "align_self": null,
            "border": null,
            "bottom": null,
            "display": null,
            "flex": null,
            "flex_flow": null,
            "grid_area": null,
            "grid_auto_columns": null,
            "grid_auto_flow": null,
            "grid_auto_rows": null,
            "grid_column": null,
            "grid_gap": null,
            "grid_row": null,
            "grid_template_areas": null,
            "grid_template_columns": null,
            "grid_template_rows": null,
            "height": null,
            "justify_content": null,
            "justify_items": null,
            "left": null,
            "margin": null,
            "max_height": null,
            "max_width": null,
            "min_height": null,
            "min_width": null,
            "object_fit": null,
            "object_position": null,
            "order": null,
            "overflow": null,
            "overflow_x": null,
            "overflow_y": null,
            "padding": null,
            "right": null,
            "top": null,
            "visibility": null,
            "width": null
          }
        },
        "6a2ed6e17d9042e794d22bed9f3c3d0a": {
          "model_module": "@jupyter-widgets/controls",
          "model_module_version": "1.5.0",
          "model_name": "DescriptionStyleModel",
          "state": {
            "_model_module": "@jupyter-widgets/controls",
            "_model_module_version": "1.5.0",
            "_model_name": "DescriptionStyleModel",
            "_view_count": null,
            "_view_module": "@jupyter-widgets/base",
            "_view_module_version": "1.2.0",
            "_view_name": "StyleView",
            "description_width": ""
          }
        },
        "71727683d9cf43c7bbf760ff6be04a97": {
          "model_module": "@jupyter-widgets/controls",
          "model_module_version": "1.5.0",
          "model_name": "HTMLModel",
          "state": {
            "_dom_classes": [],
            "_model_module": "@jupyter-widgets/controls",
            "_model_module_version": "1.5.0",
            "_model_name": "HTMLModel",
            "_view_count": null,
            "_view_module": "@jupyter-widgets/controls",
            "_view_module_version": "1.5.0",
            "_view_name": "HTMLView",
            "description": "",
            "description_tooltip": null,
            "layout": "IPY_MODEL_d7db08ad8b8a4e40ad4afc1688f3b3e4",
            "placeholder": "​",
            "style": "IPY_MODEL_c269020a78c84626847e36a9298f6daa",
            "value": "Train Loss: 4.84 : 100%"
          }
        },
        "9097b59bd359496c94fe7dd367a8d82c": {
          "model_module": "@jupyter-widgets/base",
          "model_module_version": "1.2.0",
          "model_name": "LayoutModel",
          "state": {
            "_model_module": "@jupyter-widgets/base",
            "_model_module_version": "1.2.0",
            "_model_name": "LayoutModel",
            "_view_count": null,
            "_view_module": "@jupyter-widgets/base",
            "_view_module_version": "1.2.0",
            "_view_name": "LayoutView",
            "align_content": null,
            "align_items": null,
            "align_self": null,
            "border": null,
            "bottom": null,
            "display": null,
            "flex": null,
            "flex_flow": null,
            "grid_area": null,
            "grid_auto_columns": null,
            "grid_auto_flow": null,
            "grid_auto_rows": null,
            "grid_column": null,
            "grid_gap": null,
            "grid_row": null,
            "grid_template_areas": null,
            "grid_template_columns": null,
            "grid_template_rows": null,
            "height": null,
            "justify_content": null,
            "justify_items": null,
            "left": null,
            "margin": null,
            "max_height": null,
            "max_width": null,
            "min_height": null,
            "min_width": null,
            "object_fit": null,
            "object_position": null,
            "order": null,
            "overflow": null,
            "overflow_x": null,
            "overflow_y": null,
            "padding": null,
            "right": null,
            "top": null,
            "visibility": null,
            "width": null
          }
        },
        "9748078f75d6476788c6433ca5ed5e61": {
          "model_module": "@jupyter-widgets/controls",
          "model_module_version": "1.5.0",
          "model_name": "HBoxModel",
          "state": {
            "_dom_classes": [],
            "_model_module": "@jupyter-widgets/controls",
            "_model_module_version": "1.5.0",
            "_model_name": "HBoxModel",
            "_view_count": null,
            "_view_module": "@jupyter-widgets/controls",
            "_view_module_version": "1.5.0",
            "_view_name": "HBoxView",
            "box_style": "",
            "children": [
              "IPY_MODEL_71727683d9cf43c7bbf760ff6be04a97",
              "IPY_MODEL_b3c2e28342134f808592be48043caa97",
              "IPY_MODEL_0b9941ab62e54bde91f180c9c8f53489"
            ],
            "layout": "IPY_MODEL_4e602a38ed07429e9152c18e452a3f71"
          }
        },
        "b3c2e28342134f808592be48043caa97": {
          "model_module": "@jupyter-widgets/controls",
          "model_module_version": "1.5.0",
          "model_name": "FloatProgressModel",
          "state": {
            "_dom_classes": [],
            "_model_module": "@jupyter-widgets/controls",
            "_model_module_version": "1.5.0",
            "_model_name": "FloatProgressModel",
            "_view_count": null,
            "_view_module": "@jupyter-widgets/controls",
            "_view_module_version": "1.5.0",
            "_view_name": "ProgressView",
            "bar_style": "success",
            "description": "",
            "description_tooltip": null,
            "layout": "IPY_MODEL_9097b59bd359496c94fe7dd367a8d82c",
            "max": 5,
            "min": 0,
            "orientation": "horizontal",
            "style": "IPY_MODEL_d69527746b2c49b6b928bdf6d46aaa94",
            "value": 5
          }
        },
        "c269020a78c84626847e36a9298f6daa": {
          "model_module": "@jupyter-widgets/controls",
          "model_module_version": "1.5.0",
          "model_name": "DescriptionStyleModel",
          "state": {
            "_model_module": "@jupyter-widgets/controls",
            "_model_module_version": "1.5.0",
            "_model_name": "DescriptionStyleModel",
            "_view_count": null,
            "_view_module": "@jupyter-widgets/base",
            "_view_module_version": "1.2.0",
            "_view_name": "StyleView",
            "description_width": ""
          }
        },
        "d69527746b2c49b6b928bdf6d46aaa94": {
          "model_module": "@jupyter-widgets/controls",
          "model_module_version": "1.5.0",
          "model_name": "ProgressStyleModel",
          "state": {
            "_model_module": "@jupyter-widgets/controls",
            "_model_module_version": "1.5.0",
            "_model_name": "ProgressStyleModel",
            "_view_count": null,
            "_view_module": "@jupyter-widgets/base",
            "_view_module_version": "1.2.0",
            "_view_name": "StyleView",
            "bar_color": null,
            "description_width": ""
          }
        },
        "d7db08ad8b8a4e40ad4afc1688f3b3e4": {
          "model_module": "@jupyter-widgets/base",
          "model_module_version": "1.2.0",
          "model_name": "LayoutModel",
          "state": {
            "_model_module": "@jupyter-widgets/base",
            "_model_module_version": "1.2.0",
            "_model_name": "LayoutModel",
            "_view_count": null,
            "_view_module": "@jupyter-widgets/base",
            "_view_module_version": "1.2.0",
            "_view_name": "LayoutView",
            "align_content": null,
            "align_items": null,
            "align_self": null,
            "border": null,
            "bottom": null,
            "display": null,
            "flex": null,
            "flex_flow": null,
            "grid_area": null,
            "grid_auto_columns": null,
            "grid_auto_flow": null,
            "grid_auto_rows": null,
            "grid_column": null,
            "grid_gap": null,
            "grid_row": null,
            "grid_template_areas": null,
            "grid_template_columns": null,
            "grid_template_rows": null,
            "height": null,
            "justify_content": null,
            "justify_items": null,
            "left": null,
            "margin": null,
            "max_height": null,
            "max_width": null,
            "min_height": null,
            "min_width": null,
            "object_fit": null,
            "object_position": null,
            "order": null,
            "overflow": null,
            "overflow_x": null,
            "overflow_y": null,
            "padding": null,
            "right": null,
            "top": null,
            "visibility": null,
            "width": null
          }
        }
      }
    },
    "accelerator": "GPU"
  },
  "nbformat": 4,
  "nbformat_minor": 5
}