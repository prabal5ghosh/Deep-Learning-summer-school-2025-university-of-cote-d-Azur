{
  "cells": [
    {
      "cell_type": "markdown",
      "metadata": {
        "id": "view-in-github",
        "colab_type": "text"
      },
      "source": [
        "<a href=\"https://colab.research.google.com/github/prabal5ghosh/Deep-Learning-summer-school-2025-university-of-cote-d-Azur/blob/main/TPclassifText_SUJET.ipynb\" target=\"_parent\"><img src=\"https://colab.research.google.com/assets/colab-badge.svg\" alt=\"Open In Colab\"/></a>"
      ]
    },
    {
      "cell_type": "markdown",
      "id": "920b4c2c",
      "metadata": {
        "id": "920b4c2c"
      },
      "source": [
        "<center><img width=60% src=\"http://www.i3s.unice.fr/~lingrand/efeliaUnica.png\"><br/><br/>\n",
        "<font size=+3><b>Text classification - Encoder only</b></font><br/><br/>\n",
        "<font size=+1>Diane Lingrand, Célia D'cruz and Frédéric Precioso<br/><br/>\n",
        "    2025 - June/July</font><br/>\n",
        "    <img width=14% src=\"http://www.i3s.unice.fr/~lingrand/cc-long.png\">\n",
        "    </center>\n",
        "    "
      ]
    },
    {
      "cell_type": "markdown",
      "id": "360ec0dd",
      "metadata": {
        "id": "360ec0dd"
      },
      "source": [
        "This lab aims at building from scratch an encoder for text classification. We had to restrict the data used to perform the learning and the architecture drastically in order to be able to run everything in less than 2 hours. This is why we selected:\n",
        "- a static position embedding (the one that has been used in the paper ['Attention is all you need'](https://papers.neurips.cc/paper/7181-attention-is-all-you-need.pdf))\n",
        "- a static attention (cross-product)\n",
        "- a linear classifier\n",
        "\n",
        "Another approach to solve this classification problem would be to load a more complex encoder, already learned on another dataset (Bert ...) and finetune it using few epochs on your data."
      ]
    },
    {
      "cell_type": "code",
      "execution_count": 1,
      "id": "5345f77b",
      "metadata": {
        "colab": {
          "base_uri": "https://localhost:8080/"
        },
        "id": "5345f77b",
        "outputId": "2a4a5ca1-e2ae-41ca-da51-90cc372ee3e3"
      },
      "outputs": [
        {
          "output_type": "stream",
          "name": "stdout",
          "text": [
            "Requirement already satisfied: nltk in /usr/local/lib/python3.11/dist-packages (3.9.1)\n",
            "Requirement already satisfied: click in /usr/local/lib/python3.11/dist-packages (from nltk) (8.2.1)\n",
            "Requirement already satisfied: joblib in /usr/local/lib/python3.11/dist-packages (from nltk) (1.5.1)\n",
            "Requirement already satisfied: regex>=2021.8.3 in /usr/local/lib/python3.11/dist-packages (from nltk) (2024.11.6)\n",
            "Requirement already satisfied: tqdm in /usr/local/lib/python3.11/dist-packages (from nltk) (4.67.1)\n"
          ]
        }
      ],
      "source": [
        "pip install nltk"
      ]
    },
    {
      "cell_type": "code",
      "execution_count": 2,
      "id": "884ef717",
      "metadata": {
        "id": "884ef717"
      },
      "outputs": [],
      "source": [
        "# necessary imports\n",
        "from sklearn.datasets import fetch_20newsgroups\n",
        "from sklearn.metrics import f1_score, accuracy_score, ConfusionMatrixDisplay\n",
        "from sklearn.feature_extraction.text import TfidfVectorizer\n",
        "from sklearn.model_selection import train_test_split\n",
        "from sklearn.linear_model import LogisticRegression\n",
        "\n",
        "import random\n",
        "import math\n",
        "import numpy as np\n",
        "from tqdm import tqdm\n",
        "import re #regular expressions\n",
        "from nltk.corpus import stopwords\n",
        "import matplotlib.pyplot as plt\n",
        "from collections import defaultdict\n",
        "import pickle\n",
        "\n",
        "import torch\n",
        "import torch.nn as nn\n",
        "from torch.utils.data import Dataset, DataLoader"
      ]
    },
    {
      "cell_type": "markdown",
      "id": "576cc543",
      "metadata": {
        "id": "576cc543"
      },
      "source": [
        "<font color=\"red\">Use a GPU to speed up computations.</font>\n",
        "If your laptop does not have a GPU, you can use Google Colab or Kaggle.\n",
        "\n",
        "To enable GPU backend in Google Colab for your notebook:\n",
        "\n",
        "1.   Runtime (top left corner) -> Change runtime type\n",
        "2.   Put GPU as \"Hardware accelerator\"\n",
        "3.   Save\n",
        "\n",
        "Check that your GPU is recognized by running the code below:"
      ]
    },
    {
      "cell_type": "code",
      "execution_count": 3,
      "id": "fd82d2a9",
      "metadata": {
        "colab": {
          "base_uri": "https://localhost:8080/"
        },
        "id": "fd82d2a9",
        "outputId": "c9da2345-d46a-4280-f504-8689856e559e"
      },
      "outputs": [
        {
          "output_type": "execute_result",
          "data": {
            "text/plain": [
              "device(type='cuda')"
            ]
          },
          "metadata": {},
          "execution_count": 3
        }
      ],
      "source": [
        "# making the code device agnostic\n",
        "import torch\n",
        "\n",
        "if torch.cuda.is_available():\n",
        "    device = torch.device(\"cuda\")\n",
        "elif torch.backends.mps.is_available():\n",
        "    device = torch.device(\"mps\")\n",
        "else:\n",
        "    device = torch.device(\"cpu\")\n",
        "device"
      ]
    },
    {
      "cell_type": "markdown",
      "id": "389ed8f8",
      "metadata": {
        "heading_collapsed": true,
        "id": "389ed8f8"
      },
      "source": [
        "# Datasets"
      ]
    },
    {
      "cell_type": "markdown",
      "id": "b40b1f76",
      "metadata": {
        "hidden": true,
        "id": "b40b1f76"
      },
      "source": [
        "## Loading the data"
      ]
    },
    {
      "cell_type": "markdown",
      "id": "05d509e4",
      "metadata": {
        "hidden": true,
        "id": "05d509e4"
      },
      "source": [
        "In this lab, we will classify the [20 newsgroups dataset](https://scikit-learn.org/stable/modules/generated/sklearn.datasets.fetch_20newsgroups.html). You can easily download the train and test sets using the library scikit-learn. In the next lines of codes, we decided to remove the headers because they are biaised and can help the classification of some of the classes using non appropriate features (domain, protocol version). Our purpose is to classify the texts according to the texts itself. Quotes are also removed."
      ]
    },
    {
      "cell_type": "code",
      "execution_count": 4,
      "id": "c6937fd4",
      "metadata": {
        "hidden": true,
        "id": "c6937fd4"
      },
      "outputs": [],
      "source": [
        "b_train = fetch_20newsgroups(subset='train', remove=('headers', 'quotes', 'footers'))\n",
        "b_test = fetch_20newsgroups(subset='test', remove=('headers', 'quotes', 'footers'))"
      ]
    },
    {
      "cell_type": "markdown",
      "id": "ad65c812",
      "metadata": {
        "hidden": true,
        "id": "ad65c812"
      },
      "source": [
        "The obtained objects are scikit-learn's [Bunch](https://scikit-learn.org/stable/modules/generated/sklearn.utils.Bunch.html):"
      ]
    },
    {
      "cell_type": "code",
      "execution_count": 5,
      "id": "2901fe7d",
      "metadata": {
        "hidden": true,
        "id": "2901fe7d",
        "colab": {
          "base_uri": "https://localhost:8080/",
          "height": 187
        },
        "outputId": "2ab6decd-55f5-4809-dd54-389ef50aced3"
      },
      "outputs": [
        {
          "output_type": "execute_result",
          "data": {
            "text/plain": [
              "sklearn.utils._bunch.Bunch"
            ],
            "text/html": [
              "<div style=\"max-width:800px; border: 1px solid var(--colab-border-color);\"><style>\n",
              "      pre.function-repr-contents {\n",
              "        overflow-x: auto;\n",
              "        padding: 8px 12px;\n",
              "        max-height: 500px;\n",
              "      }\n",
              "\n",
              "      pre.function-repr-contents.function-repr-contents-collapsed {\n",
              "        cursor: pointer;\n",
              "        max-height: 100px;\n",
              "      }\n",
              "    </style>\n",
              "    <pre style=\"white-space: initial; background:\n",
              "         var(--colab-secondary-surface-color); padding: 8px 12px;\n",
              "         border-bottom: 1px solid var(--colab-border-color);\"><b>sklearn.utils._bunch.Bunch</b><br/>def __init__(**kwargs)</pre><pre class=\"function-repr-contents function-repr-contents-collapsed\" style=\"\"><a class=\"filepath\" style=\"display:none\" href=\"#\">/usr/local/lib/python3.11/dist-packages/sklearn/utils/_bunch.py</a>Container object exposing keys as attributes.\n",
              "\n",
              "Bunch objects are sometimes used as an output for functions and methods.\n",
              "They extend dictionaries by enabling values to be accessed by key,\n",
              "`bunch[&quot;value_key&quot;]`, or by an attribute, `bunch.value_key`.\n",
              "\n",
              "Examples\n",
              "--------\n",
              "&gt;&gt;&gt; from sklearn.utils import Bunch\n",
              "&gt;&gt;&gt; b = Bunch(a=1, b=2)\n",
              "&gt;&gt;&gt; b[&#x27;b&#x27;]\n",
              "2\n",
              "&gt;&gt;&gt; b.b\n",
              "2\n",
              "&gt;&gt;&gt; b.a = 3\n",
              "&gt;&gt;&gt; b[&#x27;a&#x27;]\n",
              "3\n",
              "&gt;&gt;&gt; b.c = 6\n",
              "&gt;&gt;&gt; b[&#x27;c&#x27;]\n",
              "6</pre>\n",
              "      <script>\n",
              "      if (google.colab.kernel.accessAllowed && google.colab.files && google.colab.files.view) {\n",
              "        for (const element of document.querySelectorAll('.filepath')) {\n",
              "          element.style.display = 'block'\n",
              "          element.onclick = (event) => {\n",
              "            event.preventDefault();\n",
              "            event.stopPropagation();\n",
              "            google.colab.files.view(element.textContent, 7);\n",
              "          };\n",
              "        }\n",
              "      }\n",
              "      for (const element of document.querySelectorAll('.function-repr-contents')) {\n",
              "        element.onclick = (event) => {\n",
              "          event.preventDefault();\n",
              "          event.stopPropagation();\n",
              "          element.classList.toggle('function-repr-contents-collapsed');\n",
              "        };\n",
              "      }\n",
              "      </script>\n",
              "      </div>"
            ]
          },
          "metadata": {},
          "execution_count": 5
        }
      ],
      "source": [
        "type(b_train)"
      ]
    },
    {
      "cell_type": "markdown",
      "id": "0761e75c",
      "metadata": {
        "hidden": true,
        "id": "0761e75c"
      },
      "source": [
        "with different keys:"
      ]
    },
    {
      "cell_type": "code",
      "execution_count": 6,
      "id": "f2430298",
      "metadata": {
        "hidden": true,
        "id": "f2430298",
        "colab": {
          "base_uri": "https://localhost:8080/"
        },
        "outputId": "d28aa302-7ac6-478b-84e0-186f84708e48"
      },
      "outputs": [
        {
          "output_type": "stream",
          "name": "stdout",
          "text": [
            "dict_keys(['data', 'filenames', 'target_names', 'target', 'DESCR'])\n"
          ]
        }
      ],
      "source": [
        "print(b_train.keys())"
      ]
    },
    {
      "cell_type": "markdown",
      "id": "1a326f03",
      "metadata": {
        "hidden": true,
        "id": "1a326f03"
      },
      "source": [
        "The `target_names` are the 20 names of classes that we will learn:"
      ]
    },
    {
      "cell_type": "code",
      "execution_count": 7,
      "id": "05369f06",
      "metadata": {
        "hidden": true,
        "id": "05369f06",
        "colab": {
          "base_uri": "https://localhost:8080/"
        },
        "outputId": "975de818-8bff-42ae-b031-fb8ce9e85c1b"
      },
      "outputs": [
        {
          "output_type": "stream",
          "name": "stdout",
          "text": [
            "['alt.atheism', 'comp.graphics', 'comp.os.ms-windows.misc', 'comp.sys.ibm.pc.hardware', 'comp.sys.mac.hardware', 'comp.windows.x', 'misc.forsale', 'rec.autos', 'rec.motorcycles', 'rec.sport.baseball', 'rec.sport.hockey', 'sci.crypt', 'sci.electronics', 'sci.med', 'sci.space', 'soc.religion.christian', 'talk.politics.guns', 'talk.politics.mideast', 'talk.politics.misc', 'talk.religion.misc']\n"
          ]
        }
      ],
      "source": [
        "print(b_train.target_names)"
      ]
    },
    {
      "cell_type": "markdown",
      "id": "51fa2b8a",
      "metadata": {
        "hidden": true,
        "id": "51fa2b8a"
      },
      "source": [
        "And a global description is available:"
      ]
    },
    {
      "cell_type": "code",
      "execution_count": 8,
      "id": "8d0ffd9d",
      "metadata": {
        "hidden": true,
        "id": "8d0ffd9d",
        "colab": {
          "base_uri": "https://localhost:8080/"
        },
        "outputId": "100325ed-4cda-40cd-a2f1-fd30a5b4337d"
      },
      "outputs": [
        {
          "output_type": "stream",
          "name": "stdout",
          "text": [
            ".. _20newsgroups_dataset:\n",
            "\n",
            "The 20 newsgroups text dataset\n",
            "------------------------------\n",
            "\n",
            "The 20 newsgroups dataset comprises around 18000 newsgroups posts on\n",
            "20 topics split in two subsets: one for training (or development)\n",
            "and the other one for testing (or for performance evaluation). The split\n",
            "between the train and test set is based upon a messages posted before\n",
            "and after a specific date.\n",
            "\n",
            "This module contains two loaders. The first one,\n",
            ":func:`sklearn.datasets.fetch_20newsgroups`,\n",
            "returns a list of the raw texts that can be fed to text feature\n",
            "extractors such as :class:`~sklearn.feature_extraction.text.CountVectorizer`\n",
            "with custom parameters so as to extract feature vectors.\n",
            "The second one, :func:`sklearn.datasets.fetch_20newsgroups_vectorized`,\n",
            "returns ready-to-use features, i.e., it is not necessary to use a feature\n",
            "extractor.\n",
            "\n",
            "**Data Set Characteristics:**\n",
            "\n",
            "=================   ==========\n",
            "Classes                     20\n",
            "Samples total            18846\n",
            "Dimensionality               1\n",
            "Features                  text\n",
            "=================   ==========\n",
            "\n",
            ".. dropdown:: Usage\n",
            "\n",
            "  The :func:`sklearn.datasets.fetch_20newsgroups` function is a data\n",
            "  fetching / caching functions that downloads the data archive from\n",
            "  the original `20 newsgroups website <http://people.csail.mit.edu/jrennie/20Newsgroups/>`__,\n",
            "  extracts the archive contents\n",
            "  in the ``~/scikit_learn_data/20news_home`` folder and calls the\n",
            "  :func:`sklearn.datasets.load_files` on either the training or\n",
            "  testing set folder, or both of them::\n",
            "\n",
            "    >>> from sklearn.datasets import fetch_20newsgroups\n",
            "    >>> newsgroups_train = fetch_20newsgroups(subset='train')\n",
            "\n",
            "    >>> from pprint import pprint\n",
            "    >>> pprint(list(newsgroups_train.target_names))\n",
            "    ['alt.atheism',\n",
            "     'comp.graphics',\n",
            "     'comp.os.ms-windows.misc',\n",
            "     'comp.sys.ibm.pc.hardware',\n",
            "     'comp.sys.mac.hardware',\n",
            "     'comp.windows.x',\n",
            "     'misc.forsale',\n",
            "     'rec.autos',\n",
            "     'rec.motorcycles',\n",
            "     'rec.sport.baseball',\n",
            "     'rec.sport.hockey',\n",
            "     'sci.crypt',\n",
            "     'sci.electronics',\n",
            "     'sci.med',\n",
            "     'sci.space',\n",
            "     'soc.religion.christian',\n",
            "     'talk.politics.guns',\n",
            "     'talk.politics.mideast',\n",
            "     'talk.politics.misc',\n",
            "     'talk.religion.misc']\n",
            "\n",
            "  The real data lies in the ``filenames`` and ``target`` attributes. The target\n",
            "  attribute is the integer index of the category::\n",
            "\n",
            "    >>> newsgroups_train.filenames.shape\n",
            "    (11314,)\n",
            "    >>> newsgroups_train.target.shape\n",
            "    (11314,)\n",
            "    >>> newsgroups_train.target[:10]\n",
            "    array([ 7,  4,  4,  1, 14, 16, 13,  3,  2,  4])\n",
            "\n",
            "  It is possible to load only a sub-selection of the categories by passing the\n",
            "  list of the categories to load to the\n",
            "  :func:`sklearn.datasets.fetch_20newsgroups` function::\n",
            "\n",
            "    >>> cats = ['alt.atheism', 'sci.space']\n",
            "    >>> newsgroups_train = fetch_20newsgroups(subset='train', categories=cats)\n",
            "\n",
            "    >>> list(newsgroups_train.target_names)\n",
            "    ['alt.atheism', 'sci.space']\n",
            "    >>> newsgroups_train.filenames.shape\n",
            "    (1073,)\n",
            "    >>> newsgroups_train.target.shape\n",
            "    (1073,)\n",
            "    >>> newsgroups_train.target[:10]\n",
            "    array([0, 1, 1, 1, 0, 1, 1, 0, 0, 0])\n",
            "\n",
            ".. dropdown:: Converting text to vectors\n",
            "\n",
            "  In order to feed predictive or clustering models with the text data,\n",
            "  one first need to turn the text into vectors of numerical values suitable\n",
            "  for statistical analysis. This can be achieved with the utilities of the\n",
            "  ``sklearn.feature_extraction.text`` as demonstrated in the following\n",
            "  example that extract `TF-IDF <https://en.wikipedia.org/wiki/Tf-idf>`__ vectors\n",
            "  of unigram tokens from a subset of 20news::\n",
            "\n",
            "    >>> from sklearn.feature_extraction.text import TfidfVectorizer\n",
            "    >>> categories = ['alt.atheism', 'talk.religion.misc',\n",
            "    ...               'comp.graphics', 'sci.space']\n",
            "    >>> newsgroups_train = fetch_20newsgroups(subset='train',\n",
            "    ...                                       categories=categories)\n",
            "    >>> vectorizer = TfidfVectorizer()\n",
            "    >>> vectors = vectorizer.fit_transform(newsgroups_train.data)\n",
            "    >>> vectors.shape\n",
            "    (2034, 34118)\n",
            "\n",
            "  The extracted TF-IDF vectors are very sparse, with an average of 159 non-zero\n",
            "  components by sample in a more than 30000-dimensional space\n",
            "  (less than .5% non-zero features)::\n",
            "\n",
            "    >>> vectors.nnz / float(vectors.shape[0])\n",
            "    159.01327...\n",
            "\n",
            "  :func:`sklearn.datasets.fetch_20newsgroups_vectorized` is a function which\n",
            "  returns ready-to-use token counts features instead of file names.\n",
            "\n",
            ".. dropdown:: Filtering text for more realistic training\n",
            "\n",
            "  It is easy for a classifier to overfit on particular things that appear in the\n",
            "  20 Newsgroups data, such as newsgroup headers. Many classifiers achieve very\n",
            "  high F-scores, but their results would not generalize to other documents that\n",
            "  aren't from this window of time.\n",
            "\n",
            "  For example, let's look at the results of a multinomial Naive Bayes classifier,\n",
            "  which is fast to train and achieves a decent F-score::\n",
            "\n",
            "    >>> from sklearn.naive_bayes import MultinomialNB\n",
            "    >>> from sklearn import metrics\n",
            "    >>> newsgroups_test = fetch_20newsgroups(subset='test',\n",
            "    ...                                      categories=categories)\n",
            "    >>> vectors_test = vectorizer.transform(newsgroups_test.data)\n",
            "    >>> clf = MultinomialNB(alpha=.01)\n",
            "    >>> clf.fit(vectors, newsgroups_train.target)\n",
            "    MultinomialNB(alpha=0.01, class_prior=None, fit_prior=True)\n",
            "\n",
            "    >>> pred = clf.predict(vectors_test)\n",
            "    >>> metrics.f1_score(newsgroups_test.target, pred, average='macro')\n",
            "    0.88213...\n",
            "\n",
            "  (The example :ref:`sphx_glr_auto_examples_text_plot_document_classification_20newsgroups.py` shuffles\n",
            "  the training and test data, instead of segmenting by time, and in that case\n",
            "  multinomial Naive Bayes gets a much higher F-score of 0.88. Are you suspicious\n",
            "  yet of what's going on inside this classifier?)\n",
            "\n",
            "  Let's take a look at what the most informative features are:\n",
            "\n",
            "    >>> import numpy as np\n",
            "    >>> def show_top10(classifier, vectorizer, categories):\n",
            "    ...     feature_names = vectorizer.get_feature_names_out()\n",
            "    ...     for i, category in enumerate(categories):\n",
            "    ...         top10 = np.argsort(classifier.coef_[i])[-10:]\n",
            "    ...         print(\"%s: %s\" % (category, \" \".join(feature_names[top10])))\n",
            "    ...\n",
            "    >>> show_top10(clf, vectorizer, newsgroups_train.target_names)\n",
            "    alt.atheism: edu it and in you that is of to the\n",
            "    comp.graphics: edu in graphics it is for and of to the\n",
            "    sci.space: edu it that is in and space to of the\n",
            "    talk.religion.misc: not it you in is that and to of the\n",
            "\n",
            "\n",
            "  You can now see many things that these features have overfit to:\n",
            "\n",
            "  - Almost every group is distinguished by whether headers such as\n",
            "    ``NNTP-Posting-Host:`` and ``Distribution:`` appear more or less often.\n",
            "  - Another significant feature involves whether the sender is affiliated with\n",
            "    a university, as indicated either by their headers or their signature.\n",
            "  - The word \"article\" is a significant feature, based on how often people quote\n",
            "    previous posts like this: \"In article [article ID], [name] <[e-mail address]>\n",
            "    wrote:\"\n",
            "  - Other features match the names and e-mail addresses of particular people who\n",
            "    were posting at the time.\n",
            "\n",
            "  With such an abundance of clues that distinguish newsgroups, the classifiers\n",
            "  barely have to identify topics from text at all, and they all perform at the\n",
            "  same high level.\n",
            "\n",
            "  For this reason, the functions that load 20 Newsgroups data provide a\n",
            "  parameter called **remove**, telling it what kinds of information to strip out\n",
            "  of each file. **remove** should be a tuple containing any subset of\n",
            "  ``('headers', 'footers', 'quotes')``, telling it to remove headers, signature\n",
            "  blocks, and quotation blocks respectively.\n",
            "\n",
            "    >>> newsgroups_test = fetch_20newsgroups(subset='test',\n",
            "    ...                                      remove=('headers', 'footers', 'quotes'),\n",
            "    ...                                      categories=categories)\n",
            "    >>> vectors_test = vectorizer.transform(newsgroups_test.data)\n",
            "    >>> pred = clf.predict(vectors_test)\n",
            "    >>> metrics.f1_score(pred, newsgroups_test.target, average='macro')\n",
            "    0.77310...\n",
            "\n",
            "  This classifier lost over a lot of its F-score, just because we removed\n",
            "  metadata that has little to do with topic classification.\n",
            "  It loses even more if we also strip this metadata from the training data:\n",
            "\n",
            "    >>> newsgroups_train = fetch_20newsgroups(subset='train',\n",
            "    ...                                       remove=('headers', 'footers', 'quotes'),\n",
            "    ...                                       categories=categories)\n",
            "    >>> vectors = vectorizer.fit_transform(newsgroups_train.data)\n",
            "    >>> clf = MultinomialNB(alpha=.01)\n",
            "    >>> clf.fit(vectors, newsgroups_train.target)\n",
            "    MultinomialNB(alpha=0.01, class_prior=None, fit_prior=True)\n",
            "\n",
            "    >>> vectors_test = vectorizer.transform(newsgroups_test.data)\n",
            "    >>> pred = clf.predict(vectors_test)\n",
            "    >>> metrics.f1_score(newsgroups_test.target, pred, average='macro')\n",
            "    0.76995...\n",
            "\n",
            "  Some other classifiers cope better with this harder version of the task. Try the\n",
            "  :ref:`sphx_glr_auto_examples_model_selection_plot_grid_search_text_feature_extraction.py`\n",
            "  example with and without the `remove` option to compare the results.\n",
            "\n",
            ".. rubric:: Data Considerations\n",
            "\n",
            "The Cleveland Indians is a major league baseball team based in Cleveland,\n",
            "Ohio, USA. In December 2020, it was reported that \"After several months of\n",
            "discussion sparked by the death of George Floyd and a national reckoning over\n",
            "race and colonialism, the Cleveland Indians have decided to change their\n",
            "name.\" Team owner Paul Dolan \"did make it clear that the team will not make\n",
            "its informal nickname -- the Tribe -- its new team name.\" \"It's not going to\n",
            "be a half-step away from the Indians,\" Dolan said.\"We will not have a Native\n",
            "American-themed name.\"\n",
            "\n",
            "https://www.mlb.com/news/cleveland-indians-team-name-change\n",
            "\n",
            ".. rubric:: Recommendation\n",
            "\n",
            "- When evaluating text classifiers on the 20 Newsgroups data, you\n",
            "  should strip newsgroup-related metadata. In scikit-learn, you can do this\n",
            "  by setting ``remove=('headers', 'footers', 'quotes')``. The F-score will be\n",
            "  lower because it is more realistic.\n",
            "- This text dataset contains data which may be inappropriate for certain NLP\n",
            "  applications. An example is listed in the \"Data Considerations\" section\n",
            "  above. The challenge with using current text datasets in NLP for tasks such\n",
            "  as sentence completion, clustering, and other applications is that text\n",
            "  that is culturally biased and inflammatory will propagate biases. This\n",
            "  should be taken into consideration when using the dataset, reviewing the\n",
            "  output, and the bias should be documented.\n",
            "\n",
            ".. rubric:: Examples\n",
            "\n",
            "* :ref:`sphx_glr_auto_examples_model_selection_plot_grid_search_text_feature_extraction.py`\n",
            "* :ref:`sphx_glr_auto_examples_text_plot_document_classification_20newsgroups.py`\n",
            "* :ref:`sphx_glr_auto_examples_text_plot_hashing_vs_dict_vectorizer.py`\n",
            "* :ref:`sphx_glr_auto_examples_text_plot_document_clustering.py`\n",
            "\n"
          ]
        }
      ],
      "source": [
        "print(b_train.DESCR)"
      ]
    },
    {
      "cell_type": "markdown",
      "id": "19a4b33d",
      "metadata": {
        "hidden": true,
        "id": "19a4b33d"
      },
      "source": [
        "Data and labels are lists of, respectively, strings and integers:"
      ]
    },
    {
      "cell_type": "code",
      "execution_count": 9,
      "id": "eb28b097",
      "metadata": {
        "hidden": true,
        "id": "eb28b097",
        "colab": {
          "base_uri": "https://localhost:8080/"
        },
        "outputId": "22fb23af-4f44-4545-a138-4a4e4266be5a"
      },
      "outputs": [
        {
          "output_type": "stream",
          "name": "stdout",
          "text": [
            "<class 'list'>  of  11314 <class 'str'>\n",
            "<class 'numpy.ndarray'>  of  11314 <class 'numpy.int64'>\n"
          ]
        }
      ],
      "source": [
        "print(type(b_train.data), ' of ', len(b_train.data), type(b_train.data[0]))\n",
        "print(type(b_train.target), ' of ', len(b_train.target), type(b_train.target[0]))\n"
      ]
    },
    {
      "cell_type": "markdown",
      "id": "aebdfead",
      "metadata": {
        "hidden": true,
        "id": "aebdfead"
      },
      "source": [
        "Let's have a look at some random data and labels:"
      ]
    },
    {
      "cell_type": "code",
      "execution_count": 10,
      "id": "0b7e2228",
      "metadata": {
        "hidden": true,
        "id": "0b7e2228",
        "colab": {
          "base_uri": "https://localhost:8080/"
        },
        "outputId": "917bdc15-e179-444e-95a7-75c7d15d6021"
      },
      "outputs": [
        {
          "output_type": "stream",
          "name": "stdout",
          "text": [
            "Data of label  alt.atheism : \n",
            "\n",
            "Ahhh go back to alt.autotheism where you belong!\n"
          ]
        }
      ],
      "source": [
        "n = random.randint(0,len(b_train.target))\n",
        "print('Data of label ',b_train.target_names[b_train.target[n]],': ')\n",
        "print(b_train.data[n])"
      ]
    },
    {
      "cell_type": "markdown",
      "id": "1f81617d",
      "metadata": {
        "hidden": true,
        "id": "1f81617d"
      },
      "source": [
        "The total length of texts:"
      ]
    },
    {
      "cell_type": "code",
      "execution_count": 11,
      "id": "a5f33d72",
      "metadata": {
        "hidden": true,
        "id": "a5f33d72",
        "outputId": "02a1fee9-6a47-440f-f79f-0f1525290ee4",
        "colab": {
          "base_uri": "https://localhost:8080/"
        }
      },
      "outputs": [
        {
          "output_type": "execute_result",
          "data": {
            "text/plain": [
              "np.int64(13781985)"
            ]
          },
          "metadata": {},
          "execution_count": 11
        }
      ],
      "source": [
        "np.sum(np.array([len(i) for i in b_train.data]))"
      ]
    },
    {
      "cell_type": "markdown",
      "id": "3ddb572e",
      "metadata": {
        "hidden": true,
        "id": "3ddb572e"
      },
      "source": [
        "## Splitting the data into train/valid/test"
      ]
    },
    {
      "cell_type": "markdown",
      "id": "7b90c1a7",
      "metadata": {
        "hidden": true,
        "id": "7b90c1a7"
      },
      "source": [
        "For the learning, we need also a validation dataset that we will extract from the train set:"
      ]
    },
    {
      "cell_type": "code",
      "execution_count": 12,
      "id": "a0927aea",
      "metadata": {
        "hidden": true,
        "id": "a0927aea"
      },
      "outputs": [],
      "source": [
        "X_train, y_train = b_train.data, b_train.target\n",
        "X_test, y_test = b_test.data, b_test.target\n",
        "\n",
        "X_train, X_val, y_train, y_val = train_test_split(X_train, y_train, test_size=0.20, random_state=42)"
      ]
    },
    {
      "cell_type": "markdown",
      "id": "ee13ad50",
      "metadata": {
        "hidden": true,
        "id": "ee13ad50"
      },
      "source": [
        "Let's display the distribution of classes in train/valid/test:"
      ]
    },
    {
      "cell_type": "code",
      "execution_count": 13,
      "id": "2b94f7d0",
      "metadata": {
        "hidden": true,
        "id": "2b94f7d0"
      },
      "outputs": [],
      "source": [
        "def plot_class_distribution(y_train, y_val, y_test, the_class_names):\n",
        "    number_of_classes = len(np.unique(y_train))\n",
        "\n",
        "    fig, ax = plt.subplots(layout=\"constrained\")\n",
        "    for y, name, offset in zip([y_train, y_val, y_test], [\"Train\", \"Val\", \"Test\"], [-0.2, 0, 0.2]):\n",
        "        rects = ax.bar(np.arange(number_of_classes)+offset, np.bincount(y), 0.2, label=name)\n",
        "        ax.bar_label(rects)\n",
        "\n",
        "    ax.set_ylabel(\"Number of samples\")\n",
        "    ax.set_xlabel(\"Class number\")\n",
        "    ax.set_title(\"Distribution of classes\")\n",
        "    ax.set_xticks(np.arange(number_of_classes))\n",
        "    ax.legend()\n",
        "    plt.show()\n"
      ]
    },
    {
      "cell_type": "code",
      "execution_count": 14,
      "id": "2197deea",
      "metadata": {
        "colab": {
          "base_uri": "https://localhost:8080/",
          "height": 508
        },
        "hidden": true,
        "id": "2197deea",
        "outputId": "c91a71db-d077-4e92-9be0-02fb12f0b9ac"
      },
      "outputs": [
        {
          "output_type": "display_data",
          "data": {
            "text/plain": [
              "<Figure size 640x480 with 1 Axes>"
            ],
            "image/png": "[encoded data removed]"
          },
          "metadata": {}
        }
      ],
      "source": [
        "plot_class_distribution(y_train, y_val, y_test, b_train.target_names)"
      ]
    },
    {
      "cell_type": "markdown",
      "id": "03653b4b",
      "metadata": {
        "hidden": true,
        "id": "03653b4b"
      },
      "source": [
        "This is almost balanced and every class have roughly the same ratios between train, valid and test."
      ]
    },
    {
      "cell_type": "markdown",
      "id": "2f470c0c",
      "metadata": {
        "heading_collapsed": true,
        "id": "2f470c0c"
      },
      "source": [
        "# Tokenization"
      ]
    },
    {
      "cell_type": "markdown",
      "id": "ec4a7eb6",
      "metadata": {
        "hidden": true,
        "id": "ec4a7eb6"
      },
      "source": [
        "Next step is the tokenization. Many algorithms are available. Even for each algorithm, it is possible to build the dictionary/vocabulary adapted to our dataset or to load one that has been already set using a larger dataset. In this notebook, we will focus on the BPE algorithm with your implementation from monday morning:"
      ]
    },
    {
      "cell_type": "markdown",
      "id": "1c3cecaa",
      "metadata": {
        "heading_collapsed": true,
        "hidden": true,
        "id": "1c3cecaa"
      },
      "source": [
        "## homemade BPE tokenisation algorithm"
      ]
    },
    {
      "cell_type": "code",
      "execution_count": 17,
      "id": "c85e4999",
      "metadata": {
        "hidden": true,
        "id": "c85e4999"
      },
      "outputs": [],
      "source": [
        "# you can copy/paste your implementation from monday morning here or use the code below"
      ]
    },
    {
      "cell_type": "code",
      "execution_count": 18,
      "id": "cc1d1dc2",
      "metadata": {
        "hidden": true,
        "id": "cc1d1dc2"
      },
      "outputs": [],
      "source": [
        "# CORRECTION\n",
        "\n",
        "class BPETokenizer:\n",
        "    VOCAB_MAX_LENGTH = 1000 # for construction.\n",
        "\n",
        "    def computeListOfUniqueWords(self, corpusOfTexts):\n",
        "        listOfWords = []\n",
        "        for txt in corpusOfTexts:\n",
        "            txt = re.sub(r'(\\s\\s*)',' ',txt) # remove multiple spaces\n",
        "            listWithSpaces = re.split(r'([,.:;?_!\"()\\']|--|\\s)', txt.lower())\n",
        "            size = len(listWithSpaces)\n",
        "            i = 0\n",
        "            while i < size:\n",
        "                if listWithSpaces[i]=='\\n':\n",
        "                    listOfWords.append('Ċ')\n",
        "                elif listWithSpaces[i]==\" \" and i < size-1 and len(listWithSpaces[i+1])>0 and ('a'<=listWithSpaces[i+1][0]<='z' or '0'<=listWithSpaces[i+1][0]<='9'):\n",
        "                    listOfWords.append(\"Ġ\"+listWithSpaces[i+1])\n",
        "                    i += 1\n",
        "                elif listWithSpaces[i]==\" \" :\n",
        "                    i += 1\n",
        "                elif listWithSpaces[i]:\n",
        "                    listOfWords.append(listWithSpaces[i])\n",
        "                i+= 1\n",
        "        return np.unique(np.array(listOfWords),return_counts=True)\n",
        "\n",
        "    def initVocabulary(self, listOfWords):\n",
        "        alphabet = []\n",
        "\n",
        "        for word in listOfWords:\n",
        "            for letter in word:\n",
        "                if letter not in alphabet:\n",
        "                    alphabet.append(letter)\n",
        "\n",
        "        alphabet.sort()\n",
        "\n",
        "        vocab = [\"[UNK]\"] + alphabet.copy()\n",
        "        return vocab\n",
        "\n",
        "    def computePairsAndFreq(self, w,f):\n",
        "        pairsANDfreqs = defaultdict(int)\n",
        "        for (word, splittedEl), freq in zip(w.items(),f):\n",
        "            if len(splittedEl)>1:\n",
        "                for i in range(len(splittedEl)-1):\n",
        "                    aPair = (splittedEl[i],splittedEl[i+1])\n",
        "                    pairsANDfreqs[aPair] += freq\n",
        "        return pairsANDfreqs\n",
        "\n",
        "    def mergeApair(self, pair, splittedW, voca, merges):\n",
        "        if pair != None:\n",
        "            for word, split in splittedW.items():\n",
        "                for i in range(len(split)-1):\n",
        "                    if i < len(split)-1 and split[i]== pair[0] and split[i+1]==pair[1]:\n",
        "                        newSplit = split[0:i]+[pair[0]+pair[1]]+split[i+2:]\n",
        "                        split = newSplit\n",
        "                        splittedW[word]=newSplit\n",
        "            voca.append(pair[0]+pair[1])\n",
        "            merges[pair] = pair[0]+pair[1]\n",
        "        return splittedW, voca, merges\n",
        "\n",
        "    def mostFreq(self, pairsfreqs):\n",
        "        freqMax = 0\n",
        "        pairMax = None\n",
        "        for p,f in pairsfreqs.items():\n",
        "            if pairMax == None or f>freqMax:\n",
        "                pairMax = p\n",
        "                freqMax = f\n",
        "        return pairMax\n",
        "\n",
        "    def computeListOfWords(self, txt):\n",
        "        listOfWords = []\n",
        "\n",
        "        txt = re.sub(r'(\\s\\s*)',' ',txt) # remove multiple spaces\n",
        "        listWithSpaces = re.split(r'([,.:;?_!\"()\\']|--|\\s)', txt.lower())\n",
        "        size = len(listWithSpaces)\n",
        "        i = 0\n",
        "\n",
        "        while i < size:\n",
        "            if listWithSpaces[i]=='\\n':\n",
        "                listOfWords.append('Ċ')\n",
        "            elif listWithSpaces[i]==\" \" and i < size-1 and len(listWithSpaces[i+1])>0 and ('a'<=listWithSpaces[i+1][0]<='z' or '0'<=listWithSpaces[i+1][0]<='9'):\n",
        "                listOfWords.append(\"Ġ\"+listWithSpaces[i+1])\n",
        "                i += 1\n",
        "            elif listWithSpaces[i]==\" \":\n",
        "                i += 1\n",
        "            elif listWithSpaces[i]:\n",
        "                listOfWords.append(listWithSpaces[i])\n",
        "            i+= 1\n",
        "            moreSplit = False\n",
        "        return listOfWords\n",
        "\n",
        "    # initialisation from a corpus of texts, building vocabulary and merges\n",
        "    def __init__(self, corpus):\n",
        "        words, freqs = self.computeListOfUniqueWords(corpus)\n",
        "        vocab = self.initVocabulary(words)\n",
        "        splittedWords = {word: [c for c in word] for word in words}\n",
        "        listOfMerges = {}\n",
        "        noMorePairs = False\n",
        "        while len(vocab) < self.VOCAB_MAX_LENGTH and not noMorePairs:\n",
        "            pairsANDfreqs = self.computePairsAndFreq(splittedWords,freqs)\n",
        "            pmax = self.mostFreq(pairsANDfreqs)\n",
        "            if pmax == None:\n",
        "                noMorePairs = True\n",
        "            splittedWords, vocab, listOfMerges = self.mergeApair(pmax, splittedWords, vocab, listOfMerges)\n",
        "        self.token2id = {t:i for i,t in enumerate(vocab)}\n",
        "        self.id2token = {i:t for t,i in self.token2id.items()}\n",
        "        self.merges = listOfMerges\n",
        "\n",
        "    # encode a single text and return\n",
        "    def encode(self, text):\n",
        "        pretokenizedText = self.computeListOfWords(text)\n",
        "        splittedTexts = [[l for l in word] for word in pretokenizedText]\n",
        "        for pair, merge in self.merges.items():\n",
        "            for idx, split in enumerate(splittedTexts):\n",
        "                i = 0\n",
        "                while i < len(split) - 1:\n",
        "                    if split[i] == pair[0] and split[i + 1] == pair[1]:\n",
        "                        split = split[:i] + [merge] + split[i + 2 :]\n",
        "                    i += 1\n",
        "                splittedTexts[idx] = split\n",
        "\n",
        "        ids = [self.token2id[t] if t in self.token2id else self.token2id[\"[UNK]\"] for s in splittedTexts for t in s]\n",
        "        return ids\n",
        "\n",
        "    # decode an encoded text\n",
        "    def decode(self, ids):\n",
        "        text = \"\".join([self.id2token[i] for i in ids])\n",
        "        text = text.replace(\"Ġ\", \" \")\n",
        "        return text"
      ]
    },
    {
      "cell_type": "markdown",
      "id": "a4e24c6b",
      "metadata": {
        "hidden": true,
        "id": "a4e24c6b"
      },
      "source": [
        "In order to build a first tokenizer, we suggest to reduce the train dataset. You will use the whole train dataset later in this lab because we will ask you to make few modifications."
      ]
    },
    {
      "cell_type": "code",
      "execution_count": 19,
      "id": "4d5c3e81",
      "metadata": {
        "hidden": true,
        "id": "4d5c3e81"
      },
      "outputs": [],
      "source": [
        "reducedTrain = 500\n",
        "myBPEtokenizer = BPETokenizer(b_train.data[:reducedTrain])"
      ]
    },
    {
      "cell_type": "markdown",
      "id": "d1e4ef55",
      "metadata": {
        "hidden": true,
        "id": "d1e4ef55"
      },
      "source": [
        "The encodings of each text will be of different sizes. A solution is to truncate the longest texts and to pad the shortest. We first examine the different length of encoding:"
      ]
    },
    {
      "cell_type": "code",
      "execution_count": 20,
      "id": "4a264426",
      "metadata": {
        "hidden": true,
        "id": "4a264426",
        "colab": {
          "base_uri": "https://localhost:8080/"
        },
        "outputId": "106848c0-64b9-463c-c89b-bf9b9ca2a7eb"
      },
      "outputs": [
        {
          "output_type": "stream",
          "name": "stderr",
          "text": [
            "100%|██████████| 500/500 [00:21<00:00, 22.75it/s]\n"
          ]
        }
      ],
      "source": [
        "listOfLength = []\n",
        "for txt in tqdm(b_train.data[:reducedTrain]):\n",
        "    listOfLength.append(len(myBPEtokenizer.encode(txt)))"
      ]
    },
    {
      "cell_type": "markdown",
      "id": "cc05e6ea",
      "metadata": {
        "hidden": true,
        "id": "cc05e6ea"
      },
      "source": [
        "In the next cell, you can see the plot when we tokenize the reduced train set:"
      ]
    },
    {
      "cell_type": "code",
      "execution_count": 21,
      "id": "f415e00e",
      "metadata": {
        "hidden": true,
        "id": "f415e00e",
        "outputId": "726a81a9-8675-42ff-e9e1-60b4ba995863",
        "colab": {
          "base_uri": "https://localhost:8080/",
          "height": 447
        }
      },
      "outputs": [
        {
          "output_type": "execute_result",
          "data": {
            "text/plain": [
              "[<matplotlib.lines.Line2D at 0x7848a1a1cdd0>]"
            ]
          },
          "metadata": {},
          "execution_count": 21
        },
        {
          "output_type": "display_data",
          "data": {
            "text/plain": [
              "<Figure size 640x480 with 1 Axes>"
            ],
            "image/png": "[encoded data removed]"
          },
          "metadata": {}
        }
      ],
      "source": [
        "plt.plot(listOfLength)"
      ]
    },
    {
      "cell_type": "markdown",
      "id": "2e8d1d86",
      "metadata": {
        "hidden": true,
        "id": "2e8d1d86"
      },
      "source": [
        "Why are some texts so long?"
      ]
    },
    {
      "cell_type": "code",
      "execution_count": 22,
      "id": "513bfb86",
      "metadata": {
        "hidden": true,
        "id": "513bfb86",
        "outputId": "56225f16-bdf1-4ff1-af2b-777809460706",
        "colab": {
          "base_uri": "https://localhost:8080/"
        }
      },
      "outputs": [
        {
          "output_type": "stream",
          "name": "stdout",
          "text": [
            "498\n"
          ]
        }
      ],
      "source": [
        "themax = np.argwhere(np.array(listOfLength)>40000).squeeze()\n",
        "print(themax)"
      ]
    },
    {
      "cell_type": "code",
      "execution_count": 23,
      "id": "64cda86d",
      "metadata": {
        "hidden": true,
        "id": "64cda86d",
        "outputId": "8e21e835-f7cd-4cd4-a984-227027660ef9",
        "colab": {
          "base_uri": "https://localhost:8080/"
        }
      },
      "outputs": [
        {
          "output_type": "stream",
          "name": "stdout",
          "text": [
            "---------- cut here ---------- part 01/01\n",
            "begin 644 1260wn31.exe\n",
            "M35KO 1D    & -$,__\\@ P $     ?#_'@     !0V]P>7)I9VAT(#$Y.#DM\n",
            "M,3DY,\"!02U=!4D4@26YC+B!!;&P@4FEG:'1S(%)E<V5R=F5D+@T*        \n",
            "M        _\"Z,#F\\$H0( C,N!PP (.\\-R RT !BT@ /J\\  *.T/LM00\"C<02.\n",
            "MP.B9 *%[!*-Y!*%]!*-W!(S BQY_!+Y_!.AM \"ZC<P2[Y &^F +H8 !0OGL$\n",
            "MO^$!I:6+'GL$BQ9]!(OK@>7_#XK?BOJQ!-/KB]73ZD(KPH[ B\\N&Z0,V?P2,\n",
            "MV@/1CMJ+S8ON,__1Z1//\\Z6%VW04_LR.P/[.CMJY  @S_XOU\\Z5+Z^B.V#/ \n",
            "M4,O1ZXO+T>O1Z]'K0RO#CL S__.EPS/V,]LSTC/_BHPP NA- (J70@*+ZB:(\n",
            "M3@ FB)X  0/H@?T  7+O0_[-=>2*C#D\"Z\"H A]^*EX(\"B^I#0R:(C@ \")HB>\n",
            "M  ,#Z(']  %R[DO^S77AA_M&@_X)<JW#BNF1L032[\"0/D;@! -/@PQ(3%%5V\n",
            "M]\\?X>\"(3-#4F)W@8%@ \"!@X> 1$)&3D%)14U#2UM'5T]?0-#(V,34S-S\"TLK\n",
            "M:QM;.WL'1R=G%U?7-[=W]P^/3\\\\OKV_O'Y]?WS^_?_\\  @$%#0,+&P<7-R]O\n",
            "M'Y]?WS^_?_\\/Z&L +HX>VP&++@  3;X* \"Z+/M<!@\\<0._5S%3/ K)%!K8O7\n",
            "M ]\".PJV3)@$_XOGKYRZAUP&.P 40 (L> @ #V/J.TXLF! #[ P8( \"ZCUP&A\n",
            "M!@ NH]4!C,\".V#/ B]B+R(O0B^B+\\(OX+O\\NU0$N@S[? 0!U$\"Z!/N$!  -W\n",
            "M!RZ++N$!ZP.]  ,N*2[A 2Z#'M\\! \"Z.!M<!+HP&W0&_  $S]JVR!Z@!= GH\n",
            "MC0\"JZ*@ Z_/HA  NC@;9 3/;BM@FBH\\  NAU \":*GP #@/L7=0@\"V(#7 .B \n",
            "M %.#^P)T-(KP@.9_L0?H4P R_XK8)HH/Z$D )HJ_  '0YHK>T>M9+HX&W0$>\n",
            "M5@8?B_<K\\T[SI%X?ZY.*\\(#F#[$$Z!\\ BM@FB@_H%P FBI\\  ='CT>/1X]'C\n",
            "M\"M[KR+S^ <.Q 3OU=R'3Z\"K1>1* P@B*Z#+DK(;$L0<JRM/H\"L7#._6*[';L\n",
            "ML0@N@S[? 0!U'RZ!/N$!  -W%BZ#/N$! '4'A<!TN-/HPRZ++N$!ZP.]  ,N\n",
            "M*2[A 2Z#'M\\! %-242Z+%MT!ZP>![P @@,8\"@?\\ 0'?SC,$N.P[= 74\"CL(N\n",
            "MB1;= 8S:B]ZQ!-/K ]..VH/F#UE:6P/N3>EK_P !  $             X2T \n",
            "M #  ;P\\ !C8H   -  \"  7$!7@%/ 34!:Q U$-H1%Q7$%%(5(R=!*,LH ;X#\n",
            "M6 /L P$\"> =8=3'[Q48)KI2>6R' ^_$'\"X<I%;U[B%V%\"WA?\"!7]]?__[1)$\n",
            "M'_W?:&AU$0U $2 T:!7]7XZ+X0_V*;8@0+H*EH3!*2XV[@6U!@'B!@F =3M#\n",
            "M'*:,@]D+O((Y2+C0J,$Z7&A_?0A3<$K<9 %FE@H%1'9$GPI/<*LQ9@M&[V.#\n",
            "M L8;/Q?C7_B?;@,8 ]*F$-</1$_ZW_:@*,0)$7<)UXP)T>O7Q>70%,$ =;%5\n",
            "M@P5A J!\"XEX)FOQ_UR/Z_0]8)9 -[!.]] >A*D0(D1\"W:@&T6Z!28I=&\\*93\n",
            "M@GGQI:VXF&[=. <0/F[: 0#+^R$N(L'(%^5@X@*'XZX=H#.,9(:B2#TZH!TD\n",
            "MH8.3'Z(O_H^P; FTA*^4$!!A.1IH!XDY9!S\"COX7-W$;L,$CL*X3H$ JHCH?\n",
            "M'C?H4G=  ,.VZ,7^JQ%'R*%\"]!TL@.R^8 % M4JYZ/Z$#1FY=, )4Y)A\\'\\A\n",
            "M.-V6-6'V?Q,PP*3!*SFZO_TV(&95.V!X>.)B[(J!_E=)/K%1_SU?X/,F ?-\\\n",
            "M23<D;AUHPFK>%$R$S@*O*]%J8Z/ZT*S3\"\"Y8TAY*B'0_0#[Z&J33,C;L05NZ\n",
            "M\"*_B3CF L24GXD(J4'TEL(ZX GI.@59]P_]#N+L2M*,]ZNX!#M,UF-@F2MWK\n",
            "M(0X\"3^N:Q[V+*N(^(%N3_O=B#8/S-*G!QD0#DO0';>9PQ;D*8D*8.O)_*,;3\n",
            "MI0%M8$QA!IGAW95MHW2\"<Z'V!(AP[@!@$0%P./CXP]@$I[^_BOXSQM'4\"2:V\n",
            "M: VN0Z][HK@L0)0SK^=15^IG[)7?T@*/^2'4C]X'? IR\\3%W!#^*\"$.A[B)U\n",
            "M$,7$5D2!!F@@75_M#9<R\"-'*V!_22P>\\#WP]\"Y8=)18<P#1Q$_\"L';B;^$.A\n",
            "M-G'!Q#XH-BXJP+4=DXTA%7P$?^:EI!74HT=9P=7C1OE!%_KUOTW'NM'WO@#X\n",
            "M0.M>Q(VO(A9W J>TWW_] <P'A YP1H[+_8$K%Q[9Y 8:'J\\G\"= B(D4)N&<+\n",
            "M:AZTV88X\"]+%@%G0#'CP?@(THRQ$_'\\=8]'?_#\\ ^(.^%+B(>;GX!_FQ[O.%\n",
            "M]NL>Q&U:0'CR^>0OI)P>9 !PAP@5)$J\"= >F;QC0J&(\"T&')[P!;#@78LR) \n",
            "M.X@F!S@0^&27_T]7+9C^'=KJTWS#].@TD+7N].$TT!I-;1I(#N-T -Q#21[B\n",
            "M],H* 2I6)-/]SK.)5.(R1(BZC::'989LB!@@8#X,ZW#?&_/S[8ZF!/J8*@9H\n",
            "MV B:\\<+TB0%$H Q!]@R#7SJ\\F[-G3(!R??:D@69%KK_!63[^N-Y:#B#B]<YQ\n",
            "M2P0X&H <UX-(VP5>]L4)#41P5Q197A^[IQC>M=YS#,3LZ$7R7R\\:_?[]Z#5P\n",
            "M9'F;H&2\"@0M\"N0)LXH\"9\"9XFF)X@: (DHQ-T3: OH,Q*VAM4GT>E[N\\5M#ID\n",
            "M^1XMZEY\\5 %SJ#PZ. (8C1?0Y.,N8$/E\\Q]M\"55XL&L<-S;F%\"!CK (]@/I/\n",
            "M#F/((<4*P?'_70D((4!'/&E;'.Q76?0JB6PWZASJ$HC0 PIL9(+HD4+ *-T\"\n",
            "MY:JPQN$6%_M5/]\"O.X3L@%48/(OS3T2&5 4N%%YW0262V+._]R%?!?ZG ;G,\n",
            "MI!&&$\"YTN @O0::N!7H3L$7B'$W> \\H 0=+M: (L2V!XE:+)@4<=FIQX%6) \n",
            "M@_X;1K0(T*'!J>A1\\5ECP'6GRIPKGJ[YP]<7[)F'[$>)&P$3&%/<#-028 GT\n",
            "MOH%\"N6[8<GA<$!#]JA\"]6'W:XH:X8$,S\"DVJ^KQ$C<DZP+NXNGT AA5?PJJ_\n",
            "MH(&6EQ=*K\\.&  G:07]* [< H:_[M]CW(6Z=NJ!XE505X)'3]2\\VGGFQ$U:]\n",
            "M&ER)?*/VQ$[ 5J_^![NC>^WZ$YT$:.=6_$W0H<<K_+X$EIPKKA^8V*_]1IH1\n",
            "M6GI%??48-ND 5/,)LJG7'<<.V\\O:.@: ]]L?_(X*ZPAH%K2@QG&KZ'7N'T5.\n",
            "MH%.LC\\L(T3=G(-[UNOAX\"][-/ #X/-&J/U$<+,VE29W]*89BC1#@!OQNLB+N\n",
            "M$AZ++!.T!$;XN>%@GY!U,;T?,'B)Z*^X>4A(&2: E]QFZRJHH T?0EX6/<S\\\n",
            "MZ%WW7[]#>+K0J'^Z( .[Y4<M#P(:7.R'(1^NB('X%;*(*R#DGU[AOZVQ%_@8\n",
            "MEYD<^#]?6P(O#35$SQ@AE%IGHTX<C5,WT#HIYE&B9XX?-PE5;(R@1#2,@#\"L\n",
            "M*)3^VH +3+9J];=3KA1S>==06MZ*WII2ZW>$)UULPWB<(1E@0TFJ@B)7Z18(\n",
            "MKHIP,0W/V7'Z*M>T3 58Q>VW 6FY,X 68D,Q>)MA8R%[2[T2<;_@DVR(_KT(\n",
            "MG:A=>TSC18A@+EQ_@9P$4!_NB$!@OB@,XLY36C#6Y;;\\LJYYP#Z3#QPH!\\P#\n",
            "MJ6@-3@,[$TK9NE:=!\"6& B9[($H7; ^B3K=G#Z:_KM=?)) .]H*:W2AQ-\"RJ\n",
            "ME^X#:)9O U@'HI]X(%_UZ0OBT[K=<BNCQW\\O*3#]!\\1:$_JKHZ$W3&Q1>L/1\n",
            "MI'6/!EOPN$%^8O*AV(Q%KB]&@^+__^M[O4!J R@DXL$A@WGHT?_I+0;TK;\"@\n",
            "ME7F0; 1>S<%IW0I9\"Y&O)LFS5N?GV@Y@JT:\"E$K:M@OD $*>O:QHO^X!C.2D\n",
            "M<8OZA-6G!ZT4IG7J =<^4BM91%B<P 5Y%(MT.2CNXH_%T>_)F\\Q!_K]K4JX!\n",
            "MCD<=WO6 5],O0KMIF*/$>W#XU0!S306Q&D#_I$]QN?0&_FL08, YN%U\\% 7V\n",
            "MQE@?F,?G,C'?#2M?BP]R$WAQ#132!5%&I9MAK*J^WQZQ?(@:<;!9_\"<\\L>!_\n",
            "MI_KK_A)!!_6UF.T!-J7!]'/_[6AC<!8$&(-++BM^(,%&)L\"^78\"1G.:\\!D=Z\n",
            "M.H*^B/BJ?V7R*(!P#J!A(Y18W2%->&I58AW!>I5\"LX),O-7J9)\"I#O[+T.#=\n",
            "M\"C%0H-P#,;\"@G1B(<*%=B[C!N*1!>R/4J_71#ZZ?GGJ T&C_J +H-P.DR4:Z\n",
            "MP4*W M=?<S;HP@%91),5#V%D)/JO3?$$9L8D>=<;\"QN0?LYZVPBO=;$% X@.\n",
            "MZ5MH;1&;]C(]#-PK10RMMX%!84OP.&*!Z>/^ _-O+3* ^!4#6#40&] S8>72\n",
            "M_=RZ ]/K#$ H\".,>11$6$\"^P:0;RR2#ML&T/<I;N'\"30Q2G9I8.<M  * P-U\n",
            "MC:BFQ-U .T$3Q\"U);7R6P&TN9_P@R\\D%N:KE!(D($R^V0,3WH=^7=FWMR/\\&\n",
            "ML3?$3<H8K=-?;V;.>GKA>DJCX'*&ZQ.5HN\"C4U?J60)I4\"#='3%P(%T:<4EK\n",
            "MZBDF5G#@>F0H)\\ <X9 9]NU1#SYK; !]ICJ/\\#SI+Y+TYU6/=2_DE0J<0XW:\n",
            "M8(YQ^S)2*FR>Y8-6CCMP@-( S84I?:>#+O- 7<C6P87V!?\"]-$QVD,?^ <@K\n",
            "MH; TI+J*/J3#=91A),[^@A#LLFC]T9IUH?\\YZUXHG.X1,50)//8 T_VB=8]V\n",
            "MWA\"0NQ)]#-C@:-T(0T%VD206?&\"MBIZ5L,'1GJP1M.Y0E!UH (447BXX&IS#\n",
            "MK/B&ZU4&=NL?,,! \\L\"\\+>2?@!^&PM/_#AB$GZ:7^V_'AZ_/V\\*0P!@Z[RI<\n",
            "M[-,26>5AW^'&J UQ=8W_ZPK\\7Q.]2GWVB* 73-A_\\'&\"3NN:PVJ.2#<B>MKR\n",
            "MRED5II26Y:,W+:_9+74E3?2?_Z,G_R\"I*OJF#;8%J98RK!H\\6/\"&]6'WOV\"N\n",
            "M7PBX)T@[$N@\"NGHTIU_W=>%9*]65&+Q2N4'T9O,94 /NX_2JZ@+XMCQ6>4AD\n",
            "M:@,,2_%JQ _K@L<-PZD;?X/GDE8((]K%^!/[=25]D.(1--Q9UX%4&EWL/?KX\n",
            "M@=V/)O[K\"A'J^CDU%<@D\"K5*R1ZS^&1;@XNQ#^P(^.__EW07%$'RG2QJ8-V)\n",
            "M7@<?6\\=73]N&_7Q<H-.\\OP?[ 5?I/L3MS:W)\"YDVP<H;Q=2B3OHBI:W5EU;\"\n",
            "M#.$71!])(NMVM8H^M( 06P>EP2=VI]) !?+0_9G@>AZ(BH@$X<6^$H$FHB@A\n",
            "M6R&^D]\"H@;!>2D@@:9!!#&JE!LH]'JF_ 7QDI]&7E;_(1M7?&M=!U#,_RG=K\n",
            "M8H\"BS3;4O!.@R@&Z1P3$-P>VB'VT;,#!Q@4NY@CX9POH\"=09<&3=B+A7B&L/\n",
            "M(I@O%XX\"6^P0=[A1+ZZ20D,2FMWGY1T24)=C4O2 YZ-WWS^T2UV-$ 1T/(P_\n",
            "MLAP#)-H\\I$S[@'*/3(?BOW&? 2L'0;98X7#:-V$#P*A8N$QRR4F P\\-UO^3*\n",
            "M7_%#G<ZH<\\07AQ).7G=>C,.+N5]=_%?@5?3@,YAFY,77N(#/T@9\"NE]J0X^+\n",
            "MGPHL?I6@C57A!SW+BZD+%9('<P<H\">H$]A?;2_L?Q^-'!=8#1E>5?/.JQP.!\n",
            "M]?'=BZTB7.R'?/Q]L?#Q(PM+I_N1_\\SVINE67%E_8#.0BZ$OWI^4+@.>!9^*\n",
            "MU[^>8%&EX,G/! 89I+C8^%<O&:W2?H)$2M<W&%?NBZ\\*I*UAXF\"!!FR>MI/I\n",
            "MP%OVF\"[E/%,Z5J@E__<+LC]W\\(@.HS[79(F4BW\\EZ%BZ_> !ZQ:$#//AT\"0.\n",
            "M*/[^;M\\#'4^GC/7C%AMYJ ZG/@<@3-#Y&KQOD+84B(R'8]TYW&[ R8ZQS[2_\n",
            "MV'E2_JQY%J%F(&*MJR )%K T1=YV&E0\\>MC_/W!%S,/[.\\$4Y-S]_(VR8EKY\n",
            "MT=U]#1HD\"%0U;)VJ6:LF1-WMOAX_@.H2(\"3<SPT0HF^ \\'S295T+4?+!F\\H0\n",
            "M4CE^?6K ? 5RK5N\"TJ!R0?+4>I<#%RPKU[=VF=BF40EY4R?=;$QZ]SY_EXN$\n",
            "M<+TK)X:)T#FJ QV7[=+VS]HJH$NC1Q475,S!@';4*9QN1L+;Z3K5J9VN4IW#\n",
            "MZ9K7Z9VN>)W=Z3I@A^CR,!$D &C=F$9<@;$,'!&!$L9SQ':\\8X\\.[('_OWX^\n",
            "M3K8!Z0)=SXS7N@;*-__.#1NP6C>!-0#^\\+JRCXC@ SU<( :!,/33HT82$./@\n",
            "M#.TGH,*ZCM)O7<1KW7*N0(1$B- ]3CH0L:>G^V^FKD%%S/[BKPAI\"Q'M0'-)\n",
            "M.SX@AMBDE_C;TTL^!-\"C2A)))C/TXX88>KW]$/>/..C_PE49TG3D<CV\"W)\"@\n",
            "MEW\"KD%J]$?&:E?6G %+9@V/$1O5C[JD0X%^'/1,\"[,O.\\7;=\"<;K3'OX*7OO\n",
            "MJ0&B_![,7[K4%5$6,4$CB;%%8N2I ;W)\\S_=C3P;TKW(4R'=B8/=\\@]X=_LZ\n",
            "M;(.;!V$CY9FP+D)C0)H#C.6VB[&KN75(*;D>^4D)B?]%6/PN0<;\"%Q\\?;W-P\n",
            "M?HAS\":X_23KI?6,FAO'Q](G)>/T\"\\ASP..+W/O9WPZC!TPN<;[9TUL'A!ZXW\n",
            "M&#W]_-+1H\\\\G9=X7KA# \\I[C9M_ >!;G0 \\M:[?\\C\\QDN I5LR$=N;*NPO=R\n",
            "MBGF;]!L&=N8Q-DXSX'WSL1%.1^_EQ:Q9/H3;0) A_?\\V*>M&ORF&/'KA_V42\n",
            "M1%Q@2WGTOU/^==5=CA7]'N<:)>[7(./BZSF& F(&W\"QVP//X<+QBXC+).RYN\n",
            "M4F9!5:VCT[KAOY3[HF<!U68@7XCLY\\#<GD ]% U9]_J'@*QN &6\"/#=P>\\:F\n",
            "M]S^M2\\Y3\"! W9A7\"![&JJ'<&(<'_T+0Z4DW_LQXK;CFTHRYW(.OND/4!CA<@\n",
            "MW^*^U$;1/]Q7E4ZDZ^8_SB#_\\17^Q^G*7'^C64.0BT(:)-K%\\$I&T/]7PE]H\n",
            "MWV\\&;(]ZNWXB;FCZV' ?=:S.2+<W%^RMW\\L.F KV>M<7D:_V_X#8^5U=3:A<\n",
            "MW\\V9TF17_F]$#UKHT[!; TG(>2_/<,(QT-/O [T1I_QQ'JP[\\(C?\"C'^GV#=\n",
            "M9:MM8AQ%?X4L%M!8\"6-2AC+\"7-<_%X&==GP^2-]?]_LU&%[G.)J;W4[O#730\n",
            "M@@YB<#F9V*K_Q3Z=-QCY8@[^;@Z,=Q7*+9C3+_\\Y2 \\$<!6T+H:>=5]%[S/]\n",
            "M(@&6K@7$IK3+/P-E5@9 9_N'ZW^]1\"U$OQMOKM/0&'4O-*A15^$7V4CN7BE]\n",
            "MIP6<<A_>-;C3 *IV#RZR 4? PE\"4QX+V1\\/0T2O#0P\\21D<_\"O'LI<48-X4K\n",
            "M9D@*@(BXM%.(\"V22;,'1INRL 1G>,. <PF7-/Z4-P@9P 8EWLM#_#A7KSAL1\n",
            "M_=K_HSC4 ER7@7F&BSUP[G\\##!4?0&XPUJ;X!@S!-PR-!LX;P$!WBWQP]\\/U\n",
            "M3T.+PGT'<N@ UI7!=-F=QNTXJ2_&![EJQ %4#Y(=M!,&\\M\\'RP#(_97W)@F@\n",
            "M ;IRX-3S_U L%_GL'X4)6D,<-:NMMF@=H6NHH4WJ$KJ!$!29'K+51X.1-31=\n",
            "M<\\KDCL;@Q0!M'T07MP'-W1;[*6_#6A0K[H2/1ZM\"^BG$:5YSM)7H[2+T:$5]\n",
            "M9RC L#G.L(NA(*XT!O@3B.=U_Z.W[^_\")\\EK*\"9\"/\"9\"JP)W;[1(<%>C/-S=\n",
            "M\":TVOIULO\"BV\\\"%>(QK@!6UGH< E[F\\&$4Z!#M''_H_+Q!Z0H*!\\B;H'&B\",\n",
            "M#( L*$B;_M<_;+%OHA,0>/7Y4 'X]$ZQRB4,[AM%_T/REI]=ONWH^_X1%SSJ\n",
            "MM&Z[-.XEBLAZ01OX5*_[!@K &W&+L,N _!X%GK%FD)[@#%L>A51-*CZJD\"1!\n",
            "M'N1K'=\"@(.PE (?\\^L^^QPS;4,'(Y]%?/)^>'#!K<#\"4?'BE0#1;$/WU!.R@\n",
            "M0]L# =1]*PJ0+>'V'V>@J3#1>8%U08!\"M .$00%M!0B!(MF&/QQ?9:S;@ 40\n",
            "MG00]KO=0'X*H#RR US_UX8'^T&4H*BQ N*/UH5FC@;S$R/W5:]@,.V@8D [F\n",
            "M:@>OZ  M\"<&G;4X0MS%6\\H$, D.[7R-X/[P:&D\\\"31$I>HH T=]-N,(TK%G_\n",
            "MZ-\\U^I;C[BN]J5EH):@8G)WZ]_%3NE,GJCKI_6/IU)I3KSF%_JK?;'#P$+&:\n",
            "ME;Q_YK: ZNL+!DX'= \\-G _BW7JL+A8^W^SJ_;E@+LTK+[BZUBVEJZ]25U<]\n",
            "M^4NV+>=]3U'PP7^Y^*\\'_'5T?\"D4C1_P5.NZ:V!UYBSD#!;]1>*E733B?MW?\n",
            "M[9N;#0@?PC#:0GI<<%&4P?'=J/F8!?ZGFR K]H90EQ<;]GZ0CUX,$&B=^)\\F\n",
            "M>N?_2GX\\)R,>(]S_7@[L44B+ #9#$=1Z62'ZY1!&H@C&!#N0A)F7B?_+O%28\n",
            "M? '/H4IR=^!)05$=M?!EY1X!JN\"5A2?6C1@:G6E7?<,<LC[P+ZTBI'LAL[E5\n",
            "M UH7;7\\48!,)P@A-/3[M$)1-_T,_A)I !OH%F6%\\V@PE.A 4 J18D\", &=UU\n",
            "M%1HW0',(Q\"(0(O,A+7JE:NY=$*:J09S''@<.HW=L.@W,KE=!*S^GK@#UBR8'\n",
            "M_SQ8]^%_@UKP,44<S;4 E_=:<.?]N0(7^P_HE__*>ZJ*TE[C%*&5 )\\K$Z&:\n",
            "M=QHWJH]ZWRF\"+_WR6P#YP=I27;5+0<AKG;X5T*J@05_]%>!5]17_!$&L0MQC\n",
            "MG>9 ?8-GZ(E.ZTX'[%>_CRK5!QQ1SQ)UU9>Q):)'3,&-E9X+C._'B_1K@=AF\n",
            "M]<NKYI<UX6#A0:6B-W<FJ >MR\\=],,!&Z6!Q=F?1NYU02Y*IT<_9X<#1X^'N\n",
            "M.CT$]II=8*_QL8NA@*Z*[L,'$)6O$#>X^(KBE#\\_IL[PFZ$IJ5\\5GTA/+VC_\n",
            "M#4D^)\"C!S2!L O0!#,R>E_C?*?ZZY_3W$_? #]AP!4AYFF@:]]%K'Y?JJCXX\n",
            "M(M; $0: $7*.WFP]-0XB<!%_BXPH6Q[]'GX]6/7(KN-M0 _$G4U0 N4K?CT4\n",
            "MU#(<[!8_!(,P1X+V<?ORPMKQ4MG:,<)S431@7&'[*^3R]7\"\\?ST>PZGVL*S]\n",
            "MQ=@;!PWH08S%OW(X$O?;\\3Q<D? JKH\\AX_F-MK0MPWG^B_T:O)H+;Y\\)?/XJ\n",
            "M41FE\\U^?0F:%>/\"V^'R,YH8(\\\"@DNJY:_+[><&!\\)[[XM!^I,[=7H2QZQ1O]\n",
            "M+T>\\$7'0B.+E=Y&PW#@NQ,:Y'P8<N'^F-$-,#GF@<,4,G>I,3_>@XG2$YI^N\n",
            "M??72NNRR6J@E%[LUV-@SQ(!-^5]E+8/_C%_Q0/\\#+T<_OSAB%,*SH9\"CBX^.\n",
            "MO;!T\\/B#@)R./>O7U>*Q=6RAPR/R%_] _E4!CD?(#!FS5N1O4OKZH8J7H=- \n",
            "M5TZ72W\"^ZKOK*K>0XHB+(E:LB7V:U&60PZ%.C2K5(/I65#?Z@UJS;L7:%\"_Y\n",
            "MX47I (/G_WL!!TWK;IHWXWKJ7JVRHON$?_-!Q22-KD]X>#OD)IS-[K6U5<7L\n",
            "M%3OD &XZI-Y0I$E\\Y+AXR*%(DCQ(-SQ.@R1U1[:K ;(^O;*\"+'C#Q:>C%_!\"\n",
            "MP1];Y >LV<TA@T]?'QNA2N32RROL+]  9D=1=E*;B!Y,&X0M,7D']-R::/'T\n",
            "M/_^%HD(.16E7P=KY&S< N0$@$'Y\"] @%HH\\HP(JQK#/;)W9!!,E1-]F0Z;G^\n",
            "M5RU:>\\/1-F B%)G^Z7_T: .N7P'=]X^T+D90G.L?N\"B(+!%&AAV '$8J\"O;1\n",
            "M!Z/U&JK?TV,- +7DQLF!_R.T/5<Y8)\\JI-3(K_?XD*+NW/__\\7:^ZZ>J+R_V\n",
            "M!W< .4+(AP&-6E+4W3*AZ[FC+2/F3-#E80M &MU\\8LH$W<0.>A\\4ZJM>[(%1\n",
            "MPO_I^@7\\&Z%C@'5W\\K-'\\;KS$ 4JP\\:+H?<$&%!N8[KOD/@W0<>Y 2+L/QGG\n",
            "M(\\S2/:[X,$&'JJ,AKS\\Q@3L**0IEO2EL\\7;0P]O!!R\\'P1-7/$RK'O;/7W4N\n",
            "M+E[IW&ACP@-1[CQN%^A\\4C76N@OV4]<_:+>PS21AJ^5+ ]82/V\"]WQ\\7UKWR\n",
            "M>.25P3@?O4& D=>C3M^X7Z6]V'WT:^O5V@O''8;-&G#5Q[:KUKUS^-V D]SV\n",
            "M[T[X.+$'1.\"O4#U.G6'W'GMZ/ZMO@S L6?ZR RX.'CT=P1(&IQD&14*,(6RX\n",
            "M_H\"/L/5DQ!'N <6[1X\\1X '^=GJ,_A6;0!9A1U1)7!1R.8S=<\"I58,#A (SY\n",
            "MNW\\\"U/T?@)6_BA\\;!CS]G/=XOF+ Q@$OAN=GWB%BQH;_H'7#?@?>WRG?KCRN\n",
            "M6X#Y+EX7PS8<B+9& P/.C_!NP=Z&X:X'65@>-,#.CM2/N!(-ZAVB<M<7H&]@\n",
            "MI#O=O0I/M)]-+] 0,F*!B!4A\"[4D_:5]&44?)2 B*@9TL;9@:7 0&!H4-%C:\n",
            "M7=]\"+#D,EG;O&T.+= _$2[SK&<8V@%%/E\\DG94#.+E/#7::J549*\\6*7BM '\n",
            "M_&VG [ 11<,'^6$O!Z+G*E Q1:,RVZ<?&1!]5('K>Z)G O$K^B,0'Q\"QRO1S\n",
            "M)=KOKK+Y='7H%^(K3:.*F]=\"OJ:C@19E_D/V\\,28W;N>#\"6$J$N;,=:7(^P.\n",
            "M^=AAW_5&[0O_2;<64[J5Y/2M)!Y9S+L^(_IG[-N0A*739346VE'1!06HWKE]\n",
            "MU';YJ(K]2-\"IW+3H\"W$N6?22(&J$Q.L)/ZQ],+KZN5K]+C@;#5<;/5(OYD1?\n",
            "M!;4TT8N!2!U]%X@5T:&_UQ=%/P6BF_.BN7NI=!QHW?5OH&/_S?%Z(D.YIA6+\n",
            "M%VF2;$/0C'4K1G9KU-9G5C#WK^)/^&[DZ>,C*^1&W&8ZX&ZQT=6\"=!TT;,(E\n",
            "M#!QO#W.,<Z^HY5H!N8K3H/Z&=*-&7NP-_[C2!A0Z(=ZPG!>MSF69?NM_2&^W\n",
            "M)?'MMG+T<N[ZS^B= DS/\\C]ZK0#7AR(Z(%Y79(<#AYV!75$#<\\P SK2T\"R2=\n",
            "M9#GV%IVWTYOWIW=T/;1&5M?*7^E3H(/RIL,!^X\"/ ]+=T!@NA1=\"6*G)U;P%\n",
            "MF ]N.!SKI82\"HA\\7\\O40]GK:M-QT(Z[H<K32$HFT;&G_?QM^7]L$J5LS *&[\n",
            "MHS@FLO&JF\\]O=/5UA&T;1(\\2@(OV]1]2?G8D@Q/K[S1*D*Z\".GRO ]YG^6YI\n",
            "M!J^TXVW2P7X14/X0ILB_ ?^8M\"Z[_?]X:U+Q1:FT!38/B76P0>@- PYR_AV \n",
            "M_N.#/!76/6AT?<.9_]<G/#KX/U2[ XV@'.P?XQPFZQ1AW>*)%#*10B2KLAO$\n",
            "M1]Q*A'423!?T0MX+[%_D*WQR@TY*<6/1 \\:.6XH@CD>/&R$#V @F!*.G\"'EN\n",
            "MK/O^OP$T/],>T>G[(H :4K7 +6:[=]%V\"DO_[: TASK!+]<WI@W#&P7.06.0\n",
            "MOWT/2.W_RON!_0.$* =T(.IW?#TP<8>[]\\^%:/$C^NX$9XB;)WD0]W\\FA#N8\n",
            "MO'^;B4U:'2\"!4BC76,JOD=H<#77@P/N)%)+Q\\)7>[V^GK82S-AE[/#[0XD'^\n",
            "MOZ43S UQ]\\IG:KI5N>1. !((!!]^Q83MV&'T QB:<T!R[.#0<S:^ \"7AM[')\n",
            "MZ+5YW\"#5@:Q3^/D&C:\\V \";2>BT DIB.3N9XR\\ =]''M@8P-WA[H\\ /.DKJ5\n",
            "MHR $#!<[I$APO$O'!L#4!%]E\";\"X08L$&6N?N=WF?X\\2\"<XMP&OZF01M0*I!\n",
            "M\"G<I1BI@I%MT0-OQ-AT'@SM-^'I)EV5NA@!]HQXXWS3=A;G__R'+\\EW7S;B^\n",
            "MO$&/!XCX_F]H7!YS9-;^P-. 2%6+OP?XN]A!P*<@_57HQW(5VA<.2.S51X \"\n",
            "M79KWO&^/!'\\A1\"\\:P\"\"H&$ ^H2]^]!=\"]'U6A714GL2\";M#,LI M0/2ZS2D=\n",
            "M7%\"]Z8+'R .LS6KO+N[4_B$\\8&X2I.T#2(>*EX]._1RKM-PX]=>#NQ1OJ%6/\n",
            "MQ2W64F5+\"'F\"O):GOM[0(^CY R\"EA_5EPF$V)Q4^?;JXX7C[_Z.OEQ<''0Y^\n",
            "M3W!QP85%!=*5_[_C>O?#D@YD/_7.&+MCX(O]2/\"<=:#MC>O^LS=0\"MZ/OC+_\n",
            "M87_R<9O3B<FP/U[J^KOL'^)]ZB]$3!\"88Y.+CZ,.\\\"U#Q?!^@[9)(ZTF6G^@\n",
            "MS1,X:Z3X\\T!B2I%%?WTQ_O4$(5EZE<BR\"AG+LT+ASN-^@) CX)P]ZY;S,$YP\n",
            "M*OK/!30GRB:M4>)WA!N%=/W>AZ)N&1U>F!SO!6;7XQ3F[1#<LO+FN5Q<7R$$\n",
            "M:AR(?\"[#G0ZP^W(-)G; VO4*H*O!!Y!;?I8S31 J[$X#?FB. O%X+OA1D(&J\n",
            "MZ\\<EIXK-!#RMV\"@\"2TZO>$6QJ.[_-F8->C\\;+5SW/I)/<>\"?!9!G0->Z2$BO\n",
            "MML-XXA-1[$?RB\"=8X3JR]3B_4A' $-].5WQ0 ;8;D658GAKG$B08%/'!(8&P\n",
            "M[GM):R0F!&PB'!S^X_B$T<%'EUX1( #PQJQ).^?Z C%P!V,)H,7T6(():>LH\n",
            "M!N?&[PF!.V<O>1+M#W%L%?+\\@:<\\5=:-+WN@Y/SKJR4+RM(.(HTC!TQ\":2.Q\n",
            "MK<OE $5D,)#>A^DE#I@+Q(7I\"U2)M[?4F[=YR .3 [K/.8P+(!9AXH/IR0OH\n",
            "M*9B;0YJ\"\"/FL_FMA@6FGW>.P>*LNI/VC>PHD!NM4 ?( ;*@.,B(#1YPL8(4,\n",
            "MW*+ X@YX18/Z29FX^>F?'8+N^L3G*<+>6L 0>19]3 &I&!GWT]?=_]B@_H&Z\n",
            "M2.*TF'P@W11%RT!D\"9\"Q07:*W<RY 0*>X<9UA=FC1Q/[5#]@F<-H?KM]!P;H\n",
            "M2$7!_5NZ^WDFI'M/5?F-'G?MD3C>TT6GA.24D(L28N4IDBY)GESI#A2ZGOS,\n",
            "MY$%P0:E/\"0D.X#]/2W!P8C3D>5WEZP.( ^\"N$,83=JBK863W >.V#:/T]9<M\n",
            "M?H#RY <.O'XT^CF(@,7[7RE^,?'1Y@?X_[W?XD&;B7\\.'5K<!E1FK4J2KT^7\n",
            "MVLA+UWE551=-)*_^!2 (H.:%5#*43[?)X34;*L:&>E'/$VFHJI=/#<+F.H_0\n",
            "M:!1,IZKGT!0!LU@%U84SJA#$6STCNZ\\9L\\V,EC)C,QW\"58\\?8*_^-ZDO1[]*\n",
            "M2L(X7'-Q^L7YD^1=DI*%Z-BX2< ^&$/-&P#&B_#C^HM>!DK2_^+^T<N9SW^\\\n",
            "M^CLA0/37 \\!/GQ$Z$']BE^@'D*\\=>Y]I/^GXB8%Y[AQ*MV!BOP\"+%NF#%=\\^\n",
            "ML1-7]2Y7><6Z[]LDP=8[A6$Q4,MT&5Z:2+KX_OKUEK\\<\\).@L^B7)72=HN3%\n",
            "M^DXQYZ54M%^-HMR),U(^'3X7/Q3IXUA*P8/H'>QF5B9Y=.SN<-',!RHD7W=$\n",
            "M%_\\W(#OG, 2!WX1=</U!R#PGVA4(>^)N?L0BYM'!'/027W^O3FH@D\\ZZ.'_)\n",
            "MS&E.X+](ZV#A%#P^N1Z)RNZ!2.E&W'F?;L/%1 4F-LK0*GJ= +W.A3G8.,' \n",
            "M_E\"=2W\"A]+H&\\N?ZCHNU#Q[^,/KVV .GKPLQE9M><F*\"B:DPCD%@Y0/%UF'4\n",
            "M2P9H:TZF LBV ;*N_/SK?Y#N0(YR<RZ>[C@8%]%^3@\\>BB9J\">8B 4AAPH'9\n",
            "M0Y&S*R27<FJC:DK AA8X*_D0^#E:O?-64OF/<+S)Q=F\"JMX+H/5^]H'+%_LS\n",
            "M69UO6C'1?]BJSB)NWY!WDR:Q' >;RTWH PU K7)KYLB^6++@ ^!G=&P\"%3TC\n",
            "MRC/EKUP^,+@CQF++G%CE0B0)'XFTSLJ+71!N0 L,0#V>/O*]ZA287J\\*%V*S\n",
            "MFK&X8+8^KHD7'H@L#II5.* .',>\\V=T+HYF1]1E_?Q.]2P!\"F/@*W'U@-VYD\n",
            "MGJ&!B.$\\^F[EX0%!:.I1/IQB\\@1*J-,*R>2([ Q=)V0A9F  QG'$5T303$?C\n",
            "M MBOCJLO3%Z7_OWYB^'YT$B8(KP'_XPNE^$.Q-X]*-> LD&[ 9TPOF6O6UHD\n",
            "M%<8W&.6E,)3KBSP#8\"(+& P1'\"\\7Q$N#*YATHU4%% E0-'A?^WUL?B^&39GM\n",
            "MQQL(D.+U#].0= !U\"8G;9:!?J B,W2K\\#=$V/VJQZ/J+)B0=R\\RNN+EB]8JM\n",
            "M*T+GQQ&<F7!F5(%-ZYJ/9&)8N0+4O=H/7O_M4'<O]QW:#JM1;G3TT;613P/+\n",
            "M!SFX)N[VXN.OEKRZ:5[R_+]V7=YZ,469V\"($^E\"Q.-R7:7_F(2R>>5FB[<1$\n",
            "M_2>F.\"S5W_P7?T%^LF^(?OI_W_\"8!WR6JP#L#3\\_>#I W04)8?OWQ4</EP %\n",
            "MIL,;W$Z2H\"AP?NR\"T\\=1+ !_'\"P=0!%BQ=YEX\"X]R'?\\WZMR ?75A@J3F@69\n",
            "M]VU=D&;3NB4+$NK2J4:QH P[ERY+D&4HYJ$8Q@K'OG5KMZS;- CI@J3[%F3=\n",
            "MN66T /U9]FP:S,H-2S<-K2#?,#Y)F358_P[HL^&MV#*\\PH4#V+%I:\"U+UB5(\n",
            "M$\",&Z,@D29HW<\"L79!N&98K\"NVG9LI')L673,!$7WD7#&,P/:S<,I6'%LA%\"\n",
            "M.H\"\"=%L6#YG0*G?.J)$)R*+6I%!PP5C522$89O<$3-^>P?)MY[K@?\"B$!U58\n",
            "M@Q4\\2-7P0>0<CG3OAI63#0A3#1U;5PX.KLDV+PA\"8*-.IS@3T!\\#V[%KVB9P\n",
            "MAA609$#/A=7!BW1>#2JU\")!-ZG:,<0C!$Q#@S9HT:X)T@H10:(>-KW!Y-,#H\n",
            "M&<1CLU+)/ <W'F6C0,-D8:\\F!5ESILR8-Z2Y65Q)<&J&89E-<;AIN'D*8<DD\n",
            "MXZ856Y=NF15UU*D;-@)LVS9@28O+)C @9:,Z3IY.GX(T6K0(HU-!#D4\"U(\\6\n",
            "M)8+SJ5205:>HU:%/H69-ZO0H\"!\\DPBM5J4F%5J6:]*F3RZ9)J00'Q,/8] EB\n",
            "MC2:Q!\\ %&=1I%J8<-(LGJ'#*9)+1,>1B&GJ\"*VAWW!MRBAXB#W1P3HS\"C?&R\n",
            "M*TXU/$T.6N)7;/IS2*$JH,>Z<-D +AE8\\![2K\\-[4)]\"CS)\\&S3 :1L2#0FH\n",
            "M@&R;%.XRO#L!6#0ZV$*S+X8Z AS) 7N?KIM\\$9,A;\\/A#6S -:P $PZ^#O=-\n",
            "MM-9L'3H*EF$\"0Q >,4%&\"H088H^,P(CC!.8]'F5\"X3Q@F.P;S.-C-S.1=,'Y\n",
            "M<BHJZV!\\!!5S2,\\.V]0)Y3(3BT((:JEQZ_\"Y<)\"!!5%&APK,44SL4F*717<C\n",
            "MN6P3I(4\"]N&#2WA?#V/I;+X5*H29!DDS)LV6,VO*;'F#V[=QR+Z4;&#'#N'<\n",
            "ML6'/OHF$,V/**!1CPJ\" ^$7QD/664(?4$!'R)LZ<+6FPYS\".D%/8C !QR\";L\n",
            "M >05BC5CVFQ!7'- FS-A(#Z %&$L.\\:<$*-L=#CT-;(BW.I-\"R</-, OFU:.\n",
            "M8TU[-HUKPUSC?L CM*\\'(ID(4Q,V9;#AG#+9JG/@8ED=0PZWX/=*9+N0)*L#\n",
            "MFD,]$<B5+EVZ[(+:)\\U!:E'5PY9CM[8!; ^W7DDD?\" 3-B-N>DN>7H%RO&\"V\n",
            "MS#5\"FD0Y-R5(%/A_LV& ;;HI\"DDRAF . 0FV8#)'^G*R]N=X8)ED71\"\"<IK(\n",
            "M1A.T.\\QEV#P'G\\'WQQ ).5-' !G OC&4OV/4(X5))\";I!JTRVVQ;TM$$_TIG\n",
            "MV\\PN!%6DF^LE?$-DCKQ]1[CW6>1<GG#ODO7A\"M#LU#&Z\"K(+=8SL!^##.X)S\n",
            "MOAQ-A+LU+$NQ+,=VW1J3I4R6,SY>AK\\3/=AP:Q\"RQY>!.ED*L2V%X!\"Q+AS1\n",
            "M.05.# 0YLDM<3EL<B7Q\"S,,Q%Y(!O/J&9%^D%ZF!5*>D0B:,=>+>\"=L8]9HG\n",
            "MQC%\\X*^O$$H&O$(5*%7)\\@=BUQ!*I\"4N\"('9H$R9M(PNBNYUQT<I!?6PT&C0\n",
            "MJ51#A!6698,%TPA!5J53AXP66IE/-:;+&#8 WH/OUVR90UV 5]@&$L?,(3V \n",
            "M ,C02S4OT9'(O!3^*AJKH10D 7P[D==JSI=H:IX@M]G\"604A[!E8J[J<8HAA\n",
            "M-$KT*=4V')^:-9.5^&BI:RTKZ90.J:O_LBJ<^@>#T@93KQT3/I+:H-@X'J2M\n",
            "M+3Y'<*IYY>0FS\\15&WS6&X\\\"50$Z<\"I\"_N4$[@M'J4X!,H5*-0:C+HMB+4)Q\n",
            "MZ-,F+H#GPS@I91U(@25DYV@@ $<5_4HV3R_B.5*+3[8G1IGWI=N4/QB;1'+1\n",
            "M[0FFNM;MVSODD -8\\O26R700CBK.$WG(KI/MVS%*LVB,(H_X34^BE%!RWXSR\n",
            "M-K(Y5.I0$,5NH?3I$H8,&U@0W..$<.4 [MP0-'GX1:9\\@[@^NH$I1.P+DZ1:\n",
            "MIF:)5\"R)TPU6@=ZBT<0ULX$<PG$D5P-L;AJ$&I0JDHE([A0;QFDIB2Y&FR36\n",
            "MW1(EP)0M^#G:'5NFJ2W1=/4M1X\\7J4:R+:\"6,$B!FR3;')O\"*;@\"+-*ELI&(\n",
            "M@?I0\"MN(N+I&;$=S19K6X6S+H%;DQ4'K*\"D9X9@A)(;B-\"30M1#CD2 !W\"%$\n",
            "M&+6'8QI>-Z+4F(+[ IC9\\Y[6=]EOZR>*+*D7J&9;N&4\"*Z20<X;2I43?]*@_\n",
            "M3.O[]CYS 9&[TPS/ADZQK'\"\"](\" Z<P+QW[?(CM* SH)I[3!N5O@[_9=VG%C\n",
            "MUJ95L]=?/_U]TNK9A]9NTV7?FA43,O08\\:/%CA8Y%H0J<B' @1DGIEUH$*%0\n",
            "MB$,#3BSH4R5.LWNUZH\">QPU)M^;.GS3KNFVZ =&3(5.&)$N&NKT4*->O4S<^\n",
            "MU6@5J52L#RG.M(MU*%&':[,>-5H08=\"G28-F% #NJVV+E^?2J$/CGH7*E^U$\n",
            "MF3QA/D!:A7HUFA K4Z1*;^ZD03S':Y6FQ,1GBXZ$) +T9ZE3-F3\" (>G8.A[\n",
            "MP!W!DQ*@U8$[AWXUFI1IT:])G1I]\\@R<2!%@X,\"! P;XV]#] \"8_Y\"VA18$\"\n",
            "M,3: ^ADR/(C0HL7_$AM*%/CO#2)/GDZ;3CWJPV0LU29,&**++<(:B7I(=&H&\n",
            "M>GS'@C^@-IR1#2I=JUZWW330#VZ'/XJU/4&!F\",@P.MTU#O$[EDTG+='$2\"T\n",
            "MH;^[B:S+%OEI]0%@63G ;$LZ_KLZFQ#K HI(&2'\".\\-4O@GWC7#4%$; 1Y$T\n",
            "M____!U!+ P0*    !@#R2@L9;![>X' %  !K%   \"P   $Q:4C$R-C N5U!$\n",
            "M#P 2 R05-B<X.6I[3)UN'PD& 1,TY?:6]R4,.W6 YHJ]X\\.!$(I'2W @0*)A\n",
            "MZ8:%*_<MV;ICZ<X%R52K5) Q9=J$\"=(NS9LN8<SS ,%P4P//,L\"X#(]5H/\" \n",
            "M(Q-<(QE4.T6 \"P'V' B48(%DIY#L8PL:!#AAVB4*-#HP03(W.= PP07;UKQ,\n",
            "M@2\\'-@C+FM<M,/U !]T.H-NY$YPP;=_'#2AV((6B^>& H0=6!'@AV54'Q#_0\n",
            "MPKDE?SS@38(7NGGW@&D)C@2X%B!9@($!*MC*@M\\XL\"I 8E II+]H&&@5/,C_\n",
            "M=90]RK!S43*\\1X\"3P RBMF,2ZMNY=*>.E9L6+EV 0]_6.;ZL7(!CVP)\\\"_\",\n",
            "MVNCN ZFI#1VR?$#5!-0&]';-9&L!QW0WM4$.:C>L6[I'P\\HE6T;YHT(!PG$;\n",
            "M= \"W 51ZS20MMP'L$R]#!R1(,8\"7.6\\!;^, \"W@9\\(5$O SE-AW ;0#%RP!T\n",
            "MHD]0#]KTP-@ O P;\\:% *&\\#ZKEF\\K0 U .BT+=OU[:1N^.T/!NUX5L/# U \n",
            "MR[ 1-:@-\"$D$HS:@)K$R-.B!LZQ,ZY.G([(S(B\"B:R91K0W0F5@9NN_ .5:F\n",
            "MU,;% 7Z0 ZCNFDE7:@,4*T->'=BL#5\"6#OC\"H4*L#*4VU0:$VH W(!R(5J$F\n",
            "M';$VX S4[E4VHS8:]D!2K0*9.^#] 6H#NKEFTE0;2&YJ@XRT+%N[9>FF'1M&\n",
            "MX]V&;6C4 SNY 3JD]X#HV ;4=<WD*K8!*A(X[(9M4+D&QS; RVLF9;$-$(YX\n",
            "M'2[;$8&H-B\"0M@'E5,\".:QLP6SIAE3CF=YRX'3!OAVZX)X)&') &W8\":KYG,\n",
            "M13< 6RS .W6#PB)<W0 WTW%@=0,PW[ 9*HP4RH$+(\\#S:R9YV0W ?O-9(-0-\n",
            "M]UD U\\A@\"A>0\"!?R_4!R/ ]2H0#9 :3'!^A.R]X=6L;EQ.OG@1XM6S&FNMNQ\n",
            "M8JX([7V@-(,+*5#@HU<(J/^:R5]T [#3J!D:^<!A5X2.J*PS '%?,[FK;@\".\n",
            "M;DAJ=#/20$:$1C<@\"!R\"P1K= *(<G.]EZ$8;'XB.\\B&7T0V(Z9K)5'23V^@&\n",
            "M&6I8-C#R-*KC4(5XV=9&XAZ8;O$A?:T-B.^:R5=K ^0D6(:6/?\";X$-&8HGA\n",
            "M'J T C!L \\K:D)T'0LL#9.^ >-8&5'7-I*JU :I4@&H*1&NCY0]\\&6!M@I]'\n",
            "MP/E+6!M0P?4L\\-G6!GEJWC:.')2?PX8B9S%IHXL/[*9YD*K<  B_BX^J,HDM\n",
            "M;9\"IIFU;!B!.58B4#6VDWX%^+@^2T^  ,- &S\"12AA8]T!;E04I*&Q#+-9.E\n",
            "MT@98:$,\"'G@G\\B CH0V(Y)I)4F@#;\"D!K*=!&[UR()$H0P?U@C8@4$*PW] &\n",
            "M60L+M-FA:\"#,8R#B>0'J'?,VU,(: )8QH'G4T +QO0VH['P7W-M ):+:GQ4#\n",
            "MVWUY+4^VL9W>L),DH /:L'/PA[-^+\\B^'U1G.NO7G4NFY$X7I-BR9_8'R4;F\n",
            "M3L>MZ<H-FQ?$*T_6 SCP9R*S;US$-TC06K;-*MDX?F,<Y!GEF3V<MD*;G.D2\n",
            "MY\\V:>'$4RWLS>[9OL,/7&O@ FZ;+F#+PS^G\"'MJ&/4\"C/R9,ES/<AIQQ#]#,\n",
            "M\\I@QZ&%ET .L> $+TB  ,M(% 2R1)P0@)U3B'9;&L-<87FR-[LTHZFG?] EP\n",
            "MZ\"/F088Q#T$.]!CD %4&.4 1\"QRYKR '^04\"XG4X?[-ERY(%87[=,I?E;^4 \n",
            "MF;-@!V0SQ\\]IAP^Q&BYDV,7\\$\" :\\H@R[/:&W86M^)AAOS3LGX;=U+#'&O9:\n",
            "MPYYKV'L-.[%A[S=LHVNZV[\"'&G9+G^9IAKW:LG\\X=GV.3!(= #<(TD %4$L#\n",
            "M! H    & $ 9:AA)<@PP+;<! !#&!  +    4%-#4DE05\"Y$4E8/ !(#)!4V\n",
            "M)S@Y:GM,G6X?\"08!$S3E]I;WFVH]')# L0WK_W_#X[HF@>P#=$##[O\"C;H< \n",
            "M:2=L'A)W0\";$4T6;=BY(N'+?GI4;MBW(L6'=NGU+%Z38LB#EUG4+,HWP1)].\n",
            "M!=GV+=FR+ALJ)#$T[K1H08IO&SX>F#XY\\_T!!W\\$\"/I!M6[89LT/!(A10%+C\n",
            "M#'BT(=:&7AOZC3\"]I+2X0(0\\ ]I.<+S\"@3X#BE0(M</P[@,2%G'<\\# )CCYP\n",
            "MW/\"V\"4)-<=SP:@\\:7'#<\\/(5!C\\(L:/P@WH7:AQP_,:!KA?.#7 \\W8#'%S[&\n",
            "M<#QDC&(;#K1P/$&+T1W617\"\\781@'T(%<'Q4@&@?&KOWXP?S/\\R^X7CM&[%'\n",
            "MW'%O?=\\^8HIW5VE1[$26\"XYON7 CQ941CF<9<69%:?<^':#0BM2.]NH(L5=4\n",
            "M2N#XI01!6CQV[<@!PK3X4,!QPU>U>.[9T0,T:Y'5L;<&*->B=P;'?V?H$J%,\n",
            "M &\\UO-&+JPL\\-SSKBQ'^72+!^1?)W>7E!])$:'EE7 ;#%6F'@!&4B=O$4*9A\n",
            "M<N2K8%ES+',_RYR'GEIV0,O<QS(OM,R!+'-%RUS(,G^TS(DL<TK+W,@RS[3,\n",
            "M\"YQ-(CE3T^YIFF/%N&#90RWSL1A-+'NI99X8HX9E1[7,1V-DL.RKEOEKC#F6\n",
            "M'=8R1W<TG[7,\\6/LL.RWEKE!P!'.YA4S'ICVG(&6E6-& LNN8YF#S\"AAV?$L\n",
            "M<YD9'2Q[GF4.-\".%9=^SS*F\\<SW+'&N&(2NB9:XUXX-E1P [\"C#-.#^PS-MF\n",
            "MG+#L\"98YH*^Y@F4N.<-5NF\"9OSJ:_UCFL3.B6'8@RSQ[1@/+/F&9?\\_88-DI\n",
            "M+'-V7W,&RQPBX !3YO S>IB>88!I/A P@VGN4,/>0^0P38?4^&+9!2QS*,M\\\n",
            "MP#+_,\\X)3$5=\\P++/-@R-[#,X8VS)],#-RS+F6D+RVS+=(IEMF6:QS+;,OUD\n",
            "MF:U%&PQ\\X2HN=B.\"O^PJ6NV&TY>KZ#K+[\"H:T#*[BEZTS*ZB+6_8@UQ%=][H\n",
            "MX(SHU1L;_!&->Z.\".:*%;V0P1[3SC0GFB+ZVS*ZBP2WS!LL\\W3)WL,SE+?,'\n",
            "MRWS?7!S\"D&@.RQIAF2_DL+9*6.85.:PM;Z!#<CA+WD\"CY'\"65ECF-CELCEI8\n",
            "MYD8Y?*T7EOF!+9%/.1Q9MD1SY1AB2^@^RVQ+M&>.'+:$UK7,MD1;NXIMB?;.\n",
            "MT<>6T!P[^M@26FM'\"EM\"N^WH8DMHSAT=; FMNB.'+:&-Y7);0J/;9UNB^7=$\n",
            "ML\"4T08\\@MH0FL<RV1!/U^&%+Z+$>;6P)G=DC@BVA0WL\\LB4T>H\\LMH2F^)'\"\n",
            "MEM !MD2B_(AEM-& /\\I;MBW1<D$LRY9HLB&694NT51'+LB4:Z<AYR[8E>B>)\n",
            "MHV5+]&22*0,LMR6:=XEEV1)=WN219=L2S1+%OFR)_IAB7[9$WTWQM6R)3JMB\n",
            "M6;9$;UWQ1F>P)3KSRB_+MB4:_XIQV1*MGL7G.8,MT?%9C,N6:*@M H$SV!*-\n",
            "MT<6R;(D&[V(HV1(]_<71LB5:8. I6^+%80YYDQ<[98XPQK(F6^9+EKFS9>YH\n",
            "MF4M;YM%C%EGV:\\O<HDPBRZYMF6M9YMZ6N:=E/FZ9BY=I9-G/+7.4,_9UW3)O\n",
            "ML\\SA+7-9R]S>,K\\_4\\BR[YOY-(V[U=\\RYTOC6@4N6%9?U[S ,@]8XY<TP3*'\n",
            "ML,P9+/,/RQS\",G>QS\"<L\\YXUCE8+R_QOC:,UPS(7=LT[+'.\"-JX5Q#(_:F,K\n",
            "M);',&=NXLIY8YM!M)EGV%<L\\XXUE=;',Q2QS&<M\\U3*_L<SIWSA:=RSSG#B.\n",
            "M5A_+O\"].),L>9)D7Q_&N1I:YPQS7RF296\\UQK5\"6^><<3]0JR[Q\\CJDURS)7\n",
            "MJ6-9O2SS-\\N<S#*GK>-H3;/,^2WS-LN<Z(ZI5<XR;[SC6N\\L\\^H[]JQ\\ECE&\n",
            "M'LOZ9YEO6>:#EKFG96YHF8?GL;8J6N8F>VRECI8YFV4^:9G+6N:7ECG^GDJ6\n",
            "M?=,R%^ICT/73,D_LXUI)+?/I/IY25,M\\XX\\U*:ME_O7'VOIJF9/^L:^SEOGZ\n",
            "M'U^KK64>$\\B[YEKF=8&,*Z]ESAO(N );Y@*#7.NP99XTR.VKL66^.,AOLV7N\n",
            "M[)HWNUQ:R+5\"6^93A:I8=FI[H(7,I=>6^7$A7ZNV9=YPR!;5VQ[H(6MKN&7>\n",
            "M>>B*92>WS)$/F15%MWG4-6]W.S2198VWS)42F5KK+7/(1(Y6?,O\\.I$C*;]E\n",
            "MSK'(M0; F7QLD7<]L,Q3%SE:&2SS@8%^*DV]R$77#+_.M1=YB*IAF7<O&F&6\n",
            "MT.YJ3,N.89G/+]IA%-$0C;;8193CWU; RL-5\\:16'EHX4@0K#ZT<J8>5AT:/\n",
            "M],3!0S],^N#FH3TF';7RT,&3@OAXZ/!)+WP\\-/ZD#\"8>FJ!2IP(F'EXPT$^E\n",
            "MI3)]L E0C>9, T(E2/0K5\"?$BH18K1 [$V=EDLR1[/Y\"!SZ%.E7 \\ *)-B50\n",
            "M/%(BT5L=.+6JT(9$F1YQ/RC4HE*G)M7\"I41OH02&_0FR$T$V$#[SI2POA=JE\n",
            "M4*N4877\"[$Z%%B#6)\\HROE\"B X1/8CP3XYD8/T3MA*-^:!/ABEOZ <)-?T3[\n",
            "M(]J.I'DDVHYTB''B$QCV)\\CV;.HC47JD5OHO0\"S4;I6)LR%S)\\C6MA&+N+3]\n",
            "MP\"5.V?!+B#D68I=Z5\"\"3JV=RM3,Y*N' =[*U#7L29!L6(.^4\"K13@58JPRK%\n",
            "M2#7)WOV)L#$/A7DH8CD486-^BM!/4;)/>>LI;_D4K+)_0+X9)VQ(;P5IMX*T\n",
            "M6D':K2#M6I*<\\$$)#)M8$6L295%?*Y$9YBEXGQ0J%</QJT6A3AB#[6$ EF-&\n",
            "MJNL-+FEC)E1AONJ4XR?^']C\\A[<5NT35\"HH=HN< Q<X@F@?DM*P)M4_H5CGC\n",
            "M?#*!8NV<H-@1YHI6!15,T?IF7VA^[ZKP*8-B/[BL6RV:*>9_BCFF8AY+*0]0\n",
            "MMVI,*4\"J!20KQ9<#GE5HP!YD]:P<^N8=BKG ;5,KQZ$\"EO69)!9/-TP6KPX]\n",
            "M\"UB:=.B\\ (F:0#9+Z3WK@K#4X?('Q0I;8H!ZFD#*ZUDC9AS!D%KG6\"I&Q2\\$\n",
            "M#Z!8W0HH=H&%*Q0[0?8#BE4F@6(?*+7 LMI95H(NKCFF8@V(&4&W<NCF3/8U\n",
            "M@0Q1T,KT0K'.*%:\"A$T4J\\<3Q5X0KH%K@7!%ZX.FM>\"S:#WP6Q;M4#,42Y J\n",
            "M5@[%',*U/E16S'&-\\T)EJT2S$(H553%75ZP7@N89CJ9QG<638_A:NX6E!?DG\n",
            "M.$O;I%D'7LA+(VJZ6PFB*5L'(HI6@<OJ^;*M=*\"M:\"VH[5T+3,T+1ECF%9J6\n",
            "MI<M:!9;=$\"3-EC4_52;^[V@^H4\\J,%R]@! VM18KFQW-(13S@<RBU<(R0P!;\n",
            "M5HA[':3KAZEUH:MH]=#-#8Q3Q=PA] G+.B!(6K%:&KB7(FO$%E%FXUQAG[ZU\n",
            "M8J]HK7@DG1U-1TG7@I/:TH03 I\\[*ELQ='.!F^Y6@8@U?*THTJP\"<T3S>X&O\n",
            "M\"FR^98X=B=X1^]S=FU7@KK4UXK!HE=#-)88JLB)8IF?5*T(=06*A:,5NK9C+\n",
            "M_W\"Y;)G76=:+FY+2@BH5%\"N;XD<2)2K5*DBH;^?2G3I6;EJX=)0KWBW=LG)U\n",
            "MQH0)D^6,8:J'LT%_RJK/M$A2*YBX6TTZM&C3)\\<AL!OP]39MIE2B7N$43;LH\n",
            "MU2&D>%(ADG\\#Y8,RV42#U946'4I%[!L6Q4JE'JF%TCZB+H?XU:1$J2*I!\"OP\n",
            "M=BK#_K0J%2A_T*B3LTMVZ  ER%.<.A12-:?SU8M.W>)]4:=5FUQM==I W*:W\n",
            "MV7D)\\54\":RZ\\^HO\\7=X_/2JM^R)&.Q.1XPBZFZ92] R@IN3R)E.G>2LT&H0^\n",
            "MM9=2O93&_\\ DK)3\\R2#U<]+XJ)-OGO33H=:&[BV3\\D;ZNMJ947G[!I5M9$_4\n",
            "M:I!73+VQZ6C2BH3/26W\\25.3LH$F.Q3ASC#$J%6NST(4A7\\3)\\]E5Q.$8[&D\n",
            "M3.\\%=W(J6S)MK:!EH_-.F4J)I!-4E=!-XDZ-U,+$([,;(<NDTFESLB,YD6>=\n",
            "M:D *%)&F\\O9,O90Y40RY)U:_$\"<9ZOT JG9.6PK]*4_1R9I0WK;X27DC5 Q\\\n",
            "MJ?H!3A@RAN]5H93374H6%0QXP:J+V5^UZMNC0>)^'>:^L=(NO=@HP<5>'9I,\n",
            "M?!0C<;L*3?ZG:Q\"M?X!KC2)4\"'4Q?LU#WIT8-R? 32/@]JN:L5BC#4Q_EZ!:\n",
            "MLO_M&M3<9AU![0:HZ4[I\"*!U,5&#CHU\":'8$QC-H=@3-M +U$;2;_)ICO:-I\n",
            "M3*./>;\"*K9JV48W>EH[F,8V.EP[OHQI=,$ Z3F0:O3% .M)(-?I%.IK)-+I(\n",
            "M.KR3:G26=#25:?2;='@KU>A!Z6@LT^BP Z9QK2:/'_52Z'O]NKA\\5V&NN4>L\n",
            "MD(M\\P3TZQCZ8O8DR?-RHO!#C1O6):(/\"\"XT:I#NCOC@^^\"])HG53F@S\\5V35\n",
            "M@75#'#L(G77=#,=N4I\"..D+80Q#>P>RL^?\\_^Q<\"IWM4+5\"TQ@$T\\T1)!WW=\n",
            "M@>GC&B\"GA&<@O(+J#3+VBM C5+4 @E\\,SQZ'P$U[M,*/Y2V6/Q&D27I(<Y0&\n",
            "MH4R9=H@>J 'J^5'S_@6,N?\\\"T(O;*XWEZS9^QJ_U\"M[A8KO\\!^,$H'6YF](O\n",
            "M+NKBXU_7_,#YB>V*TUKZ6NG_@'4OK@2V.(N#/!.>X:) 4.U9\\01:SZC-V5<X\n",
            "MOT+;C7JC]L7(E$<@/(/F\\5G=E)PO2X%UJR9V:JY>C:(K'D'QZHJCRMDO/D \\\n",
            "MN:_G#6J#\".P7+I)7=T[<^_H$Q.-3EJ@5_F)O0O^;U5K3A:$VHCIL7_]Q\\?#&\n",
            "M?LEA:8L'<Q]H+0,\"2^<&B+9_1^/ %ODI;WY'W?<=<#QZJ)H!=;X#R=Z>NN[H\n",
            "MW/D>8'/%/=N9-@^%]QWR \"\"JN>;1\"6_OV4$],V97]TS#>F;,SNZ9@B/%[.Z>\n",
            "M:6C?C-GA/=/E#3PK?/M&2,ITEWP>S6-)0SCR])![(*9[8 AS8^77%S\"V6BE^\n",
            "M\"\\)3;/2D+>#![2^2?(::SAU]^GWY4U@<U^A\\ .VZ6X#I;Q)0&DU!:7S!.&TG\n",
            "MLN-3RH3>Q2%EH75-?)@X &*7#!\"77&=\"=D7-?IF1M#I*5DC$&S^<70\"\\M;N%\n",
            "M:J>DK9:(10LM_6%.7?W/V#T9TZ)(O#6Q,6X5H4&/C7\\CR.+P'6O//08(_O&@\n",
            "M8^&+L4GQIT8@M;N=*0CGF']47S-GK%V ,^?D3')SIDTYD]Z<:5+.)#AG6I0S\n",
            "M*<Z9]N5,VG.F@3F3^)S5_M&40.F>L)(+L=(,A,0/N4'74V 3E2*OJZ :#Q!;\n",
            "M?/%A5O\\T8?(\"GFE7SZ2Y9Q+6,XGNF90-X(G\\L'H!=I23-E\\#=(\\585T)U8*[\n",
            "MRP+(USWPM<OZVK[)'-^6:817#I%N!Z3<9T\"^%HQUX-\\'O&L60%+3[ 6NM^ 5\n",
            "ME1Q=KF 9@V-Z4R3NS%(,S2)[ K%.T*M[ 7MP^ +JH(?I+?MA>6@%F[8+)W+[\n",
            "M-(=F&D<SK:!9&(,7Q&5Z+J#S< /EM)-FFH_=3FH5^LIDS#_5,^QXAG]TP47L\n",
            "M!E!_J^(--OZK<[$\\UV2[Y4]]FES!^FW;\"O;B:,HN1-D)P=Z+%B7D[_I=[-_D\n",
            "MP+M DK^URTM5B\\2Q2JRY%=K:-><W\\!<.B+9=6[9J7GA@&O/_2C3G$(T?]6L%\n",
            "MFK,$((XY_6\"_W&3[B8T/MQ90RB4.79#.V$-='X&YR-JJQ0+72R%,(R5I$Y8Z\n",
            "M_I=E8SN<^8>]6.J4OKVMW<.>:1MITR*:*2G01TDTTTR::1/-M))F&J5BLQ-+\n",
            "M @3<XXAO!!9FHY1@TP0YU3(-XBNB:=%6KFR&7<VPNQEV.<,.9]CII#L$S9!E\n",
            "M1S+L*H:= 95M=W/RC 700O$%JMDE DN 0C)<$)?O$2WA%-'D%#%1OL_]^;[R\n",
            "M(U8 :_!#$&2F!\\^*YELM:-_HYZ^Y$-9V/'W-?XX=\"CEC8@1G.C#/]36SZ3\\F\n",
            "MF#@J[^;<M$G.^6/7ILHE[!QH\"COG_S:1IY\"X'N!Q#&!4SP3MA?8LMZ1.GX!Z\n",
            "M(-YJI>)@3S\\S0<4EZ7Z#>//C1LQW3*B\"K>)?\"&WG[>$J$Q[_%:4P;T+AO_!X\n",
            "M'8-J<VTL:5^O\">P$\\OH^<BSZS/?S=;W] %TKOJZ]&]0O]DM_/1TM6<ZA_]>(\n",
            "MV7C713%G C_H 51#&E,.]<1$!1P[L%:REK, 9BMNX4R4@#X<(IR]A2]10,U.\n",
            "M>P7%NRL.Y\\0(7N$L(,_EKXA6A(.-.QQ\\W. @KJ][^#@!+5)U$4!$&@ BU-H;\n",
            "M=3B*2)GST0!3\\&\\\\Q;TZ1,,<YR\\P)5I %(.:@Q<T;N!Y *QA2&-S[H9IDB_A\n",
            "M50HV'.B ,T @<ZV.KXY UBYP[&.._<\"QQSGV!,>^YM@7O/N'0BUS>A]@^P3'\n",
            "MGSCV2,>.XMB9I#F_.W8.QZ[B:8>8X/T)]_;AFA[6L=?Z=Q['GN[8>QQ[O&/W\n",
            "M<>S,CCW(L2LX=BS'CFYHOS;L\"JYV?V_[C[<=P+,#XVAUV_%1K@TER(\\!2(YN\n",
            "M#6F\"=#] :0D)&<8*I!U?IM=?\\ ;)CI1*= A&PZ/ '@/&HIX&9!#G@!$!'@!K\n",
            "MV@+6\\!R8!DP*0(.= S1!X\"\"=(&:O?X7<-WY)G@*@;52;[*X6!.W@\"9X-P LG\n",
            "M/]B' >)\\/M0V(6@>%5LO_.?+ACM[& FDYD^%Q?F%\\]<!)EWY0<X%0]F_?@]L\n",
            "M*MI\"7+LLKAVE9GS=QO86#3Q3[0V^F8;ZDABJOX#GOM,XWQ^X^48!99,@RH;!\n",
            "MBGQ0PC4YEFI&[P\"-KC_F_%(!SAJ%7HU%9NTT>E ZVG ')Y!G:)A6J$)#HXIA\n",
            "M+531T*ABNT;C\\U\",;%_?PU$Q ^-T7\\C8]<THTH+:5//\\@0(I*PFZE^&#K =R\n",
            "MRK+(5+$:60S#,N^;2\\R>V4ME()[RP.P9!SC\"NP,H\"/.D_R_<9L43>\\7?V#!=\n",
            "M?T>-%A125,5+&E0S]6D8]X.<,\\/PGHF!+(HRHU3;).\"?7.GDO/:ZO8!J6.,'\n",
            "MN8!XM[(.KKJJB2--@NPQ#B ;<U[\\@[EIHYR:FZ9&CW#2_B!Q]^D_ WAQW!WX\n",
            "MNH(BRJGB$*<FPMOKR+/!<%8^-VJ7J%E4V-[C\\Z[#XD1X;RC.T@E/K$R#T]JA\n",
            "M.'!(NBO(K?#4WR:3]-PHLDV:)T!Y/$8N*ZU XO8U\\R;P%L'Q$35<(U25,WX \n",
            "MR(ZMY[P]_61_@X=E$9V50.$19*:@OPZ 7QL3#1#!!?@&<#R*]R:P=F3=+XYW\n",
            "M\\'/WP<05Q\".PN6960XG6.DAK^#&IXU;*87 .XV].=KJVAR\"W!FX);YBG2[H5\n",
            "MWN#7$%M\"N*H3@-=';7-=S@L3 !T26=\"\"1NW!E;4\";,Z2)5J>\"TZ]-J27T\"WC\n",
            "M+N'_%.CFL]>,MT\"<&)*NM607967[>_K&D /;B0Q[CV&3NS^;V(,V@-)%#X;;\n",
            "M=GH^'[ >\\AI<Q<Z\"_Z'KWQL7XOR0ZAL+&9H )R6 0UUV(=OPN+WK@;#MC*,M\n",
            "MT,O#M'<ZI0<')MQ#<R9>FE%4O*Z'<.OAA)!4,[:R*#&YZ$5A<HKK$>*FLMKV\n",
            "M@$[!!R.<Y)I_I,E:&28\"Q?#]PIHEI9)W#7S-\"1QN,^2)_8 BN'*!-?XXX*\\,\n",
            "MJ0I\"LA5 +20_P@-;L2E 5FP D!4[RH\\;BEU%T[TH1_4P+,$\\8 !QW +L&4):\n",
            "M2#]5_I9R>O$Q04%\"D +$+OH:O>P0N$;-\"0] @;0%!;\"&AOW/L/N! FT)0PL4\n",
            "M $<8! J0,J\" 29!K[A 5K_L!\"D19/&> LO@\"L;@&K^<0A99>@U1%80X]%T8(\n",
            "MF-B%A.ENN#A 1L]OIJ8\"!'Y$M?_5;E2#).Q>/@F-X9,D3=/A'65 ]Y\"0$I5#\n",
            "M)2VW32%X);,]LT+ 6V@X)JX.T5?,MUL[B,)%B8AHY_MA6?_7):IY( *6B WE\n",
            "M#J^PT^M%_,':\"3&>Z\"%@J.860-7*TP0\\=H%*)RL#<!L/BX!4Q2IO[ 3Z*#'4\n",
            "M^%;T3B:%1O?@>IH7QC5/QYI'7YI'07, [Z1)? F\"JJ=MU=.RZM'6ZB&UU)/P\n",
            "M[[U3GWJ/'1%JQ:S'F%V+/QW)'[TP@3\\,6ER(T&0KH>FB1N2Y)'F<L7'-/NA!\n",
            "M5D)/XJ'?F-W.Z6QZTMGH./(@,Y$GB\\C3GN1I5?)H4/)03T);<*=]N=.KW-'/\n",
            "MW(%^WIX[!^9.LW)'^W.'#.!.XG*GA;G3L-Q1(6CNT&7<R43N-+%MRK-N#2!I\n",
            "MM!MM7M0&TIS2W8B-8WZV % ;A(!*]P!JS1_RP/4%C!VS@-E#G'1#FBP1Z>Z_\n",
            "M9 ##H0O](\"MJ-LI)V44I<P+*:AJ@/3.T=(0\\\\/4-?(C_^1 'H#VJ]@@J1LT)\n",
            "M--.T[MFL%H+CA5%!<Q#02%;0' @TTA4T!P2-A!4U+0 :+0LV:32EA^S(0/9!\n",
            "MBY R*;7>EC@.P)#-X8/[XG3HM\\&X+Y+$:I?&H<\\X@\\9A3TT]>MD)\\+D+!=*M\n",
            "M7H6RP.(+)OVY\">RI;,$,F8CP5?SDZQ\\N/@\"N.<#S] SB_AVHO3\\AQ+-/1^QT\n",
            "M66\"U0#0<? > ]U]@4^QH+@/<K\"=@S99L#YGEK3!^H@(;?&LS3U/Y.)8U0_$N\n",
            "M6BV]IFDD1MT'+'Y,.7W2C#Y>21_\"]_ 7^B0+UB-OL)X;P-C6N/JI<='7^($N\n",
            "M?QX_[7-=W:0/VJ7_]#U=&'[S/4'C2AL$#2T@:!)6T\"2/H'$>!E;]$3>CDL6=\n",
            "M.M!)GMBI_?4>=)'T5T].1$!RIN?%Z:T ?B!!%\\;]H'&_W$*AR<W5R(WKD1N\"\n",
            "M+KR'W\"23=KX&<9&^#[S#2\"%XG.$\\*7\"E/:+GNV!? _<QE /Z@8M44AUE$*^]\n",
            "MFF\"K2_TRJFM'$O!THUY5TT.9:=#RRDG> .R GBW/R#.2F>Y$FP1&>*9-8M(F\n",
            "M:9RN:TZ5PO$BQ4:MQP_S$I@VDF@('Y<2>.J!YMC1VZN(WH+\"4RH'!IMI37:.\n",
            "M=T!2.8(C!Z!Q3+S?YG0X[I8=-+;*RWD<T 27SPY[!367@S]PH ELS[+BG.^_\n",
            "MI]6A%81-LCX V?1BPKB.3?X<-L](6&.Y.*\\G\\(P/+*3D2S2;F]/&Q22\\YC^@\n",
            "M.5$C_ZSA3]>%P$/YTUG\\0:1KI)^\\[\\]OFI/?)\">_<4G_:$U^ \\_);]RV/WQ=\n",
            "MY/'M-SAA3T#CDX!&;P,:>$] XW6\"(GT%1?H\"&E<%-)HC!*!!] 4T3B,H$EA0\n",
            "M)#\"@\\55 H[L #3PPH/'Y_8*BA05%\"@,:9P4T^F8$H$$4!C0N\"VB2%-#$<0_>\n",
            "M+6$^*8J:%$6M@:A)4]3$\\77?1-.JHHGCZW:)IE%%$\\?771)-LXHFCJ^;(YIV\n",
            "M%4T<7_=$- TKFCB^;H5H6E8T*>N'5F(XFZ:49;1\"\"8&#JPKQFA IDH9ZKIG:\n",
            "MAS\\W@([T .(#V!G\\8%YS';#>Q.OBR/*LEE7Z8/$@%T)K=EG95,U[H;!FI[7-\n",
            "M XNS.'$S*AT@X5HV1U5/0L#FL.HIGMLV=[5- MGFHK8IAU7S\"Z-+<2,YE%]L\n",
            "MTRQBF_+0MXB%F)1II!)@&T06_*0!?M('/^W#M<A/4$+'7- /HH]^$OF^?II'\n",
            "M/\\U#;W(//RY,;^!Y\\).+^$DD_#02?C(-/_Z/'W@D_*33?:7-;E:DS8GBX\"?1\n",
            "M\\.,])_\"#@#%)]!'R)IGD33/Y;\"H6N&$>)H \"U<RG'R'-_*D CTO7YT\\K\\:>5\n",
            "M^)-K_-&J_(&9<?AD?>Z\\#%:3:[<(XJ85 :Q<2@:9?D$2GN3Z3,!H+NW.%PSO\n",
            "M #9JSG\\]'(D]OY\\A+9C[VV=9YIJ_5O\"!*#8C.L'NW/Z&0\\3UKT>!OSY\\!0$T\n",
            "M71?#.IPK&/R#=)+Y.H6]?@'#NQMV_@(>-J[($AC4(W#S1VVHD;;A@/9/Z9\\<\n",
            "M@)7=AC_).Y\\Y[<2<=DJ7@SD.3;.<KQ/7EIV/0\\ZWC5.K\\\\876_DH:R](%Z\"4\n",
            "MFK3_Q+[(<&+/.O]K)DK Y K42I.XI^FB[GBZ&NIQ[@\"D2--XF@2:#X9PS0$K\n",
            "M?!P]6$&'5OF:)SIHUHP.1@Z\"!H45L %A-L@!;!#Q4*V0Y+*$S2F( ;<G!MYM\n",
            "M:H[ F1'/KH[^O@+')BPV)6T48<__OHR'7!>W*H@;3F3/S)-DCBQ]#IY).7D:\n",
            "ML\"<DV%9\"HJW@N(!Z:&P82SJP*(,/!H V5\\M0LW8''CAS9L3#>LJ%.GB*:6D+\n",
            "M8SNLRZ>0Q];N%&#N!?KB5]% 4&N.+&\"9&I8$/&;CXP@''D]LE1\\?UPS=PBZ[\n",
            "M, 90&0'>)@'_Y$J7HD$KGULUM/&#7\"2<56^N&AS5#&ZN^; %L2FA%O]0,\\8+\n",
            "MS)2:1Z%FNG4%\"I3W\\&,5O?61X=G7[^$*)\\45+$D+7$$'%\\ 5\\/RX A8TAFI*\n",
            "M*T(P2SN@=HHM W'XFD= Y5:VHA,.V#RY(V[@\\R TV+!Q!]C0&IZ0Y6PPL5=Y\n",
            "M7$^/<S[0&I9 FZO[$9,R/NGAC;C:'H)=2RPHP;&-J>$=>=H#3I=?.0@#F<SY\n",
            "M=<\\_A_Q_M4W^^C!S^8Z&]IQ\\\"?Y!H#4GX^#!SV&]776T/ON!]XXW=SSZP<8-\n",
            "M1K4\"-;SFXA@J2\\U5^:,FCEV=8'W =VS(\"+4@M:@E@?G@W\\2$RH!K_5O':S8#\n",
            "MM+EV;I])25UQ=P9O.BG<1@T8M;O8< $/VW)DSE5O[.:TZQL F7HYP#.OVQ*M\n",
            "M4!!\\2,-?P+98U9KX4-,]=?(,9+\"DR01&Z[';2 K]2DS:\":]LY 7;J;HNL2;/\n",
            "M/MU/55/K,[8\"*3/(@Q\\FD$\\MHNMS_'FRK\"-;>S>\"N+0ZX=&MF^(ZM[8,J%+^\n",
            "M5M47!.%IHCX4)X5@EIG!MYGIJ56T\"S.B=9B!GE;SY3-F:\"._X4T5S='(E;\"%\n",
            "MH_V$LX;>U7!LTQH15&UMQ<LY:JXI:?\"\"+ -LTVJ%:BXL 6LFI18E/,R.V]JL\n",
            "MB0F<3<%(,1MW;U4M@10\"SY(FN2.S$\\8L^=+S)UAP@270X. -%C0*,+.4!<8(\n",
            "M<%*?V0Y\"C(@%@HDVZ>YN:Q!.<#VB+\\@;_-$:H5?^0Z-1L?W9.?X__3YA-+&S\n",
            "M6V%M!V!D?*$%(_,G7X)-CQ$M>PSHTB6_CP$O)@HF\"B+:LD2VYD![+@&HUX<$\n",
            "M[-<TS#H-PG)W8^!IP0VL+5 M\\$CJ#*1Y]>L)-0)U1YE UN!*U)H*I*WVDVMV\n",
            "MM^<%#<39]MK*Z3F],\"F[R>3FUT_IRM%\")*CF#J3F\\1JN4KXUK%4C02AP5,T(\n",
            "M-ZS%%=2/#K+,J==?\"$5'JY# Z9GFHS4#/E#Y2J_RY6/9;F[^;ZFBJ*&F\"(\"W\n",
            "M#,@$7#B\"0H-0=?LM4L'ATR<YI$(D@74@4YA]6 ,IE!/[!'#UD! :5=SIBQAZ\n",
            "M7R3+Y3&FKP'R\\K9DH:7V!).O#U+'[:'6?*@\\W0B8+X*9&F<L;,Q\\_<8>BGM?\n",
            "M!M54\\>/65[!,E8D#IV#9%!B4']O#T[P/_J5%-_I18[D7K8 N@3/+>WFIJ1(&\n",
            "M<\"I.@]X'%?OJ.K&B7Z+2Q00:@>E*J6(LU0#GG'[Q^]4!1JJ7S=1/?.%U>0+0\n",
            "MHSSI;YAKKS/\\A<C(E.*;R^;PR+#U\"P)9Y0=8FT#[O/YNBETRT\";VC@5,;%6X\n",
            "MR&&Y8?/^ #!E>!6]V *8EE8SB-Y2-$=H%3W4 FPI@FY>D( T]S]@X9LC&V[-\n",
            "M\"\"2ZW'Z\\[9#\"-&T++E&:I>1%\\Q0;\\W'[#\\1N@^3I VSJB9<[7VR'<\\SY<\\[K\n",
            "ML4<5[X!N1PL@)XQIVC2.N@@_8(#AZ]TUVG=;XZG\\S?D-UOY@V!,&L\"9)%(!6\n",
            "MU0P7F #'X8K3,; ;-21D\\N. 9=8^C'@G&5\"S1P]R6S=% 1(?;W]5<:__J!'X\n",
            "M]>30L6P:_0ZD*<@3RN.9OCU];0%WTR*H1&]8WT;1<%J[MZ*%VM<70Z<8 !< \n",
            "M1-RN@*BW9A:)9YG*6LR:!I8WZFI \\MH>4I'B9M@'&;+7&/+P]%:< JC))M1>\n",
            "M)!Y]48.8-,HS%1*QM5<H )I]&;ZV@R]+T#QK@\"CSAQ^B\"76.7HD\\Y3T8;SJ$\n",
            "M-XOF9J+I&=%(-M%TD6BDG&CZ2C0R3S2=)AH)*)I^#D(I]*%HXVF%F^*\\@,,>\n",
            "MX9QL'/ *NJ+?[,Z<G&2NQ\\SEL+9GCLX<X#4X>CKF^\"=S=6<.MI0YV<0<7V6N\n",
            "M%4&8@Y=E3IHPQW&9*P]SL+_,R?_MS$ECYCK&'&PS<Q*;.3[-7!\\(#!8\"W[,A\n",
            "MP+M HX.?I(-_&B](RB S@_0,$E8P]&B0J(J]-4A?*LHO^A:P\\-P7)+V^H>\\$\n",
            "M%Y#[5O!0W3<!*N+:TB;=I(VW ST/5WLGN$5+D7(1S=)@),T2#D5^//*9:KCH\n",
            "MV(&D-4_ML)F*8!%7\\\" 5@;M>H;F^T\"A!NB/$29L=W$!*F*0)+@'%<^KX.)W0\n",
            "M$X!X!^G=;GA.H%YH-5C[2JBL[P=J8*4RS'C-6#'<TW5'1'5Z;]QK]BD\"^JN \n",
            "MC>Z+R:[/8<C*FG8&K<ENW<O>P F4'B]93$?,=?\\ )%[UY;#M^PK[>_I;WW:B\n",
            "M0'R= N9T%(/;NV\"43K<;RV$,WOW5FF6+3Y[#9G$>;L;0Q?N# KRIS:D+#_; \n",
            "M)!FS=%/X9/4.E,$H\\Z/_&^'F :2*;!)E\"+;HOX2:\"TE?W< OQP_>8$?^Q4^H\n",
            "M/E%B,N*JN(&8)6Z$IP_\"C9 O :S^<C;B !$&.'X%SQC +#\\PX',-NO]; ,<C\n",
            "M/6#UA(Z]>('C\"QU[L'7_<^QTCAW0L4ON<'R@8W<\\X/@\"Q[[BV0T=^T4+QQ\\Z\n",
            "M]H4,CC]P[\".V=@3'GI_\"\\0F.?=ZQ+SAVL\"&.?W#L@XX=PK$;%7%\\A&-_].P2\n",
            "MCCW.L4\\X]O03GIK453[<P_&NCAUJAN-A77O>#]_G./96YZ[CV#'\\^XYCMW.4\n",
            "M*SEV4T=YE&-?\\Y5+.79 QT[EV)>].Y:XO,Z=V?,%GCW+L[OX,PGC:-=R[M]#\n",
            "MG/VU9T]JX7ALQS[CV+,=#U#E@/.\".[ZO@UZV9Y?V[ &./7V'XP4<._D%W7;L\n",
            "MKXZ=P+%3.O8\"QQZRPO$&COW&V:9%!Q ,<! +%A0)IDX5#LZ/ 20]./W%*+G(\n",
            "M&.]!QIV>^8HIQN \\H4L(.-U[#SY=]T8(Z>Z$9S=H_D?:UZMXT6)80XV\"N^F=\n",
            "M(2Z@UT@(UK(*_RP@<^D^LVN*1*LAGS, %<,V\"(,]&] +S,2\\/.;I7\\$MXQX:\n",
            "MM]'M\\N@VRAT?W4J @=4!FNGT>G=Y5'E[  !:^9)!ROD!IB'EZ^:E<VQI8?WE\n",
            "M1[2\"V2;L\\IQV&DXRI]%/ SB-TQK:9EQ5F9__:T\"YE#*=8J?_T$^%4KX* T$/\n",
            "M5*B=Y6B@QD8*05JL1I%)K';[%G2DXK%:T'Q=,$)O#^F?$+K*H$$<C&S:2=U^\n",
            "M8'^2W=+[(JY)RVJ2[P!8XQA95#A5_:!J3W$>O_Y%=NB[?^!-C<TL@!I@UQW@\n",
            "MEREEU[=NA02K8/&A&2V^:$ '_M>FZR!H-]C\">[H(D=+U(+S+]4!$.0.S_<.6\n",
            "M(#<UQ[2GN[U>^4?-OOX$-C: ?TZ:\"UQ/@2/,<%$U\\>I'J^8$+FC:X$II9GAE\n",
            "M\\BBS[ -@6$(*;AM MX#J3@?XODAY+\\<B$1U?@_$,$9[\"M/$#!:)? ^/?>MPW\n",
            "M-;]#LIV?Z5P$7!Z-I_TWM$22! Y%>_,%(T:G)T:>78 8Z2)<G%\\>U\"_/*Y-,\n",
            "M@7%Z8(3+%S#Z!;FI<*J: N/TUQNC:P%P^_J$5Z1Y^OO^E C3(R 56MF.PYCP\n",
            "M]JJB&; RRBMJM/7%:%,J@G:0P'V $OI&* D$::_/O.Z\";'FSATHSMU<DBU%H\n",
            "M!@(<A-;8,=Z##&\\$?A];.RZ@'0HD;F4EHM(L9I(<?0D36B=Z;,2X6_Q(;+0N\n",
            "M72KX#S@;E-V0!'J=!\\Z'>-=E(OM#'/Q3(-^\\]H]B!4EW#DL0UR_W<N$U\\8.@\n",
            "MV\\&DA59B<8<C)NSK MU(\">I'#1COP-F!.1,^VR$N/JIU/0[3\"W&&V+@KUYQ5\n",
            "MM?I%F?.!9_IPA4+7QYMUZFIUN%:;7<?E8I;G J7GE_I@3:&/Z\\Z=!20;P0U,\n",
            "MGL'8O3+,^5<K7XUUV.(3V.(-<2&V+UQ[KW0'RL5H<!0$N/X-V\"L#>VY +0?R\n",
            "M7K&5$>@\";A^&5T2,\"_<G1B] 16)LH)-0R]P?Y#+SU%Z*Y[1!2_;\";./@%E$W\n",
            "M,-$)#O;CZ1#\\@WUDQZH_T.834E _;N\"YO+H/$2X!A3[=X=[!E#A_H'6;&&U.\n",
            "MF]T1?R%4_&H 622MR&*U8,WM\"U1-9+_*W 5P4+E;N!CUE6_5,L+)-U7ZI]<8\n",
            "M,-'+5'ZQ-S=+P+\\:L 2<C@[E_#6?-:! J@'__O+UC729>Q.>6R_[$:(-A!BM\n",
            "MP =G&)Q\",:X.;8\"T66Q[A7-[OM66N8=0DED<0&&+T[\\.,-MJ<+2$W-9197Z!\n",
            "MQ!.)4P3YJ*/F[\\^43\"FCFHDFC2^W2/E01!,YU0HUJ6\\<SRJ (;'QPPH851K>\n",
            "MJ#I$#[=F#9CY[?((DS#J1.!B@\\6IUU6X'H/:=@D5$N&N3RHZD1T]/=M_7U/%\n",
            "M5&G!\"GCQM)64LK;7\\S^B_5$3!\\@D9/0 =YL0F&M3A#TOX-4?.D0#^;]#OO.C\n",
            "MGRO_>! &PMC]KU.R?0L>/^H4<@\"<S\" 77.;M%4%JK5\"14\"^>/]0D#DZ\\GHWS\n",
            "M/WM/A\\;Y 080:<\"D\\J$&? HMN8!+H>\\6<\"ETPP,NA39OP*#0S:Z=Q['S>O8>\n",
            "M%DF.W<>QS[&H_N/8U5@D!W+LF*X]B$-1 SZ57FC I](R#?A4)NAA[@#W';NI\n",
            "M8^=WK 6.[W?LWF!O@/XJ&L!X:0!%2%OH+,, ,\\(,=U[OFT )0[SOUF#Z;K#K\n",
            "M\"G=:]_/L!IYWF+[9\\\\<S+WZ^V-@3,U[_RN ;ISTBY6T=RNBMV(QV^(OS67XY\n",
            "M79:X9DBEK<BT=R!OW.5VW+0[SS-NG\\5-(N!FQ[L+:G@R:OD;\\FL^L5/UB;VR\n",
            "MUTP,M-6H.NG9#\\0_4;Z5D$^15'JA]+X7>-T8S?&]:$,QI7L*[#-@O[Z\"-?P\"\n",
            "MUK:=MKZ=-C]H\"J=31K-)AOE4P$8/W<2L (5$8>N*'D(Y0+95#D2G!O%BD 21\n",
            "M%S(VJ?@ <O/=0L=YD.XYW@Z7;,AA-.#LE^#RA*)R.@?'SC2\"B_N )8PT41)-\n",
            "M1K A\"!KWZWX]Q)WWYU8T: 70\"6MC[>F!=IR31GNG_[D$G3IE9/!63!\"QT7RM\n",
            "M/8'1< =_1DE076V5=3YW14S@HP#-M\\0C?[^ 2/8\" I$0NTMRN@EJ60D F1A,\n",
            "M?-EM@M-2.$^-TRV#<G505/\\]43P?&\\Y!^!1I]&58:TZB!/E\"V\"GV[#2>:8-]\n",
            "MK?3,Z0H8GL9TS)M<250@%&1CC5<2\\$\"=?X&_:$T&G*5$AY\"TY/H$-KZ'4!9%\n",
            "M2\\7Y!?,?&C0XA2%@XB0 54=\\ ?P5BP&CR 2T&/T$BW[: <Z80H6#IF@R^<2E\n",
            "MR0$BCVI'O7@X8V&[\"ZOU8-:M6 U*M>HKA?C^^J@+D^<E>#_[?>]1HZ<3[90I\n",
            "MZ?#/FG6]R$BHY0.#3YQV[0P'SYNXQQ,^V,M].L#HP:-/S[IS>=8[EK1QK\\OO\n",
            "MYQL>(&-L?6&T%<.883&L>F@;Y\"^?]%>OC<WZ$WQ*'%*![(FXJA)'(Q\"']TC[\n",
            "MQ9+9G\"YNE2%MC9J!L,G<C7F$M)V0 #&[7($S@6O]\"$7;LS0[U@]F@S\"TGB4P\n",
            "M-&T W0D3\"(F2_!-3\"VAH34##$M@,2 D*BMG>#\"#V]I+HQTK;=BP?>/2%\"TO1\n",
            "MT;A^2D0_+(43;P59!_,6][C3[8'V\\D3OPP0%2&M.P@8'TEUI@+=<X57 9O'[\n",
            "MTS2#_[<%<?= X:W7',2:F;H>)VP)4]V>T@= F5X)Y[J\\N*=?$*) *:CK.B%(\n",
            "MIO\\N$+C*8%T#$Y:7=HWS8,KT!>S;B30&8(AT6PQ%RZ(%N;0TV_G,Y@WPIE9K\n",
            "M](P7KM? 3*&JOB:XGD%?K)D3!2 @!!3M[*\\DKJ3]< .KPY9%7D\"D,PS0X?R@\n",
            "MA6AL>8(5)(:9!HR=;$Z#((DLMW1QUY<#OUWBY!D;-8?F;SL4<.OEMOZ_ZU$M\n",
            "MDMF(9=')<G%^=>\\/%(S<L7&3:8O:1#]@QG\\_GBPZKF3JNJ(ODO0KB]*\\GRZ,\n",
            "M5L+B\".M\\ZE/14!RG@*-(!1XL2\\-&R<%I<W!BJD#]J0(6/)2.*L/VX<Q[?[;R\n",
            "M8.D [VO#EE+(9KI-P?E/C;+G<'T#):P M1V0LE?QFN$+&)+\"X#1^B/\"C,9/K\n",
            "M,!.B?&7P9#=%FRY.>' 27C*=]M-[;10[0%<KI,^\\Z,:\"'P'F!@DPDV@U@;K)\n",
            "M^VTM!+E&<OE2.G@<WQR]0*R<GC> Z&$?B%9TWJO;5\\5%.ZHD5R1?U%+]CZ%1\n",
            "M;XYX<\\*3>XNK$QY=23&6XN@/>7BQWQ] =BDP]^T'0%#V9\"FJ 0I-5U.>J;^I\n",
            "MEP<S-6KE8$')E21H1;]\"S V5CE#%1ST\\]8[E^7AYN/_4J6)J%46D,-['-,].\n",
            "MS'8EP##\\-D@!7B MU+Y#R*;ZML7I;W@\"!'9P!';-97P]-)5DNL?\\=67NJ*%W\n",
            "M<0]E1K,'P6NQAS]@;V*M/(\"5*<T4%6MX7AP2;/;MRJ._[H'8V7Z,+1!]3A#V\n",
            "M]([ 6JX\"BA27)[ \"V(/L79$7*.+!T366XX/E/P(.?S[8B\\UTUF<G[DYX=N)V\n",
            "M.P]TBGY\"2A]J%.:>MP*P=TI^Y?:5PS=&TY-P@=H93D\\,%+YE[M&,[!B$MZCY\n",
            "M:H+)51+WBP.@!T\\G=MS<\\>3H\\MT NL;10;VZT4%U@8/[G]X_ONB?4\\! );=T\n",
            "M?=65]M<G46V_;Z;U>IAA..:& ;2A6/.+$>;)5O-L3QL)+,V-(G*$$EQ7PL#R\n",
            "M!^$DM'\".T&@.R/JO['^X9<+GL.J_H\\3?0#1^3YS*SA8DI[2@ 0\\!RB8C7O+5\n",
            "MUR7M+LQQC0K,\"8*X50B)P?#$A.0RQ'&>\"U(V$Y]A;@A+\";(O5KY+6?<)^>CC\n",
            "M3#,&S&EDKD\\'G\\!!>F8OGZL6/I<6P:E@V7'J[CC#!0IH@Z$6>96QL4TY=036\n",
            "MICI#@L53C3(C;(>RF=(3'%^G!F@JY0_466S*PW-=MXDF][,T2RQ:<[<F&S9C\n",
            "MZ!6*0?2A=-.:07220YFZ!J[22'731<< \"WO 3QJ!I_G3B![@G=U4UMOG5N!E\n",
            "MA7)K\\M*/F)L,FSGVI7EJ\\+>9N1;VVVHAM!Y6+&9Y!9E!5C$%' = AT<+($\"X\n",
            "MV@O1)$4&D,\\P!<D.4\\ ]36#*[0U@\"DUWQJ7\"^UNF)IW[YYOA3AC@4+ONZ$L&\n",
            "M&#Q?GUWMO^ UDVN#;]UR1\"P831 MPP.@5.)S\"LZVTZCSI320*NY*>].(! ]N\n",
            "MN3_5\"$F&0QQIYAY6S;WM$C$^F7&<+0/ );V)(3\"+Z:)<T58*<4S5;7J1FKDN\n",
            "M8+E$V:C-IISY+:@I@9$/:[R7 ?Z):WO8PS!G+6[__H&C_ED7PCM1R4=KI_[L\n",
            "M@?W +Y\"OM.S31LCF%P\"+DF6P<B1'%J)#O/(VM;NW?,\"XJ\\DQ:M?4DD:MV2 \"\n",
            "MCB$R,D_)]1V5\\*9ZQ6+XK%X*!.=H03] Y%4ALKOX9<J ;8<+D9&M!P2!^VV0\n",
            "M18'2ME)G7#8-!R8<0-@N+^%U+3 J*WM:!])0&,O;LL#Q-\\@\"\\VSSU-4I[>D%\n",
            "M**^N?';EFRL?/:Z]\\VK&7KE9-??%W@<;V^K%!X2_*K#%8#Q8.X\"BZ,%NS4,<\n",
            "M[!4]@-PV!6TMHX=E!&0KM*N)%M_T*R]BHZ+.)[UB;@N@97<:I3W=_J U-W8@\n",
            "M4IG;BW)[4E11RWM:'I1>%./,KF3'(O>K;F6K#=EQ;DM/$\"D29@?$ZO^+<+'8\n",
            "M?M$1$.7>V%.$>S<Q JE13DI<>TZ_G.WZ@;R]K44\\Y=J>HCQBTTZ4W_!40(YC\n",
            "MJE^35.@\"\"4,ID=J6-2-?0!6)\":DU48536MX2543;(SRZOE-),/,;98@9!VM4\n",
            "MDP56MX44!T+WV@A\"1GU'K,4&>%8@S6H7A_7XE(1!^*9ZPE1'UQ\\=6_[2H)X:\n",
            "MMA/ =@,IWAEDNX-LVEKVV-=CX%7#>WUC=H^-_4HSPA8/.M9>NE3P'^3R 5.S\n",
            "M+_/HX*-+\\Z!V/T'R%3U(#/P+XY^8.*IK:IR6/T$ 4?3\\+XP'*5M%9C3PTL2G\n",
            "M)N[9Q%V9^,R,!M;:^-C&O=:X.QL?6EEC*SE1'%^^45C)46K,<1!NE)D87OE\\\n",
            "M(WPKT3M%AO->Z2WF^!0F3^S<]YU;B7=ZX'Y_(_(HDY4O]N_9-T(#7ZU!-1O$\n",
            "M9\"$$03E8)^>6*@BXM>6Q!0''-YMN/[UC?VW4Q5\\%!A\\_</ P RKFBCZE5_49\n",
            "MG;(KWEQQ&SLII++O!YLV9$^064/(+&'<3.>Z!HHW#Z!&^\\I^C<*5S!85L ) \n",
            "M51+B[ZCPAJP9( .1(AK%'0F& <9W(P0U!+ILP:Z,*\\X@@]U#3N&.*L53F(\"*\n",
            "MEI \"$*Z/(U)P1Y'2P?. A2!%*T&*2DJ%,X 4.;[+L6EL@S@X 8@#:0#B(':-\n",
            "M=K!KM)Y=RU+82-*!7R:XO6)S.&N3),(P;$)J>G.YX=C.M/:\"' 7 GAN\"/3IW\n",
            "M1H#S8B]=V[ %!H>#8^>OJ')UTK@W:4Y)6A!RZ^-:)ZKY7 '08X+V[0%*H1H7\n",
            "MBAL .%.;=\"F Q!+K-G)%)D<8MFNA[!=8BM[(S 6T<7=SO&!/H!^V/&[ /C.O\n",
            "M/U\"P['!%Q* Y'L!:%]I[]P,Y4)_<AV&[*D)S]P&D,#<OGH@6X PGB)%5%+4G\n",
            "M/+V*2>>T:F\\B>N& <A$LU.G+27Y/;QKMU?71U3&FG#R+*5G>B[VZ7^F4_D:O\n",
            "M]G=.EXM! GUG,!5?/[UB_HU6F+9S\"9*\\?*N(&,QR<P42\\6T-V0FH>;IDM*EL\n",
            "MRK-##9-RKV<4>7^[;F].#15PD;[[7VF\\Q_%S$22S@FA\"IA\"\"T1U'W]A+47X\"\n",
            "M%VRBP*4'9+]>UMC4SRO#NV:6!6I/UHS B:T9!W1M:P9 T?'HYM>__!76.^^1\n",
            "M_HO]M0B,;E'L^TNX\"AJ='<E[9_!FET('4+K9[C!&^\\\\9NDV$[PUQ'N& TK/T\n",
            "M@(.VH(D$4@(SH33;.C?=?VI% ,6>M0)JR46UC#[?\",H*CF 0U+;2J?8N%C2*\n",
            "MS<KQ5%[D6FO8 %%PH3-V\"QC+U3+4G)O\"^SVF>%T4>' 2W7/CY5Q+,\\<FB%XL\n",
            "M!=2AU02VPK4P..AF0CE@\"Z\\O/Z40O,'AM $@3&DH- /;EY]\":Q8U)KO(L^OL\n",
            "M-/C=0:J!4,:G*MDTAUS_8\\R3._&&@\"A\"])<!%'\"X?;DA\"CBE;U<#N45OKYPJ\n",
            "MH/TN0_1Q 5@6?:24)P_AX*S^+Z^;-OR2 T1W:3LD&B*ND7@FPY__AA)2IL6%\n",
            "MM$DXO4FXO2 ,+PC+\\^/H@+QX\"TG4<)DIG,?>1 MXDRHV2U E<,5.\"ZILOS\"8\n",
            "M-%8H@81,MD.SWH#UBX/'<FNB$\\3I:,8?.(]?\";\"1YD!05,'/,3B\\^%C6,W14\n",
            "M,/^V<_V%FZBV1U#0-B GUQR !.$.\"DA:L^D(4%0\". A9-<\"/$Q''9G#^@&Z/\n",
            "MO].XG^Q=9),>FN=;0F1$2J2Q48(D-TIX(4.@^VJL,<SIFEF E,%,,XF\\A0@(\n",
            "MC ;@Z$-'<'VJT84I3J^3N;$(R$U>>$ POS)21.YVR&^W8Y)L(?^6$FZ'S0PF\n",
            "M394$R<&IO_B!%MX^)(9YBIYC/#>@NQRJ:ZZ#!'M4Y@*1@P\\$1=(]\\@)A6PG7\n",
            "MP'#)HPRM#B740*!KO?9.\"2SL#:8W]:D#7[_B2%I7!%[SPPNG?X'%$/TGI! 4\n",
            "MU_R0@@((M_%(#))O::<''5Y'\"!+&3*K3?1%IQ=!&Y^FAOFD'\\X87FB9PV0XR\n",
            "M@!-&L%IQ-KH?&'B\\OQEK&937^$%^4 6R+ANEIB>%E38NE,1\"\\E&6Z X: )-*\n",
            "M5(P(>2>'_EX,4V1HD4H7R#JAP\"H&:E(L!CN2].P(%RK<_16@F!T5/6EZ -+_\n",
            "MD;9U;H^T_SXYR?_QK771Y Q:@XM2S:PA((E8=KT,,!EC=M 8+)FVURPIPD-Q\n",
            "M3#6&(F#(_18Y;310B5!KUO.48,U)3R@1$$W<(U;(1:+H'AU-@+,G<%H*T7< \n",
            "MO5SBE;VH%S&9/)EG;_]H0(AT3=!IB28']Y8]4 #G=7Q?/FZ:Q06E#J>$F=&6\n",
            "MH@^#02VA7PU,P^OE9SLNX\"VI&FFJY6Q,J)LV(>J/79LJ,PH2B6LP%X+79M73\n",
            "MD>HT?_:!AW4AK>.9!&)ZB!M\\H6J)K!R27V?QA 'RL0F>RBP6.^8H,L#1F@TO\n",
            "M..EDM:[9EH79YP/8.,I<0Q.-XNY5GX;TA0?$]D_CKHX Q V05,?=^!9+W> '\n",
            "ME)I)I0^4L$8#FT'F1 S]E405@'UQ!4^I+I+G]SZ.X^I$]24\\+X)*5,6=\"C\"@\n",
            "MI\"'[80WK:L_)#A0M4!\"V;JG9:QN$-:%._# 141Z<[@E\\,-N6B^64;\\3@1%UG\n",
            "M(MK7STA6<[9GQ^KNV'%YOUY&DT!X$]$DP1S7/$G=\"Q(P,T]\\8!?M\"D@$5X 6\n",
            "M\\',D $P*Z,:'F&!,%Z,' \"E>J-CL@4;[6X'7Q;_PO\\)#-G%)S58W\",4J[_5/\n",
            "MJM=(T HUMT3-]2W)441]50[,,]:&\\2Q2/,+#-[%,3ARH9I(3QJSZ-:,)-_XW\n",
            "M$G\"0UD,N[<JD$8BR^[^LAHPD,&2 \"B%I7RSL+Z ;M )8,J^,@97^\"$Q5&S.J\n",
            "M]R@,Q(Z!77.I434W 5JM&AB*])(TKB!I:(56^@9Z*'Z'@B(]%=%24#^0P9C#\n",
            "M5*OX'/:\\I&4YK<<W-8H*X*9V!U.3\"J:&]ZUA:CI[AJD9+\"9TD/3!Q%=:K#_6\n",
            "M$!8\\@Z;!02%6>ZR$X;5*5!M0<UD!I\\E'.-]7 I:9)3F;9(H*S@\"9HPY 6LF:\n",
            "M.;I)32Y[(S@0R(^.^ @C>(7N.%CH&J_:K0.=0)7H$Z#>1_R?L-7V_\"@$X1OF\n",
            "M^ B +[GDHP5+[#I,V=,:0+XH0R#.V*.-Z\\0^6KX)_!WEV4?3-_&73V .-V*V\n",
            "M NC1]L#> />C]9L,E1T@^3\"&QP6$SJ&V7VF NP?MOWS9;7\"O.<+B&+*&<K_ \n",
            "MPPMW%Y 4!9-DB5T;32Z)CQDWJ:6^K7WP_X#U-P(OL7Z L*W>!SQM:'NB=:MI\n",
            "MN2)KFRI%M>%>ESO]\\3,R6*N%D#Q!\"R&((PS%'H\\R&GW?B.C/_OL4-_ ;GOXW\n",
            "M ';Q^!O\\SW?FWX.!&.J5]\\M5X:Q_2?*IP)T@Y;L<<5/^QY&< $?:@$NUVML@\n",
            "M8J/_&K(+5?\"C7H\\%GW?\\DZZ5Y59H=H!_']SSM7</\"\"1G67<]#VKERT.<LY5+\n",
            "M0YR[Y).VKB5XM^1@-]0/LD(]A%AMH6U9._J$+!,:14STW___C'7]A0RPXO_G\n",
            "M)C\"Q#\"/\\_0G),6L5=^+#RW3Y3\"F/4HB$&M,$$USG>!]73*SU6\\QE'JC:)/8#\n",
            "MCZ<%WM9YP=]8HA35;A+1)&X$@+6\\T@@9R:>Q%S2[;7!H*5V#QPTJEL!HRL#E\n",
            "MD39N@-%7_C^J^/4['LN,7H',HE80:QBDYNL?!+9HA^_VAHUFQ]J.B!O/>H$!\n",
            "M)I(.=MK;=YD6T.RVL(^;W9BM?F3X_22&YU]K^/[*7@[E^.M#$';*!R@Y-_U7\n",
            "M*$\"Q!EKF695G&'\"C_7L<R/;IMOAMIM0*-%FEHAT8P!:2\"D2_!W9A,G:%=!=*\n",
            "MJ;.K'2!:) -IG<'D_9MP$N6_ ]_\"\\3GM\"')(K\"SJ7'KZ ,8ZM;]50N4&M *F\n",
            "M\"GH%HJ/X>HT>-/.NVQ HD)3M'04B*781.J ;5*ID^A:R,UV2+0C>=+&F]QH \n",
            "MVA&V9(\"SYYM>:L 6<GBP-H\"S\\#H%2],+ 4$<PE@[@,\\C;]# \"^8(4O/T+0/@\n",
            "M13SM 1O%81NK-H'A?/HV3FT;K&+I9N->3PV?/.!L)/SKB\\G3=5.\\ R/%UY-Z\n",
            "M)P[?,1QOD8Z,EG4:P;H=GVC>V#? [@V,$E*.P0Y GA1R/(?C-=;5\\0[\"LS-X\n",
            "M=@?/CN#9OI7\"LUMX=@;/[N!IV]S77^F*I'(\\B.,]UF52%DA8 W0(SRX!:W@/\n",
            "M:\"F!\"B.-UZ\"\\UG@!)+S8P:NY ]$,!=YO0_0V]\\$:/DP1NA-:=HR.1!#_/O@X\n",
            "M 1+28M!6^N@#B2^][_CUVQ4UOGNP#[#FAYJ6K(#__F=8MP+I4Y[N%;SA2-.F\n",
            "M-)SB$/^Z:CUP9I#<*9%0T:J'B+XE/U3BXCM,;M;D8@O/KR?BNS3ZB/O7YT3/\n",
            "M5A]*XF7_38T;/WA$&4E\"&5E+&:F,UMCD8%/VU,+\\'L3EN)FQ=C\"\\585F%)Z;\n",
            "MO2].^/EF'Y(6#H'3[#/LVZWLT5SD5J\"+8R\\O#/0V2<JO-+\"B_,. 7[V0HS)[\n",
            "M!.<F@Z41'P<1;#%#\"1N_GZX\")8UG'CD]I55^L%R-KCL-=/T1ELTZHP]V_;5K\n",
            "M_%S#<N4SI6T$'U 0G^B4'P&ROZ[YL*V!&FYK+&J(HP%1P*.F&M7&>1<\"MF/Q\n",
            "MOF?X6P<P:2X]+P9G'W@?^OWI]Z/?EU[@MQX\\3?AHPDL',  ,$&X)<.M8 P3L\n",
            "MG_EZC?;\\NY@?Z'%I^WUMS\"Z V;>I^_UL8J,EJ!598N+<\"0G Y3T RR6X,]\\-\n",
            "MD- \\_<\\ &E0[+MZ8KH:8XR$XCM.E>#CZXN'W[S4T ?/W#VO+_--K#'AX6K.G\n",
            "ME\\ >ISURL#]RT[+;NP -??N'E2%A?.1>'T\"R#UOV].OPO+5&,'IUA;Q3=PN8\n",
            "MU;W]\\3]]??[3S=^S;HM/'W<R?#JP >(1]7^[:O\\SCYT8GS[LV7+G8T7TF=_4\n",
            "MMF^D_AG4C@\\!-0=4_:AQ)W;OQ0-]&P']_?B+-\"C79_RA).P7__JM.Z/+^0\\!\n",
            "MCV?JROGK']Y#00Q[>4YX)?Z-\\N<F0 7+'[A_8ORY][22=VNGX;7#PFN'A==.\n",
            "M5-N$C>[=CX^X*\\B^3@I/?S_=^0@RO'_F_,7.<+,[U_CTS&15&._2N@DE&4^7\n",
            "M:&R(>($J:.(-#<LW3-TP>,#!$3\"/]V70@< GB(_\"F YA3&LPIB<8TPR,Z0+&\n",
            "M[-,'$.S#UXY@;!F%3ZD1%< *C*9_I&,:[-?Z=R#YBN\"@&Z+(-:W@&LW@>@61\n",
            "M8:V^4P7VYKNMR3B\\&)N0QZ%LUFY%9VGT]=&S1U<?'=L3G=X3];Y9AI$4KM\\W\n",
            "M/\\!+,]PA7D]?KL$=YML-Z&3H+3_)A'G=ZKIV@%MNXRX@UD(B1S 8OA!9U,;G\n",
            "MPM9PV#K%N+<IIQ]PS,,/G+XEGO0XM;A7 CR&L7A'/SA B^5;!&WA!M(,;R#*\n",
            "M)($HHVA*S&5EUR2\":Y3)=@1IIIXL:<8)I!F)X$T&;6D&64&:'4&:<0-II@FD\n",
            "M&7AA:28-D-G2K C2K 32[,+2C\";@M \\X9FEF\\?34*TH&> A)!A%#DN&.S(4I\n",
            "M_S3OT/5(F S8R)@LPR-0,G*!DM5 BQ]!BU_!C*>$3LKXEZ^XS/;C>G_PT:6+\n",
            "MUS]LF=;G=,MH=<O4*G*/!_9RW[DEMMXQ:D,$:LF!__),X+D4:_FN%]]?O]Y2\n",
            "M;W/A O3 &OX$T2^+,$Y78F.'J%S240PJ][!1]YG\"^\"_FM$Z  P%VTZ@#5!C@\n",
            "M^#G'ON#X@$53\"EBVY_MN>-[!LP?=L/R;YSQ4/VV A(Y]U+$7.'9ZQV[@W'MG\n",
            "M./_#N8?6\\/R!:X=U[0BNW<^U@[CVA2.>3_#LC4$\\'^)LKW/L(H[]UK&7^'8N\n",
            "M]_[@WN5;.![\"L;.]<'R$8Y=,X7@)QT[FV2?\\^QD,.T <][X8P_$Z[EUM!T0X\n",
            "MBV/72.'X%E&YV [75WMW)9TT0!?7GK#!\\3\".W<6QQSCVU\"#V+_6VO/N-8Y_/\n",
            "MX>I?O'O:\",_G./9^SR[CV,T=V[.*./>B );_<C4-\\,+=#N9O?R!C!QCFV 4\\\n",
            "MNYBCG6>$Y85\\NYMG'W/MO[Z=S+6SI+ \\D6OG56(&6.;:%SS1S1R[1@['G_GV\n",
            "M2G<[E[,]Z8\"QQW+L,P4<G^78QU<X7LNQ![O:KYV;=<=C#U#S#FSB>EE/>^4)\n",
            "M_^\\[=MT?CN=W[J@)7&_FV3UJ_-=LIL*\"@9#BD('90P8001M,WRIZK0=,VPOT\n",
            "MC-/O.D##L\"]Q8)R=;N\\N!7,*SK[IL_<?_-RF[>$E_C\\H__255H+3.]QDWACY\n",
            "MMFU,-!V*P4[N_^GZOH)CMR8@#05=6U'>0P_7924X[DUX;B]FS6T'2*;[I3_8\n",
            "M)P#>G:Z3DK7@(,,/DKP-P_T7G_W\"[!U N3$M*\"D\"D/H[@.(0 T8W:S\\:<SIL\n",
            "M,V7D*<0:JA6!' JQYB--2\\+/+G>=CF1E'<22%M\"-T)5>TQ6\" RKR@@8R0&=W\n",
            "M@Y@!0!<DX#)U<?85VB:ILY\\H/S=+ 3_G@';=$[?+OI&#[WR\"@_07<(\"Y)Z\\S\n",
            "MNN5&V%[Z^.2+JRL'Z@X^\\WH'0,F2AS<60;[]\"\"%2#&4K$LO1O;6ZMS@U>5[W\n",
            "M##M,E[XR@!#E\\ZNBP\\#>G?#L+GBW\\D\\7]/]_8[*,=N#P# 6NC.Y8V*_(1'CE\n",
            "MP19RY47Z\"@.(+S1>UX=(,\"ILL(\"QI^\\WP3D]IAW*\\. U\"Y*2!;(C8!*F;?;L\n",
            "MJ8P\\7V4FF-K#X\\*D5\"BHK07.+1C8J'H\\'C9;T,<P*9U#J?UNT+9GBT#>!B9%\n",
            "M/U';I%I&/Z!7]4;7@UMZ=<*C,\\/RUJ\"B+;QM\"HRX/Z!(V!UYBK!, EQ>';$L\n",
            "M<WY9)I8NR[@\\;K53L&U>;L1HA13:=O$);R^&QO\\5T>?V7^P]^#C;;G8]\\5__\n",
            "MQX_R>]P2QV4/P!R4^+7[17M0@NF1'.O]@;C\"T[%H93B7??;J/EO][$)#!/N5\n",
            "M9U-\\_009]4^6=\"T:G!)!$-1;I=?6\\JI-=28'@]H$_'T%K#0!!6U8= 4EI-F!\n",
            "M0(CW+0'Y%+6B%1\"!8R/*>C%LA8*.R&H#A-EBRP&ZYDJEPQZL2! ;MH#:CG:2\n",
            "MU'2/X^MVM>+T^O1L93NI<VOVP/]M1?\"KX9H:P%W99#E(S> LG]-]T8Z<ULYM\n",
            "M]S'?]AYWS0O G:MRYV:8+4=PO0&M:CXS20.HX;XG9D4T0)A*'$#57/,$S!T@\n",
            "M$-\\R>JY91#/M+@&@^F;.SB[QBTE17Q!2D%T=S1::6]7^P09W=4]/ /39-YNZ\n",
            "MQ^U7(_U$_[8$;&\\#VY0T4\\QC18=?GL?ZSW', ?'CAKS\\H@?* RVVPLOWS(D-\n",
            "M!?G$EI+<5@Z@-=S>$ QH8>M_\\ WM 8;V<4.+\\_H#I3@[[+<!V<S8TK[R__H.\n",
            "M*)3!3P\">-B)B+9Z,6\"#>C^;T\"_^O-S!;.\\\"K:\"?=M;<M&[1ADUBPI2$)S PW\n",
            "M9&@CG[W?#T8#542MF=&OY^8E7[? KMD=(!EB[(5D<02-0ZL&@ $H+#CN$2U(\n",
            "M 65DS>PPS63:,]:6ZE^?('+FJ2-S-\\H86-OK6S;6VQU6$X#:CKB_U[\"B284\"\n",
            "M0 ?'EWL#).AWX&\\ 5SE#D\\=Z9X\"^ [\"BVU_OUHIY!*OWQ5L('7HP<07\\+)II\n",
            "M#_X!%[9B.:Y6R]\\4,VLJE[L=$FS>_!9#Z:Z(6O^QODL O\"&0<'[LTT@(GV8K\n",
            "MO4]3\"=.VY_D9VOZ-&&J_?:,*7I;3,PWAY<'A,!L 4B&8%1(/+8@Q8[USR.F^\n",
            "M+%9P\\WADSC@M]!V<Z?]QQ$3)$FX 286@#Z3!0*3U_$X=*<!K*-NL:J2'4,WH\n",
            "MS57-!YERM[R#9_H_'*N_I07W$C10'K8:=)K3QM'[W5%ST(/S .TL((4O]D&P\n",
            "M/>$@COY?#EWKMZ?%+&;NQW+3!WI;E05X;6'!\"2@^Z-X(_Y)J@:AX!]J30T;J\n",
            "M52)^5-D'!R\\ \"_2H[VK#\"7CI]2^(;$&>(%\\2E]IT?GZPL=/:F+GL!TIHNM@3\n",
            "MA>6)IK9:9@B!0C+$Y@__P><K&@ELM08:A043K2(I\"Z4\"8/I0D&.0N 1 <@/C\n",
            "M,&D\"#_'*H[A!M P)5$UK=HL@E95>PGM]EFO52$\"0N.;F\"$P)#R)*)#84CL;W\n",
            "M,3C=#8#I4!I@E\\?-\\CNFU)=ZH%GU51/'J_'Q ^A<I_]75-=:H&X\\88(U0H0%\n",
            "M2V 7B.V[ H'J#$2^?49@=)-7>/H$H4\"KYI )7#:3HTZH?B.!B4-J!G-M# ]:\n",
            "MP6\"#L;JI!6\"S!M\\L4+XOK\\09C<=J]CKA3!+M@&NRU[5*YUM :U\\O(--DY2+Z\n",
            "M\"%4R9\\\"Z>SQ&.%\\@)64X&NI%*&5$CB/:1S.]&$KX'.#>1R*;=X8VP5#+_WMV\n",
            "M*(\" Y*I ;2BT<01H0[!31-9-[<!9!:[.T&I2#FT0EYBSR+9G)&@%3H )&D0'\n",
            "M2Q\"\\'3V*H&$A^%&M^)%,-C2T EVB 2$,ZGP(2?H?+)'C%< LL@#1OK[DE2.9\n",
            "M)SH@5\";(J6?$[EON;CP3:U%93>)$^U4$%0P]^4 #0_,^T,#P@+81%##T7@0%\n",
            "M# _H&D$/RP-N%E#\"TJ81=+#T:@,=+\"WP0 ?+ X*Z]@I)'Y#)M<<Y]BT5TN5<\n",
            "M.V8$':P5\"/\\,H(*E]1>X>U(=K/SM*;X=>H$6CL9HH('D 8_%<,[CV.%DW4GO\n",
            "MV%N<>XUCQ_/L/HX=2POO0(Y]R+,'.?9VSQ[EV&,=NY1C'W;L5([]Q;%7.7;$\n",
            "M!3HX&G.!#HXN<)5U<#I?00=''QS0P>F ?3O3_0HXCQW@>'\\_/! 98YM\\[  ]\n",
            "MJD&KXQWL8$%@1QDC2?< ,E]?T.O!K!^_-C;KCU-5P-I^8<I.8&L',;:_\"&$!\n",
            "M$4 3K!DF:H<J-ZU;NF7E!F6;-NS<,AGH*FKPR4S_=B[=J6.PATL7A#>A/MFR\n",
            "M=M..+0OPCO-DW]XY'^Z<;U:FX<)E6Q8DDWV7>P6Z=(N?;=TY00,N<.A;N&F>\n",
            "M\\B+F&TWSW?%0I]S CPV3;%_9-C9MW]@V)8%&0WA8NFU=C'T:-)RV#;D5<Y!2\n",
            "MW[8-ZQ8 F;%LD*?F=?O6;=XV53G;,&.-]BU;,G%Y4*I- 4\"#K@KWK-PPS\"U#\n",
            "M99DT6[8L61G%?$8QIU',8TC3,:;IF#7,X6.PP\\N0AY^!#YO#'QI&T3#MSWU;\n",
            "M5T[>9DRL!:8(2)8 QMTL73-DGL[MRS(^)QE517.'IMI&2][6#9F@EIDR'+F,\n",
            "MJ]4P=S!H3K0NW;%HYDFG9>_<PSA;,YN#(RW+U@XQ+U.?'4JK_O90$+J\\Y]2^\n",
            "M(/DT@F?MMHQ]TRV=D+T<VXN9!L%,#(WJQJ!1X;C6L'#-@AP2'^Z7!H>+)GN \n",
            "M0M^^76.4@PPRY]/&K=/W4+B#O5SO-]BL&G4O]M!)J0X%H4\\(C7Z\"QD%.I9OG\n",
            "M=BT;'UKF/[K.4UV1BIZMF&H'D&2K)JA-.FAPY2ZDG 3!#V'-T$$BQX^^I6.5\n",
            "M!K53]W2/K#G\"L;#$F8-XIIM4?N/GA:.9'7&Y<]/:F3*)!CS1Z[]VQB4J&GM'\n",
            "M3WD/\\XQ;B5SILV+#,),@FE'[J&B4\"S!-@4 %+A4852!6@6(%$!!9> >(:$,O\n",
            "M\\++ 3LD^6N\"K8K\\MD+C Z +%)?M\\ :;P\"C_8 U>P4,YS(-*!6HY=[(  >L,#\n",
            "M-P^4M>S$!QB0>SMV]P/_#V0 0+E' BW@.@DB23;)PTO\"I(F7:(E<[UB&P2#Y\n",
            "MJ52ISHRAS\"S]-D1H<YLU!R'L4Y4J2\":$-8XT%R(-(PSY9!LF3S&OL&2)X(66\n",
            "M/5/GI9:)35HGB-V2[^>D>T@CRDX%B!ZS94R7,)XMM6\\9))476^9: >AK$5P.\n",
            "M'U=@-V )VR$HZHCM,BC*W^G4)$-+=-\"\"#S#*:0\"=5]HAA_GFBR:DS\\Y!AQZR\n",
            "M9=/LAKLT,^NA4I-\"J3@KF#AV\\?$ P1XA9#J C&?/ZC^@O([G_S-4GU$ERP#!\n",
            "MHPX(=:\"_A$.R3\\A.)YLGL& [5O0#T>W!@@==$!3+0UE<D)G<'>\\L!-9F>O0K\n",
            "ME!][42EB7FM1@$^F?]$K9KF/I3ODS09D3H;9+*5+;C.:[&+W/1XBYGI!9$S(\n",
            "M\\?6><##[\\ #9#/?]E3T_LX:T@A1C!P79IUYC@HR!#YASZXKA?R^<L0>1FI.!\n",
            "MMR8NI]C3N.)L<G[(3&@3 @DCV) HFZ]$WXZMVV8SW(DE]#*FCYX#>J/XK)#V\n",
            "ME K(8:?6F3F>QAP8IMFD?&9:&D[.74/M+G@XH?P8JJ939O@96BZ=3C+I$:R0\n",
            "M:AT@60[,'Y]JI2PKTF$.,3A*.*I@-*;?GC$*?@K3%;GGP@@.^B*W.))(G0PE\n",
            "MU;G6!J0\"94_3M&\\!^[)XRWS=TMWLB)#<RVF2C4[OSS5#\"TP;V65[NWA!O&7;\n",
            "M&%9N%BI4$,[7L0JB**)9J:B?IFX69\"KK]'8Y438_616A2SB319\\:64P^(M.]\n",
            "MJ!*5^U0%Y%C2*&CL#/  8!W![2M^'<&S$=D.D@I:MFCR3;L-4_N#7%LVKXYZ\n",
            "M!0DB.%%!@NS!-*KS !. 'P!SQ52 1;M0F0.*:@!$X*&R)'\\D4!\\D-X!SYF;#\n",
            "M#*94+I30\"\"4(%*P( R!<V[!4K!HR(Z9ZC *8YO\\$\"2O]D@EC 3M-0ETCTAPL\n",
            "MH>6RV25@PEFB:XQ*!,+3X4,6<>8N:SB30O3=*(BZS)ENHFF4V];QJD:H$\\Z \n",
            "M(DQ+E9(TRAONPPS\":SAA9R+=DV$^KC\"CT0Z)H[91EC9RGR!&2YAG@V2:K1IC\n",
            "MWI:-/#R<?_24(QHB'\"D13[B5C6\\1Z3 -3I!1X+M0\\5:,.8.=6E5(T930#WWR\n",
            "MXR;ZE:D38K5\"K$B('8JS0DGF5@H1XS)[+U:9,T7KK\"+:,[8A&.[\"$]$^S*%+\n",
            "MQD[GGC1)DHJ^S.5([%.SJP!2ET70;R&%!-IXETQ@MV XL< 0P6(,6&L$MP$<\n",
            "M&W[N&O^4X3B',%LN1PB-U#$T56HH7@B<KD*#6$304SK;]\\0\\@^WGDJ&XB*[H\n",
            "M&*ZL<*ZVFZ=].-]*#H5P+68 =8KGP6\"#,3M.),TDLIU]7CI2N1RL;/!'0XHI\n",
            "M&TXTK<5(%.M9.-9&Z:;@8D#$6QPS(%K6AHFHOM$*J@BQ1*(KARD3#S']4LZ)\n",
            "MSVL0(A\\07\\)1$<[C:&H86VP#5)@Q4$<#XIX[JTR:?0\"%G-$SC.0MARR\"F^/8\n",
            "M!AK94* #,\"(0\\HL89PM'M&_R4J\"#=$.D%&OA?QE4\"H+Z!8M\\#$UT-G;RN6V&\n",
            "M[=,?V^9DR]5U<$Y5BC$)(&(;(,SL9-W/1-ETHA0$A0*J.B;TC&W2Y56H1*Y@\n",
            "M9Q)>T$@ZB<E;Z%,L/U0I?&Q?%$]=!J7/HOFX%=-.S'R;&\\J;D.YI/GZ:TVZ?\n",
            "M5HA!=@#$C)TE,UMWNWER#\"!H&-  \\3_L_Q A1(<0*T+D\"+$D1)40:4+ L-*X\n",
            "M&VE<%LR[[(F@%F%L^JTQX,RDVBZ(24@T([HC6H^\\(1;:C8P8_O)H29E8@H8Z\n",
            "MFE203>\\1KV4)'3\"&:U_;8_,8<.-[>0)(M\\J]SZ(A0$+R]\\EOQ<L^6YK2VQK$\n",
            "M9%IHTZ-Y*I6J_*6+&MHRK.1\")?*IX6 3N5G&D[)3!%0NB,M=4Q;VC2#N6CJL\n",
            "MB0:,9N!FJ&B]CEK8_L; R)UE.P(\\W1;)MCPR!<O.AB(# *,=,+\"\"+4,11<K@\n",
            "M:CRHAI+S8<4@P'93L,#=3=9>ELAJ1\\D!T/11HDDN;\\$+2VB.*[#@H0&;\")9D\n",
            "MY<G3\"4;^J$\\?E+74JDZI)FU:)&7%L'\\B6&F[5)LP8<)LJ+ EB!=)*,9RS9S&\n",
            "M=Z('.&\";S]@6%,:>W(&SU_.T9&I90<@[P 3@/ >X-%&NW%SY=D?W*EZ&0S#H\n",
            "MVD/(NQ')TN[\\ 1 ;2,O(NVU)-TU--*>7,VX,E0TPH*(!_Q=%P/]%#N#_(AWP\n",
            "M?Y$$^+^(!_B_B GXOX@\"^+\\(#_B_\" 7XOP@6\\'\\1!.#_(F# __T @/_[ 0#_\n",
            "M]P, _N\\' /S?#P#XOQ\\ \\'_!@#_VB!5RT:J+V7MTC'TP>[=7K2ZVJ]\"Q488F\n",
            "M_]/EJ/G_O^X3&\\6_$#C=&M*ZF\"B'YNV;/$[8X(#KC-TR &,EBC @P/\\VD:=$\n",
            "MFQE@8Z.2+4)5\"U4S(VRCO^[ ].8++O:+3U\\'\\^4+L.[4QD4%>H1\"SK1FX@XD\n",
            "MGVO*1W_+QUD7_&^7H15KUDX4TQ[1NG^0K9JSU#W P<01A+.K6?:$4X@SJ7DI\n",
            "MJ5V<U$Y1\\]( 4I-9\"[!3U[K8*_[_=XT41=)](!:ZH*[VUPM<*7VA=+H3J-$)\n",
            "M#5I52V\"=2>-T$9\"M:OFN-W#,_?B%OUG;EIE8?)!8U%,\\D)C1F*K-N^KM&DA'\n",
            "M\\DKG#)CF?=!QB /@IO_3!@R V 41*R%BI^,V1=6,CVM6AL\\A['FL!_*P9FQP\n",
            "M4\\V7:M9[S;3C8W+1!JR/?7 ]@>)I'YB;&Q7@34F9Z_F^X&\\$>E[$LIM8'L.7\n",
            "M?/!/@7P7VC^*%4*V-\\@>X:\\L^<#?!(9$FH\":]X*:GS^PU)K7.$UIK6@'!KRJ\n",
            "M&;X -V'J[H#\\B0C(G=#<\\+R],5\\'VTE@*V4!>9$U@N::23WC1)YI6L\\XE6=:\n",
            "M&M*PZIAKPX/_(S!;RS2M(P<LA1)]W %6I-H$B ]A>94A,'! 8$ #N2-.EP0:\n",
            "M2<U4H.8*%QM%N-\"H0;HISL#_O&.SRR ?W+1 OBS;\\/;5#O M6B%2*'.P=QI_\n",
            "M8\\((!UZ%T@4[>Q:.A36U)FU=;'RQ588%O)?BO?#%WL\"_RU(M@. <@]1W?I_S\n",
            "M&0L0,JWP8-TM;-\"_,):\\%#\\?Q\\\\JS\\\\(OB5JUZ_9(('=TCE3HB<2 (<. *Y0\n",
            "MP+D?<+H+.+V^H0%PBLS#F=HHCQQ!>4:D.^R19B_ KR64YVJJU@#HV'/J)<T'\n",
            "M)4WW41N2H-I_ADX6^J:=$X@\\\\$G*]L5'F9K,25B[P#IQ_*B29.<ND*X,,O!'\n",
            "M9$\"_)\\!9F'G$%IX:\\'Y0<P90T^ RST_D<TCY:,T%1@/68H&_X<6Y>X3*-B)J\n",
            "M+&PXU*,= ]PE6#VR+RXJ9*J)@J3K-+%7^\\><T)7\\>$$H6'!^>:U__05?ZGB&\n",
            "M\"Y-!3H=HYC,Q7^&@[ 4.';R?(%]RQ$[7PK4HWB 7SX]N3LV>$RB4VG?/ %=N\n",
            "M7[B=;@NU^\":UT!D/<#UQKPH ST$,BYCIJ9J':<49H#6S(8KP\"C77-5!&$I\\J\n",
            "MP>7K\\2.4'NX]OT SG?@PJL72J)H)&H#&34'KC'<4]*J@M<*R3.X4 ?(MB<O6\n",
            "M701:VT_O]9]2_%;\\FG_X$\\RCJAQZ)7\"O7YLV75S^8]>FRA% /&@K$$\\-%'$$\n",
            "M*)^::^T(<(4_-L I*-MG@NSG_G($>/RS 54G[3W3O-()H:T1\\@FN;P W[_>5\n",
            "M0:MQ<P7H[')IA0F8N6T ]:B$HQJ<?1'\"^=\\:O=CU?8T\\_G&@1I_Q!/QD@)Q/\n",
            "M&!QUY4<.]0!ED)(!L*-U#!PBW.H8RZ5/#!R4/2W%FM/U<I1,4[-ZJK]EZ*%:\n",
            "M36Q75>K-:M!(5L*KTB.IBHETY@/,F!G=%#.*\"FN6D6:KQ)T7Z'RE5FQP1!*T\n",
            "M\".\"2EWV B\"<X=E;'ON!X@.)^]@!3!CB>$2L8((MC3SW@^!C'7N[8;1Q[20+'\n",
            "MWSAV*[\\Q0!S'[NW8<QR[@7?7<>S(,LX =QS[GV?G<>QTCKW'\\0%K$U@>UMF^\n",
            "M'\\#9YSCV4<>NY=AS'KC^VKF3.?=]?WNTLYW?L9,[V@%<.S,WE]ZQ$[KV@@%^\n",
            "M&A -N)Y[<3U&J@<,6\">U_.A2DPN/)B&\")](Y+[Z;=.#\\Q?X906:H,T>3C(D*\n",
            "M0$Q'.G X8V'.$R4P/%4#[K8+'M;L*)I=1;/G:.8TFMU&LQ]1VHM QHN'\\>8F\n",
            "M!Q(MXG\"ZG3,[8EJ+LAB^J@N[A?PAY!Z4+L-%5ILY#V(.#\\/<92CLGHUQ3VP%\n",
            "MU3]V\"N>'!#@E0ZM0<ITV.#6OV\"A%G$8ESBU ?_H1M- A?'D'7.9TN;#M+_J2\n",
            "MI=FT$JR[4>J45S@:,56ZMGGS.W0,?L!/N(,>@_ 6G':5Y!<CCPY^X'&@0,8%\n",
            "M>@G0KPP.)#IW\"C8\\74%Y\\3ZH+XHAB-NHW6)UJQ@5.ZF__>+X*Y-'#S\\P&.!,\n",
            "M#^[MW?.=QOD^^UJ2.H/Q]%)E>E(\\\\4&CZ\\<=88?HS?KK>8Z-E!?WQLF!&Q%?\n",
            "M?-6&_MST]U9D-ZFXZ8>HA9 C%]$9AO_B1L5UHD4_@+47<'+5'9Y)!$6RY].3\n",
            "MD&J[#N:V?<5)M./=!-Z&[![G9/[K,G]%T579\\4W[BM+P/P'Q?UZQZYEZ*/L5\n",
            "M<4ED_K= TM,'\\$0!DO@YZK4G]FM_O8,P[X[O+>RUA;TT:$ZGVO^V&V?ARH_+\n",
            "MJOAI!Z)%3M972]I;]?\"&O#P[45 /Q'EL66UQ_4YB5V!RFJZ'Y.&M^0-HC>'I\n",
            "M\"4*Y,EP7Y:6T)MFFC1JA.Y/R/UQ@PN<H^K^]RKB$*7GPE4[I![':K2FU=;\\N\n",
            "MNK)V*QBQUY6N7Z_8BU9QF=XYG\"^$O=3.7B3!H>O//0_N<9$8!V\"F<TB] ;[ \n",
            "M+3,P];T_S)1C'P\"84+0+*^\"WC*32%(Y74-#<XV+XCK43]VLPEZP]O_1'W QN\n",
            "M#9Y!/K2#?'26?/ &\\J7T6<]X8-T=N$\")?Q7 <^SRQL<D&PV_RD\"PE?Y*^X/]\n",
            "M(^RKP<W3D^,%S&N,$0-E8!P,_\\\"_!J2>7N4>'C<%OX$HT,J1>KP'\\PC%4RXJ\n",
            "MXH/SH1UL\"0+7)CP*:0]!> <IASI)5!)HN\"8#\\X1ZM4X?8N(M^Y&\"&[;XS>EN\n",
            "M1,*0$K[G>JK$2A-7 K/-G0=9*)(TXK,W[G]]BVFP[*;/, T1-[P7O7 )6% 1\n",
            "M6/ 66/ R4/ FF>3S3'F TIX@4G:K@WT\"G:APKHTHO=@#\\M''+_XL!,2.PZM+\n",
            "M.\",]R%97FW Y;X$\"7CYS7%\\?'9</QQI69]]5.(&D)4N3P,+&C;ZS;5<@1<5Y\n",
            "M4 Y1$:I;E5C0__^-R>]'#QS>F,\\ZFA?8[)SYGA(;ZOO:4'L(QYX[>,#IX@>D\n",
            "M+T6E6).Y58*(C?[# C^H .X3,/_.L=WX@5!U\"/RVZ4;+6L\"IKJ[J\"4CY:*E%\n",
            "MU>;L)-7G!46LUNR(&D!M^#\"[MY=:C/+^ON/XN6FL&EZ_$^CG1OHYO_[]JQ4B\n",
            "MT-<\\=D\"DJ3J&Q6MY5.)Y<]ZC*^XQM@K.(/'U'9R>'TOV *MT8*/^VP8@W ] \n",
            "M;\\XS-^>6%:\\_IU_]<KWUO?KU%M\"&23JT96@!<\\+N+<W@7&)MC3B@#C1O=T\";\n",
            "MS8%IQ7;2:2N,CAO[1'%US100H]0#.H4_47LN[:>/#^A5WMRS2WMVF#YW.70M\n",
            "M0#;\\W>YD!85@!=J :SD!(VRPH$2 4DC-<OX#OYYX^6E<>UUG%/F\\+D'8!-<A\n",
            "MKO,K\\^O[[>P!:@1.\\C]! 9K/$0Q-\"\\#\\_P?8KZ@5'VT@M.(\\.H&^:8^ *'0#\n",
            "M;3HBR8$\\!:Y?P(SVCXQ\\0.0CB!?H,5RKC.M1PZMF#J3A7DX1N4TD)=DN(,C_\n",
            "MVQN>@.5*W[B\"3IB7]@<U?^H0<#CFG?;7B?R.4NJ\"9GD$<EW\\%^%._W*05@](\n",
            "M[P\\3W(]JSG#G_3MD_/A*8TJ,AGWE\\=QD*&_I]^,AL;5=97\"\"\"N)$17C8P.S%\n",
            "M!L#82C_ '5U\")CJ'L?BH%WUBBW8G.\"A*1F4H*X!1/I?@<8-N)X#!/707!I-$\n",
            "MYX]6*$@UOX=*H W'9)R&';H!]\")S+>Y.=**;8C<Z$4^Q(YWHI]B53D14[$PG\n",
            "M4BIVIQ,Y%3O4B:B*7>I$6,5.=2*N8@=\"MJ<W<.A=;I^!2-WA;9QFPV+'T0-@\n",
            "M#:LJE+=5\"*W/-8,U4$7^[(96_ 644G: LSOL$BCEQQ4/]2/LR38::'*-G.FX\n",
            "MN/+)I098 SJHJ89W-J :%F^518^&XR27@[V/@1\"MK<)1Z-Q6IG=JD-$8]AA5\n",
            "M2I#HT6HGW)IAWA[:8Y%&H.RUG-VC\"X0-Z8;#.GRJ*G4G/'LTES]ZUOM.?W5X\n",
            "MU,&_84W&=2B,_^;%$;P#'I>7J[[QGY),5YAL>\\A_U,.[DJ_WQVT,ROT07W<$\n",
            "MV KX!_P:6F$4U?DZZ,&&4'BKTUQ75PMV=QJ>S@ :L%_U >WJ562VI)J!_^:G\n",
            "M\\K\\.\"W@5TG.C3<_0K 2:V=R^H\"E=?-CW %^UL?ONR?O3KY]>[^K8WEH;^MC0\n",
            "M/0,U=86Q_:KEM7]@V19W:\\YGFL_B<K^!KZW+]K?6215+$D_?.T!2J,CUUP&,\n",
            "MS) W'6\"SQPT@3PRU;.%,\"S>V):8I\"\"]!>'FWE8T<MX4Q4DV/ZUT[!HA\\K)-H\n",
            "MDP9L56&I85EDLD[R6)3C(P,DGGJ:'E2(L.)=M9EZ,5FB&S5EJ#XWQE&+^N1%\n",
            "M?3(GY7#[9.[)>T]W\\O79;'J3C)[&-1-:OF?U%8WJJU59A<.PX2B&Y.H<M2AQ\n",
            "M>$<R+*]M3[F^:]<,*H&18S=U;-[#VF0DK$UVQ0 V666IMM1);.%$S%K;.4;W\n",
            "MIA<O'XA]9S;?=[?_HH*'\"R J%175I!S!:KAVTYHGL)EK^UU3?T JNH3$)00'\n",
            "M\\^+8 ?P>BX [:VQE$7?83IT= !G&]C=:;C@CVT(N)X]-)&J/U[K.HKN;KJW>\n",
            "M&!\\/\\=@0\\ XELLF2 M%KQV=NX$ ,!7XN<)EZ-J-N:V!1$#[C$B87VTKKGD]L\n",
            "MHSR>5:2:< ^EA-C%,\\9J*4O9Y_ W-#LM#A5AS#C[#I)<1WVG4P0D_+Z<\"\\F:\n",
            "M(\"0[*=_#=#J8JY:SE<,9-M<8_54!79O!YAP%;-U43G>$*Y,;+I*8\" =!8ECL\n",
            "M[RWV!Z>]_0#:K_<A3MK B!02J$/E P\"X8I?BPT]]/'OBQP)N>#N*\"DH$FYW-\n",
            "MXO9PE8(:;%H] LK'KD0%Y:)8#RF*]7Q@ M934F_B\\(:D=Q3;10DUJ:!)\"@QX\n",
            "M.0V5>G;(AM,6U<CZ,@%.4U);489'-W!M.Z,C%NS9W],4RH]]SQ.EYZY)8%U!\n",
            "M'<TTU>M>*W=CY0X R71C0\\I;<'R#(L5%RHH:JJF16#M]].BDZ/@.1]2T/1]M\n",
            "M:-K;FMTW (=.,5#LRGLK3$O3GI*>L6'0_H<.P=C$M6!00F <01\\UD7'9A)6H\n",
            "M:4&86@=@;TN_%<R%D/(,RCWC>C!J8A(TCFI]563>%-2J@&%9 F-X]G4Y8KN>\n",
            "M M[$Z#:X^Z -@#-Z4>!<,W@%),>]FCIY$>*HG\"Z0W12AV3[MP8*WY?L2:_3U\n",
            "M-3K[> ,VT.AR/&(#7TO,1FR>+2C$1\"65# B%$*0=!,F'!V@3S(F3>IJ (Y0A\n",
            "M_]+D\\:,QGA_P03B]U&U$?OS0HO[OT!G*6$ $3ELTN0*C5[+HB6H@T2WL[1[5\n",
            "M(N%9V MN1W\\8 0[KAPT*(& ,T\":DZ='$!U.BD:6 SE@1L2F[HZVM<E90[I<9\n",
            "M\"@#9(\\FA947N47-(!4Z6H-6A *VEUY8]4\"\"=0I7CX+B$L]9O,N=A9CG\\\"'H0\n",
            "M$@*$(\"&<Z$+C]0?0XD<)Y+XE\"T\"Q.PW%*U.SX\\NX9H%O:WTBZ^2 I<V$;P9P\n",
            "MJQ1Z)C. ;\"2W K:(M/0%G^7$,6A E#1'GW0AE._/$XAA+7[[!2$*8%E$>4)R\n",
            "M>BN<'>T&/3;^]1M]T)H[ P>M!V)HHGHGU12D\\0]ZD0$70M.-#E!^]$%;4A)>\n",
            "M0')B]@6RKXB,15LA:-,,M#D#;9J!&[Q@6 $%B;8P^K2&T7<G'(05Z+,[0I+)\n",
            "MEK.@Q8?D%I^G,9E)?9[SQAKCQ?LN?_KK$03I3!PD^_(:RDQ'*15JA7EL@$6A\n",
            "M'I1U0!^GJ^\"&],9=__%\"9Y%#N0_N4G8].A#4)6SGN+[!<5T\"@OAW@L$U\"M[U\n",
            "MB=J+M1=$X$1/]($($[SHB1>HE]^S.U4GN3GD_9KK>_2:?S:07?$ W9SL^@G9\n",
            "M]13/:N!Y=<^.XV[1:*6@-R;*)+2-T85G&8:D$3H\"/#=V/0\"[L+VCGT'H&^+^\n",
            "M_R;ZV@*8Y?<W4*Z)B?ID#.R9/R40I9QG\"H2YT7WP(<;AEQB'/V(<439O3F1X\n",
            "MJD;>)0B6ER(N^N\"?TC$S '?$373H_21@OF)N63EB\"!2]\\ %Q4[T5<W$[@;^)\n",
            "M&\"U(W@\"2B=5Q>71]]#^+S6!S4 PC\"+0\"/:B\"5-M>PE7^0C;+0/]L<W 2&L]#\n",
            "M!H#H1W$[TJ <^?]]?!#Y(1O4#1!EP2Y0,UP'V;<4DIO.[P14XW0S8*L0>?(*\n",
            "M66Z%Q^%7BMG9'H\"-IFY^\\+@!V![A8N\\#0*@L3_4MLB<9GNJ2IWU0STC(CF3X\n",
            "MJTHHMF?BLB<!DR\\)]PS7+D2(LSU![%SP4+*/2-822W2B1TTN)%I$]IKV(M-Z\n",
            "M9%J'3'N0:1YD6H=,ZXYISS'-<TSKCFF],>TUIGF-:;T)H/#U6-.-.+6'<C53\n",
            "MM\"/H<#X1&99<,(##LY];3*S\"./(48U*T @.8B8;W0-3NUOUA\"P1!?0E!NM,=\n",
            "M<HV(HM)]>,6>\\!V3C/*=LS].HGYW(;]+^6G,\"ORD3HH9.^L^O2Y=L&*B&$G\"\n",
            "MYPEU/0BLA)FD6\\'4ED^0<3\"--]V34<Q>G ABC.D)F$SH4?D7M M@%\"(9_ :-\n",
            "M@/#<+P+1U3ZVY@0,^!Z0.*%U?,-?06&ZP@+)P>I:(8BB$LA%G$$NDG.L*?X6\n",
            "M_G4OO$M+/B,4?=<\\&<*5Q6E?GR4NL])]!=[W;F5J8MPUS\\+G_EB/M!=!3I>F\n",
            "MV@57DVA9./%CW[[3N%^)4.;ASTW[>H5KZC^8Z]1S8<_W;VA94=F3FG%&!' &\n",
            "MJ]E>5* !WW4\"A$EEVZ['DUT_^A*DX?A(RQ68C DDKHF\"$]^ET%O9EA/U8!O\\\n",
            "M2+5@7+F%0F1U&D'B*SZ#*=7[J_8,U4JF&IVAFMY0K2475.,;Q+;6>>'1I'0O\n",
            "M_'E_1.1=DP[\\ENTZ%^'->2@&Y4=2BL@65DC[=26G+1YHA8ZB%;+:DX(V0Z1T\n",
            "MKR+9/*\\7NW/I33/X3FSJ:.R)D/W89IDGV.@O8T=PX^>5:A-58'PO8U]@O\"]C\n",
            "M9[C\"4YV(W$[DW8D^&/8(NN,. Q![0X'I'30-WE;3-/$5R0S:<>&+\\;J\\%K8I\n",
            "MLS::S-@9L$U#T)MVJ&)4+&L;CL?Z,F.?8#PS8Z?0[ *--DOV\"LG<6;);2-Z8\n",
            "ML5^ G!@]7%1:_[[!>%G&WB%#'1R9 +\"*CVWD!Z-*SL>X7DV<0:@R@LZ$D%![\n",
            "MADFS\"B#V!VY6\"!\"X&_=W%M6\\! +*U@;=H JT@BJ(%*I$L4PO@>)O4;LIZ(B9\n",
            "M27>!:(D#:'UM/$'09?-MQ/XKQ[VNI3M?@0S]TC-6!ZCT[P$3PG\\]9C+#5F+W\n",
            "M_0ZG4PO=@+Z>GE ZQ%VO-S ).IZO M81QO1AV>2*[/,B\"),S<&VWL$T.A;\"-\n",
            "M H*L12-@!- \".O0 /D!Z8.X#*Y;@$2!',5F)N9*( !H9F+WW@%9$81U,C=&3\n",
            "M)DB'Y%@_F)-$\"-\";-;A/CNW43P)0O2D\\;ZW75T=*2EF H2E=\"X4UA0G/80YH\n",
            "M%YRU57>;S.MDX\")!<&USW\"#)@3Q*930#.0C\"^?_+D=^/MB,G3G'%CL1DR5.8\n",
            "M=Y3AI(E\\H&7YC<!+VJ?0H':_'L/05 1/LHO@C7.+X-7=4VO_[X2'\\+K>WMW?\n",
            "M^_>AET188>BNG1_<-C1ILL+0=H!O*>': IYCS@RPN@XW=R>!D:AZ.)9\";14?\n",
            "M6KB\\L^$/G8U;,^'5G@G?\"*_X5C@LVDHXDV:I:D+/;X9FNY-+N>-B8]VN;X!5\n",
            "MTA7 E=\\\\T^&ZX8) -L*-/&B!&Z&3%;FQ;P? 4N1'7P>B1E<(/ARNZ$*\\NZ]P\n",
            "M\"?B(;2*+!TC(L@;[)NT_^!:4Z^F^L+V_B:XTMW($<R'^5I'^_F[,MR2 BOXW\n",
            "MVT$TV3.AHP[(DV=LU1S2E0Q%SSV?M#\"[@.-Y=.WHE>C^MI/Z;RSH7+F=[\\UZ\n",
            "MI_\\R4$M>G)S]@R YMYG 0'+=D6W.S3!QUYD?X,+T.B\\I_?=;M#6  F72\"5RZ\n",
            "M8\"):V62 ZVV1[>7U^Q9@.%+Q5VC?\\$A_!O(!SP< B@+G5AR;]**#N;HUV^@$\n",
            "M^2EY; #0VOW8^93^ @<78\\$(^%Y<&Y<0B[3 *_\\&P\")HIK')OI2LZV!> &Q[\n",
            "MG\"9:H2 JAKG$-9<WH#+I.CQ%7PE,7WVA-TC\"_ (XIZ15IS$A^0&AQEX,;\\(\"\n",
            "M!XCP-7M=*7U/*WO&QVIV+FD #];])16R+[[F\\HV/)D*\\^!#Y!>:/#CZS%\"S:\n",
            "M0T>N^'KW [X&&^AK!A?,4P+7;?]I/,Z)[FS(1K^:X<1IR2M.Q\\$\\W_\\?LG[Q\n",
            "ML5(#GJ&5F&Z75PNQ :,,W@KL_EQ0JVUY-OH3A4B?\\*?M41@CX2CM<F'QGD.Q\n",
            "---------- cut here ---------- 51497\n"
          ]
        }
      ],
      "source": [
        "idx = 498\n",
        "print(b_train.data[idx], listOfLength[idx])"
      ]
    },
    {
      "cell_type": "markdown",
      "id": "cf7b5dc2",
      "metadata": {
        "hidden": true,
        "id": "cf7b5dc2"
      },
      "source": [
        "It's an [uuencoded](https://en.wikipedia.org/wiki/Uuencoding) message!"
      ]
    },
    {
      "cell_type": "markdown",
      "id": "f0263b58",
      "metadata": {
        "hidden": true,
        "id": "f0263b58"
      },
      "source": [
        "### truncate and pad"
      ]
    },
    {
      "cell_type": "markdown",
      "id": "8fe9a306",
      "metadata": {
        "hidden": true,
        "id": "8fe9a306"
      },
      "source": [
        "Very long texts in this dataset do not provide useful information for the classification. We will consider only the first 500 tokens and ignore the end of texts longer than 500 tokens. For texts shorter than 500 tokens, we will pad them using a special token: `[PAD]`."
      ]
    },
    {
      "cell_type": "markdown",
      "id": "7d77acb0",
      "metadata": {
        "hidden": true,
        "id": "7d77acb0"
      },
      "source": [
        "The output of the tokenizer is a dictionary composed of several components that will be forwarded to the model.\n",
        "\n",
        "* **input_ids**: a list of ids where each token id represents a word or subword.\n",
        "* **attention_mask**: The attention mask is a binary list indicating the position of the padded indices so that the model does not pay attention to them, as they do not carry any useful information. The model will only focus on tokens that are not padded tokens.\n",
        "\n",
        "The tokenizer outputs provides the necessary information for the base model.\n"
      ]
    },
    {
      "cell_type": "markdown",
      "id": "f4336c86",
      "metadata": {
        "hidden": true,
        "id": "f4336c86"
      },
      "source": [
        "🤔 <b><font color='purple'>Question:</font></b> Modify the previsous `BPETokenizer` class:\n",
        "- Add 3 new special tokens: [CLS], [SEP] and [PAD]\n",
        "    - [CLS] will be added at the beginning of each encoded text\n",
        "    - [SEP] will be added at the end of each text which encoding is smaller than 500\n",
        "    - [PAD] will follow [SEP] until the size of 500 is reached\n",
        "- When padding, construct a mask that is True if padding, False otherwise. Return this mask with the encoding.\n",
        "- Modify the function `encode` by returning not only the encoding but a tuple composed by the encoding and the mask\n",
        "- Add a new function for encoding a corpus of texts: `def encodeCorpus(self, corpus)` that will return the list of tuples (encodings,masks) of each texts in the corpus\n"
      ]
    },
    {
      "cell_type": "markdown",
      "id": "80be1618",
      "metadata": {
        "hidden": true,
        "id": "80be1618"
      },
      "source": [
        "Example of padding with `TRUNCATE_SIZE=10`:\n",
        "<pre>\n",
        "    ['he','lo', 'Ġyou']\n",
        "      --> [ '[CLS]', 'he','lo', 'Ġyou', '[SEP]', '[PAD]', '[PAD]', '[PAD]', '[PAD]', '[PAD]']\n",
        "          [False,False,False, False,False,True,True,True,True,True]\n",
        "    ['wel','come','Ġto','Ġthe','Ġ2025','Ġde','e','p','Ġlearn','ing','Ġschool']\n",
        "      --> [ '[CLS]','wel','come','Ġto','Ġthe','Ġ2025','Ġde','e','p','Ġlearn']\n",
        "          [False,False,False, False,False,False,False,False, False,False]\n",
        "   </pre>"
      ]
    },
    {
      "cell_type": "code",
      "execution_count": null,
      "id": "e9b854d1",
      "metadata": {
        "hidden": true,
        "id": "e9b854d1"
      },
      "outputs": [],
      "source": [
        "# your work\n",
        "\n",
        "class BPETokenizer:\n",
        "    VOCAB_MAX_LENGTH = 1000 # for construction.\n",
        "    TRUNCATE_SIZE = 500\n",
        "\n",
        "    def computeListOfUniqueWords(self, corpusOfTexts):\n",
        "        listOfWords = []\n",
        "        for txt in corpusOfTexts:\n",
        "            txt = re.sub(r'(\\s\\s*)',' ',txt) # remove multiple spaces\n",
        "            listWithSpaces = re.split(r'([,.:;?_!\"()\\']|--|\\s)', txt.lower())\n",
        "            size = len(listWithSpaces)\n",
        "            i = 0\n",
        "            while i < size:\n",
        "                if listWithSpaces[i]=='\\n':\n",
        "                    listOfWords.append('Ċ')\n",
        "                elif listWithSpaces[i]==\" \" and i < size-1 and len(listWithSpaces[i+1])>0 and ('a'<=listWithSpaces[i+1][0]<='z' or '0'<=listWithSpaces[i+1][0]<='9'):\n",
        "                    listOfWords.append(\"Ġ\"+listWithSpaces[i+1])\n",
        "                    i += 1\n",
        "                elif listWithSpaces[i]==\" \" :\n",
        "                    i += 1\n",
        "                elif listWithSpaces[i]:\n",
        "                    listOfWords.append(listWithSpaces[i])\n",
        "                i+= 1\n",
        "        return np.unique(np.array(listOfWords),return_counts=True)\n",
        "\n",
        "    def initVocabulary(self, listOfWords):\n",
        "        alphabet = []\n",
        "\n",
        "        for word in listOfWords:\n",
        "            for letter in word:\n",
        "                if letter not in alphabet:\n",
        "                    alphabet.append(letter)\n",
        "\n",
        "        alphabet.sort()\n",
        "\n",
        "        # your work: add 3 other special tokens\n",
        "        vocab = [\"[UNK]\"] + alphabet.copy()\n",
        "        return vocab\n",
        "\n",
        "    def computePairsAndFreq(self, w,f):\n",
        "        pairsANDfreqs = defaultdict(int)\n",
        "        for (word, splittedEl), freq in zip(w.items(),f):\n",
        "            if len(splittedEl)>1:\n",
        "                for i in range(len(splittedEl)-1):\n",
        "                    aPair = (splittedEl[i],splittedEl[i+1])\n",
        "                    pairsANDfreqs[aPair] += freq\n",
        "        return pairsANDfreqs\n",
        "\n",
        "    def mergeApair(self, pair, splittedW, voca, merges):\n",
        "        if pair != None:\n",
        "            for word, split in splittedW.items():\n",
        "                for i in range(len(split)-1):\n",
        "                    if i < len(split)-1 and split[i]== pair[0] and split[i+1]==pair[1]:\n",
        "                        newSplit = split[0:i]+[pair[0]+pair[1]]+split[i+2:]\n",
        "                        split = newSplit\n",
        "                        splittedW[word]=newSplit\n",
        "            voca.append(pair[0]+pair[1])\n",
        "            merges[pair] = pair[0]+pair[1]\n",
        "        return splittedW, voca, merges\n",
        "\n",
        "    def mostFreq(self, pairsfreqs):\n",
        "        freqMax = 0\n",
        "        pairMax = None\n",
        "        for p,f in pairsfreqs.items():\n",
        "            if pairMax == None or f>freqMax:\n",
        "                pairMax = p\n",
        "                freqMax = f\n",
        "        return pairMax\n",
        "\n",
        "    def computeListOfWords(self, txt):\n",
        "        listOfWords = []\n",
        "\n",
        "        txt = re.sub(r'(\\s\\s*)',' ',txt) # remove multiple spaces\n",
        "        listWithSpaces = re.split(r'([,.:;?_!\"()\\']|--|\\s)', txt.lower())\n",
        "        size = len(listWithSpaces)\n",
        "        i = 0\n",
        "\n",
        "        while i < size:\n",
        "            if listWithSpaces[i]=='\\n':\n",
        "                listOfWords.append('Ċ')\n",
        "            elif listWithSpaces[i]==\" \" and i < size-1 and len(listWithSpaces[i+1])>0 and ('a'<=listWithSpaces[i+1][0]<='z' or '0'<=listWithSpaces[i+1][0]<='9'):\n",
        "                listOfWords.append(\"Ġ\"+listWithSpaces[i+1])\n",
        "                i += 1\n",
        "            elif listWithSpaces[i]==\" \":\n",
        "                i += 1\n",
        "            elif listWithSpaces[i]:\n",
        "                listOfWords.append(listWithSpaces[i])\n",
        "            i+= 1\n",
        "            moreSplit = False\n",
        "        return listOfWords\n",
        "\n",
        "    # initialisation from a corpus of texts, building vocabulary and merges\n",
        "    def __init__(self, corpus):\n",
        "        words, freqs = self.computeListOfUniqueWords(corpus)\n",
        "        vocab = self.initVocabulary(words)\n",
        "        splittedWords = {word: [c for c in word] for word in words}\n",
        "        listOfMerges = {}\n",
        "        noMorePairs = False\n",
        "        while len(vocab) < self.VOCAB_MAX_LENGTH and not noMorePairs:\n",
        "            pairsANDfreqs = self.computePairsAndFreq(splittedWords,freqs)\n",
        "            pmax = self.mostFreq(pairsANDfreqs)\n",
        "            if pmax == None:\n",
        "                noMorePairs = True\n",
        "            splittedWords, vocab, listOfMerges = self.mergeApair(pmax, splittedWords, vocab, listOfMerges)\n",
        "        self.token2id = {t:i for i,t in enumerate(vocab)}\n",
        "        self.id2token = {i:t for t,i in self.token2id.items()}\n",
        "        self.merges = listOfMerges\n",
        "\n",
        "    # encode a single text\n",
        "    # your work: start the encoding with [CLS], truncate at TRUNCATE_SIZE, add [PAD] when needed...\n",
        "    # return 2 elements: 1st a tensor of token IDs, and 2nd a tensor of attention mask\n",
        "    def encode(self, text):\n",
        "        pretokenizedText = self.computeListOfWords(text)\n",
        "        splittedTexts = [[l for l in word] for word in pretokenizedText]\n",
        "        for pair, merge in self.merges.items():\n",
        "            for idx, split in enumerate(splittedTexts):\n",
        "                i = 0\n",
        "                while i < len(split) - 1:\n",
        "                    if split[i] == pair[0] and split[i + 1] == pair[1]:\n",
        "                        split = split[:i] + [merge] + split[i + 2 :]\n",
        "                    i += 1\n",
        "                splittedTexts[idx] = split\n",
        "\n",
        "        ids = [self.token2id[t] if t in self.token2id else self.token2id[\"[UNK]\"] for s in splittedTexts for t in s]\n",
        "        return ids\n",
        "\n",
        "    # encode a corpus of texts\n",
        "    # your work: return 2 elements: 1st a tensor of token IDs, and 2nd a tensor of attention mask, both of the size [number of texts in corpus, TRUNCATE_SIZE]\n",
        "    def encodeCorpus(self, corpus):\n",
        "        return []\n",
        "\n",
        "    # decode an encoded text\n",
        "    # remove [SEP] and [PAD] tokens\n",
        "    def decode(self, ids):\n",
        "        text = \"\".join([self.id2token[i] for i in ids]) # your work : remove CLS token\n",
        "        text = text.replace(\"Ġ\", \" \")\n",
        "        return text\n",
        "\n",
        "# Again, debug with a small part of the train set\n",
        "myBPEtokenizer = BPETokenizer(b_train.data[:reducedTrain])"
      ]
    },
    {
      "cell_type": "markdown",
      "id": "8c2e3732",
      "metadata": {
        "hidden": true,
        "id": "8c2e3732"
      },
      "source": [
        "### Working with the whole train set:"
      ]
    },
    {
      "cell_type": "markdown",
      "id": "fb0b1e43",
      "metadata": {
        "hidden": true,
        "id": "fb0b1e43"
      },
      "source": [
        "The first option takes some time. Launch the tokenisation and go for a coffee. The code is in the next cell. The second option is to load the tokenizer we saved for you in a file."
      ]
    },
    {
      "cell_type": "code",
      "execution_count": null,
      "id": "95f256c6",
      "metadata": {
        "hidden": true,
        "id": "95f256c6"
      },
      "outputs": [],
      "source": [
        "# First option: time for a coffee\n",
        "myBPEtokenizer = BPETokenizer(b_train.data)\n",
        "# save your result if you want to restart this session later\n",
        "with open('myBPEtokenizer.obj', 'wb') as tokenizerFile:\n",
        "    pickle.dump(myBPEtokenizer, tokenizerFile, pickle.HIGHEST_PROTOCOL)"
      ]
    },
    {
      "cell_type": "code",
      "execution_count": null,
      "id": "asCkzFThZK6e",
      "metadata": {
        "hidden": true,
        "id": "asCkzFThZK6e"
      },
      "outputs": [],
      "source": [
        "# Second option: want to speed up (even with a coffee)\n",
        "# Download our saved tokenizer\n",
        "!wget https://www.i3s.unice.fr/~lingrand/myBPEtokenizer.obj\n",
        "# And load it:\n",
        "with open('./myBPEtokenizer.obj', 'rb') as tokenizerFile:\n",
        "    myBPEtokenizer = pickle.load(tokenizerFile)"
      ]
    },
    {
      "cell_type": "markdown",
      "id": "e57b0598",
      "metadata": {
        "hidden": true,
        "id": "e57b0598"
      },
      "source": [
        "## Building pytorch Datasets"
      ]
    },
    {
      "cell_type": "markdown",
      "id": "7165779e",
      "metadata": {
        "hidden": true,
        "id": "7165779e"
      },
      "source": [
        "This part is also time consuming because we will encode the train, valid and test set. The whole code is given. Run 'Option 1' cells if you still need time for a coffee or download the python objects from file if you want to speed up."
      ]
    },
    {
      "cell_type": "code",
      "execution_count": null,
      "id": "b1a81fa0",
      "metadata": {
        "hidden": true,
        "id": "b1a81fa0"
      },
      "outputs": [],
      "source": [
        "# In any option, run this code that will construct a dataset composed of tokenized texts and binary mask for padding:\n",
        "\n",
        "class MyCustomDataset(Dataset):\n",
        "    def __init__(self, X, y, tokenizer):\n",
        "        assert len(X) == len(y), f\"X and y must have the same shape. Got {len(X)} and {len(y)}\"\n",
        "        self.X_tokenized, self.X_attention_mask = tokenizer.encodeCorpus(X)\n",
        "        self.y = torch.tensor(y, dtype = torch.long)\n",
        "    def __getitem__(self, idx):\n",
        "        return ((self.X_tokenized[idx],self.X_attention_mask[idx]), self.y[idx])\n",
        "    def __len__(self):\n",
        "        return len(self.y)\n"
      ]
    },
    {
      "cell_type": "code",
      "execution_count": null,
      "id": "9de6d015",
      "metadata": {
        "hidden": true,
        "id": "9de6d015",
        "outputId": "508337e8-0077-438e-8d42-94c9380398fa"
      },
      "outputs": [
        {
          "name": "stdout",
          "output_type": "stream",
          "text": [
            "train set done\n",
            "val set done\n",
            "test set done\n"
          ]
        }
      ],
      "source": [
        "# Option 1\n",
        "\n",
        "batch_size = 64\n",
        "\n",
        "train_set = MyCustomDataset(X_train, y_train, myBPEtokenizer)\n",
        "train_dataloader = DataLoader(train_set, batch_size=batch_size, shuffle=True, drop_last=True)\n",
        "with open('train_dataloader.obj', 'wb') as f:\n",
        "    pickle.dump(train_dataloader, f, pickle.HIGHEST_PROTOCOL)\n",
        "print('train set done')\n",
        "\n",
        "val_set = MyCustomDataset(X_val, y_val, myBPEtokenizer)\n",
        "val_dataloader = DataLoader(val_set, batch_size=batch_size, shuffle=True, drop_last=True)\n",
        "with open('val_dataloader.obj', 'wb') as f:\n",
        "    pickle.dump(val_dataloader, f, pickle.HIGHEST_PROTOCOL)\n",
        "print('val set done')\n",
        "\n",
        "test_set = MyCustomDataset(X_test, y_test, myBPEtokenizer)\n",
        "test_dataloader = DataLoader(test_set, batch_size=batch_size, shuffle=False, drop_last=False)\n",
        "with open('test_dataloader.obj', 'wb') as f:\n",
        "    pickle.dump(test_dataloader, f, pickle.HIGHEST_PROTOCOL)\n",
        "print('test set done')"
      ]
    },
    {
      "cell_type": "code",
      "execution_count": null,
      "id": "JMzydNCxZcyY",
      "metadata": {
        "hidden": true,
        "id": "JMzydNCxZcyY"
      },
      "outputs": [],
      "source": [
        "# Option 2: load dataloder files\n",
        "\n",
        "!wget https://www.i3s.unice.fr/~lingrand/train_dataloader.obj\n",
        "!wget https://www.i3s.unice.fr/~lingrand/val_dataloader.obj\n",
        "!wget https://www.i3s.unice.fr/~lingrand/test_dataloader.obj\n",
        "with open('train_dataloader.obj', 'rb') as f:\n",
        "    train_dataloader = pickle.load(f)\n",
        "with open('val_dataloader.obj', 'rb') as f:\n",
        "    val_dataloader = pickle.load(f)\n",
        "with open('test_dataloader.obj', 'rb') as f:\n",
        "    test_dataloader = pickle.load(f)\n",
        ""
      ]
    },
    {
      "cell_type": "markdown",
      "id": "59bec453",
      "metadata": {
        "hidden": true,
        "id": "59bec453"
      },
      "source": [
        "You can observe a batch of data this way:"
      ]
    },
    {
      "cell_type": "code",
      "execution_count": null,
      "id": "28a591cb",
      "metadata": {
        "hidden": true,
        "id": "28a591cb"
      },
      "outputs": [],
      "source": [
        "input_batch, target_batch = next(iter(train_dataloader))"
      ]
    },
    {
      "cell_type": "code",
      "execution_count": null,
      "id": "2cce3111",
      "metadata": {
        "hidden": true,
        "id": "2cce3111"
      },
      "outputs": [],
      "source": [
        "print(input_batch)"
      ]
    },
    {
      "cell_type": "code",
      "execution_count": null,
      "id": "25893ef0",
      "metadata": {
        "hidden": true,
        "id": "25893ef0"
      },
      "outputs": [],
      "source": [
        "print(target_batch)"
      ]
    },
    {
      "cell_type": "markdown",
      "id": "44c0de7d",
      "metadata": {
        "heading_collapsed": true,
        "id": "44c0de7d"
      },
      "source": [
        "# Embedings and model"
      ]
    },
    {
      "cell_type": "markdown",
      "id": "10aa1652",
      "metadata": {
        "hidden": true,
        "id": "10aa1652"
      },
      "source": [
        "Embeddings are composed of :\n",
        "- token embeddings\n",
        "- position embeddings\n",
        "\n",
        "We will learn the tokens embeddings (an array of dimension: the number of tokens in the dictionary and the embedding dimension).\n",
        "\n",
        "For the position embeddings, we could use learnable embeddings using the number of possible positions (`TRUNCATE_SIZE`) but we chose instead to use static position embeddings in order to reduce the number of parameters to learn."
      ]
    },
    {
      "cell_type": "markdown",
      "id": "5fc80693",
      "metadata": {
        "hidden": true,
        "id": "5fc80693"
      },
      "source": [
        "We choose an embedding dimension of 64:"
      ]
    },
    {
      "cell_type": "code",
      "execution_count": null,
      "id": "80c39aa8",
      "metadata": {
        "hidden": true,
        "id": "80c39aa8"
      },
      "outputs": [],
      "source": [
        "hiddenDimEmb = 64"
      ]
    },
    {
      "cell_type": "markdown",
      "id": "0a709156",
      "metadata": {
        "hidden": true,
        "id": "0a709156"
      },
      "source": [
        "## Tokens embeddings"
      ]
    },
    {
      "cell_type": "markdown",
      "id": "39ef3902",
      "metadata": {
        "hidden": true,
        "id": "39ef3902"
      },
      "source": [
        "🤔 <b><font color='purple'>Question:</font></b> Build a layer in charge of the tokens embeddings using [nn.Embedding](https://docs.pytorch.org/docs/stable/generated/torch.nn.Embedding.html). Apply this embedding to one of the data from the previous `input_batch`."
      ]
    },
    {
      "cell_type": "code",
      "execution_count": null,
      "id": "c6ada260",
      "metadata": {
        "hidden": true,
        "id": "c6ada260"
      },
      "outputs": [],
      "source": [
        "# hint1:\n",
        "# one of the dimension of the token embedding is the size of the vocabulary, which is also the size of token2id instance variable."
      ]
    },
    {
      "cell_type": "code",
      "execution_count": null,
      "id": "54467287",
      "metadata": {
        "hidden": true,
        "id": "54467287"
      },
      "outputs": [],
      "source": [
        "# hint2:\n",
        "# you can have access to the first tokenized text of the input_batch this way: input_batch[0][0]"
      ]
    },
    {
      "cell_type": "code",
      "execution_count": null,
      "id": "6c99febf",
      "metadata": {
        "hidden": true,
        "id": "6c99febf"
      },
      "outputs": [],
      "source": [
        "# your work\n",
        "sizeDico = ...\n",
        "embedDico = ..."
      ]
    },
    {
      "cell_type": "markdown",
      "id": "9fd80b2a",
      "metadata": {
        "hidden": true,
        "id": "9fd80b2a"
      },
      "source": [
        "## Position embeddings"
      ]
    },
    {
      "cell_type": "markdown",
      "id": "a82a61a3",
      "metadata": {
        "hidden": true,
        "id": "a82a61a3"
      },
      "source": [
        "🤔 <b><font color='purple'>Question:</font></b> What is the number of positions inside a tokenized text? How would you set a learnable layer for position embeddings?"
      ]
    },
    {
      "cell_type": "code",
      "execution_count": null,
      "id": "58b2464f",
      "metadata": {
        "hidden": true,
        "id": "58b2464f"
      },
      "outputs": [],
      "source": [
        "# your work\n",
        "nbPositions = ...\n",
        "posEmbed = ..."
      ]
    },
    {
      "cell_type": "markdown",
      "id": "6803ccd2",
      "metadata": {
        "hidden": true,
        "id": "6803ccd2"
      },
      "source": [
        "This is the code computing the static position embeddings:"
      ]
    },
    {
      "cell_type": "code",
      "execution_count": null,
      "id": "nJd2wROgofOF",
      "metadata": {
        "hidden": true,
        "id": "nJd2wROgofOF"
      },
      "outputs": [],
      "source": [
        "position = torch.arange(0, nbPositions).unsqueeze(1)\n",
        "div_term = torch.exp(torch.arange(0, hiddenDimEmb, 2) * ( - math.log(10000.0) / hiddenDimEmb))\n",
        "sinusoidal_positional_encoding = torch.empty(nbPositions, hiddenDimEmb)\n",
        "sinusoidal_positional_encoding[:, 0::2] = torch.sin(position * div_term) # even\n",
        "sinusoidal_positional_encoding[:, 1::2] = torch.cos(position * div_term) # odd\n",
        "sinusoidal_positional_encoding = sinusoidal_positional_encoding.to(device)"
      ]
    },
    {
      "cell_type": "markdown",
      "id": "92ccfbcc",
      "metadata": {
        "hidden": true,
        "id": "92ccfbcc"
      },
      "source": [
        "🤔 <b><font color='purple'>Question:</font></b> How to encode the positions of the tokens inside the first tokenized text of `input_batch`?"
      ]
    },
    {
      "cell_type": "code",
      "execution_count": null,
      "id": "c83db7af",
      "metadata": {
        "hidden": true,
        "id": "c83db7af"
      },
      "outputs": [],
      "source": [
        "#hint1:\n",
        "# be careful, we encode positions and not tokens!"
      ]
    },
    {
      "cell_type": "code",
      "execution_count": null,
      "id": "1600c5c7",
      "metadata": {
        "hidden": true,
        "id": "1600c5c7"
      },
      "outputs": [],
      "source": [
        "# your work"
      ]
    },
    {
      "cell_type": "markdown",
      "id": "ef26bc78",
      "metadata": {
        "hidden": true,
        "id": "ef26bc78"
      },
      "source": [
        "🤔 <b><font color='purple'>Question:</font></b> The global embedding is the sum of tokens embeddings and positions embeddings. Compute the global embedding for the first tokenized text of `input_batch`?"
      ]
    },
    {
      "cell_type": "code",
      "execution_count": null,
      "id": "35acea32",
      "metadata": {
        "hidden": true,
        "id": "35acea32"
      },
      "outputs": [],
      "source": [
        "# your work"
      ]
    },
    {
      "cell_type": "markdown",
      "id": "1e003a45",
      "metadata": {
        "hidden": true,
        "id": "1e003a45"
      },
      "source": [
        "## A simple attention model"
      ]
    },
    {
      "cell_type": "markdown",
      "id": "389b6c30",
      "metadata": {
        "hidden": true,
        "id": "389b6c30"
      },
      "source": [
        "🤔 <b><font color='purple'>Question:</font></b> The attention is also static in order to reduce the number of parameters to be learned. We will use the simple self attention. Compute the self-attention and the context vector of the same first tokenized text of `input_batch`.\n",
        "\n",
        "Remember that the self attention of an embedding e is given by softmax(e.eT)e where softmax is defined as:\n",
        "\n",
        "$ softmax(w)_i = \\displaystyle \\frac{e^{w_i}}{\\sum_j e^{w_j}}$\n",
        "\n",
        "Be careful that for removing padded tokens, we need to replace the embedding of padded token by `-torch.inf` before the softmax operation, using the [`masked_fill`](https://docs.pytorch.org/docs/stable/generated/torch.Tensor.masked_fill.html) function."
      ]
    },
    {
      "cell_type": "code",
      "execution_count": null,
      "id": "193fe833",
      "metadata": {
        "hidden": true,
        "id": "193fe833"
      },
      "outputs": [],
      "source": [
        "# your work"
      ]
    },
    {
      "cell_type": "markdown",
      "id": "dfe2ec01",
      "metadata": {
        "hidden": true,
        "id": "dfe2ec01"
      },
      "source": [
        "## A model for the classification"
      ]
    },
    {
      "cell_type": "markdown",
      "id": "8bad3d45",
      "metadata": {
        "hidden": true,
        "id": "8bad3d45"
      },
      "source": [
        "🤔 <b><font color='purple'>Question:</font></b> Build a model that will perform the classification of the tokenized dataset. Tokens and their positions have to be embedded, self-attention to be computed. A simple Linear layer can be used for the classification as a starting model."
      ]
    },
    {
      "cell_type": "code",
      "execution_count": null,
      "id": "5829dcb2",
      "metadata": {
        "hidden": true,
        "id": "5829dcb2"
      },
      "outputs": [],
      "source": [
        "# your work\n",
        "class EncoderClassifText(nn.Module):\n",
        "    def __init__(self, sizeDico, sizePos, hiddenDimEmb=64, nbClasses=20):\n",
        "        super().__init__()\n",
        "        self.sizeText = sizePos\n",
        "# your work\n",
        "\n",
        "    def forward(self, x):\n",
        "        data,mask = x\n",
        "# your work\n",
        "        return logits\n",
        "\n",
        "clf = EncoderClassifText(sizeDico,nbPositions).to(device)"
      ]
    },
    {
      "cell_type": "markdown",
      "id": "d16fdd27",
      "metadata": {
        "hidden": true,
        "id": "d16fdd27"
      },
      "source": [
        "Use the next function to count the number of parameters to learn for your model:"
      ]
    },
    {
      "cell_type": "code",
      "execution_count": null,
      "id": "8NNXBVWBlO46",
      "metadata": {
        "hidden": true,
        "id": "8NNXBVWBlO46"
      },
      "outputs": [],
      "source": [
        "def count_parameters(model): return sum(p.numel() for p in model.parameters() if p.requires_grad)\n",
        "\n",
        "count_parameters(clf)"
      ]
    },
    {
      "cell_type": "markdown",
      "id": "6bc8388d",
      "metadata": {
        "hidden": true,
        "id": "6bc8388d"
      },
      "source": [
        "## Train loop"
      ]
    },
    {
      "cell_type": "markdown",
      "id": "5b84f68b",
      "metadata": {
        "hidden": true,
        "id": "5b84f68b"
      },
      "source": [
        "🤔 <b><font color='purple'>Question:</font></b> Learn and evaluate the previous model. If your model is not learning, you can improve the learning by using dropout, layer normalisation or change any of the previous hyperparameters."
      ]
    },
    {
      "cell_type": "code",
      "execution_count": null,
      "id": "4edb2e66",
      "metadata": {
        "hidden": true,
        "id": "4edb2e66"
      },
      "outputs": [],
      "source": [
        "# your work."
      ]
    },
    {
      "cell_type": "markdown",
      "id": "a9d97323",
      "metadata": {
        "heading_collapsed": true,
        "id": "a9d97323"
      },
      "source": [
        "# Another approach: not starting from scratch"
      ]
    },
    {
      "cell_type": "code",
      "execution_count": null,
      "id": "de3449b5",
      "metadata": {
        "hidden": true,
        "id": "de3449b5"
      },
      "outputs": [],
      "source": [
        "from transformers import AutoTokenizer, AutoModel"
      ]
    },
    {
      "cell_type": "markdown",
      "id": "a442b20b",
      "metadata": {
        "hidden": true,
        "id": "a442b20b"
      },
      "source": [
        "We will use a smaller and faster encoder model than BERT - [DistilBERT](https://huggingface.co/distilbert/distilbert-base-cased) - as our base model for both our sequence classification and next sentence prediction models. We load both the base encoder model and its tokenizer."
      ]
    },
    {
      "cell_type": "code",
      "execution_count": null,
      "id": "7ded6925",
      "metadata": {
        "hidden": true,
        "id": "7ded6925"
      },
      "outputs": [],
      "source": [
        "base_model_name = \"distilbert/distilbert-base-cased\" # choosing the pretrained model\n",
        "\n",
        "tokenizer = AutoTokenizer.from_pretrained(base_model_name) # loading the tokenizer of the corresponding model\n",
        "\n",
        "base_model = AutoModel.from_pretrained(base_model_name, output_attentions = False) # actually loading the pretrained model"
      ]
    },
    {
      "cell_type": "markdown",
      "id": "65b44b6a",
      "metadata": {
        "hidden": true,
        "id": "65b44b6a"
      },
      "source": [
        "Observe the structure of the base model. There is an embedding layer as well as multiple stacked encoder blocks that include self-attention."
      ]
    },
    {
      "cell_type": "code",
      "execution_count": null,
      "id": "a6c9a97d",
      "metadata": {
        "hidden": true,
        "id": "a6c9a97d"
      },
      "outputs": [],
      "source": [
        "print(base_model)"
      ]
    },
    {
      "cell_type": "markdown",
      "id": "1b70fc7d",
      "metadata": {
        "hidden": true,
        "id": "1b70fc7d"
      },
      "source": [
        "Our base model has a maximum sequence length of 512 tokens. Sequences that exceed that limit should be truncated to 512 or less tokens."
      ]
    },
    {
      "cell_type": "code",
      "execution_count": null,
      "id": "bc20978b",
      "metadata": {
        "hidden": true,
        "id": "bc20978b"
      },
      "outputs": [],
      "source": [
        "print(\"maximum sequence length allowed by the base encoder model =\", base_model.config.max_position_embeddings)"
      ]
    },
    {
      "cell_type": "markdown",
      "id": "9563a481",
      "metadata": {
        "hidden": true,
        "id": "9563a481"
      },
      "source": [
        "This a toy example to better understand the tokenization and the model outputs."
      ]
    },
    {
      "cell_type": "code",
      "execution_count": null,
      "id": "f4cdea89",
      "metadata": {
        "hidden": true,
        "id": "f4cdea89"
      },
      "outputs": [],
      "source": [
        "toy_text_list = [\n",
        "    \"This is a first sentence\",\n",
        "    \"2nd one\",\n",
        "    \"And here is the last sentence...\"\n",
        "]"
      ]
    },
    {
      "cell_type": "markdown",
      "id": "67492411",
      "metadata": {
        "hidden": true,
        "id": "67492411"
      },
      "source": [
        "We tokenize the list of text sequences."
      ]
    },
    {
      "cell_type": "code",
      "execution_count": null,
      "id": "859a50fe",
      "metadata": {
        "hidden": true,
        "id": "859a50fe"
      },
      "outputs": [],
      "source": [
        "tokenized_text_list = tokenizer(\n",
        "    toy_text_list, # list of sequences\n",
        "    truncation = True, # truncate each sequence to the longuest sequence provided that it is less than the maximum length accepted by the model (512 for our base model)\n",
        "    padding = True, # add [PAD] tokens to pad each sequence to the longuest sequence, such that each sequence will have the same length\n",
        "    add_special_tokens = True, # add [CLS] token at the beginning of each sequence, and add [SEP] token at the end of each sequence, those are used by the base model\n",
        "    return_tensors = \"pt\" # return the tokenized sequences as pytorch tensors\n",
        ")"
      ]
    },
    {
      "cell_type": "markdown",
      "id": "89486e75",
      "metadata": {
        "hidden": true,
        "id": "89486e75"
      },
      "source": [
        "The output of the tokenizer is a dictionary composed of several components that will be inputted to the model.\n",
        "\n",
        "\n",
        "* **input_ids**: a list of ids where each token id represents a word or subword.\n",
        "* **attention_mask**: The attention mask is a binary list indicating the position of the padded indices so that the model does not pay attention to them, as they do not carry any useful information. The model will only focus on tokens that have an associated mask value of 1.\n",
        "\n",
        "The tokenizer outputs provides the necessary information for the base model.\n"
      ]
    },
    {
      "cell_type": "code",
      "execution_count": null,
      "id": "4a2b3f9c",
      "metadata": {
        "hidden": true,
        "id": "4a2b3f9c"
      },
      "outputs": [],
      "source": [
        "print(tokenized_text_list)"
      ]
    },
    {
      "cell_type": "code",
      "execution_count": null,
      "id": "c0ee6ff9",
      "metadata": {
        "hidden": true,
        "id": "c0ee6ff9"
      },
      "outputs": [],
      "source": [
        "for key, value in tokenized_text_list.items():\n",
        "    print(f\"{key} shape: {value.shape}\")"
      ]
    },
    {
      "cell_type": "markdown",
      "id": "ffaf384c",
      "metadata": {
        "hidden": true,
        "id": "ffaf384c"
      },
      "source": [
        "This is a similar `Dataset` class:"
      ]
    },
    {
      "cell_type": "code",
      "execution_count": null,
      "id": "5afe85df",
      "metadata": {
        "hidden": true,
        "id": "5afe85df"
      },
      "outputs": [],
      "source": [
        "class MyCustomDataset(Dataset):\n",
        "    def __init__(self, X, y, tokenizer):\n",
        "        assert len(X) == len(y), f\"X and y must have the same shape. Got {len(X)} and {len(y)}\"\n",
        "        self.X_tokenized = tokenizer(X, truncation = True, padding = True, add_special_tokens = True, return_tensors = \"pt\")\n",
        "        self.y = torch.tensor(y, dtype = torch.long)\n",
        "    def __getitem__(self, idx):\n",
        "        X_tokenized_i = {key: val[idx] for key, val in self.X_tokenized.items()}\n",
        "        y_i = self.y[idx]\n",
        "        return (X_tokenized_i, y_i)\n",
        "    def __len__(self):\n",
        "        return len(self.y)"
      ]
    },
    {
      "cell_type": "markdown",
      "id": "220c2450",
      "metadata": {
        "hidden": true,
        "id": "220c2450"
      },
      "source": [
        "We define the training loop and the functions necessary to evaluate the sequence classification and next sentence prediction models that we will build in the next sections."
      ]
    },
    {
      "cell_type": "code",
      "execution_count": null,
      "id": "f585e80d",
      "metadata": {
        "hidden": true,
        "id": "f585e80d"
      },
      "outputs": [],
      "source": [
        "def train(model, train_dataloader, val_dataloader, nb_epochs, device, optimizer):\n",
        "    training_validation_loss_history = {\"training_loss\" : [], \"validation_loss\" : []}\n",
        "    model = model.to(device)\n",
        "    initial_validation_loss = epoch_validation(model, val_dataloader, -1, device)\n",
        "    for epoch in range(nb_epochs):\n",
        "        training_loss = epoch_training(model, train_dataloader, epoch, device, optimizer)\n",
        "        validation_loss = epoch_validation(model, val_dataloader, epoch, device)\n",
        "        training_validation_loss_history[\"training_loss\"].append(training_loss)\n",
        "        training_validation_loss_history[\"validation_loss\"].append(validation_loss)\n",
        "    return training_validation_loss_history\n",
        "\n",
        "def epoch_training(model, dataloader, epoch, device, optimizer):\n",
        "    model.train()\n",
        "    loss_epoch_list = []\n",
        "    with tqdm(dataloader, unit=\"batch\") as tqdm_dataloader:\n",
        "        tqdm_dataloader.set_description(f\"Epoch {epoch}: Training\")\n",
        "        for input, target in tqdm_dataloader:\n",
        "            # load tensor to GPU if enabled\n",
        "            input = {key: val.to(device) for key, val in input.items()}\n",
        "            target = target.to(device)\n",
        "            # forward pass\n",
        "            outputs = model(input, labels = target)\n",
        "            # get the loss\n",
        "            loss = outputs[\"loss\"]\n",
        "            loss_epoch_list.append(loss.item())\n",
        "            loss_epoch_mean = sum(loss_epoch_list) / len(loss_epoch_list)\n",
        "            tqdm_dataloader.set_postfix(loss = loss_epoch_mean)\n",
        "            # backward pass, optimize\n",
        "            optimizer.zero_grad()\n",
        "            loss.backward()\n",
        "            optimizer.step()\n",
        "    return loss_epoch_mean\n",
        "\n",
        "def epoch_validation(model, dataloader, epoch, device):\n",
        "    model.eval()\n",
        "    loss_epoch_list = []\n",
        "    with tqdm(dataloader, unit=\"batch\") as tqdm_dataloader, torch.inference_mode():\n",
        "        tqdm_dataloader.set_description(f\"Epoch {epoch}: Validation\")\n",
        "        for input, target in tqdm_dataloader:\n",
        "            # load tensor to GPU if enabled\n",
        "            input = {key: val.to(device) for key, val in input.items()}\n",
        "            target = target.to(device)\n",
        "            # forward pass\n",
        "            outputs = model(input, labels = target)\n",
        "            # get the loss\n",
        "            loss = outputs[\"loss\"]\n",
        "            loss_epoch_list.append(loss.item())\n",
        "            loss_epoch_mean = sum(loss_epoch_list) / len(loss_epoch_list)\n",
        "            tqdm_dataloader.set_postfix(loss = loss_epoch_mean)\n",
        "    return loss_epoch_mean\n",
        "\n",
        "def predict(model, dataloader, device):\n",
        "    model.eval()\n",
        "    y_true_list = []\n",
        "    y_pred_list = []\n",
        "    with tqdm(dataloader, unit=\"batch\") as tqdm_dataloader, torch.inference_mode():\n",
        "        tqdm_dataloader.set_description(f\"Testing\")\n",
        "        for input, target in tqdm_dataloader:\n",
        "            # load tensor to GPU if enabled\n",
        "            input = {key: val.to(device) for key, val in input.items()}\n",
        "            target = target.to(device)\n",
        "            # forward pass\n",
        "            outputs = model(input, labels = target)\n",
        "            # get true labels and predictions\n",
        "            y_true_list.extend(target.tolist())\n",
        "            y_pred_list.extend(outputs[\"predictions\"].tolist())\n",
        "\n",
        "    accuracy = accuracy_score(y_true_list, y_pred_list)\n",
        "    return accuracy"
      ]
    },
    {
      "cell_type": "markdown",
      "id": "4301999d",
      "metadata": {
        "heading_collapsed": true,
        "hidden": true,
        "id": "4301999d"
      },
      "source": [
        "## model"
      ]
    },
    {
      "cell_type": "markdown",
      "id": "a7467dde",
      "metadata": {
        "hidden": true,
        "id": "a7467dde"
      },
      "source": [
        "Our sequence classification model will be built upon the base encoder model from the previous section, specifically leveraging the contextualized embedding of the [CLS] token. This embedding will be passed to a classification head (a feed-forward neural network) and we will output the predicted class for each sequence. Since we have 20 classes, we will use the torch.nn.CrossEntropyLoss function, which is well-suited for multiclass classification."
      ]
    },
    {
      "cell_type": "code",
      "execution_count": null,
      "id": "ee6b539f",
      "metadata": {
        "hidden": true,
        "id": "ee6b539f"
      },
      "outputs": [],
      "source": [
        "# your work (fill some inputs)\n",
        "\n",
        "class Sequence_Classification_Model(torch.nn.Module):\n",
        "\n",
        "    def __init__(self,\n",
        "        base_model_name,\n",
        "        number_of_classes,\n",
        "        train_transformer = True,\n",
        "        dropout_value = 0.1,\n",
        "    ):\n",
        "\n",
        "        super().__init__()\n",
        "        self.base_model_name = base_model_name\n",
        "        self.transformer = AutoModel.from_pretrained(...) # base model\n",
        "        self.embedding_size = self.transformer.config.hidden_size\n",
        "        self.number_of_classes = number_of_classes\n",
        "        self.train_transformer = train_transformer\n",
        "        self.set_transformer_requires_grad(self.train_transformer)\n",
        "\n",
        "        self.pre_classifier = torch.nn.Linear(self.embedding_size, self.embedding_size)\n",
        "        self.relu = torch.nn.ReLU()\n",
        "        self.classifier = torch.nn.Linear(..., ...) # used after the pre_classifier layer, with out_features = number of classes\n",
        "        self.loss_function = torch.nn.CrossEntropyLoss()\n",
        "\n",
        "        self.dropout_value = dropout_value\n",
        "        self.dropout = torch.nn.Dropout(p = self.dropout_value)\n",
        "\n",
        "    def forward(self, inputs, labels = None): # inputs[\"input_ids\"] dim = [batch_size, number_of_tokens]\n",
        "\n",
        "        cls_token_embeds = ... # embedding of the contextualized [CLS] token # [batch_size, embed_size]\n",
        "\n",
        "        pooled_output = self.pre_classifier(cls_token_embeds) # [batch_size, embed_size]\n",
        "        pooled_output = self.relu(pooled_output)\n",
        "        pooled_output = self.dropout(pooled_output)\n",
        "\n",
        "        classifier_output = self.classifier(pooled_output) # classifier_output dim = [batch_size, num_classes]\n",
        "\n",
        "        predictions = torch.argmax(..., dim = ...) # take the classifier output and get the position of the highest values for each sequence to predict the label # predictions dim = [batch_size]\n",
        "        loss = self.loss_function(classifier_output, labels)\n",
        "\n",
        "        return {\"loss\" : loss, \"predictions\" : predictions, \"classifier_output\" : classifier_output}\n",
        "\n",
        "    def set_transformer_requires_grad(self, state): # boolean: whether to make the transformer part trainable or not\n",
        "        self.train_transformer = state\n",
        "        for name, param in self.transformer.named_parameters():\n",
        "            param.requires_grad = state\n"
      ]
    },
    {
      "cell_type": "markdown",
      "id": "b44b63c2",
      "metadata": {
        "hidden": true,
        "id": "b44b63c2"
      },
      "source": [
        "We initialize our sequence classification model."
      ]
    },
    {
      "cell_type": "code",
      "execution_count": null,
      "id": "4b4a4574",
      "metadata": {
        "hidden": true,
        "id": "4b4a4574"
      },
      "outputs": [],
      "source": [
        "sequence_classification_model = Sequence_Classification_Model(\n",
        "    base_model_name,\n",
        "    len(b_train.target_names),\n",
        "    train_transformer = True,\n",
        "    dropout_value = 0.1,\n",
        ")"
      ]
    },
    {
      "cell_type": "markdown",
      "id": "893740b1",
      "metadata": {
        "hidden": true,
        "id": "893740b1"
      },
      "source": [
        "We set a few training parameters, which may not be optimal but will still be effective for our task."
      ]
    },
    {
      "cell_type": "code",
      "execution_count": null,
      "id": "9d543372",
      "metadata": {
        "hidden": true,
        "id": "9d543372"
      },
      "outputs": [],
      "source": [
        "batch_size = 4\n",
        "nb_epochs = 2\n",
        "learning_rate = 2e-5\n",
        "optimizer = torch.optim.AdamW(sequence_classification_model.parameters(), lr = learning_rate)\n"
      ]
    },
    {
      "cell_type": "markdown",
      "id": "a9788fa5",
      "metadata": {
        "hidden": true,
        "id": "a9788fa5"
      },
      "source": [
        "We create the datasets and dataloaders"
      ]
    },
    {
      "cell_type": "code",
      "execution_count": null,
      "id": "af1ff123",
      "metadata": {
        "hidden": true,
        "id": "af1ff123"
      },
      "outputs": [],
      "source": [
        "# your code\n",
        "\n",
        "train_set = MyCustomDataset(X_train, y_train, tokenizer)\n",
        "val_set = MyCustomDataset(...)\n",
        "test_set = MyCustomDataset(...)\n",
        "\n",
        "train_dataloader = DataLoader(train_set, batch_size=batch_size, shuffle=True, drop_last=True)\n",
        "val_dataloader = DataLoader(val_set, batch_size=batch_size, shuffle=False, drop_last=False)\n",
        "test_dataloader = DataLoader(test_set, batch_size=batch_size, shuffle=False, drop_last=False)"
      ]
    },
    {
      "cell_type": "markdown",
      "id": "7ed2ba21",
      "metadata": {
        "hidden": true,
        "id": "7ed2ba21"
      },
      "source": [
        "Now, we train our sequence classification model. Remember that the defined training parameters are not ideal, and that we used a reduced set of the original dataset. However, you can still see that the model is learning."
      ]
    },
    {
      "cell_type": "code",
      "execution_count": null,
      "id": "52e22ee6",
      "metadata": {
        "hidden": true,
        "id": "52e22ee6"
      },
      "outputs": [],
      "source": [
        "train(sequence_classification_model, train_dataloader, val_dataloader, nb_epochs, device, optimizer)"
      ]
    },
    {
      "cell_type": "markdown",
      "id": "781fab1c",
      "metadata": {
        "hidden": true,
        "id": "781fab1c"
      },
      "source": [
        "We show the performance of our trained model by displaying the accuracy on the test set. Note that the score is significantly higher than random predictions."
      ]
    },
    {
      "cell_type": "code",
      "execution_count": null,
      "id": "37640cd2",
      "metadata": {
        "hidden": true,
        "id": "37640cd2"
      },
      "outputs": [],
      "source": [
        "accuracy = predict(sequence_classification_model, test_dataloader, device)\n",
        "print(\"\\naccuracy =\", accuracy)"
      ]
    }
  ],
  "metadata": {
    "accelerator": "GPU",
    "colab": {
      "gpuType": "T4",
      "provenance": [],
      "include_colab_link": true
    },
    "kernelspec": {
      "display_name": "mri_2025_1",
      "language": "python",
      "name": "python3"
    },
    "language_info": {
      "codemirror_mode": {
        "name": "ipython",
        "version": 3
      },
      "file_extension": ".py",
      "mimetype": "text/x-python",
      "name": "python",
      "nbconvert_exporter": "python",
      "pygments_lexer": "ipython3",
      "version": "3.10.0"
    },
    "toc": {
      "base_numbering": 1,
      "nav_menu": {},
      "number_sections": true,
      "sideBar": true,
      "skip_h1_title": false,
      "title_cell": "Table of Contents",
      "title_sidebar": "Contents",
      "toc_cell": false,
      "toc_position": {},
      "toc_section_display": true,
      "toc_window_display": false
    }
  },
  "nbformat": 4,
  "nbformat_minor": 5
}