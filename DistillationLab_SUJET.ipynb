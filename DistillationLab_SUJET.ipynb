{
  "cells": [
    {
      "cell_type": "markdown",
      "metadata": {
        "id": "view-in-github",
        "colab_type": "text"
      },
      "source": [
        "<a href=\"https://colab.research.google.com/github/prabal5ghosh/Deep-Learning-summer-school-2025-university-of-cote-d-Azur/blob/main/DistillationLab_SUJET.ipynb\" target=\"_parent\"><img src=\"https://colab.research.google.com/assets/colab-badge.svg\" alt=\"Open In Colab\"/></a>"
      ]
    },
    {
      "cell_type": "markdown",
      "metadata": {
        "id": "0W9nOhv4g0FU"
      },
      "source": [
        "<center><img width=60% src=\"http://www.i3s.unice.fr/~lingrand/efeliaUnica.png\"><br/><br/>\n",
        "<font size=+3><b>Distillation in neural networks</b></font><br/><br/>\n",
        "<font size=+1>Célia D'cruz, Rémy Sun, Frédéric Precioso and Diane Lingrand<br/>\n",
        "Deep Learning School<br/>\n",
        "    2025 - June/July<br/></font>\n",
        "    <img width=14% src=\"http://www.i3s.unice.fr/~lingrand/cc-long.png\">\n",
        "    </center>"
      ]
    },
    {
      "cell_type": "markdown",
      "metadata": {
        "id": "byLfVNlBAP0a"
      },
      "source": [
        "<font size=+2> This lab is based on the pytorch lab on [Knowledge Distillation Tutorial by Alexandros Chariton](https://docs.pytorch.org/tutorials/beginner/knowledge_distillation_tutorial.html)</font>\n"
      ]
    },
    {
      "cell_type": "markdown",
      "metadata": {
        "id": "b_-k76WhAP0b"
      },
      "source": [
        "Knowledge distillation is a technique that enables knowledge transfer\n",
        "from large, computationally expensive models to smaller ones without\n",
        "losing validity. This allows for deployment on less powerful hardware,\n",
        "making evaluation faster and more efficient.\n",
        "\n",
        "In this tutorial, we will run a number of experiments focused at\n",
        "improving the accuracy of a lightweight neural network, using a more\n",
        "powerful network as a teacher. The computational cost and the speed of\n",
        "the lightweight network will remain unaffected, our intervention only\n",
        "focuses on its weights, not on its forward pass. Applications of this\n",
        "technology can be found in devices such as drones or mobile phones. In\n",
        "this tutorial, we do not use any external packages as everything we need\n",
        "is available in `torch` and `torchvision`.\n",
        "\n",
        "In this tutorial, you will learn:\n",
        "\n",
        "-   How to modify model classes to extract hidden representations and\n",
        "    use them for further calculations\n",
        "-   How to modify regular train loops in PyTorch to include additional\n",
        "    losses on top of, for example, cross-entropy for classification\n",
        "-   How to improve the performance of lightweight models by using more\n",
        "    complex models as teachers\n",
        "\n",
        "Prerequisites\n",
        "=============\n",
        "\n",
        "-   1 GPU, 4GB of memory\n",
        "-   PyTorch v2.0 or later\n",
        "-   CIFAR-10 dataset (downloaded by the script and saved in a directory\n",
        "    called `/data`)\n"
      ]
    },
    {
      "cell_type": "code",
      "execution_count": 1,
      "metadata": {
        "id": "x9HemfKoAP0b"
      },
      "outputs": [],
      "source": [
        "import torch\n",
        "import torch.nn as nn\n",
        "import torch.optim as optim\n",
        "import torchvision.transforms as transforms\n",
        "import torchvision.datasets as datasets\n",
        "import matplotlib.pyplot as plt\n",
        "\n",
        "import numpy as np"
      ]
    },
    {
      "cell_type": "code",
      "execution_count": 2,
      "metadata": {
        "colab": {
          "base_uri": "https://localhost:8080/"
        },
        "id": "4F4cOOuig0FZ",
        "outputId": "7e38b5b7-51c7-4704-e56c-a1e82ac94a92"
      },
      "outputs": [
        {
          "output_type": "execute_result",
          "data": {
            "text/plain": [
              "device(type='cuda')"
            ]
          },
          "metadata": {},
          "execution_count": 2
        }
      ],
      "source": [
        "# making the code device agnostic\n",
        "if torch.cuda.is_available():\n",
        "    device = torch.device(\"cuda\")\n",
        "elif torch.backends.mps.is_available():\n",
        "    device = torch.device(\"mps\")\n",
        "else:\n",
        "    device = torch.device(\"cpu\")\n",
        "device"
      ]
    },
    {
      "cell_type": "markdown",
      "metadata": {
        "id": "bQd2DWpbAP0c"
      },
      "source": [
        "Loading CIFAR-10\n",
        "================\n",
        "\n",
        "CIFAR-10 is a popular image dataset with ten classes. Our objective is\n",
        "to predict one of the following classes for each input image.\n",
        "\n",
        "![Example of CIFAR-10images](https://pytorch.org/tutorials//../_static/img/cifar10.png)\n",
        "\n",
        "The input images are RGB, so they have 3 channels and are 32x32 pixels.\n",
        "Basically, each image is described by 3 x 32 x 32 = 3072 numbers ranging\n",
        "from 0 to 255. A common practice in neural networks is to normalize the\n",
        "input, which is done for multiple reasons, including avoiding saturation\n",
        "in commonly used activation functions and increasing numerical\n",
        "stability. Our normalization process consists of subtracting the mean\n",
        "and dividing by the standard deviation along each channel. The tensors\n",
        "\\\"mean=\\[0.485, 0.456, 0.406\\]\\\" and \\\"std=\\[0.229, 0.224, 0.225\\]\\\"\n",
        "were already computed, and they represent the mean and standard\n",
        "deviation of each channel in the predefined subset of CIFAR-10 intended\n",
        "to be the training set. Notice how we use these values for the test set\n",
        "as well, without recomputing the mean and standard deviation from\n",
        "scratch. This is because the network was trained on features produced by\n",
        "subtracting and dividing the numbers above, and we want to maintain\n",
        "consistency. Furthermore, in real life, we would not be able to compute\n",
        "the mean and standard deviation of the test set since, under our\n",
        "assumptions, this data would not be accessible at that point.\n",
        "\n",
        "As a closing point, we often refer to this held-out set as the\n",
        "validation set, and we use a separate set, called the test set, after\n",
        "optimizing a model\\'s performance on the validation set. This is done to\n",
        "avoid selecting a model based on the greedy and biased optimization of a\n",
        "single metric.\n"
      ]
    },
    {
      "cell_type": "code",
      "execution_count": 3,
      "metadata": {
        "id": "nHHCNJkzAP0e",
        "outputId": "3a554157-025c-46b9-af7a-4ab8e3b73b49",
        "colab": {
          "base_uri": "https://localhost:8080/"
        }
      },
      "outputs": [
        {
          "output_type": "stream",
          "name": "stderr",
          "text": [
            "100%|██████████| 170M/170M [00:13<00:00, 12.6MB/s]\n"
          ]
        }
      ],
      "source": [
        "# Below we are preprocessing data for CIFAR-10. We use an arbitrary batch size of 128.\n",
        "transforms_cifar = transforms.Compose([\n",
        "    transforms.ToTensor(),\n",
        "    transforms.Normalize(mean=[0.485, 0.456, 0.406], std=[0.229, 0.224, 0.225]),\n",
        "])\n",
        "\n",
        "# Loading the CIFAR-10 dataset:\n",
        "train_dataset = datasets.CIFAR10(root='./data', train=True, download=True, transform=transforms_cifar)\n",
        "test_dataset = datasets.CIFAR10(root='./data', train=False, download=True, transform=transforms_cifar)"
      ]
    },
    {
      "cell_type": "code",
      "execution_count": 4,
      "metadata": {
        "id": "-QLGP37sePK_"
      },
      "outputs": [],
      "source": [
        "from torch.utils.data import random_split\n",
        "train_dataset, val_dataset = random_split(train_dataset, [40000, 10000], torch.Generator().manual_seed(42))"
      ]
    },
    {
      "cell_type": "markdown",
      "metadata": {
        "id": "-KsB2JjhAP0e"
      },
      "source": [
        "<div style=\"background-color: #54c7ec; color: #fff; font-weight: 700; padding-left: 10px; padding-top: 5px; padding-bottom: 5px\"><strong>NOTE:</strong></div>\n",
        "\n",
        "<div style=\"background-color: #f3f4f7; padding-left: 10px; padding-top: 10px; padding-bottom: 10px; padding-right: 10px\">\n",
        "\n",
        "<p>This section is for CPU users only who are interested in quick results. Use this option only if you're interested in a small scale experiment. Keep in mind the code should run fairly quickly using any GPU. Select only the first <code>num_images_to_keep</code> images from the train/test dataset<pre><code>#from torch.utils.data import Subset</p>\n",
        "<h1>num_images_to_keep = 2000</h1>\n",
        "<h1>train_dataset = Subset(train_dataset, range(min(num_images_to_keep, 50_000)))</h1>\n",
        "<h1>test_dataset = Subset(test_dataset, range(min(num_images_to_keep, 10_000)))</code></pre></h1>\n",
        "```\n",
        "\n",
        "</div>\n",
        "\n"
      ]
    },
    {
      "cell_type": "code",
      "execution_count": 5,
      "metadata": {
        "id": "eC1TdDmdAP0f"
      },
      "outputs": [],
      "source": [
        "#Dataloaders\n",
        "train_loader = torch.utils.data.DataLoader(train_dataset, batch_size=128, shuffle=True, num_workers=2)\n",
        "val_loader = torch.utils.data.DataLoader(val_dataset, batch_size=128, shuffle=False, num_workers=2)\n",
        "test_loader = torch.utils.data.DataLoader(test_dataset, batch_size=128, shuffle=False, num_workers=2)"
      ]
    },
    {
      "cell_type": "markdown",
      "metadata": {
        "id": "lw-fVWaaePLB"
      },
      "source": [
        "🤔 <b><font color='purple'>Question:</font></b> How many samples are there in the train and test set? Print one sample from the train set: what is the shape of the input image, what is its associated label (class)?"
      ]
    },
    {
      "cell_type": "code",
      "source": [
        "print(\"train set shape\", len(train_dataset))\n",
        "print(\"test set shape\", len(test_dataset))\n"
      ],
      "metadata": {
        "colab": {
          "base_uri": "https://localhost:8080/"
        },
        "id": "R5zB3LLdtEBN",
        "outputId": "8be8e51c-7b48-4a65-fcd7-92328b15cfbe"
      },
      "execution_count": 40,
      "outputs": [
        {
          "output_type": "stream",
          "name": "stdout",
          "text": [
            "train set shape 40000\n",
            "test set shape 10000\n"
          ]
        }
      ]
    },
    {
      "cell_type": "code",
      "source": [
        "\n",
        "one_sample_input, one_sample_target = train_dataset[0]\n",
        "print(\"one image =\", one_sample_input)\n",
        "print(\"shape of the image =\", one_sample_input.shape)\n",
        "print(\"image label =\", one_sample_target)"
      ],
      "metadata": {
        "colab": {
          "base_uri": "https://localhost:8080/"
        },
        "id": "OG6esUDutuor",
        "outputId": "e2dc0a55-1c77-4653-f16c-88679ad02825"
      },
      "execution_count": 41,
      "outputs": [
        {
          "output_type": "stream",
          "name": "stdout",
          "text": [
            "one image = tensor([[[-1.0733, -0.9020, -0.7822,  ..., -0.7822, -0.9020, -1.1247],\n",
            "         [-0.1657, -0.2513, -0.5253,  ..., -0.7137, -0.9020, -1.0904],\n",
            "         [-0.7479, -0.9877, -1.2788,  ..., -0.5082, -0.5424, -0.7308],\n",
            "         ...,\n",
            "         [-2.0494, -2.0152, -2.1179,  ..., -0.1828, -0.3369, -0.1828],\n",
            "         [-1.9809, -1.8782, -2.0152,  ..., -0.0972, -0.4568, -0.5767],\n",
            "         [-1.4672, -1.4672, -1.6213,  ..., -0.4739, -0.6794, -0.5596]],\n",
            "\n",
            "        [[-1.0378, -0.9503, -0.8102,  ..., -0.8978, -1.0203, -1.2129],\n",
            "         [-0.1275, -0.2850, -0.5126,  ..., -0.7577, -0.9678, -1.1429],\n",
            "         [-0.7052, -0.9853, -1.1779,  ..., -0.4951, -0.5826, -0.7752],\n",
            "         ...,\n",
            "         [-1.7206, -1.8081, -1.7206,  ..., -0.7052, -1.0553, -1.1779],\n",
            "         [-1.8256, -1.7731, -1.8081,  ..., -0.6877, -1.0028, -1.2479],\n",
            "         [-1.5280, -1.5980, -1.7206,  ..., -1.1429, -1.3004, -1.1779]],\n",
            "\n",
            "        [[-0.8284, -0.7587, -0.6541,  ..., -0.9156, -0.9678, -1.1421],\n",
            "         [ 0.1476,  0.0256, -0.2881,  ..., -0.8110, -0.9330, -1.0550],\n",
            "         [-0.5844, -0.8633, -1.2119,  ..., -0.4973, -0.5147, -0.6541],\n",
            "         ...,\n",
            "         [-1.2990, -1.5256, -1.7173,  ..., -0.7064, -1.0201, -1.2641],\n",
            "         [-1.4907, -1.4733, -1.5953,  ..., -0.6367, -0.9678, -1.2467],\n",
            "         [-1.2467, -1.2816, -1.4036,  ..., -1.0201, -1.1944, -1.1073]]])\n",
            "shape of the image = torch.Size([3, 32, 32])\n",
            "image label = 6\n"
          ]
        }
      ]
    },
    {
      "cell_type": "code",
      "execution_count": 42,
      "metadata": {
        "id": "qEoOXEwyePLC"
      },
      "outputs": [],
      "source": [
        "# your work\n",
        "train_loader_iter = iter(train_loader)\n",
        "train_images, train_labels = next(train_loader_iter)"
      ]
    },
    {
      "cell_type": "code",
      "source": [
        "len(train_dataset)"
      ],
      "metadata": {
        "colab": {
          "base_uri": "https://localhost:8080/"
        },
        "id": "C2KsqOebTKow",
        "outputId": "4a82a3af-1e07-4580-d14d-dd552ee00a79"
      },
      "execution_count": 43,
      "outputs": [
        {
          "output_type": "execute_result",
          "data": {
            "text/plain": [
              "40000"
            ]
          },
          "metadata": {},
          "execution_count": 43
        }
      ]
    },
    {
      "cell_type": "code",
      "source": [
        "train_images"
      ],
      "metadata": {
        "colab": {
          "base_uri": "https://localhost:8080/"
        },
        "id": "AN8nit8uTPcO",
        "outputId": "5e4f59f9-58dc-4b2f-e127-dbb06a9bf0b0"
      },
      "execution_count": 44,
      "outputs": [
        {
          "output_type": "execute_result",
          "data": {
            "text/plain": [
              "tensor([[[[ 1.3413,  1.3413,  1.3242,  ...,  1.3584,  1.2043,  1.2899],\n",
              "          [ 1.2214,  1.1872,  1.2043,  ...,  0.9988,  0.9132,  1.0159],\n",
              "          [ 1.0159,  0.9646,  0.9817,  ...,  0.7762,  0.7762,  0.9303],\n",
              "          ...,\n",
              "          [-1.5699, -1.4158, -1.0390,  ..., -1.7069, -1.7412, -1.7583],\n",
              "          [-1.5185, -0.9363,  0.0912,  ..., -1.6213, -1.7754, -1.7412],\n",
              "          [-1.5699, -1.4843, -1.2445,  ..., -1.7412, -1.7754, -1.7240]],\n",
              "\n",
              "         [[ 1.9209,  1.9209,  1.8859,  ...,  1.9559,  1.8333,  1.8859],\n",
              "          [ 1.8333,  1.8158,  1.8508,  ...,  1.7808,  1.7108,  1.7108],\n",
              "          [ 1.7458,  1.7283,  1.7458,  ...,  1.6933,  1.6933,  1.6933],\n",
              "          ...,\n",
              "          [-0.7227, -0.6176, -0.3901,  ..., -0.3550, -0.3901, -0.4076],\n",
              "          [-0.6352, -0.1975,  0.6604,  ..., -0.3200, -0.3200, -0.5301],\n",
              "          [-0.7752, -0.7927, -0.6527,  ..., -0.8102, -0.6176, -0.7227]],\n",
              "\n",
              "         [[ 2.6400,  2.5703,  2.6051,  ...,  2.6226,  2.6051,  2.6226],\n",
              "          [ 2.5180,  2.4134,  2.3786,  ...,  2.3960,  2.3960,  2.4831],\n",
              "          [ 2.6051,  2.5180,  2.4657,  ...,  2.4483,  2.4483,  2.5529],\n",
              "          ...,\n",
              "          [ 0.3568,  0.2696,  0.3568,  ...,  0.5485,  0.5311,  0.6879],\n",
              "          [ 0.3568,  0.6879,  1.0191,  ...,  0.4439,  0.4614,  0.6356],\n",
              "          [ 0.8971,  0.9494,  0.7054,  ...,  0.6531,  0.8099,  0.9145]]],\n",
              "\n",
              "\n",
              "        [[[ 1.9235,  1.8893,  1.8722,  ...,  2.0948,  2.0948,  2.0948],\n",
              "          [ 1.9407,  1.9578,  1.8379,  ...,  2.1462,  2.1462,  2.1290],\n",
              "          [ 2.0948,  2.0605,  2.0263,  ...,  2.2147,  2.1804,  2.1119],\n",
              "          ...,\n",
              "          [-1.1932, -1.2274, -1.2445,  ..., -1.6042, -1.6042, -1.5528],\n",
              "          [-1.3302, -1.3473, -1.3644,  ..., -1.5699, -1.5357, -1.5185],\n",
              "          [-1.0219, -0.9877, -0.8678,  ..., -1.5185, -1.5014, -1.5014]],\n",
              "\n",
              "         [[ 2.3761,  2.3585,  2.3410,  ...,  2.4286,  2.4286,  2.4286],\n",
              "          [ 2.3410,  2.3410,  2.2360,  ...,  2.4111,  2.4111,  2.4286],\n",
              "          [ 2.4286,  2.3936,  2.3761,  ...,  2.4111,  2.4111,  2.4111],\n",
              "          ...,\n",
              "          [-0.7577, -0.7752, -0.7752,  ..., -1.1604, -1.0728, -0.9853],\n",
              "          [-0.8627, -0.8978, -0.8978,  ..., -1.0378, -0.9678, -0.9153],\n",
              "          [-0.5126, -0.4951, -0.3550,  ..., -0.9503, -0.9153, -0.8803]],\n",
              "\n",
              "         [[ 2.6400,  2.6400,  2.6226,  ...,  2.6400,  2.6400,  2.6400],\n",
              "          [ 2.6226,  2.6051,  2.4831,  ...,  2.5703,  2.6051,  2.6226],\n",
              "          [ 2.6400,  2.6226,  2.5877,  ...,  2.5703,  2.6226,  2.6400],\n",
              "          ...,\n",
              "          [ 0.2348,  0.2173,  0.2173,  ..., -0.2532, -0.0441,  0.1825],\n",
              "          [ 0.1999,  0.1651,  0.1651,  ..., -0.0615,  0.0431,  0.1476],\n",
              "          [ 0.4614,  0.4962,  0.6008,  ...,  0.0779,  0.1302,  0.1825]]],\n",
              "\n",
              "\n",
              "        [[[-0.1486, -0.1143, -0.1828,  ...,  0.0398,  0.0569, -0.0629],\n",
              "          [ 0.1083, -0.1486, -0.3027,  ...,  0.0056,  0.2967,  0.1083],\n",
              "          [ 0.1597,  0.0569, -0.1486,  ..., -0.1314,  0.2282,  0.1597],\n",
              "          ...,\n",
              "          [-0.1143,  0.1939,  0.2967,  ..., -0.2513, -0.5938, -0.6623],\n",
              "          [-0.2171, -0.0287,  0.2967,  ..., -0.3027, -0.4739, -0.5767],\n",
              "          [-0.1143, -0.0116,  0.2624,  ..., -0.1828, -0.1314, -0.1828]],\n",
              "\n",
              "         [[-0.0399,  0.0126, -0.0574,  ...,  0.0476,  0.0126, -0.0399],\n",
              "          [ 0.2402, -0.0224, -0.1800,  ...,  0.0126,  0.2752,  0.1352],\n",
              "          [ 0.2577,  0.1527, -0.0224,  ..., -0.0924,  0.2227,  0.2052],\n",
              "          ...,\n",
              "          [-0.1275,  0.1877,  0.2927,  ..., -0.1275, -0.4776, -0.5476],\n",
              "          [-0.2325, -0.0399,  0.2927,  ..., -0.1800, -0.3550, -0.4601],\n",
              "          [-0.1275, -0.0224,  0.2577,  ..., -0.0574, -0.0049, -0.0574]],\n",
              "\n",
              "         [[ 0.1999,  0.2348,  0.1651,  ...,  0.3219,  0.3045,  0.1999],\n",
              "          [ 0.4614,  0.1999,  0.0431,  ...,  0.2871,  0.5485,  0.3568],\n",
              "          [ 0.5311,  0.4091,  0.1825,  ...,  0.1476,  0.4788,  0.4439],\n",
              "          ...,\n",
              "          [ 0.0256,  0.3568,  0.4614,  ...,  0.1302, -0.2707, -0.3230],\n",
              "          [-0.0615,  0.1302,  0.4614,  ...,  0.0779, -0.1312, -0.2358],\n",
              "          [ 0.0431,  0.1476,  0.4265,  ...,  0.1999,  0.2173,  0.1651]]],\n",
              "\n",
              "\n",
              "        ...,\n",
              "\n",
              "\n",
              "        [[[-2.0323, -1.9638, -2.0494,  ..., -1.9638, -1.9980, -2.0494],\n",
              "          [-1.5528, -0.7308, -0.7993,  ..., -1.3473, -1.3473, -1.7240],\n",
              "          [-1.2788,  0.0741,  0.1597,  ..., -1.1932, -1.1589, -1.6042],\n",
              "          ...,\n",
              "          [-1.1760,  0.4166,  0.4337,  ...,  0.5193,  0.4166, -1.1589],\n",
              "          [-1.3815, -0.0972, -0.0629,  ..., -0.1143, -0.1657, -1.3987],\n",
              "          [-1.9467, -1.7754, -1.7583,  ..., -1.2788, -1.3987, -1.8268]],\n",
              "\n",
              "         [[-1.9832, -1.9657, -1.9482,  ..., -1.9482, -1.9307, -1.9482],\n",
              "          [-1.5455, -0.7752, -0.7752,  ..., -1.3354, -1.3179, -1.6506],\n",
              "          [-1.3004, -0.0224,  0.1001,  ..., -1.2304, -1.1779, -1.5630],\n",
              "          ...,\n",
              "          [-1.1253,  0.4678,  0.4503,  ...,  0.5378,  0.4503, -1.1253],\n",
              "          [-1.3004, -0.0574, -0.0399,  ..., -0.1099, -0.1275, -1.3354],\n",
              "          [-1.8606, -1.7206, -1.7381,  ..., -1.2479, -1.3529, -1.7556]],\n",
              "\n",
              "         [[-1.7522, -1.6999, -1.6999,  ..., -1.7347, -1.7173, -1.6999],\n",
              "          [-1.3687, -0.6890, -0.7064,  ..., -1.1770, -1.1421, -1.4384],\n",
              "          [-1.2119, -0.1661, -0.0441,  ..., -1.1247, -1.0376, -1.3687],\n",
              "          ...,\n",
              "          [-1.0027,  0.4962,  0.4439,  ...,  0.4788,  0.4614, -0.9853],\n",
              "          [-1.0724,  0.1302,  0.0953,  ...,  0.0256,  0.0431, -1.1073],\n",
              "          [-1.5779, -1.4559, -1.5081,  ..., -1.0027, -1.0898, -1.4733]]],\n",
              "\n",
              "\n",
              "        [[[ 1.1187,  1.0673,  0.8618,  ...,  0.2282, -0.0801,  0.6734],\n",
              "          [ 1.3242,  1.2214,  0.9132,  ..., -0.7137, -0.4054,  0.4337],\n",
              "          [ 1.2899,  1.4954,  1.0673,  ...,  0.1939,  0.3481,  0.6049],\n",
              "          ...,\n",
              "          [-1.8782, -1.9467, -1.9295,  ..., -0.1143, -0.3712, -0.3369],\n",
              "          [-1.0904, -0.9705, -0.7650,  ...,  0.0912, -0.1999, -0.2856],\n",
              "          [ 0.0398,  0.0741,  0.1768,  ...,  0.2796,  0.0056, -0.0972]],\n",
              "\n",
              "         [[ 1.0105,  0.9580,  0.7304,  ...,  0.1527, -0.2500,  0.5028],\n",
              "          [ 1.2381,  1.1155,  0.8179,  ..., -0.6176, -0.5126,  0.2927],\n",
              "          [ 1.2031,  1.4132,  0.9930,  ...,  0.3627,  0.3452,  0.5378],\n",
              "          ...,\n",
              "          [-1.8256, -1.8957, -1.8782,  ...,  0.3277,  0.0301,  0.0301],\n",
              "          [-1.0028, -0.8627, -0.6527,  ...,  0.4678,  0.2052,  0.1176],\n",
              "          [ 0.1527,  0.1877,  0.2927,  ...,  0.6078,  0.4153,  0.3102]],\n",
              "\n",
              "         [[ 1.1062,  1.0539,  0.8274,  ...,  0.4788,  0.0256,  0.7228],\n",
              "          [ 1.2980,  1.1934,  0.8797,  ..., -0.1487, -0.2010,  0.5136],\n",
              "          [ 1.2108,  1.4200,  1.0017,  ...,  0.8099,  0.5659,  0.6182],\n",
              "          ...,\n",
              "          [-1.5430, -1.6127, -1.5953,  ..., -0.1487, -0.3055, -0.2358],\n",
              "          [-0.8458, -0.7587, -0.5844,  ...,  0.1128, -0.1312, -0.2010],\n",
              "          [ 0.1651,  0.1825,  0.2522,  ...,  0.3219,  0.0779, -0.0092]]],\n",
              "\n",
              "\n",
              "        [[[ 1.8037,  1.9920,  2.1975,  ...,  2.2147,  2.2147,  2.2147],\n",
              "          [ 1.5639,  1.9064,  2.1975,  ...,  2.2489,  2.2489,  2.2489],\n",
              "          [ 1.4269,  1.7180,  2.0092,  ...,  2.2318,  2.2318,  2.2318],\n",
              "          ...,\n",
              "          [-0.7993, -0.7308, -0.8164,  ..., -0.2171,  0.9132,  0.7933],\n",
              "          [-0.8678, -0.9020, -0.9363,  ...,  0.3652,  0.9988,  0.7591],\n",
              "          [-0.8335, -0.9020, -0.8507,  ...,  0.7933,  1.2385,  0.9474]],\n",
              "\n",
              "         [[ 1.9559,  2.1485,  2.3585,  ...,  2.3936,  2.3936,  2.3936],\n",
              "          [ 1.6232,  2.0084,  2.3235,  ...,  2.4286,  2.4286,  2.4286],\n",
              "          [ 1.3957,  1.7458,  2.0959,  ...,  2.4111,  2.4111,  2.4111],\n",
              "          ...,\n",
              "          [-0.8803, -0.8102, -0.8978,  ..., -0.0049,  0.8704,  0.7829],\n",
              "          [-0.9503, -0.9853, -1.0203,  ...,  0.3452,  0.9055,  0.8004],\n",
              "          [-0.9153, -0.9678, -0.9153,  ...,  0.6604,  1.0280,  0.9230]],\n",
              "\n",
              "         [[ 1.7860,  2.2914,  2.3960,  ...,  2.6051,  2.6051,  2.6051],\n",
              "          [ 1.2108,  1.9951,  2.3437,  ...,  2.6400,  2.6400,  2.6400],\n",
              "          [ 0.7402,  1.5071,  1.9951,  ...,  2.6226,  2.6226,  2.6226],\n",
              "          ...,\n",
              "          [-0.3753, -0.3055, -0.3927,  ...,  0.4439,  1.1585,  0.9668],\n",
              "          [-0.4450, -0.4798, -0.5147,  ...,  0.5485,  1.1237,  1.0191],\n",
              "          [-0.4101, -0.4798, -0.4275,  ...,  0.7576,  1.1585,  1.0888]]]])"
            ]
          },
          "metadata": {},
          "execution_count": 44
        }
      ]
    },
    {
      "cell_type": "code",
      "source": [
        "train_images.shape"
      ],
      "metadata": {
        "colab": {
          "base_uri": "https://localhost:8080/"
        },
        "id": "kGZUj_RuoYjs",
        "outputId": "d45eae43-dcf2-48b8-a536-75fd5f51c54d"
      },
      "execution_count": 45,
      "outputs": [
        {
          "output_type": "execute_result",
          "data": {
            "text/plain": [
              "torch.Size([128, 3, 32, 32])"
            ]
          },
          "metadata": {},
          "execution_count": 45
        }
      ]
    },
    {
      "cell_type": "code",
      "source": [
        "plt.imshow(train_images[0].permute(1, 2, 0))"
      ],
      "metadata": {
        "colab": {
          "base_uri": "https://localhost:8080/",
          "height": 465
        },
        "id": "oH_puyJMTPYl",
        "outputId": "854dd444-7775-4b9c-a214-b8f46adfd5e5"
      },
      "execution_count": 46,
      "outputs": [
        {
          "output_type": "stream",
          "name": "stderr",
          "text": [
            "WARNING:matplotlib.image:Clipping input data to the valid range for imshow with RGB data ([0..1] for floats or [0..255] for integers). Got range [-2.117904..2.64].\n"
          ]
        },
        {
          "output_type": "execute_result",
          "data": {
            "text/plain": [
              "<matplotlib.image.AxesImage at 0x793f3a5c7890>"
            ]
          },
          "metadata": {},
          "execution_count": 46
        },
        {
          "output_type": "display_data",
          "data": {
            "text/plain": [
              "<Figure size 640x480 with 1 Axes>"
            ],
            "image/png": "[encoded data removed]"
          },
          "metadata": {}
        }
      ]
    },
    {
      "cell_type": "code",
      "source": [
        "test_loader_iter = iter(test_loader)\n",
        "test_images, test_labels = next(test_loader_iter)"
      ],
      "metadata": {
        "id": "Mba37G8pprTU"
      },
      "execution_count": 47,
      "outputs": []
    },
    {
      "cell_type": "code",
      "source": [
        "test_images.shape"
      ],
      "metadata": {
        "colab": {
          "base_uri": "https://localhost:8080/"
        },
        "id": "o-geE0j7qVo3",
        "outputId": "18bafada-b102-4e5d-ddd8-90a36b17d7f0"
      },
      "execution_count": 49,
      "outputs": [
        {
          "output_type": "execute_result",
          "data": {
            "text/plain": [
              "torch.Size([128, 3, 32, 32])"
            ]
          },
          "metadata": {},
          "execution_count": 49
        }
      ]
    },
    {
      "cell_type": "code",
      "source": [
        "test_images[0].shape"
      ],
      "metadata": {
        "colab": {
          "base_uri": "https://localhost:8080/"
        },
        "id": "1uLgDhtvp_nt",
        "outputId": "f2a68d1b-e928-412a-972a-b5c884c27d69"
      },
      "execution_count": 50,
      "outputs": [
        {
          "output_type": "execute_result",
          "data": {
            "text/plain": [
              "torch.Size([3, 32, 32])"
            ]
          },
          "metadata": {},
          "execution_count": 50
        }
      ]
    },
    {
      "cell_type": "code",
      "source": [
        "plt.imshow(test_images[0].permute(1, 2, 0))"
      ],
      "metadata": {
        "colab": {
          "base_uri": "https://localhost:8080/",
          "height": 465
        },
        "id": "AnFQfabAp_j5",
        "outputId": "521d3a0b-126f-4c4d-d941-b30d33f1f4f0"
      },
      "execution_count": 22,
      "outputs": [
        {
          "output_type": "stream",
          "name": "stderr",
          "text": [
            "WARNING:matplotlib.image:Clipping input data to the valid range for imshow with RGB data ([0..1] for floats or [0..255] for integers). Got range [-1.8952821..2.5877128].\n"
          ]
        },
        {
          "output_type": "execute_result",
          "data": {
            "text/plain": [
              "<matplotlib.image.AxesImage at 0x793f631aed10>"
            ]
          },
          "metadata": {},
          "execution_count": 22
        },
        {
          "output_type": "display_data",
          "data": {
            "text/plain": [
              "<Figure size 640x480 with 1 Axes>"
            ],
            "image/png": "[encoded data removed]"
          },
          "metadata": {}
        }
      ]
    },
    {
      "cell_type": "markdown",
      "metadata": {
        "id": "cyg-O97MePLC"
      },
      "source": [
        "We plot the distribution of the train, valid and test set."
      ]
    },
    {
      "cell_type": "code",
      "execution_count": 28,
      "metadata": {
        "id": "POBcjAyYePLD"
      },
      "outputs": [],
      "source": [
        "def plot_class_distribution(y_train, y_val, y_test):\n",
        "    number_of_classes = len(np.unique(y_train))\n",
        "\n",
        "    fig, ax = plt.subplots(layout=\"constrained\")\n",
        "    for y, name, offset in zip([y_train, y_val, y_test], [\"Train\", \"Val\", \"Test\"], [-0.2, 0, 0.2]):\n",
        "        rects = ax.bar(np.arange(number_of_classes)+offset, np.bincount(y), 0.2, label=name)\n",
        "        ax.bar_label(rects)\n",
        "\n",
        "    ax.set_ylabel(\"Number of samples\")\n",
        "    ax.set_xlabel(\"Class number\")\n",
        "    ax.set_title(\"Distribution of classes\")\n",
        "    ax.set_xticks(np.arange(number_of_classes))\n",
        "    ax.legend()\n",
        "    plt.show()"
      ]
    },
    {
      "cell_type": "code",
      "execution_count": null,
      "metadata": {
        "id": "0i1K1G6MePLD",
        "outputId": "71926365-d7b8-49f0-8bc4-a4ad303a4472"
      },
      "outputs": [
        {
          "data": {
            "image/png": "[encoded data removed]",
            "text/plain": [
              "<Figure size 640x480 with 1 Axes>"
            ]
          },
          "metadata": {},
          "output_type": "display_data"
        }
      ],
      "source": [
        "plot_class_distribution(train_dataset.dataset.targets, val_dataset.dataset.targets, test_dataset.targets)"
      ]
    },
    {
      "cell_type": "markdown",
      "metadata": {
        "id": "_6V6cFAcAP0g"
      },
      "source": [
        "Defining model classes and utility functions\n",
        "============================================\n",
        "\n",
        "Next, we need to define our model classes. Several user-defined\n",
        "parameters need to be set here. We use two different architectures,\n",
        "keeping the number of filters fixed across our experiments to ensure\n",
        "fair comparisons. Both architectures are Convolutional Neural Networks\n",
        "(CNNs) with a different number of convolutional layers that serve as\n",
        "feature extractors, followed by a classifier with 10 classes. The number\n",
        "of filters and neurons is smaller for the students.\n"
      ]
    },
    {
      "cell_type": "code",
      "execution_count": 29,
      "metadata": {
        "id": "k_DdYvxLAP0h"
      },
      "outputs": [],
      "source": [
        "# Deeper neural network class to be used as teacher:\n",
        "class DeepNN(nn.Module):\n",
        "    def __init__(self, num_classes=10):\n",
        "        super(DeepNN, self).__init__()\n",
        "        self.features = nn.Sequential(\n",
        "            nn.Conv2d(3, 128, kernel_size=3, padding=1),\n",
        "            nn.ReLU(),\n",
        "            nn.Conv2d(128, 64, kernel_size=3, padding=1),\n",
        "            nn.ReLU(),\n",
        "            nn.MaxPool2d(kernel_size=2, stride=2),\n",
        "            nn.Conv2d(64, 64, kernel_size=3, padding=1),\n",
        "            nn.ReLU(),\n",
        "            nn.Conv2d(64, 32, kernel_size=3, padding=1),\n",
        "            nn.ReLU(),\n",
        "            nn.MaxPool2d(kernel_size=2, stride=2),\n",
        "        )\n",
        "        self.classifier = nn.Sequential(\n",
        "            nn.Linear(2048, 512),\n",
        "            nn.ReLU(),\n",
        "            nn.Dropout(0.1),\n",
        "            nn.Linear(512, num_classes)\n",
        "        )\n",
        "\n",
        "    def forward(self, x):\n",
        "        x = self.features(x)\n",
        "        x = torch.flatten(x, 1)\n",
        "        x = self.classifier(x)\n",
        "        return x\n",
        "\n",
        "# Lightweight neural network class to be used as student:\n",
        "class LightNN(nn.Module):\n",
        "    def __init__(self, num_classes=10):\n",
        "        super(LightNN, self).__init__()\n",
        "        self.features = nn.Sequential(\n",
        "            nn.Conv2d(3, 16, kernel_size=3, padding=1),\n",
        "            nn.ReLU(),\n",
        "            nn.MaxPool2d(kernel_size=2, stride=2),\n",
        "            nn.Conv2d(16, 16, kernel_size=3, padding=1),\n",
        "            nn.ReLU(),\n",
        "            nn.MaxPool2d(kernel_size=2, stride=2),\n",
        "        )\n",
        "        self.classifier = nn.Sequential(\n",
        "            nn.Linear(1024, 256),\n",
        "            nn.ReLU(),\n",
        "            nn.Dropout(0.1),\n",
        "            nn.Linear(256, num_classes)\n",
        "        )\n",
        "\n",
        "    def forward(self, x):\n",
        "        x = self.features(x)\n",
        "        x = torch.flatten(x, 1)\n",
        "        x = self.classifier(x)\n",
        "        return x"
      ]
    },
    {
      "cell_type": "markdown",
      "metadata": {
        "id": "xt8x6YWGAP0i"
      },
      "source": [
        "We employ 2 functions to help us produce and evaluate the results on our\n",
        "original classification task. One function is called `train` and takes\n",
        "the following arguments:\n",
        "\n",
        "-   `model`: A model instance to train (update its weights) via this\n",
        "    function.\n",
        "-   `train_loader`: We defined our `train_loader` above, and its job is\n",
        "    to feed the data into the model.\n",
        "-   `epochs`: How many times we loop over the dataset.\n",
        "-   `learning_rate`: The learning rate determines how large our steps\n",
        "    towards convergence should be. Too large or too small steps can be\n",
        "    detrimental.\n",
        "-   `device`: Determines the device to run the workload on. Can be\n",
        "    either CPU or GPU depending on availability.\n",
        "\n",
        "Our test function is similar, but it will be invoked with `test_loader`\n",
        "to load images from the test set.\n",
        "\n",
        "![Train both networks with Cross-Entropy. The student will be used as a\n",
        "baseline:](https://pytorch.org/tutorials//../_static/img/knowledge_distillation/ce_only.png)\n"
      ]
    },
    {
      "cell_type": "code",
      "execution_count": 30,
      "metadata": {
        "id": "e3UBqDs-AP0i"
      },
      "outputs": [],
      "source": [
        "def train(model, train_loader, val_loader, epochs, learning_rate, device):\n",
        "    criterion = nn.CrossEntropyLoss()\n",
        "    optimizer = optim.Adam(model.parameters(), lr=learning_rate)\n",
        "\n",
        "    model.train()\n",
        "\n",
        "    for epoch in range(epochs):\n",
        "        running_loss = 0.0\n",
        "        for inputs, labels in train_loader:\n",
        "            # inputs: A collection of batch_size images\n",
        "            # labels: A vector of dimensionality batch_size with integers denoting class of each image\n",
        "            inputs, labels = inputs.to(device), labels.to(device)\n",
        "\n",
        "            optimizer.zero_grad()\n",
        "            outputs = model(inputs)\n",
        "\n",
        "            # outputs: Output of the network for the collection of images. A tensor of dimensionality batch_size x num_classes\n",
        "            # labels: The actual labels of the images. Vector of dimensionality batch_size\n",
        "            loss = criterion(outputs, labels)\n",
        "            loss.backward()\n",
        "            optimizer.step()\n",
        "\n",
        "            running_loss += loss.item()\n",
        "\n",
        "        running_val_loss = 0.0\n",
        "        for inputs, labels in val_loader:\n",
        "            # inputs: A collection of batch_size images\n",
        "            # labels: A vector of dimensionality batch_size with integers denoting class of each image\n",
        "            inputs, labels = inputs.to(device), labels.to(device)\n",
        "\n",
        "            with torch.no_grad():\n",
        "              outputs = model(inputs)\n",
        "\n",
        "              # outputs: Output of the network for the collection of images. A tensor of dimensionality batch_size x num_classes\n",
        "              # labels: The actual labels of the images. Vector of dimensionality batch_size\n",
        "              loss = criterion(outputs, labels)\n",
        "\n",
        "            running_val_loss += loss.item()\n",
        "\n",
        "        print(f\"Epoch {epoch+1}/{epochs}, Loss: {running_loss / len(train_loader)},  Val_Loss: {running_val_loss / len(val_loader)}\")\n",
        "\n",
        "def test(model, test_loader, device):\n",
        "    model.to(device)\n",
        "    model.eval()\n",
        "\n",
        "    correct = 0\n",
        "    total = 0\n",
        "\n",
        "    with torch.no_grad():\n",
        "        for inputs, labels in test_loader:\n",
        "            inputs, labels = inputs.to(device), labels.to(device)\n",
        "\n",
        "            outputs = model(inputs)\n",
        "            _, predicted = torch.max(outputs.data, 1)\n",
        "\n",
        "            total += labels.size(0)\n",
        "            correct += (predicted == labels).sum().item()\n",
        "\n",
        "    accuracy = 100 * correct / total\n",
        "    print(f\"Test Accuracy: {accuracy:.2f}%\")\n",
        "    return accuracy"
      ]
    },
    {
      "cell_type": "markdown",
      "metadata": {
        "id": "DTktY1_OePLF"
      },
      "source": [
        "🤔 <b><font color='purple'>Question:</font></b> Add the display of the train and validation accuracies at the end of the training loop."
      ]
    },
    {
      "cell_type": "code",
      "execution_count": null,
      "metadata": {
        "id": "Av46Flw4ePLF"
      },
      "outputs": [],
      "source": [
        "# your work"
      ]
    },
    {
      "cell_type": "markdown",
      "metadata": {
        "id": "P3AMSmqdg0Fe"
      },
      "source": [
        "# Training the teacher"
      ]
    },
    {
      "cell_type": "markdown",
      "metadata": {
        "id": "QiAg6etAAP0j"
      },
      "source": [
        "Start by training the teacher network using cross-entropy:\n"
      ]
    },
    {
      "cell_type": "code",
      "execution_count": 51,
      "metadata": {
        "colab": {
          "base_uri": "https://localhost:8080/"
        },
        "id": "6On08VZ8AP0j",
        "outputId": "8f60b5a9-b612-4f4f-9490-f2904935464b"
      },
      "outputs": [
        {
          "output_type": "stream",
          "name": "stdout",
          "text": [
            "Epoch 1/10, Loss: 1.4561911971805195,  Val_Loss: 1.1948809510544887\n",
            "Epoch 2/10, Loss: 0.9847455276087069,  Val_Loss: 0.9154411901401568\n",
            "Epoch 3/10, Loss: 0.7687419260652683,  Val_Loss: 0.8016349726085421\n",
            "Epoch 4/10, Loss: 0.6142794479386875,  Val_Loss: 0.7648729915860333\n",
            "Epoch 5/10, Loss: 0.46846803622885635,  Val_Loss: 0.7939900552170186\n",
            "Epoch 6/10, Loss: 0.34880500293958683,  Val_Loss: 0.8861446207082724\n",
            "Epoch 7/10, Loss: 0.24613572876103007,  Val_Loss: 0.9646181094495556\n",
            "Epoch 8/10, Loss: 0.17579482424373444,  Val_Loss: 1.1543857451481154\n",
            "Epoch 9/10, Loss: 0.14229806723257604,  Val_Loss: 1.2670872445347943\n",
            "Epoch 10/10, Loss: 0.1190516323374864,  Val_Loss: 1.3403417505795443\n",
            "Test Accuracy: 72.83%\n"
          ]
        }
      ],
      "source": [
        "torch.manual_seed(42)\n",
        "nn_deep = DeepNN(num_classes=10).to(device)\n",
        "train(nn_deep, train_loader, val_loader, epochs=10, learning_rate=0.001, device=device)\n",
        "test_accuracy_deep = test(nn_deep, test_loader, device)"
      ]
    },
    {
      "cell_type": "markdown",
      "metadata": {
        "id": "2KtqD5k_k7tD"
      },
      "source": [
        "As you can observe, while the model clearly improves its training loss throughout training, the validation loss stops improving very fast and in fact starts deteriorating quite early. This phenomenon is called overfitting: the model finds improvements that specifically fit the training dataset but the not the overall distribution of interest.\n",
        "\n",
        "A common way explain such a phenomenon comes from comparing the amount of training data available to the capacity of the model to fit complex functions. If we are dealing with a fairly small amount of training data, even slightly complex models like our DeepNN are going to quickly overfit to it. Unfortunately, acquiring more data is typically difficult.\n",
        "\n",
        "One solution to this problem is to make it harder to overfit to the limited amount of training data available by creating artificial samples from the data we do have: this is called data augmentation. Thankfully for us, pytorch natively supports a wide catalog of transformation functions through its transforms API.\n",
        "\n",
        "🤔 <b><font color='purple'>Question:</font></b> Modify the training dataset transform function to incorporate classical Data Augmentation techniques like Random Cropping and Flipping. You can then retrain the model to see how much this improves the training procedure."
      ]
    },
    {
      "cell_type": "code",
      "execution_count": 54,
      "metadata": {
        "id": "OqC88a9jm7SA"
      },
      "outputs": [],
      "source": [
        "# Add the random data augmentation that you want for training.\n",
        "train_transforms_cifar = transforms.Compose([\n",
        "    transforms.RandomCrop(32, padding=4),\n",
        "    transforms.RandomHorizontalFlip(),\n",
        "   transforms.ToTensor(),\n",
        "   transforms.Normalize(mean=[0.485, 0.456, 0.406], std=[0.229, 0.224, 0.225]),\n",
        "])\n",
        "\n",
        "# Below we are preprocessing data for CIFAR-10. We use an arbitrary batch size of 128.\n",
        "transforms_cifar = transforms.Compose([\n",
        "    transforms.ToTensor(),\n",
        "    transforms.Normalize(mean=[0.485, 0.456, 0.406], std=[0.229, 0.224, 0.225]),\n",
        "])\n",
        "\n",
        "# Loading the CIFAR-10 dataset:\n",
        "train_dataset = datasets.CIFAR10(root='./data', train=True, download=True, transform=transforms_cifar)\n",
        "train_dataset, val_dataset = random_split(train_dataset, [40000, 10000], torch.Generator().manual_seed(42))\n",
        "train_dataset = datasets.CIFAR10(root='./data', train=True, download=True, transform=train_transforms_cifar)\n",
        "test_dataset = datasets.CIFAR10(root='./data', train=False, download=True, transform=transforms_cifar)\n",
        "\n",
        "#Dataloaders\n",
        "train_loader = torch.utils.data.DataLoader(train_dataset, batch_size=128, shuffle=True, num_workers=2)\n",
        "val_loader = torch.utils.data.DataLoader(val_dataset, batch_size=128, shuffle=False, num_workers=2)\n",
        "test_loader = torch.utils.data.DataLoader(test_dataset, batch_size=128, shuffle=False, num_workers=2)"
      ]
    },
    {
      "cell_type": "code",
      "execution_count": null,
      "metadata": {
        "colab": {
          "base_uri": "https://localhost:8080/"
        },
        "id": "0RRqZ70YoMsD",
        "outputId": "86485038-efc6-4eb5-889d-66552575a516"
      },
      "outputs": [
        {
          "output_type": "stream",
          "name": "stdout",
          "text": [
            "Epoch 1/10, Loss: 1.5692465088861374,  Val_Loss: 1.221982691106917\n",
            "Epoch 2/10, Loss: 1.1661315074052347,  Val_Loss: 0.9518082556845266\n"
          ]
        }
      ],
      "source": [
        "torch.manual_seed(42)\n",
        "nn_deep = DeepNN(num_classes=10).to(device)\n",
        "train(nn_deep, train_loader, val_loader, epochs=10, learning_rate=0.001, device=device)\n",
        "test_accuracy_deep = test(nn_deep, test_loader, device)"
      ]
    },
    {
      "cell_type": "markdown",
      "metadata": {
        "id": "0dla5jcqqv-Q"
      },
      "source": [
        "If you want to go further, there are stronger families of data augmentations such as strong data augmentations (similar to what you have been playing with but using much stronger perturbation intensities) and mixing sample data augmentation (where multiple samples are mixed and a hybrid label is predicted).\n",
        "\n",
        "One classical example of a mixing augmentation is the seminal MixUp framework where two images $x_1$ and $x_2$ are interpolated into a mixed sample $x = \\lambda x_1 + (1-\\lambda) x_2$ with typically ratio $\\lambda \\sim \\beta(\\alpha=1, \\alpha=1)$. The model is trained to then predict a mixed target $y = \\lambda y_1 + (1-\\lambda) y_2$. This can typically be easily implemented through a weighted loss.\n",
        "\n",
        "🤔 <b><font color='purple'>Question:</font></b> Rewrite the training function to accommodate a mixup procedure. As the model we train is not very big, you can try to only perform mixup a fraction of the time (e.g. 1 time out of 10)."
      ]
    },
    {
      "cell_type": "code",
      "execution_count": null,
      "metadata": {
        "id": "JxFmouPVsfkS"
      },
      "outputs": [],
      "source": [
        "def train(model, train_loader, val_loader, epochs, learning_rate, device):\n",
        "    criterion = nn.CrossEntropyLoss()\n",
        "    optimizer = optim.Adam(model.parameters(), lr=learning_rate)\n",
        "\n",
        "    model.train()\n",
        "\n",
        "    for epoch in range(epochs):\n",
        "        running_loss = 0.0\n",
        "        for inputs, labels in train_loader:\n",
        "            # inputs: A collection of batch_size images\n",
        "            # labels: A vector of dimensionality batch_size with integers denoting class of each image\n",
        "            inputs, labels = inputs.to(device), labels.to(device)\n",
        "\n",
        "            # Implement Mixup mixing here!\n",
        "            # YOUR WORK\n",
        "\n",
        "\n",
        "            optimizer.zero_grad()\n",
        "            outputs = model(inputs)\n",
        "\n",
        "            # outputs: Output of the network for the collection of images. A tensor of dimensionality batch_size x num_classes\n",
        "            # labels: The actual labels of the images. Vector of dimensionality batch_size\n",
        "\n",
        "             # HERE ALSO\n",
        "\n",
        "            loss.backward()\n",
        "            optimizer.step()\n",
        "\n",
        "            running_loss += loss.item()\n",
        "\n",
        "        running_val_loss = 0.0\n",
        "        for inputs, labels in val_loader:\n",
        "            # inputs: A collection of batch_size images\n",
        "            # labels: A vector of dimensionality batch_size with integers denoting class of each image\n",
        "            inputs, labels = inputs.to(device), labels.to(device)\n",
        "\n",
        "            with torch.no_grad():\n",
        "              outputs = model(inputs)\n",
        "\n",
        "              # outputs: Output of the network for the collection of images. A tensor of dimensionality batch_size x num_classes\n",
        "              # labels: The actual labels of the images. Vector of dimensionality batch_size\n",
        "              loss = criterion(outputs, labels)\n",
        "\n",
        "            running_val_loss += loss.item()\n",
        "\n",
        "        print(f\"Epoch {epoch+1}/{epochs}, Loss: {running_loss / len(train_loader)},  Val_Loss: {running_val_loss / len(val_loader)}\")\n"
      ]
    },
    {
      "cell_type": "markdown",
      "metadata": {
        "id": "XEhjZwldzCfZ"
      },
      "source": [
        "Since our neural network is not very big, we do not need such strong data augmentation techniques and the stronger augmentation techniques do not bring significant additional benefits compared to normal augmentations. We can still observe some benefit below when only considering mixup (and not classical data augmentation). It is recommended to stick to classical data augmentation in this lab."
      ]
    },
    {
      "cell_type": "code",
      "execution_count": null,
      "metadata": {
        "id": "JsI7_6Wmuhus"
      },
      "outputs": [],
      "source": [
        "# Below we are preprocessing data for CIFAR-10. We use an arbitrary batch size of 128.\n",
        "transforms_cifar = transforms.Compose([\n",
        "    transforms.ToTensor(),\n",
        "    transforms.Normalize(mean=[0.485, 0.456, 0.406], std=[0.229, 0.224, 0.225]),\n",
        "])\n",
        "\n",
        "# Loading the CIFAR-10 dataset:\n",
        "train_dataset = datasets.CIFAR10(root='./data', train=True, download=True, transform=transforms_cifar)\n",
        "train_dataset, val_dataset = random_split(train_dataset, [40000, 10000], torch.Generator().manual_seed(42))\n",
        "test_dataset = datasets.CIFAR10(root='./data', train=False, download=True, transform=transforms_cifar)\n",
        "\n",
        "#Dataloaders\n",
        "train_loader = torch.utils.data.DataLoader(train_dataset, batch_size=128, shuffle=True, num_workers=2)\n",
        "val_loader = torch.utils.data.DataLoader(val_dataset, batch_size=128, shuffle=False, num_workers=2)\n",
        "test_loader = torch.utils.data.DataLoader(test_dataset, batch_size=128, shuffle=False, num_workers=2)\n",
        "\n",
        "torch.manual_seed(42)\n",
        "nn_deep = DeepNN(num_classes=10).to(device)\n",
        "train(nn_deep, train_loader, val_loader, epochs=10, learning_rate=0.001, device=device)\n",
        "test_accuracy_deep = test(nn_deep, test_loader, device)"
      ]
    },
    {
      "cell_type": "markdown",
      "metadata": {
        "id": "SvGP2lWLg0Fg"
      },
      "source": [
        "# Cross-entropy runs"
      ]
    },
    {
      "cell_type": "markdown",
      "metadata": {
        "id": "zqo2i8z4g0Fg"
      },
      "source": [
        "For reproducibility, we need to set the torch manual seed. We train\n",
        "networks using different methods, so to compare them fairly, it makes\n",
        "sense to initialize the networks with the same weights."
      ]
    },
    {
      "cell_type": "code",
      "execution_count": null,
      "metadata": {
        "id": "G1cN5T-lg0Fh"
      },
      "outputs": [],
      "source": [
        "# Instantiate the lightweight network:\n",
        "torch.manual_seed(42)\n",
        "nn_light = LightNN(num_classes=10).to(device)"
      ]
    },
    {
      "cell_type": "markdown",
      "metadata": {
        "id": "Y6y7qrhEAP0k"
      },
      "source": [
        "We instantiate one more lightweight network model to compare their\n",
        "performances. Back propagation is sensitive to weight initialization, so\n",
        "we need to make sure these two networks have the exact same\n",
        "initialization.\n"
      ]
    },
    {
      "cell_type": "code",
      "execution_count": null,
      "metadata": {
        "id": "yIg6o4EvAP0k"
      },
      "outputs": [],
      "source": [
        "torch.manual_seed(42)\n",
        "new_nn_light = LightNN(num_classes=10).to(device)"
      ]
    },
    {
      "cell_type": "markdown",
      "metadata": {
        "id": "K6AXEkklAP0k"
      },
      "source": [
        "To ensure we have created a copy of the first network, we inspect the\n",
        "norm of its first layer. If it matches, then we are safe to conclude\n",
        "that the networks are indeed the same.\n"
      ]
    },
    {
      "cell_type": "code",
      "execution_count": null,
      "metadata": {
        "colab": {
          "base_uri": "https://localhost:8080/"
        },
        "id": "f8PKP-X9AP0k",
        "outputId": "2b87078f-62e5-4c77-fda1-9c5ee64b3bf8"
      },
      "outputs": [
        {
          "name": "stdout",
          "output_type": "stream",
          "text": [
            "Norm of 1st layer of nn_light: 2.327361822128296\n",
            "Norm of 1st layer of new_nn_light: 2.327361822128296\n"
          ]
        }
      ],
      "source": [
        "# Print the norm of the first layer of the initial lightweight model\n",
        "print(\"Norm of 1st layer of nn_light:\", torch.norm(nn_light.features[0].weight).item())\n",
        "# Print the norm of the first layer of the new lightweight model\n",
        "print(\"Norm of 1st layer of new_nn_light:\", torch.norm(new_nn_light.features[0].weight).item())"
      ]
    },
    {
      "cell_type": "markdown",
      "metadata": {
        "id": "R-rUuZ7oAP0l"
      },
      "source": [
        "Print the total number of parameters in each model:\n"
      ]
    },
    {
      "cell_type": "code",
      "execution_count": null,
      "metadata": {
        "colab": {
          "base_uri": "https://localhost:8080/"
        },
        "id": "YGQahmXBAP0l",
        "outputId": "92cd801d-92f4-44d2-97fc-3f4574856be8"
      },
      "outputs": [
        {
          "name": "stdout",
          "output_type": "stream",
          "text": [
            "DeepNN parameters: 1,186,986\n",
            "LightNN parameters: 267,738\n"
          ]
        }
      ],
      "source": [
        "total_params_deep = \"{:,}\".format(sum(p.numel() for p in nn_deep.parameters()))\n",
        "print(f\"DeepNN parameters: {total_params_deep}\")\n",
        "total_params_light = \"{:,}\".format(sum(p.numel() for p in nn_light.parameters()))\n",
        "print(f\"LightNN parameters: {total_params_light}\")"
      ]
    },
    {
      "cell_type": "markdown",
      "metadata": {
        "id": "k4WgUbcZAP0l"
      },
      "source": [
        "Train and test the lightweight network with cross entropy loss:\n"
      ]
    },
    {
      "cell_type": "code",
      "execution_count": null,
      "metadata": {
        "id": "AX1xKmbeAP0m"
      },
      "outputs": [],
      "source": [
        "train(nn_light, train_loader, val_loader, epochs=10, learning_rate=0.001, device=device)\n",
        "test_accuracy_light_ce = test(nn_light, test_loader, device)"
      ]
    },
    {
      "cell_type": "markdown",
      "metadata": {
        "id": "Vn4LHGMRAP0m"
      },
      "source": [
        "As we can see, based on test accuracy, we can now compare the deeper\n",
        "network that is to be used as a teacher with the lightweight network\n",
        "that is our supposed student. So far, our student has not intervened\n",
        "with the teacher, therefore this performance is achieved by the student\n",
        "itself. The metrics so far can be seen with the following lines:\n"
      ]
    },
    {
      "cell_type": "code",
      "execution_count": null,
      "metadata": {
        "colab": {
          "base_uri": "https://localhost:8080/"
        },
        "id": "VdeLhET_AP0m",
        "outputId": "af690529-f075-4e9f-d915-105231ca50f9"
      },
      "outputs": [
        {
          "name": "stdout",
          "output_type": "stream",
          "text": [
            "Teacher accuracy: 80.09%\n",
            "Student accuracy: 69.54%\n"
          ]
        }
      ],
      "source": [
        "print(f\"Teacher accuracy: {test_accuracy_deep:.2f}%\")\n",
        "print(f\"Student accuracy: {test_accuracy_light_ce:.2f}%\")"
      ]
    },
    {
      "cell_type": "markdown",
      "metadata": {
        "id": "IgKpVA6JAP0n"
      },
      "source": [
        "Logit level knowledge distillation\n",
        "==========================\n",
        "\n",
        "Now let\\'s try to improve the test accuracy of the student network by\n",
        "incorporating the teacher. Knowledge distillation is a straightforward\n",
        "technique to achieve this, based on the fact that both networks output a\n",
        "probability distribution over our classes. Therefore, the two networks\n",
        "share the same number of output neurons. The method works by\n",
        "incorporating an additional loss into the traditional cross entropy\n",
        "loss, which is based on the softmax output of the teacher network. The\n",
        "assumption is that the output activations of a properly trained teacher\n",
        "network carry additional information that can be leveraged by a student\n",
        "network during training. The original work suggests that utilizing\n",
        "ratios of smaller probabilities in the soft targets can help achieve the\n",
        "underlying objective of deep neural networks, which is to create a\n",
        "similarity structure over the data where similar objects are mapped\n",
        "closer together. For example, in CIFAR-10, a truck could be mistaken for\n",
        "an automobile or airplane, if its wheels are present, but it is less\n",
        "likely to be mistaken for a dog. Therefore, it makes sense to assume\n",
        "that valuable information resides not only in the top prediction of a\n",
        "properly trained model but in the entire output distribution. However,\n",
        "cross entropy alone does not sufficiently exploit this information as\n",
        "the activations for non-predicted classes tend to be so small that\n",
        "propagated gradients do not meaningfully change the weights to construct\n",
        "this desirable vector space.\n",
        "\n",
        "As we continue defining our first helper function that introduces a\n",
        "teacher-student dynamic, we need to include a few extra parameters:\n",
        "\n",
        "-   `T`: Temperature controls the smoothness of the output\n",
        "    distributions. Larger `T` leads to smoother distributions, thus\n",
        "    smaller probabilities get a larger boost.\n",
        "-   `soft_target_loss_weight`: A weight assigned to the extra objective\n",
        "    we\\'re about to include.\n",
        "-   `ce_loss_weight`: A weight assigned to cross-entropy. Tuning these\n",
        "    weights pushes the network towards optimizing for either objective.\n",
        "\n",
        "![Distillation loss is calculated from the logits of the networks. It\n",
        "only returns gradients to the\n",
        "student:](https://pytorch.org/tutorials//../_static/img/knowledge_distillation/distillation_output_loss.png){.align-center}\n"
      ]
    },
    {
      "cell_type": "code",
      "execution_count": null,
      "metadata": {
        "id": "R6m-s1JUAP0n"
      },
      "outputs": [],
      "source": [
        "def train_knowledge_distillation(teacher, student, train_loader, epochs, learning_rate, T, soft_target_loss_weight, ce_loss_weight, device):\n",
        "    ce_loss = nn.CrossEntropyLoss()\n",
        "    optimizer = optim.Adam(student.parameters(), lr=learning_rate)\n",
        "\n",
        "    teacher.eval()  # Teacher set to evaluation mode\n",
        "    student.train() # Student to train mode\n",
        "\n",
        "    for epoch in range(epochs):\n",
        "        running_loss = 0.0\n",
        "        for inputs, labels in train_loader:\n",
        "            inputs, labels = inputs.to(device), labels.to(device)\n",
        "\n",
        "            optimizer.zero_grad()\n",
        "\n",
        "            # Forward pass with the teacher model - do not save gradients here as we do not change the teacher's weights\n",
        "            with torch.no_grad():\n",
        "                teacher_logits = teacher(inputs)\n",
        "\n",
        "            # Forward pass with the student model\n",
        "            student_logits = student(inputs)\n",
        "\n",
        "            #Soften the student logits by applying softmax first and log() second\n",
        "            soft_targets = nn.functional.softmax(teacher_logits / T, dim=-1)\n",
        "            soft_prob = nn.functional.log_softmax(student_logits / T, dim=-1)\n",
        "\n",
        "            # Calculate the soft targets loss. Scaled by T**2 as suggested by the authors of the paper \"Distilling the knowledge in a neural network\"\n",
        "            soft_targets_loss = torch.sum(soft_targets * (soft_targets.log() - soft_prob)) / soft_prob.size()[0] * (T**2)\n",
        "\n",
        "            # Calculate the true label loss\n",
        "            label_loss = ce_loss(student_logits, labels)\n",
        "\n",
        "            # Weighted sum of the two losses\n",
        "            loss = soft_target_loss_weight * soft_targets_loss + ce_loss_weight * label_loss\n",
        "\n",
        "            loss.backward()\n",
        "            optimizer.step()\n",
        "\n",
        "            running_loss += loss.item()\n",
        "\n",
        "        print(f\"Epoch {epoch+1}/{epochs}, Loss: {running_loss / len(train_loader)}\")\n",
        "\n",
        "# Apply ``train_knowledge_distillation`` with a temperature of 2. Arbitrarily set the weights to 0.75 for CE and 0.25 for distillation loss.\n",
        "train_knowledge_distillation(teacher=nn_deep, student=new_nn_light, train_loader=train_loader, epochs=10, learning_rate=0.001, T=2, soft_target_loss_weight=0.25, ce_loss_weight=0.75, device=device)\n",
        "test_accuracy_light_ce_and_kd = test(new_nn_light, test_loader, device)\n",
        "\n",
        "# Compare the student test accuracy with and without the teacher, after distillation\n",
        "print(f\"Teacher accuracy: {test_accuracy_deep:.2f}%\")\n",
        "print(f\"Student accuracy without teacher: {test_accuracy_light_ce:.2f}%\")\n",
        "print(f\"Student accuracy with CE + KD: {test_accuracy_light_ce_and_kd:.2f}%\")"
      ]
    },
    {
      "cell_type": "markdown",
      "metadata": {
        "id": "OWWq-pzWAP0n"
      },
      "source": [
        "Feature level knowledge distillation\n",
        "============================\n",
        "\n",
        "Feel free to play around with the temperature parameter that controls\n",
        "the softness of the softmax function and the loss coefficients. In\n",
        "neural networks, it is easy to include additional loss functions to the\n",
        "main objectives to achieve goals like better generalization. Let\\'s try\n",
        "including an objective for the student, but now let\\'s focus on their\n",
        "hidden states rather than their output layers. Our goal is to convey\n",
        "information from the teacher\\'s representation to the student by\n",
        "including a naive loss function, whose minimization implies that the\n",
        "flattened vectors that are subsequently passed to the classifiers have\n",
        "become more *similar* as the loss decreases. Of course, the teacher does\n",
        "not update its weights, so the minimization depends only on the\n",
        "student\\'s weights. The rationale behind this method is that we are\n",
        "operating under the assumption that the teacher model has a better\n",
        "internal representation that is unlikely to be achieved by the student\n",
        "without external intervention, therefore we artificially push the\n",
        "student to mimic the internal representation of the teacher. Whether or\n",
        "not this will end up helping the student is not straightforward, though,\n",
        "because pushing the lightweight network to reach this point could be a\n",
        "good thing, assuming that we have found an internal representation that\n",
        "leads to better test accuracy, but it could also be harmful because the\n",
        "networks have different architectures and the student does not have the\n",
        "same learning capacity as the teacher. In other words, there is no\n",
        "reason for these two vectors, the student\\'s and the teacher\\'s to match\n",
        "per component. The student could reach an internal representation that\n",
        "is a permutation of the teacher\\'s and it would be just as efficient.\n",
        "Nonetheless, we can still run a quick experiment to figure out the\n",
        "impact of this method. We will be using the `CosineEmbeddingLoss` which\n",
        "is given by the following formula:\n",
        "\n",
        "![Formula for\n",
        "CosineEmbeddingLoss](https://pytorch.org/tutorials//../_static/img/knowledge_distillation/cosine_embedding_loss.png){.align-center\n",
        "width=\"450px\"}\n",
        "\n",
        "Obviously, there is one thing that we need to resolve first. When we\n",
        "applied distillation to the output layer we mentioned that both networks\n",
        "have the same number of neurons, equal to the number of classes.\n",
        "However, this is not the case for the layer following our convolutional\n",
        "layers. Here, the teacher has more neurons than the student after the\n",
        "flattening of the final convolutional layer. Our loss function accepts\n",
        "two vectors of equal dimensionality as inputs, therefore we need to\n",
        "somehow match them. We will solve this by including an average pooling\n",
        "layer after the teacher\\'s convolutional layer to reduce its\n",
        "dimensionality to match that of the student.\n",
        "\n",
        "To proceed, we will modify our model classes, or create new ones. Now,\n",
        "the forward function returns not only the logits of the network but also\n",
        "the flattened hidden representation after the convolutional layer. We\n",
        "include the aforementioned pooling for the modified teacher.\n"
      ]
    },
    {
      "cell_type": "code",
      "execution_count": null,
      "metadata": {
        "id": "3tsKDbVuAP0o"
      },
      "outputs": [],
      "source": [
        "class ModifiedDeepNNCosine(nn.Module):\n",
        "    def __init__(self, num_classes=10):\n",
        "        super(ModifiedDeepNNCosine, self).__init__()\n",
        "        self.features = nn.Sequential(\n",
        "            nn.Conv2d(3, 128, kernel_size=3, padding=1),\n",
        "            nn.ReLU(),\n",
        "            nn.Conv2d(128, 64, kernel_size=3, padding=1),\n",
        "            nn.ReLU(),\n",
        "            nn.MaxPool2d(kernel_size=2, stride=2),\n",
        "            nn.Conv2d(64, 64, kernel_size=3, padding=1),\n",
        "            nn.ReLU(),\n",
        "            nn.Conv2d(64, 32, kernel_size=3, padding=1),\n",
        "            nn.ReLU(),\n",
        "            nn.MaxPool2d(kernel_size=2, stride=2),\n",
        "        )\n",
        "        self.classifier = nn.Sequential(\n",
        "            nn.Linear(2048, 512),\n",
        "            nn.ReLU(),\n",
        "            nn.Dropout(0.1),\n",
        "            nn.Linear(512, num_classes)\n",
        "        )\n",
        "\n",
        "    def forward(self, x):\n",
        "        x = self.features(x)\n",
        "        flattened_conv_output = torch.flatten(x, 1)\n",
        "        x = self.classifier(flattened_conv_output)\n",
        "        flattened_conv_output_after_pooling = torch.nn.functional.avg_pool1d(flattened_conv_output, 2)\n",
        "        return x, flattened_conv_output_after_pooling\n",
        "\n",
        "# Create a similar student class where we return a tuple. We do not apply pooling after flattening.\n",
        "class ModifiedLightNNCosine(nn.Module):\n",
        "    def __init__(self, num_classes=10):\n",
        "        super(ModifiedLightNNCosine, self).__init__()\n",
        "        self.features = nn.Sequential(\n",
        "            nn.Conv2d(3, 16, kernel_size=3, padding=1),\n",
        "            nn.ReLU(),\n",
        "            nn.MaxPool2d(kernel_size=2, stride=2),\n",
        "            nn.Conv2d(16, 16, kernel_size=3, padding=1),\n",
        "            nn.ReLU(),\n",
        "            nn.MaxPool2d(kernel_size=2, stride=2),\n",
        "        )\n",
        "        self.classifier = nn.Sequential(\n",
        "            nn.Linear(1024, 256),\n",
        "            nn.ReLU(),\n",
        "            nn.Dropout(0.1),\n",
        "            nn.Linear(256, num_classes)\n",
        "        )\n",
        "\n",
        "    def forward(self, x):\n",
        "        x = self.features(x)\n",
        "        flattened_conv_output = torch.flatten(x, 1)\n",
        "        x = self.classifier(flattened_conv_output)\n",
        "        return x, flattened_conv_output\n",
        "\n",
        "# We do not have to train the modified deep network from scratch of course, we just load its weights from the trained instance\n",
        "modified_nn_deep = ModifiedDeepNNCosine(num_classes=10).to(device)\n",
        "modified_nn_deep.load_state_dict(nn_deep.state_dict())\n",
        "\n",
        "# Once again ensure the norm of the first layer is the same for both networks\n",
        "print(\"Norm of 1st layer for deep_nn:\", torch.norm(nn_deep.features[0].weight).item())\n",
        "print(\"Norm of 1st layer for modified_deep_nn:\", torch.norm(modified_nn_deep.features[0].weight).item())\n",
        "\n",
        "# Initialize a modified lightweight network with the same seed as our other lightweight instances. This will be trained from scratch to examine the effectiveness of cosine loss minimization.\n",
        "torch.manual_seed(42)\n",
        "modified_nn_light = ModifiedLightNNCosine(num_classes=10).to(device)\n",
        "print(\"Norm of 1st layer:\", torch.norm(modified_nn_light.features[0].weight).item())"
      ]
    },
    {
      "cell_type": "markdown",
      "metadata": {
        "id": "F1JTxnxiAP0o"
      },
      "source": [
        "Naturally, we need to change the train loop because now the model\n",
        "returns a tuple `(logits, hidden_representation)`. Using a sample input\n",
        "tensor we can print their shapes.\n"
      ]
    },
    {
      "cell_type": "code",
      "execution_count": null,
      "metadata": {
        "id": "pOzwtqsDAP0o"
      },
      "outputs": [],
      "source": [
        "# Create a sample input tensor\n",
        "sample_input = torch.randn(128, 3, 32, 32).to(device) # Batch size: 128, Filters: 3, Image size: 32x32\n",
        "\n",
        "# Pass the input through the student\n",
        "logits, hidden_representation = modified_nn_light(sample_input)\n",
        "\n",
        "# Print the shapes of the tensors\n",
        "print(\"Student logits shape:\", logits.shape) # batch_size x total_classes\n",
        "print(\"Student hidden representation shape:\", hidden_representation.shape) # batch_size x hidden_representation_size\n",
        "\n",
        "# Pass the input through the teacher\n",
        "logits, hidden_representation = modified_nn_deep(sample_input)\n",
        "\n",
        "# Print the shapes of the tensors\n",
        "print(\"Teacher logits shape:\", logits.shape) # batch_size x total_classes\n",
        "print(\"Teacher hidden representation shape:\", hidden_representation.shape) # batch_size x hidden_representation_size"
      ]
    },
    {
      "cell_type": "markdown",
      "metadata": {
        "id": "2EhGMtw7AP0p"
      },
      "source": [
        "In our case, `hidden_representation_size` is `1024`. This is the\n",
        "flattened feature map of the final convolutional layer of the student\n",
        "and as you can see, it is the input for its classifier. It is `1024` for\n",
        "the teacher too, because we made it so with `avg_pool1d` from `2048`.\n",
        "The loss applied here only affects the weights of the student prior to\n",
        "the loss calculation. In other words, it does not affect the classifier\n",
        "of the student. The modified training loop is the following:\n",
        "\n",
        "![In Cosine Loss minimization, we want to maximize the cosine similarity\n",
        "of the two representations by returning gradients to the\n",
        "student:](https://pytorch.org/tutorials//../_static/img/knowledge_distillation/cosine_loss_distillation.png){.align-center}\n"
      ]
    },
    {
      "cell_type": "code",
      "execution_count": null,
      "metadata": {
        "id": "7EJOSAslAP0s"
      },
      "outputs": [],
      "source": [
        "def train_cosine_loss(teacher, student, train_loader, epochs, learning_rate, hidden_rep_loss_weight, ce_loss_weight, device):\n",
        "    ce_loss = nn.CrossEntropyLoss()\n",
        "    cosine_loss = nn.CosineEmbeddingLoss()\n",
        "    optimizer = optim.Adam(student.parameters(), lr=learning_rate)\n",
        "\n",
        "    teacher.to(device)\n",
        "    student.to(device)\n",
        "    teacher.eval()  # Teacher set to evaluation mode\n",
        "    student.train() # Student to train mode\n",
        "\n",
        "    for epoch in range(epochs):\n",
        "        running_loss = 0.0\n",
        "        for inputs, labels in train_loader:\n",
        "            inputs, labels = inputs.to(device), labels.to(device)\n",
        "\n",
        "            optimizer.zero_grad()\n",
        "\n",
        "            # Forward pass with the teacher model and keep only the hidden representation\n",
        "            with torch.no_grad():\n",
        "                _, teacher_hidden_representation = teacher(inputs)\n",
        "\n",
        "            # Forward pass with the student model\n",
        "            student_logits, student_hidden_representation = student(inputs)\n",
        "\n",
        "            # Calculate the cosine loss. Target is a vector of ones. From the loss formula above we can see that is the case where loss minimization leads to cosine similarity increase.\n",
        "            hidden_rep_loss = cosine_loss(student_hidden_representation, teacher_hidden_representation, target=torch.ones(inputs.size(0)).to(device))\n",
        "\n",
        "            # Calculate the true label loss\n",
        "            label_loss = ce_loss(student_logits, labels)\n",
        "\n",
        "            # Weighted sum of the two losses\n",
        "            loss = hidden_rep_loss_weight * hidden_rep_loss + ce_loss_weight * label_loss\n",
        "\n",
        "            loss.backward()\n",
        "            optimizer.step()\n",
        "\n",
        "            running_loss += loss.item()\n",
        "\n",
        "        print(f\"Epoch {epoch+1}/{epochs}, Loss: {running_loss / len(train_loader)}\")"
      ]
    },
    {
      "cell_type": "markdown",
      "metadata": {
        "id": "KTWmKEtYAP0t"
      },
      "source": [
        "We need to modify our test function for the same reason. Here we ignore\n",
        "the hidden representation returned by the model.\n"
      ]
    },
    {
      "cell_type": "code",
      "execution_count": null,
      "metadata": {
        "id": "uuOuRxDvAP0t"
      },
      "outputs": [],
      "source": [
        "def test_multiple_outputs(model, test_loader, device):\n",
        "    model.to(device)\n",
        "    model.eval()\n",
        "\n",
        "    correct = 0\n",
        "    total = 0\n",
        "\n",
        "    with torch.no_grad():\n",
        "        for inputs, labels in test_loader:\n",
        "            inputs, labels = inputs.to(device), labels.to(device)\n",
        "\n",
        "            outputs, _ = model(inputs) # Disregard the second tensor of the tuple\n",
        "            _, predicted = torch.max(outputs.data, 1)\n",
        "\n",
        "            total += labels.size(0)\n",
        "            correct += (predicted == labels).sum().item()\n",
        "\n",
        "    accuracy = 100 * correct / total\n",
        "    print(f\"Test Accuracy: {accuracy:.2f}%\")\n",
        "    return accuracy"
      ]
    },
    {
      "cell_type": "markdown",
      "metadata": {
        "id": "rZpVhOGmAP0t"
      },
      "source": [
        "In this case, we could easily include both knowledge distillation and\n",
        "cosine loss minimization in the same function. It is common to combine\n",
        "methods to achieve better performance in teacher-student paradigms. For\n",
        "now, we can run a simple train-test session.\n"
      ]
    },
    {
      "cell_type": "code",
      "execution_count": null,
      "metadata": {
        "id": "wFZxVrvrAP0t"
      },
      "outputs": [],
      "source": [
        "# Train and test the lightweight network with cross entropy loss\n",
        "train_cosine_loss(teacher=modified_nn_deep, student=modified_nn_light, train_loader=train_loader, epochs=10, learning_rate=0.001, hidden_rep_loss_weight=0.25, ce_loss_weight=0.75, device=device)\n",
        "test_accuracy_light_ce_and_cosine_loss = test_multiple_outputs(modified_nn_light, test_loader, device)"
      ]
    },
    {
      "cell_type": "code",
      "execution_count": null,
      "metadata": {
        "id": "0iv3Hf84AP0w"
      },
      "outputs": [],
      "source": [
        "print(f\"Teacher accuracy: {test_accuracy_deep:.2f}%\")\n",
        "print(f\"Student accuracy without teacher: {test_accuracy_light_ce:.2f}%\")\n",
        "print(f\"Student accuracy with CE + KD: {test_accuracy_light_ce_and_kd:.2f}%\")\n",
        "print(f\"Student accuracy with CE + CosineLoss: {test_accuracy_light_ce_and_cosine_loss:.2f}%\")\n"
      ]
    },
    {
      "cell_type": "markdown",
      "metadata": {
        "id": "DVtdTzXSg0Fn"
      },
      "source": [
        "# Improving the teacher"
      ]
    },
    {
      "cell_type": "markdown",
      "metadata": {
        "id": "VgMYlz8Ig0Fn"
      },
      "source": [
        "As you may have observed, the teacher was not very good. In this part, we propose to improve the teacher and, without modifying the student architecture, to experiment if it also improves the student."
      ]
    },
    {
      "cell_type": "markdown",
      "metadata": {
        "id": "eKslV56nePLT"
      },
      "source": [
        "An idea is to start with a pretrained CNN, as we did in the CNN lab. Since the images are very small (32x32x3) compared to the frequent input dimensions (224x224x3) we will use a small pretrained network: EfficientNet b0."
      ]
    },
    {
      "cell_type": "code",
      "execution_count": null,
      "metadata": {
        "colab": {
          "base_uri": "https://localhost:8080/"
        },
        "id": "5kVZhIOiePLT",
        "outputId": "25c53f01-e343-4a0c-9571-21770cc783c9"
      },
      "outputs": [
        {
          "name": "stdout",
          "output_type": "stream",
          "text": [
            "[EfficientNet_B0_Weights.IMAGENET1K_V1]\n"
          ]
        },
        {
          "name": "stderr",
          "output_type": "stream",
          "text": [
            "Using cache found in /home/lingrand/.cache/torch/hub/pytorch_vision_main\n"
          ]
        }
      ],
      "source": [
        "weight_enum = torch.hub.load(\"pytorch/vision\", \"get_model_weights\", name=\"efficientnet_b0\")\n",
        "print([weight for weight in weight_enum])"
      ]
    },
    {
      "cell_type": "code",
      "execution_count": null,
      "metadata": {
        "id": "4l2gujZRePLU"
      },
      "outputs": [],
      "source": [
        "from torchvision.models import efficientnet_b0, EfficientNet_B0_Weights\n",
        "import torchvision.models as tm\n",
        "\n",
        "model = tm.get_model(\"efficientnet_b0\", weights=\"DEFAULT\")\n",
        "weights = EfficientNet_B0_Weights.DEFAULT"
      ]
    },
    {
      "cell_type": "code",
      "execution_count": null,
      "metadata": {
        "id": "poekQMi7ePLU"
      },
      "outputs": [],
      "source": [
        "preprocess = weights.transforms()"
      ]
    },
    {
      "cell_type": "code",
      "execution_count": null,
      "metadata": {
        "colab": {
          "base_uri": "https://localhost:8080/"
        },
        "id": "lZ-1bOqZePLU",
        "outputId": "543ca210-49f4-430e-f75a-1f78853c5695"
      },
      "outputs": [
        {
          "name": "stdout",
          "output_type": "stream",
          "text": [
            "ImageClassification(\n",
            "    crop_size=[224]\n",
            "    resize_size=[256]\n",
            "    mean=[0.485, 0.456, 0.406]\n",
            "    std=[0.229, 0.224, 0.225]\n",
            "    interpolation=InterpolationMode.BICUBIC\n",
            ")\n"
          ]
        }
      ],
      "source": [
        "print(preprocess)"
      ]
    },
    {
      "cell_type": "markdown",
      "metadata": {
        "id": "H5Kzw_GpePLW"
      },
      "source": [
        "Let's have a look at the classification part of the original EfficientNet b0:"
      ]
    },
    {
      "cell_type": "code",
      "execution_count": null,
      "metadata": {
        "colab": {
          "base_uri": "https://localhost:8080/"
        },
        "id": "8M8gVF_QePLW",
        "outputId": "79072239-2a90-494c-ae79-53c2edb50d44"
      },
      "outputs": [
        {
          "name": "stdout",
          "output_type": "stream",
          "text": [
            "Sequential(\n",
            "  (0): Dropout(p=0.2, inplace=True)\n",
            "  (1): Linear(in_features=1280, out_features=1000, bias=True)\n",
            ")\n"
          ]
        }
      ],
      "source": [
        "print(model.classifier)"
      ]
    },
    {
      "cell_type": "markdown",
      "metadata": {
        "id": "RdoKabQPePLW"
      },
      "source": [
        "Since we feed the network with tensors of unusual dimensions, we need to modify the `in-features` parameters by a lower value (to be calculated) and modify the number of classes `out_features` by 10."
      ]
    },
    {
      "cell_type": "code",
      "execution_count": null,
      "metadata": {
        "id": "IHFWGl4jePLW"
      },
      "outputs": [],
      "source": [
        "model.classifier[1] = torch.nn.Linear(in_features=1280, out_features=10, bias=True)"
      ]
    },
    {
      "cell_type": "markdown",
      "metadata": {
        "id": "-aWDuf7iePLW"
      },
      "source": [
        "Check the new classification part:"
      ]
    },
    {
      "cell_type": "code",
      "execution_count": null,
      "metadata": {
        "colab": {
          "base_uri": "https://localhost:8080/"
        },
        "id": "_0g4FucVePLX",
        "outputId": "a62a342b-7cce-4803-8485-433f764dd616"
      },
      "outputs": [
        {
          "name": "stdout",
          "output_type": "stream",
          "text": [
            "Sequential(\n",
            "  (0): Dropout(p=0.2, inplace=True)\n",
            "  (1): Linear(in_features=1280, out_features=10, bias=True)\n",
            ")\n"
          ]
        }
      ],
      "source": [
        "print(model.classifier)"
      ]
    },
    {
      "cell_type": "markdown",
      "metadata": {
        "id": "gDV-vOETePLX"
      },
      "source": [
        "In order to train the classifier first, we will freeze all other parameters of the network:"
      ]
    },
    {
      "cell_type": "code",
      "execution_count": null,
      "metadata": {
        "id": "PebBhj2yePLX"
      },
      "outputs": [],
      "source": [
        "for param in model.features.parameters():\n",
        "       param.requires_grad = False"
      ]
    },
    {
      "cell_type": "markdown",
      "metadata": {
        "id": "9nUrsXmXO_Jb"
      },
      "source": [
        "🤔 <b><font color='purple'>Question:</font></b> Train the classification part only of this network (depending on your GPU, 5 epochs could give you an idea of a model). Be careful that input images are not 224x224. We suggest you to first resize them to 224x224."
      ]
    },
    {
      "cell_type": "code",
      "execution_count": null,
      "metadata": {
        "id": "zbPqaZOIO_Jc"
      },
      "outputs": [],
      "source": [
        "# your work"
      ]
    },
    {
      "cell_type": "markdown",
      "metadata": {
        "id": "3Mpo-E2bO_Jc"
      },
      "source": [
        "🤔 <b><font color='purple'>Question:</font></b> Is it better than the previous teachers? If no, try with augmentations. If yes (directly or after augmentations), learn again the different students. Does it also improve the students?"
      ]
    },
    {
      "cell_type": "code",
      "execution_count": null,
      "metadata": {
        "id": "SGtD2pMHO_Jc"
      },
      "outputs": [],
      "source": [
        "# your work"
      ]
    }
  ],
  "metadata": {
    "accelerator": "GPU",
    "colab": {
      "gpuType": "T4",
      "provenance": [],
      "include_colab_link": true
    },
    "kernelspec": {
      "display_name": "Python 3",
      "name": "python3"
    },
    "language_info": {
      "codemirror_mode": {
        "name": "ipython",
        "version": 3
      },
      "file_extension": ".py",
      "mimetype": "text/x-python",
      "name": "python",
      "nbconvert_exporter": "python",
      "pygments_lexer": "ipython3",
      "version": "3.10.0"
    },
    "toc": {
      "base_numbering": 1,
      "nav_menu": {},
      "number_sections": true,
      "sideBar": true,
      "skip_h1_title": false,
      "title_cell": "Table of Contents",
      "title_sidebar": "Contents",
      "toc_cell": false,
      "toc_position": {},
      "toc_section_display": true,
      "toc_window_display": false
    }
  },
  "nbformat": 4,
  "nbformat_minor": 0
}